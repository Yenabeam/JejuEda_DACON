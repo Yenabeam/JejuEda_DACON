{
 "metadata": {
  "language_info": {
   "codemirror_mode": {
    "name": "ipython",
    "version": 3
   },
   "file_extension": ".py",
   "mimetype": "text/x-python",
   "name": "python",
   "nbconvert_exporter": "python",
   "pygments_lexer": "ipython3",
   "version": "3.8.3-final"
  },
  "orig_nbformat": 2,
  "kernelspec": {
   "name": "python3",
   "display_name": "Python 3",
   "language": "python"
  }
 },
 "nbformat": 4,
 "nbformat_minor": 2,
 "cells": [
  {
   "source": [
    "# 데이터 주소 가져오기 "
   ],
   "cell_type": "markdown",
   "metadata": {}
  },
  {
   "cell_type": "code",
   "execution_count": null,
   "metadata": {},
   "outputs": [],
   "source": [
    "# 1. 좌표 변환 하기 \n",
    "# 2. 좌표 구분 컬럼 생성 \n",
    "# 3. 중복 좌표 삭제 > url 생성 \n",
    "# 4. API를 통해 주소 가져오기 \n",
    "# 5. raw_data 와 merge \n",
    "# 6. pkl 저장하기 "
   ]
  },
  {
   "cell_type": "code",
   "execution_count": null,
   "metadata": {},
   "outputs": [],
   "source": [
    "############# data_6월 ############## "
   ]
  },
  {
   "cell_type": "code",
   "execution_count": 2,
   "metadata": {},
   "outputs": [
    {
     "output_type": "execute_result",
     "data": {
      "text/plain": [
       "        OBJECTID  Field1      YM     SIDO SIGUNGU FranClass  Type Time  \\\n",
       "281891    281892  281892  202006  제주특별자치도     제주시        영세  일반한식   x시   \n",
       "281892    281893  281893  202006  제주특별자치도     제주시        영세  일반한식   x시   \n",
       "281893    281894  281894  202006  제주특별자치도     제주시        영세   편의점   x시   \n",
       "281894    281895  281895  202006  제주특별자치도     제주시        중소   제과점   x시   \n",
       "281895    281896  281896  202006  제주특별자치도     제주시       중소1  중국음식   x시   \n",
       "\n",
       "        TotalSpent  DisSpent  NumofSpent  NumofDisSpent      POINT_X  \\\n",
       "281891      175000         0           2              0  950274.0385   \n",
       "281892      600000         0           2              0  950266.5976   \n",
       "281893        6300         0           1              0  950266.5976   \n",
       "281894       15000         0           2              0  950524.6587   \n",
       "281895       15000         0           1              0  950574.6388   \n",
       "\n",
       "             POINT_Y  \n",
       "281891  1.500908e+06  \n",
       "281892  1.502458e+06  \n",
       "281893  1.502458e+06  \n",
       "281894  1.500760e+06  \n",
       "281895  1.500760e+06  "
      ],
      "text/html": "<div>\n<style scoped>\n    .dataframe tbody tr th:only-of-type {\n        vertical-align: middle;\n    }\n\n    .dataframe tbody tr th {\n        vertical-align: top;\n    }\n\n    .dataframe thead th {\n        text-align: right;\n    }\n</style>\n<table border=\"1\" class=\"dataframe\">\n  <thead>\n    <tr style=\"text-align: right;\">\n      <th></th>\n      <th>OBJECTID</th>\n      <th>Field1</th>\n      <th>YM</th>\n      <th>SIDO</th>\n      <th>SIGUNGU</th>\n      <th>FranClass</th>\n      <th>Type</th>\n      <th>Time</th>\n      <th>TotalSpent</th>\n      <th>DisSpent</th>\n      <th>NumofSpent</th>\n      <th>NumofDisSpent</th>\n      <th>POINT_X</th>\n      <th>POINT_Y</th>\n    </tr>\n  </thead>\n  <tbody>\n    <tr>\n      <th>281891</th>\n      <td>281892</td>\n      <td>281892</td>\n      <td>202006</td>\n      <td>제주특별자치도</td>\n      <td>제주시</td>\n      <td>영세</td>\n      <td>일반한식</td>\n      <td>x시</td>\n      <td>175000</td>\n      <td>0</td>\n      <td>2</td>\n      <td>0</td>\n      <td>950274.0385</td>\n      <td>1.500908e+06</td>\n    </tr>\n    <tr>\n      <th>281892</th>\n      <td>281893</td>\n      <td>281893</td>\n      <td>202006</td>\n      <td>제주특별자치도</td>\n      <td>제주시</td>\n      <td>영세</td>\n      <td>일반한식</td>\n      <td>x시</td>\n      <td>600000</td>\n      <td>0</td>\n      <td>2</td>\n      <td>0</td>\n      <td>950266.5976</td>\n      <td>1.502458e+06</td>\n    </tr>\n    <tr>\n      <th>281893</th>\n      <td>281894</td>\n      <td>281894</td>\n      <td>202006</td>\n      <td>제주특별자치도</td>\n      <td>제주시</td>\n      <td>영세</td>\n      <td>편의점</td>\n      <td>x시</td>\n      <td>6300</td>\n      <td>0</td>\n      <td>1</td>\n      <td>0</td>\n      <td>950266.5976</td>\n      <td>1.502458e+06</td>\n    </tr>\n    <tr>\n      <th>281894</th>\n      <td>281895</td>\n      <td>281895</td>\n      <td>202006</td>\n      <td>제주특별자치도</td>\n      <td>제주시</td>\n      <td>중소</td>\n      <td>제과점</td>\n      <td>x시</td>\n      <td>15000</td>\n      <td>0</td>\n      <td>2</td>\n      <td>0</td>\n      <td>950524.6587</td>\n      <td>1.500760e+06</td>\n    </tr>\n    <tr>\n      <th>281895</th>\n      <td>281896</td>\n      <td>281896</td>\n      <td>202006</td>\n      <td>제주특별자치도</td>\n      <td>제주시</td>\n      <td>중소1</td>\n      <td>중국음식</td>\n      <td>x시</td>\n      <td>15000</td>\n      <td>0</td>\n      <td>1</td>\n      <td>0</td>\n      <td>950574.6388</td>\n      <td>1.500760e+06</td>\n    </tr>\n  </tbody>\n</table>\n</div>"
     },
     "metadata": {},
     "execution_count": 2
    }
   ],
   "source": [
    "# 데이터 가져오기\n",
    "\n",
    "raw_data_6 = pd.read_csv('../../1. raw_data/KRI-DAC_Jeju_data6.txt', sep=',')\n",
    "raw_data_6.tail()"
   ]
  },
  {
   "source": [
    "# 1. 좌표 변환 하기 \n",
    "\n",
    "df_6 = raw_data_6.copy()\n",
    "\n",
    "from pyproj import Proj, transform\n",
    "# ITRF좌표계\n",
    "proj_ITRF = Proj(init='epsg:5179')\n",
    "# WGS 좌표계 \n",
    "proj_WGS84 = Proj(init='epsg:4326')\n",
    "\n",
    "\n",
    "df_6['lon'], df_6['lat'] = transform(proj_ITRF, proj_WGS84, df_6['POINT_X'], df_6['POINT_Y'])\n",
    "\n",
    "df_6.tail(3)"
   ],
   "cell_type": "code",
   "metadata": {},
   "execution_count": 6,
   "outputs": [
    {
     "output_type": "execute_result",
     "data": {
      "text/plain": [
       "        OBJECTID  Field1      YM     SIDO SIGUNGU FranClass  Type Time  \\\n",
       "281893    281894  281894  202006  제주특별자치도     제주시        영세   편의점   x시   \n",
       "281894    281895  281895  202006  제주특별자치도     제주시        중소   제과점   x시   \n",
       "281895    281896  281896  202006  제주특별자치도     제주시       중소1  중국음식   x시   \n",
       "\n",
       "        TotalSpent  DisSpent  NumofSpent  NumofDisSpent      POINT_X  \\\n",
       "281893        6300         0           1              0  950266.5976   \n",
       "281894       15000         0           2              0  950524.6587   \n",
       "281895       15000         0           1              0  950574.6388   \n",
       "\n",
       "             POINT_Y         lon        lat  \n",
       "281893  1.502458e+06  126.964496  33.512854  \n",
       "281894  1.500760e+06  126.967369  33.497551  \n",
       "281895  1.500760e+06  126.967907  33.497555  "
      ],
      "text/html": "<div>\n<style scoped>\n    .dataframe tbody tr th:only-of-type {\n        vertical-align: middle;\n    }\n\n    .dataframe tbody tr th {\n        vertical-align: top;\n    }\n\n    .dataframe thead th {\n        text-align: right;\n    }\n</style>\n<table border=\"1\" class=\"dataframe\">\n  <thead>\n    <tr style=\"text-align: right;\">\n      <th></th>\n      <th>OBJECTID</th>\n      <th>Field1</th>\n      <th>YM</th>\n      <th>SIDO</th>\n      <th>SIGUNGU</th>\n      <th>FranClass</th>\n      <th>Type</th>\n      <th>Time</th>\n      <th>TotalSpent</th>\n      <th>DisSpent</th>\n      <th>NumofSpent</th>\n      <th>NumofDisSpent</th>\n      <th>POINT_X</th>\n      <th>POINT_Y</th>\n      <th>lon</th>\n      <th>lat</th>\n    </tr>\n  </thead>\n  <tbody>\n    <tr>\n      <th>281893</th>\n      <td>281894</td>\n      <td>281894</td>\n      <td>202006</td>\n      <td>제주특별자치도</td>\n      <td>제주시</td>\n      <td>영세</td>\n      <td>편의점</td>\n      <td>x시</td>\n      <td>6300</td>\n      <td>0</td>\n      <td>1</td>\n      <td>0</td>\n      <td>950266.5976</td>\n      <td>1.502458e+06</td>\n      <td>126.964496</td>\n      <td>33.512854</td>\n    </tr>\n    <tr>\n      <th>281894</th>\n      <td>281895</td>\n      <td>281895</td>\n      <td>202006</td>\n      <td>제주특별자치도</td>\n      <td>제주시</td>\n      <td>중소</td>\n      <td>제과점</td>\n      <td>x시</td>\n      <td>15000</td>\n      <td>0</td>\n      <td>2</td>\n      <td>0</td>\n      <td>950524.6587</td>\n      <td>1.500760e+06</td>\n      <td>126.967369</td>\n      <td>33.497551</td>\n    </tr>\n    <tr>\n      <th>281895</th>\n      <td>281896</td>\n      <td>281896</td>\n      <td>202006</td>\n      <td>제주특별자치도</td>\n      <td>제주시</td>\n      <td>중소1</td>\n      <td>중국음식</td>\n      <td>x시</td>\n      <td>15000</td>\n      <td>0</td>\n      <td>1</td>\n      <td>0</td>\n      <td>950574.6388</td>\n      <td>1.500760e+06</td>\n      <td>126.967907</td>\n      <td>33.497555</td>\n    </tr>\n  </tbody>\n</table>\n</div>"
     },
     "metadata": {},
     "execution_count": 6
    }
   ]
  },
  {
   "cell_type": "code",
   "execution_count": 8,
   "metadata": {},
   "outputs": [
    {
     "output_type": "execute_result",
     "data": {
      "text/plain": [
       "126.52427851055405_33.51290574138535     410\n",
       "126.52880376641139_33.499886709171996    308\n",
       "126.52935695016222_33.49899169591379     305\n",
       "126.47793511858133_33.48574932701181     295\n",
       "126.57376368512601_33.51438638164462     268\n",
       "                                        ... \n",
       "126.50209229609702_33.48874811600121       1\n",
       "126.70977311456376_33.4879264711372        1\n",
       "126.64109526921277_33.54489489629949       1\n",
       "126.45976766858116_33.47876332744271       1\n",
       "126.48927703444896_33.48318327512829       1\n",
       "Name: lon_lat, Length: 13909, dtype: int64"
      ]
     },
     "metadata": {},
     "execution_count": 8
    }
   ],
   "source": [
    "# 2. 좌표 구분 컬럼 생성 \n",
    "\n",
    "df_6['lon'] = df_6['lon'].astype(str)\n",
    "df_6['lat'] = df_6['lat'].astype(str)\n",
    "df_6['lon_lat'] = df_6['lon']+'_'+df_6['lat']\n",
    "df_6['lon_lat'].value_counts()"
   ]
  },
  {
   "cell_type": "code",
   "execution_count": 9,
   "metadata": {},
   "outputs": [
    {
     "output_type": "execute_result",
     "data": {
      "text/plain": [
       "lon_lat\n",
       "126.96951006044938_33.49847009919258     1\n",
       "126.48496931110616_33.452477320750525    1\n",
       "126.48522506380449_33.468708740463306    1\n",
       "126.4851545536666_33.472764947994555     1\n",
       "126.48510753973808_33.47546908389631     1\n",
       "                                        ..\n",
       "126.55745873241018_33.263554759877884    1\n",
       "126.55745133042375_33.26400547881826     1\n",
       "126.55744392829351_33.26445619862645     1\n",
       "126.55743652602919_33.26490691840057     1\n",
       "126.16370558240443_33.33544861735468     1\n",
       "Length: 13909, dtype: int64"
      ]
     },
     "metadata": {},
     "execution_count": 9
    }
   ],
   "source": [
    "# 3. 중복 좌표 삭제 > url 생성 \n",
    "\n",
    "df_uniq = df_6.drop_duplicates('lon_lat')\n",
    "df_uniq.value_counts('lon_lat')"
   ]
  },
  {
   "cell_type": "code",
   "execution_count": 10,
   "metadata": {},
   "outputs": [
    {
     "output_type": "execute_result",
     "data": {
      "text/plain": [
       "   index  OBJECTID  Field1      YM     SIDO SIGUNGU FranClass  Type Time  \\\n",
       "0      0         1       1  202006  제주특별자치도     제주시        영세  일반한식  00시   \n",
       "1      1         2       2  202006  제주특별자치도     제주시        영세  단란주점  00시   \n",
       "2      2         3       3  202006  제주특별자치도     제주시       중소1   편의점  00시   \n",
       "3      3         4       4  202006  제주특별자치도     제주시        영세   편의점  00시   \n",
       "4      4         5       5  202006  제주특별자치도     제주시        영세  일반한식  00시   \n",
       "\n",
       "   TotalSpent  DisSpent  NumofSpent  NumofDisSpent      POINT_X       POINT_Y  \\\n",
       "0      502000         0          10              0  877005.9834  1.479766e+06   \n",
       "1     1520000         0           8              0  877005.7447  1.479816e+06   \n",
       "2      482310         0          35              0  877056.6756  1.479616e+06   \n",
       "3       38050      5450           3              1  877055.9593  1.479766e+06   \n",
       "4       32000     32000           1              1  877055.4817  1.479866e+06   \n",
       "\n",
       "                  lon                 lat  \\\n",
       "0  126.17889362710162   33.30231529076243   \n",
       "1  126.17888426813494  33.302765922881875   \n",
       "2  126.17945834265305   33.30097125427593   \n",
       "3  126.17943027296923   33.30232314934195   \n",
       "4  126.17941155823847   33.30322441283756   \n",
       "\n",
       "                                 lon_lat  \\\n",
       "0   126.17889362710162_33.30231529076243   \n",
       "1  126.17888426813494_33.302765922881875   \n",
       "2   126.17945834265305_33.30097125427593   \n",
       "3   126.17943027296923_33.30232314934195   \n",
       "4   126.17941155823847_33.30322441283756   \n",
       "\n",
       "                                                 url  \n",
       "0  https://dapi.kakao.com/v2/local/geo/coord2regi...  \n",
       "1  https://dapi.kakao.com/v2/local/geo/coord2regi...  \n",
       "2  https://dapi.kakao.com/v2/local/geo/coord2regi...  \n",
       "3  https://dapi.kakao.com/v2/local/geo/coord2regi...  \n",
       "4  https://dapi.kakao.com/v2/local/geo/coord2regi...  "
      ],
      "text/html": "<div>\n<style scoped>\n    .dataframe tbody tr th:only-of-type {\n        vertical-align: middle;\n    }\n\n    .dataframe tbody tr th {\n        vertical-align: top;\n    }\n\n    .dataframe thead th {\n        text-align: right;\n    }\n</style>\n<table border=\"1\" class=\"dataframe\">\n  <thead>\n    <tr style=\"text-align: right;\">\n      <th></th>\n      <th>index</th>\n      <th>OBJECTID</th>\n      <th>Field1</th>\n      <th>YM</th>\n      <th>SIDO</th>\n      <th>SIGUNGU</th>\n      <th>FranClass</th>\n      <th>Type</th>\n      <th>Time</th>\n      <th>TotalSpent</th>\n      <th>DisSpent</th>\n      <th>NumofSpent</th>\n      <th>NumofDisSpent</th>\n      <th>POINT_X</th>\n      <th>POINT_Y</th>\n      <th>lon</th>\n      <th>lat</th>\n      <th>lon_lat</th>\n      <th>url</th>\n    </tr>\n  </thead>\n  <tbody>\n    <tr>\n      <th>0</th>\n      <td>0</td>\n      <td>1</td>\n      <td>1</td>\n      <td>202006</td>\n      <td>제주특별자치도</td>\n      <td>제주시</td>\n      <td>영세</td>\n      <td>일반한식</td>\n      <td>00시</td>\n      <td>502000</td>\n      <td>0</td>\n      <td>10</td>\n      <td>0</td>\n      <td>877005.9834</td>\n      <td>1.479766e+06</td>\n      <td>126.17889362710162</td>\n      <td>33.30231529076243</td>\n      <td>126.17889362710162_33.30231529076243</td>\n      <td>https://dapi.kakao.com/v2/local/geo/coord2regi...</td>\n    </tr>\n    <tr>\n      <th>1</th>\n      <td>1</td>\n      <td>2</td>\n      <td>2</td>\n      <td>202006</td>\n      <td>제주특별자치도</td>\n      <td>제주시</td>\n      <td>영세</td>\n      <td>단란주점</td>\n      <td>00시</td>\n      <td>1520000</td>\n      <td>0</td>\n      <td>8</td>\n      <td>0</td>\n      <td>877005.7447</td>\n      <td>1.479816e+06</td>\n      <td>126.17888426813494</td>\n      <td>33.302765922881875</td>\n      <td>126.17888426813494_33.302765922881875</td>\n      <td>https://dapi.kakao.com/v2/local/geo/coord2regi...</td>\n    </tr>\n    <tr>\n      <th>2</th>\n      <td>2</td>\n      <td>3</td>\n      <td>3</td>\n      <td>202006</td>\n      <td>제주특별자치도</td>\n      <td>제주시</td>\n      <td>중소1</td>\n      <td>편의점</td>\n      <td>00시</td>\n      <td>482310</td>\n      <td>0</td>\n      <td>35</td>\n      <td>0</td>\n      <td>877056.6756</td>\n      <td>1.479616e+06</td>\n      <td>126.17945834265305</td>\n      <td>33.30097125427593</td>\n      <td>126.17945834265305_33.30097125427593</td>\n      <td>https://dapi.kakao.com/v2/local/geo/coord2regi...</td>\n    </tr>\n    <tr>\n      <th>3</th>\n      <td>3</td>\n      <td>4</td>\n      <td>4</td>\n      <td>202006</td>\n      <td>제주특별자치도</td>\n      <td>제주시</td>\n      <td>영세</td>\n      <td>편의점</td>\n      <td>00시</td>\n      <td>38050</td>\n      <td>5450</td>\n      <td>3</td>\n      <td>1</td>\n      <td>877055.9593</td>\n      <td>1.479766e+06</td>\n      <td>126.17943027296923</td>\n      <td>33.30232314934195</td>\n      <td>126.17943027296923_33.30232314934195</td>\n      <td>https://dapi.kakao.com/v2/local/geo/coord2regi...</td>\n    </tr>\n    <tr>\n      <th>4</th>\n      <td>4</td>\n      <td>5</td>\n      <td>5</td>\n      <td>202006</td>\n      <td>제주특별자치도</td>\n      <td>제주시</td>\n      <td>영세</td>\n      <td>일반한식</td>\n      <td>00시</td>\n      <td>32000</td>\n      <td>32000</td>\n      <td>1</td>\n      <td>1</td>\n      <td>877055.4817</td>\n      <td>1.479866e+06</td>\n      <td>126.17941155823847</td>\n      <td>33.30322441283756</td>\n      <td>126.17941155823847_33.30322441283756</td>\n      <td>https://dapi.kakao.com/v2/local/geo/coord2regi...</td>\n    </tr>\n  </tbody>\n</table>\n</div>"
     },
     "metadata": {},
     "execution_count": 10
    }
   ],
   "source": [
    "# url 생성\n",
    "\n",
    "df_uniq['url1'] = 'https://dapi.kakao.com/v2/local/geo/coord2regioncode.json?x=' + df_uniq['lon']\n",
    "df_uniq['url2'] = '&y=' + df_uniq['lat']\n",
    "df_uniq['url'] = df_uniq['url1'] + df_uniq['url2']\n",
    "\n",
    "\n",
    "df_uniq.drop(columns=['url1','url2'],axis=1,inplace=True)\n",
    "df_uniq = df_uniq.reset_index()\n",
    "df_uniq.head(5)"
   ]
  },
  {
   "cell_type": "code",
   "execution_count": 12,
   "metadata": {},
   "outputs": [
    {
     "output_type": "stream",
     "name": "stdout",
     "text": [
      "converted point to addr\n"
     ]
    }
   ],
   "source": [
    "# 4. API를 통해 주소 가져오기 \n",
    "\n",
    "import requests\n",
    "import json\n",
    "\n",
    "dong_ls = []\n",
    "\n",
    "for i in range(len(df_uniq.index)):\n",
    "    url = df_uniq['url'][i]\n",
    "    headers = {\"Authorization\": \"KakaoAK 9c01f59434bc3920843d9dd0279e6e6c\"}\n",
    "    api_test = requests.get(url, headers=headers)\n",
    "    url_text = json.loads(api_test.text)\n",
    "    dong = url_text['documents'][0]['region_3depth_name']\n",
    "    dong_ls.append(dong)\n",
    "print('converted point to addr')"
   ]
  },
  {
   "cell_type": "code",
   "execution_count": 13,
   "metadata": {},
   "outputs": [
    {
     "output_type": "execute_result",
     "data": {
      "text/plain": [
       "      dong\n",
       "13906  남원읍\n",
       "13907  구좌읍\n",
       "13908  성산읍"
      ],
      "text/html": "<div>\n<style scoped>\n    .dataframe tbody tr th:only-of-type {\n        vertical-align: middle;\n    }\n\n    .dataframe tbody tr th {\n        vertical-align: top;\n    }\n\n    .dataframe thead th {\n        text-align: right;\n    }\n</style>\n<table border=\"1\" class=\"dataframe\">\n  <thead>\n    <tr style=\"text-align: right;\">\n      <th></th>\n      <th>dong</th>\n    </tr>\n  </thead>\n  <tbody>\n    <tr>\n      <th>13906</th>\n      <td>남원읍</td>\n    </tr>\n    <tr>\n      <th>13907</th>\n      <td>구좌읍</td>\n    </tr>\n    <tr>\n      <th>13908</th>\n      <td>성산읍</td>\n    </tr>\n  </tbody>\n</table>\n</div>"
     },
     "metadata": {},
     "execution_count": 13
    }
   ],
   "source": [
    "# 가져온 주소값 df 변환 \n",
    "dic = {'dong':dong_ls}\n",
    "df_dong = pd.DataFrame(dic)\n",
    "df_dong.tail(3)"
   ]
  },
  {
   "cell_type": "code",
   "execution_count": 14,
   "metadata": {},
   "outputs": [
    {
     "output_type": "execute_result",
     "data": {
      "text/plain": [
       "        index  OBJECTID  Field1      YM     SIDO SIGUNGU FranClass   Type  \\\n",
       "0           0         1       1  202006  제주특별자치도     제주시        영세   일반한식   \n",
       "1           1         2       2  202006  제주특별자치도     제주시        영세   단란주점   \n",
       "2           2         3       3  202006  제주특별자치도     제주시       중소1    편의점   \n",
       "3           3         4       4  202006  제주특별자치도     제주시        영세    편의점   \n",
       "4           4         5       5  202006  제주특별자치도     제주시        영세   일반한식   \n",
       "...       ...       ...     ...     ...      ...     ...       ...    ...   \n",
       "13904  280449    280450  280450  202006  제주특별자치도     제주시        영세  기타숙박업   \n",
       "13905  280697    280698  280698  202006  제주특별자치도    서귀포시        영세   기타교육   \n",
       "13906  280815    280816  280816  202006  제주특별자치도    서귀포시        영세    제과점   \n",
       "13907  281123    281124  281124  202006  제주특별자치도     제주시        영세  학습지교육   \n",
       "13908  281531    281532  281532  202006  제주특별자치도    서귀포시        일반    제과점   \n",
       "\n",
       "      Time  TotalSpent  DisSpent  NumofSpent  NumofDisSpent      POINT_X  \\\n",
       "0      00시      502000         0          10              0  877005.9834   \n",
       "1      00시     1520000         0           8              0  877005.7447   \n",
       "2      00시      482310         0          35              0  877056.6756   \n",
       "3      00시       38050      5450           3              1  877055.9593   \n",
       "4      00시       32000     32000           1              1  877055.4817   \n",
       "...    ...         ...       ...         ...            ...          ...   \n",
       "13904   x시      200000         0           1              0  922462.7608   \n",
       "13905   x시      200000         0           2              0  925937.5363   \n",
       "13906   x시      120000         0           1              0  927248.1999   \n",
       "13907   x시      300000         0           1              0  937249.0613   \n",
       "13908   x시      600000         0           2              0  942706.5993   \n",
       "\n",
       "            POINT_Y                 lon                 lat  \\\n",
       "0      1.479766e+06  126.17889362710162   33.30231529076243   \n",
       "1      1.479816e+06  126.17888426813494  33.302765922881875   \n",
       "2      1.479616e+06  126.17945834265305   33.30097125427593   \n",
       "3      1.479766e+06  126.17943027296923   33.30232314934195   \n",
       "4      1.479866e+06  126.17941155823847   33.30322441283756   \n",
       "...             ...                 ...                 ...   \n",
       "13904  1.505523e+06  126.66487581142371   33.53884220315995   \n",
       "13905  1.479200e+06  126.70446614522854   33.30168772558733   \n",
       "13906  1.476857e+06  126.71873169054687   33.28064712955715   \n",
       "13907  1.507143e+06  126.82400884307276  33.554428760055124   \n",
       "13908  1.494724e+06   126.8835920054294  33.442727525516965   \n",
       "\n",
       "                                     lon_lat  \\\n",
       "0       126.17889362710162_33.30231529076243   \n",
       "1      126.17888426813494_33.302765922881875   \n",
       "2       126.17945834265305_33.30097125427593   \n",
       "3       126.17943027296923_33.30232314934195   \n",
       "4       126.17941155823847_33.30322441283756   \n",
       "...                                      ...   \n",
       "13904   126.66487581142371_33.53884220315995   \n",
       "13905   126.70446614522854_33.30168772558733   \n",
       "13906   126.71873169054687_33.28064712955715   \n",
       "13907  126.82400884307276_33.554428760055124   \n",
       "13908   126.8835920054294_33.442727525516965   \n",
       "\n",
       "                                                     url dong  \n",
       "0      https://dapi.kakao.com/v2/local/geo/coord2regi...  한경면  \n",
       "1      https://dapi.kakao.com/v2/local/geo/coord2regi...  한경면  \n",
       "2      https://dapi.kakao.com/v2/local/geo/coord2regi...  한경면  \n",
       "3      https://dapi.kakao.com/v2/local/geo/coord2regi...  한경면  \n",
       "4      https://dapi.kakao.com/v2/local/geo/coord2regi...  한경면  \n",
       "...                                                  ...  ...  \n",
       "13904  https://dapi.kakao.com/v2/local/geo/coord2regi...  조천읍  \n",
       "13905  https://dapi.kakao.com/v2/local/geo/coord2regi...  남원읍  \n",
       "13906  https://dapi.kakao.com/v2/local/geo/coord2regi...  남원읍  \n",
       "13907  https://dapi.kakao.com/v2/local/geo/coord2regi...  구좌읍  \n",
       "13908  https://dapi.kakao.com/v2/local/geo/coord2regi...  성산읍  \n",
       "\n",
       "[13909 rows x 20 columns]"
      ],
      "text/html": "<div>\n<style scoped>\n    .dataframe tbody tr th:only-of-type {\n        vertical-align: middle;\n    }\n\n    .dataframe tbody tr th {\n        vertical-align: top;\n    }\n\n    .dataframe thead th {\n        text-align: right;\n    }\n</style>\n<table border=\"1\" class=\"dataframe\">\n  <thead>\n    <tr style=\"text-align: right;\">\n      <th></th>\n      <th>index</th>\n      <th>OBJECTID</th>\n      <th>Field1</th>\n      <th>YM</th>\n      <th>SIDO</th>\n      <th>SIGUNGU</th>\n      <th>FranClass</th>\n      <th>Type</th>\n      <th>Time</th>\n      <th>TotalSpent</th>\n      <th>DisSpent</th>\n      <th>NumofSpent</th>\n      <th>NumofDisSpent</th>\n      <th>POINT_X</th>\n      <th>POINT_Y</th>\n      <th>lon</th>\n      <th>lat</th>\n      <th>lon_lat</th>\n      <th>url</th>\n      <th>dong</th>\n    </tr>\n  </thead>\n  <tbody>\n    <tr>\n      <th>0</th>\n      <td>0</td>\n      <td>1</td>\n      <td>1</td>\n      <td>202006</td>\n      <td>제주특별자치도</td>\n      <td>제주시</td>\n      <td>영세</td>\n      <td>일반한식</td>\n      <td>00시</td>\n      <td>502000</td>\n      <td>0</td>\n      <td>10</td>\n      <td>0</td>\n      <td>877005.9834</td>\n      <td>1.479766e+06</td>\n      <td>126.17889362710162</td>\n      <td>33.30231529076243</td>\n      <td>126.17889362710162_33.30231529076243</td>\n      <td>https://dapi.kakao.com/v2/local/geo/coord2regi...</td>\n      <td>한경면</td>\n    </tr>\n    <tr>\n      <th>1</th>\n      <td>1</td>\n      <td>2</td>\n      <td>2</td>\n      <td>202006</td>\n      <td>제주특별자치도</td>\n      <td>제주시</td>\n      <td>영세</td>\n      <td>단란주점</td>\n      <td>00시</td>\n      <td>1520000</td>\n      <td>0</td>\n      <td>8</td>\n      <td>0</td>\n      <td>877005.7447</td>\n      <td>1.479816e+06</td>\n      <td>126.17888426813494</td>\n      <td>33.302765922881875</td>\n      <td>126.17888426813494_33.302765922881875</td>\n      <td>https://dapi.kakao.com/v2/local/geo/coord2regi...</td>\n      <td>한경면</td>\n    </tr>\n    <tr>\n      <th>2</th>\n      <td>2</td>\n      <td>3</td>\n      <td>3</td>\n      <td>202006</td>\n      <td>제주특별자치도</td>\n      <td>제주시</td>\n      <td>중소1</td>\n      <td>편의점</td>\n      <td>00시</td>\n      <td>482310</td>\n      <td>0</td>\n      <td>35</td>\n      <td>0</td>\n      <td>877056.6756</td>\n      <td>1.479616e+06</td>\n      <td>126.17945834265305</td>\n      <td>33.30097125427593</td>\n      <td>126.17945834265305_33.30097125427593</td>\n      <td>https://dapi.kakao.com/v2/local/geo/coord2regi...</td>\n      <td>한경면</td>\n    </tr>\n    <tr>\n      <th>3</th>\n      <td>3</td>\n      <td>4</td>\n      <td>4</td>\n      <td>202006</td>\n      <td>제주특별자치도</td>\n      <td>제주시</td>\n      <td>영세</td>\n      <td>편의점</td>\n      <td>00시</td>\n      <td>38050</td>\n      <td>5450</td>\n      <td>3</td>\n      <td>1</td>\n      <td>877055.9593</td>\n      <td>1.479766e+06</td>\n      <td>126.17943027296923</td>\n      <td>33.30232314934195</td>\n      <td>126.17943027296923_33.30232314934195</td>\n      <td>https://dapi.kakao.com/v2/local/geo/coord2regi...</td>\n      <td>한경면</td>\n    </tr>\n    <tr>\n      <th>4</th>\n      <td>4</td>\n      <td>5</td>\n      <td>5</td>\n      <td>202006</td>\n      <td>제주특별자치도</td>\n      <td>제주시</td>\n      <td>영세</td>\n      <td>일반한식</td>\n      <td>00시</td>\n      <td>32000</td>\n      <td>32000</td>\n      <td>1</td>\n      <td>1</td>\n      <td>877055.4817</td>\n      <td>1.479866e+06</td>\n      <td>126.17941155823847</td>\n      <td>33.30322441283756</td>\n      <td>126.17941155823847_33.30322441283756</td>\n      <td>https://dapi.kakao.com/v2/local/geo/coord2regi...</td>\n      <td>한경면</td>\n    </tr>\n    <tr>\n      <th>...</th>\n      <td>...</td>\n      <td>...</td>\n      <td>...</td>\n      <td>...</td>\n      <td>...</td>\n      <td>...</td>\n      <td>...</td>\n      <td>...</td>\n      <td>...</td>\n      <td>...</td>\n      <td>...</td>\n      <td>...</td>\n      <td>...</td>\n      <td>...</td>\n      <td>...</td>\n      <td>...</td>\n      <td>...</td>\n      <td>...</td>\n      <td>...</td>\n      <td>...</td>\n    </tr>\n    <tr>\n      <th>13904</th>\n      <td>280449</td>\n      <td>280450</td>\n      <td>280450</td>\n      <td>202006</td>\n      <td>제주특별자치도</td>\n      <td>제주시</td>\n      <td>영세</td>\n      <td>기타숙박업</td>\n      <td>x시</td>\n      <td>200000</td>\n      <td>0</td>\n      <td>1</td>\n      <td>0</td>\n      <td>922462.7608</td>\n      <td>1.505523e+06</td>\n      <td>126.66487581142371</td>\n      <td>33.53884220315995</td>\n      <td>126.66487581142371_33.53884220315995</td>\n      <td>https://dapi.kakao.com/v2/local/geo/coord2regi...</td>\n      <td>조천읍</td>\n    </tr>\n    <tr>\n      <th>13905</th>\n      <td>280697</td>\n      <td>280698</td>\n      <td>280698</td>\n      <td>202006</td>\n      <td>제주특별자치도</td>\n      <td>서귀포시</td>\n      <td>영세</td>\n      <td>기타교육</td>\n      <td>x시</td>\n      <td>200000</td>\n      <td>0</td>\n      <td>2</td>\n      <td>0</td>\n      <td>925937.5363</td>\n      <td>1.479200e+06</td>\n      <td>126.70446614522854</td>\n      <td>33.30168772558733</td>\n      <td>126.70446614522854_33.30168772558733</td>\n      <td>https://dapi.kakao.com/v2/local/geo/coord2regi...</td>\n      <td>남원읍</td>\n    </tr>\n    <tr>\n      <th>13906</th>\n      <td>280815</td>\n      <td>280816</td>\n      <td>280816</td>\n      <td>202006</td>\n      <td>제주특별자치도</td>\n      <td>서귀포시</td>\n      <td>영세</td>\n      <td>제과점</td>\n      <td>x시</td>\n      <td>120000</td>\n      <td>0</td>\n      <td>1</td>\n      <td>0</td>\n      <td>927248.1999</td>\n      <td>1.476857e+06</td>\n      <td>126.71873169054687</td>\n      <td>33.28064712955715</td>\n      <td>126.71873169054687_33.28064712955715</td>\n      <td>https://dapi.kakao.com/v2/local/geo/coord2regi...</td>\n      <td>남원읍</td>\n    </tr>\n    <tr>\n      <th>13907</th>\n      <td>281123</td>\n      <td>281124</td>\n      <td>281124</td>\n      <td>202006</td>\n      <td>제주특별자치도</td>\n      <td>제주시</td>\n      <td>영세</td>\n      <td>학습지교육</td>\n      <td>x시</td>\n      <td>300000</td>\n      <td>0</td>\n      <td>1</td>\n      <td>0</td>\n      <td>937249.0613</td>\n      <td>1.507143e+06</td>\n      <td>126.82400884307276</td>\n      <td>33.554428760055124</td>\n      <td>126.82400884307276_33.554428760055124</td>\n      <td>https://dapi.kakao.com/v2/local/geo/coord2regi...</td>\n      <td>구좌읍</td>\n    </tr>\n    <tr>\n      <th>13908</th>\n      <td>281531</td>\n      <td>281532</td>\n      <td>281532</td>\n      <td>202006</td>\n      <td>제주특별자치도</td>\n      <td>서귀포시</td>\n      <td>일반</td>\n      <td>제과점</td>\n      <td>x시</td>\n      <td>600000</td>\n      <td>0</td>\n      <td>2</td>\n      <td>0</td>\n      <td>942706.5993</td>\n      <td>1.494724e+06</td>\n      <td>126.8835920054294</td>\n      <td>33.442727525516965</td>\n      <td>126.8835920054294_33.442727525516965</td>\n      <td>https://dapi.kakao.com/v2/local/geo/coord2regi...</td>\n      <td>성산읍</td>\n    </tr>\n  </tbody>\n</table>\n<p>13909 rows × 20 columns</p>\n</div>"
     },
     "metadata": {},
     "execution_count": 14
    }
   ],
   "source": [
    "# 5. df 와 merge \n",
    "df_join = df_uniq.join(df_dong)\n",
    "df_join"
   ]
  },
  {
   "cell_type": "code",
   "execution_count": 15,
   "metadata": {},
   "outputs": [
    {
     "output_type": "execute_result",
     "data": {
      "text/plain": [
       "                                     lon_lat dong\n",
       "13906   126.71873169054687_33.28064712955715  남원읍\n",
       "13907  126.82400884307276_33.554428760055124  구좌읍\n",
       "13908   126.8835920054294_33.442727525516965  성산읍"
      ],
      "text/html": "<div>\n<style scoped>\n    .dataframe tbody tr th:only-of-type {\n        vertical-align: middle;\n    }\n\n    .dataframe tbody tr th {\n        vertical-align: top;\n    }\n\n    .dataframe thead th {\n        text-align: right;\n    }\n</style>\n<table border=\"1\" class=\"dataframe\">\n  <thead>\n    <tr style=\"text-align: right;\">\n      <th></th>\n      <th>lon_lat</th>\n      <th>dong</th>\n    </tr>\n  </thead>\n  <tbody>\n    <tr>\n      <th>13906</th>\n      <td>126.71873169054687_33.28064712955715</td>\n      <td>남원읍</td>\n    </tr>\n    <tr>\n      <th>13907</th>\n      <td>126.82400884307276_33.554428760055124</td>\n      <td>구좌읍</td>\n    </tr>\n    <tr>\n      <th>13908</th>\n      <td>126.8835920054294_33.442727525516965</td>\n      <td>성산읍</td>\n    </tr>\n  </tbody>\n</table>\n</div>"
     },
     "metadata": {},
     "execution_count": 15
    }
   ],
   "source": [
    "# 변환된 주소값을 원본 데이터와 합치기 \n",
    "\n",
    "df_addr = df_join[['lon_lat','dong']]\n",
    "df_addr.tail(3)"
   ]
  },
  {
   "cell_type": "code",
   "execution_count": 17,
   "metadata": {},
   "outputs": [
    {
     "output_type": "execute_result",
     "data": {
      "text/plain": [
       "        OBJECTID  Field1      YM     SIDO SIGUNGU FranClass   Type Time  \\\n",
       "0              1       1  202006  제주특별자치도     제주시        영세   일반한식  00시   \n",
       "1           4972    4972  202006  제주특별자치도     제주시        영세   일반한식  01시   \n",
       "2          19447   19447  202006  제주특별자치도     제주시        중소    한의원  07시   \n",
       "3          23717   23717  202006  제주특별자치도     제주시        영세     의원  08시   \n",
       "4          23718   23718  202006  제주특별자치도     제주시        중소    한의원  08시   \n",
       "...          ...     ...     ...      ...     ...       ...    ...  ...   \n",
       "281891    280450  280450  202006  제주특별자치도     제주시        영세  기타숙박업   x시   \n",
       "281892    280698  280698  202006  제주특별자치도    서귀포시        영세   기타교육   x시   \n",
       "281893    280816  280816  202006  제주특별자치도    서귀포시        영세    제과점   x시   \n",
       "281894    281124  281124  202006  제주특별자치도     제주시        영세  학습지교육   x시   \n",
       "281895    281532  281532  202006  제주특별자치도    서귀포시        일반    제과점   x시   \n",
       "\n",
       "        TotalSpent  DisSpent  NumofSpent  NumofDisSpent      POINT_X  \\\n",
       "0           502000         0          10              0  877005.9834   \n",
       "1           174000         0           6              0  877005.9834   \n",
       "2             9600         0           4              0  877005.9834   \n",
       "3            53400      3400           2              1  877005.9834   \n",
       "4            24000         0          10              0  877005.9834   \n",
       "...            ...       ...         ...            ...          ...   \n",
       "281891      200000         0           1              0  922462.7608   \n",
       "281892      200000         0           2              0  925937.5363   \n",
       "281893      120000         0           1              0  927248.1999   \n",
       "281894      300000         0           1              0  937249.0613   \n",
       "281895      600000         0           2              0  942706.5993   \n",
       "\n",
       "             POINT_Y                 lon                 lat  \\\n",
       "0       1.479766e+06  126.17889362710162   33.30231529076243   \n",
       "1       1.479766e+06  126.17889362710162   33.30231529076243   \n",
       "2       1.479766e+06  126.17889362710162   33.30231529076243   \n",
       "3       1.479766e+06  126.17889362710162   33.30231529076243   \n",
       "4       1.479766e+06  126.17889362710162   33.30231529076243   \n",
       "...              ...                 ...                 ...   \n",
       "281891  1.505523e+06  126.66487581142371   33.53884220315995   \n",
       "281892  1.479200e+06  126.70446614522854   33.30168772558733   \n",
       "281893  1.476857e+06  126.71873169054687   33.28064712955715   \n",
       "281894  1.507143e+06  126.82400884307276  33.554428760055124   \n",
       "281895  1.494724e+06   126.8835920054294  33.442727525516965   \n",
       "\n",
       "                                      lon_lat dong  \n",
       "0        126.17889362710162_33.30231529076243  한경면  \n",
       "1        126.17889362710162_33.30231529076243  한경면  \n",
       "2        126.17889362710162_33.30231529076243  한경면  \n",
       "3        126.17889362710162_33.30231529076243  한경면  \n",
       "4        126.17889362710162_33.30231529076243  한경면  \n",
       "...                                       ...  ...  \n",
       "281891   126.66487581142371_33.53884220315995  조천읍  \n",
       "281892   126.70446614522854_33.30168772558733  남원읍  \n",
       "281893   126.71873169054687_33.28064712955715  남원읍  \n",
       "281894  126.82400884307276_33.554428760055124  구좌읍  \n",
       "281895   126.8835920054294_33.442727525516965  성산읍  \n",
       "\n",
       "[281896 rows x 18 columns]"
      ],
      "text/html": "<div>\n<style scoped>\n    .dataframe tbody tr th:only-of-type {\n        vertical-align: middle;\n    }\n\n    .dataframe tbody tr th {\n        vertical-align: top;\n    }\n\n    .dataframe thead th {\n        text-align: right;\n    }\n</style>\n<table border=\"1\" class=\"dataframe\">\n  <thead>\n    <tr style=\"text-align: right;\">\n      <th></th>\n      <th>OBJECTID</th>\n      <th>Field1</th>\n      <th>YM</th>\n      <th>SIDO</th>\n      <th>SIGUNGU</th>\n      <th>FranClass</th>\n      <th>Type</th>\n      <th>Time</th>\n      <th>TotalSpent</th>\n      <th>DisSpent</th>\n      <th>NumofSpent</th>\n      <th>NumofDisSpent</th>\n      <th>POINT_X</th>\n      <th>POINT_Y</th>\n      <th>lon</th>\n      <th>lat</th>\n      <th>lon_lat</th>\n      <th>dong</th>\n    </tr>\n  </thead>\n  <tbody>\n    <tr>\n      <th>0</th>\n      <td>1</td>\n      <td>1</td>\n      <td>202006</td>\n      <td>제주특별자치도</td>\n      <td>제주시</td>\n      <td>영세</td>\n      <td>일반한식</td>\n      <td>00시</td>\n      <td>502000</td>\n      <td>0</td>\n      <td>10</td>\n      <td>0</td>\n      <td>877005.9834</td>\n      <td>1.479766e+06</td>\n      <td>126.17889362710162</td>\n      <td>33.30231529076243</td>\n      <td>126.17889362710162_33.30231529076243</td>\n      <td>한경면</td>\n    </tr>\n    <tr>\n      <th>1</th>\n      <td>4972</td>\n      <td>4972</td>\n      <td>202006</td>\n      <td>제주특별자치도</td>\n      <td>제주시</td>\n      <td>영세</td>\n      <td>일반한식</td>\n      <td>01시</td>\n      <td>174000</td>\n      <td>0</td>\n      <td>6</td>\n      <td>0</td>\n      <td>877005.9834</td>\n      <td>1.479766e+06</td>\n      <td>126.17889362710162</td>\n      <td>33.30231529076243</td>\n      <td>126.17889362710162_33.30231529076243</td>\n      <td>한경면</td>\n    </tr>\n    <tr>\n      <th>2</th>\n      <td>19447</td>\n      <td>19447</td>\n      <td>202006</td>\n      <td>제주특별자치도</td>\n      <td>제주시</td>\n      <td>중소</td>\n      <td>한의원</td>\n      <td>07시</td>\n      <td>9600</td>\n      <td>0</td>\n      <td>4</td>\n      <td>0</td>\n      <td>877005.9834</td>\n      <td>1.479766e+06</td>\n      <td>126.17889362710162</td>\n      <td>33.30231529076243</td>\n      <td>126.17889362710162_33.30231529076243</td>\n      <td>한경면</td>\n    </tr>\n    <tr>\n      <th>3</th>\n      <td>23717</td>\n      <td>23717</td>\n      <td>202006</td>\n      <td>제주특별자치도</td>\n      <td>제주시</td>\n      <td>영세</td>\n      <td>의원</td>\n      <td>08시</td>\n      <td>53400</td>\n      <td>3400</td>\n      <td>2</td>\n      <td>1</td>\n      <td>877005.9834</td>\n      <td>1.479766e+06</td>\n      <td>126.17889362710162</td>\n      <td>33.30231529076243</td>\n      <td>126.17889362710162_33.30231529076243</td>\n      <td>한경면</td>\n    </tr>\n    <tr>\n      <th>4</th>\n      <td>23718</td>\n      <td>23718</td>\n      <td>202006</td>\n      <td>제주특별자치도</td>\n      <td>제주시</td>\n      <td>중소</td>\n      <td>한의원</td>\n      <td>08시</td>\n      <td>24000</td>\n      <td>0</td>\n      <td>10</td>\n      <td>0</td>\n      <td>877005.9834</td>\n      <td>1.479766e+06</td>\n      <td>126.17889362710162</td>\n      <td>33.30231529076243</td>\n      <td>126.17889362710162_33.30231529076243</td>\n      <td>한경면</td>\n    </tr>\n    <tr>\n      <th>...</th>\n      <td>...</td>\n      <td>...</td>\n      <td>...</td>\n      <td>...</td>\n      <td>...</td>\n      <td>...</td>\n      <td>...</td>\n      <td>...</td>\n      <td>...</td>\n      <td>...</td>\n      <td>...</td>\n      <td>...</td>\n      <td>...</td>\n      <td>...</td>\n      <td>...</td>\n      <td>...</td>\n      <td>...</td>\n      <td>...</td>\n    </tr>\n    <tr>\n      <th>281891</th>\n      <td>280450</td>\n      <td>280450</td>\n      <td>202006</td>\n      <td>제주특별자치도</td>\n      <td>제주시</td>\n      <td>영세</td>\n      <td>기타숙박업</td>\n      <td>x시</td>\n      <td>200000</td>\n      <td>0</td>\n      <td>1</td>\n      <td>0</td>\n      <td>922462.7608</td>\n      <td>1.505523e+06</td>\n      <td>126.66487581142371</td>\n      <td>33.53884220315995</td>\n      <td>126.66487581142371_33.53884220315995</td>\n      <td>조천읍</td>\n    </tr>\n    <tr>\n      <th>281892</th>\n      <td>280698</td>\n      <td>280698</td>\n      <td>202006</td>\n      <td>제주특별자치도</td>\n      <td>서귀포시</td>\n      <td>영세</td>\n      <td>기타교육</td>\n      <td>x시</td>\n      <td>200000</td>\n      <td>0</td>\n      <td>2</td>\n      <td>0</td>\n      <td>925937.5363</td>\n      <td>1.479200e+06</td>\n      <td>126.70446614522854</td>\n      <td>33.30168772558733</td>\n      <td>126.70446614522854_33.30168772558733</td>\n      <td>남원읍</td>\n    </tr>\n    <tr>\n      <th>281893</th>\n      <td>280816</td>\n      <td>280816</td>\n      <td>202006</td>\n      <td>제주특별자치도</td>\n      <td>서귀포시</td>\n      <td>영세</td>\n      <td>제과점</td>\n      <td>x시</td>\n      <td>120000</td>\n      <td>0</td>\n      <td>1</td>\n      <td>0</td>\n      <td>927248.1999</td>\n      <td>1.476857e+06</td>\n      <td>126.71873169054687</td>\n      <td>33.28064712955715</td>\n      <td>126.71873169054687_33.28064712955715</td>\n      <td>남원읍</td>\n    </tr>\n    <tr>\n      <th>281894</th>\n      <td>281124</td>\n      <td>281124</td>\n      <td>202006</td>\n      <td>제주특별자치도</td>\n      <td>제주시</td>\n      <td>영세</td>\n      <td>학습지교육</td>\n      <td>x시</td>\n      <td>300000</td>\n      <td>0</td>\n      <td>1</td>\n      <td>0</td>\n      <td>937249.0613</td>\n      <td>1.507143e+06</td>\n      <td>126.82400884307276</td>\n      <td>33.554428760055124</td>\n      <td>126.82400884307276_33.554428760055124</td>\n      <td>구좌읍</td>\n    </tr>\n    <tr>\n      <th>281895</th>\n      <td>281532</td>\n      <td>281532</td>\n      <td>202006</td>\n      <td>제주특별자치도</td>\n      <td>서귀포시</td>\n      <td>일반</td>\n      <td>제과점</td>\n      <td>x시</td>\n      <td>600000</td>\n      <td>0</td>\n      <td>2</td>\n      <td>0</td>\n      <td>942706.5993</td>\n      <td>1.494724e+06</td>\n      <td>126.8835920054294</td>\n      <td>33.442727525516965</td>\n      <td>126.8835920054294_33.442727525516965</td>\n      <td>성산읍</td>\n    </tr>\n  </tbody>\n</table>\n<p>281896 rows × 18 columns</p>\n</div>"
     },
     "metadata": {},
     "execution_count": 17
    }
   ],
   "source": [
    "df_final = pd.merge(df_6, df_addr, on='lon_lat')\n",
    "df_final"
   ]
  },
  {
   "cell_type": "code",
   "execution_count": 18,
   "metadata": {},
   "outputs": [],
   "source": [
    "# # 피클로 저장하기 \n",
    "\n",
    "# import pickle\n",
    "# with open('jeju_uniq_data6.pickle', 'wb') as fw:\n",
    "#     pickle.dump(df_final, fw)\n"
   ]
  },
  {
   "cell_type": "code",
   "execution_count": 20,
   "metadata": {},
   "outputs": [],
   "source": [
    "# import pickle\n",
    "# with open('jeju_uniq_data6.pickle', 'rb') as fr:\n",
    "#     df_pickle6 = pickle.load(fr)\n",
    "\n",
    "# df_pickle6"
   ]
  },
  {
   "cell_type": "code",
   "execution_count": null,
   "metadata": {},
   "outputs": [],
   "source": [
    "############# data_7월 ############## "
   ]
  },
  {
   "cell_type": "code",
   "execution_count": 21,
   "metadata": {},
   "outputs": [
    {
     "output_type": "execute_result",
     "data": {
      "text/plain": [
       "        OBJECTID  Field1      YM     SIDO SIGUNGU       X       Y FranClass  \\\n",
       "284260    284261  284261  202007  제주특별자치도     제주시  304250  100650        영세   \n",
       "284261    284262  284262  202007  제주특별자치도     제주시  304250  100650        중소   \n",
       "284262    284263  284263  202007  제주특별자치도     제주시  304250  100650        중소   \n",
       "284263    284264  284264  202007  제주특별자치도     제주시  304300  100650       중소1   \n",
       "284264    284265  284265  202007  제주특별자치도     제주시  304400  100650        영세   \n",
       "\n",
       "         Type Time  TotalSpent  DisSpent  NumofSpent  NumofDisSpent  \\\n",
       "284260   기념품점   x시        6000         0           1              0   \n",
       "284261  농축수산품   x시       20000         0           1              0   \n",
       "284262    제과점   x시       30000         0           2              0   \n",
       "284263   중국음식   x시       13000         0           1              0   \n",
       "284264     스넥   x시        9000         0           1              0   \n",
       "\n",
       "            POINT_X       POINT_Y  \n",
       "284260  950524.6587  1.500760e+06  \n",
       "284261  950524.6587  1.500760e+06  \n",
       "284262  950524.6587  1.500760e+06  \n",
       "284263  950574.6388  1.500760e+06  \n",
       "284264  950674.5989  1.500760e+06  "
      ],
      "text/html": "<div>\n<style scoped>\n    .dataframe tbody tr th:only-of-type {\n        vertical-align: middle;\n    }\n\n    .dataframe tbody tr th {\n        vertical-align: top;\n    }\n\n    .dataframe thead th {\n        text-align: right;\n    }\n</style>\n<table border=\"1\" class=\"dataframe\">\n  <thead>\n    <tr style=\"text-align: right;\">\n      <th></th>\n      <th>OBJECTID</th>\n      <th>Field1</th>\n      <th>YM</th>\n      <th>SIDO</th>\n      <th>SIGUNGU</th>\n      <th>X</th>\n      <th>Y</th>\n      <th>FranClass</th>\n      <th>Type</th>\n      <th>Time</th>\n      <th>TotalSpent</th>\n      <th>DisSpent</th>\n      <th>NumofSpent</th>\n      <th>NumofDisSpent</th>\n      <th>POINT_X</th>\n      <th>POINT_Y</th>\n    </tr>\n  </thead>\n  <tbody>\n    <tr>\n      <th>284260</th>\n      <td>284261</td>\n      <td>284261</td>\n      <td>202007</td>\n      <td>제주특별자치도</td>\n      <td>제주시</td>\n      <td>304250</td>\n      <td>100650</td>\n      <td>영세</td>\n      <td>기념품점</td>\n      <td>x시</td>\n      <td>6000</td>\n      <td>0</td>\n      <td>1</td>\n      <td>0</td>\n      <td>950524.6587</td>\n      <td>1.500760e+06</td>\n    </tr>\n    <tr>\n      <th>284261</th>\n      <td>284262</td>\n      <td>284262</td>\n      <td>202007</td>\n      <td>제주특별자치도</td>\n      <td>제주시</td>\n      <td>304250</td>\n      <td>100650</td>\n      <td>중소</td>\n      <td>농축수산품</td>\n      <td>x시</td>\n      <td>20000</td>\n      <td>0</td>\n      <td>1</td>\n      <td>0</td>\n      <td>950524.6587</td>\n      <td>1.500760e+06</td>\n    </tr>\n    <tr>\n      <th>284262</th>\n      <td>284263</td>\n      <td>284263</td>\n      <td>202007</td>\n      <td>제주특별자치도</td>\n      <td>제주시</td>\n      <td>304250</td>\n      <td>100650</td>\n      <td>중소</td>\n      <td>제과점</td>\n      <td>x시</td>\n      <td>30000</td>\n      <td>0</td>\n      <td>2</td>\n      <td>0</td>\n      <td>950524.6587</td>\n      <td>1.500760e+06</td>\n    </tr>\n    <tr>\n      <th>284263</th>\n      <td>284264</td>\n      <td>284264</td>\n      <td>202007</td>\n      <td>제주특별자치도</td>\n      <td>제주시</td>\n      <td>304300</td>\n      <td>100650</td>\n      <td>중소1</td>\n      <td>중국음식</td>\n      <td>x시</td>\n      <td>13000</td>\n      <td>0</td>\n      <td>1</td>\n      <td>0</td>\n      <td>950574.6388</td>\n      <td>1.500760e+06</td>\n    </tr>\n    <tr>\n      <th>284264</th>\n      <td>284265</td>\n      <td>284265</td>\n      <td>202007</td>\n      <td>제주특별자치도</td>\n      <td>제주시</td>\n      <td>304400</td>\n      <td>100650</td>\n      <td>영세</td>\n      <td>스넥</td>\n      <td>x시</td>\n      <td>9000</td>\n      <td>0</td>\n      <td>1</td>\n      <td>0</td>\n      <td>950674.5989</td>\n      <td>1.500760e+06</td>\n    </tr>\n  </tbody>\n</table>\n</div>"
     },
     "metadata": {},
     "execution_count": 21
    }
   ],
   "source": [
    "# 데이터 가져오기\n",
    "\n",
    "raw_data_7 = pd.read_csv('../../1. raw_data/KRI-DAC_Jeju_data7.txt', sep=',')\n",
    "raw_data_7.tail()"
   ]
  },
  {
   "cell_type": "code",
   "execution_count": 22,
   "metadata": {},
   "outputs": [
    {
     "output_type": "execute_result",
     "data": {
      "text/plain": [
       "        OBJECTID  Field1      YM     SIDO SIGUNGU       X       Y FranClass  \\\n",
       "284262    284263  284263  202007  제주특별자치도     제주시  304250  100650        중소   \n",
       "284263    284264  284264  202007  제주특별자치도     제주시  304300  100650       중소1   \n",
       "284264    284265  284265  202007  제주특별자치도     제주시  304400  100650        영세   \n",
       "\n",
       "        Type Time  TotalSpent  DisSpent  NumofSpent  NumofDisSpent  \\\n",
       "284262   제과점   x시       30000         0           2              0   \n",
       "284263  중국음식   x시       13000         0           1              0   \n",
       "284264    스넥   x시        9000         0           1              0   \n",
       "\n",
       "            POINT_X       POINT_Y         lon        lat  \n",
       "284262  950524.6587  1.500760e+06  126.967369  33.497551  \n",
       "284263  950574.6388  1.500760e+06  126.967907  33.497555  \n",
       "284264  950674.5989  1.500760e+06  126.968983  33.497564  "
      ],
      "text/html": "<div>\n<style scoped>\n    .dataframe tbody tr th:only-of-type {\n        vertical-align: middle;\n    }\n\n    .dataframe tbody tr th {\n        vertical-align: top;\n    }\n\n    .dataframe thead th {\n        text-align: right;\n    }\n</style>\n<table border=\"1\" class=\"dataframe\">\n  <thead>\n    <tr style=\"text-align: right;\">\n      <th></th>\n      <th>OBJECTID</th>\n      <th>Field1</th>\n      <th>YM</th>\n      <th>SIDO</th>\n      <th>SIGUNGU</th>\n      <th>X</th>\n      <th>Y</th>\n      <th>FranClass</th>\n      <th>Type</th>\n      <th>Time</th>\n      <th>TotalSpent</th>\n      <th>DisSpent</th>\n      <th>NumofSpent</th>\n      <th>NumofDisSpent</th>\n      <th>POINT_X</th>\n      <th>POINT_Y</th>\n      <th>lon</th>\n      <th>lat</th>\n    </tr>\n  </thead>\n  <tbody>\n    <tr>\n      <th>284262</th>\n      <td>284263</td>\n      <td>284263</td>\n      <td>202007</td>\n      <td>제주특별자치도</td>\n      <td>제주시</td>\n      <td>304250</td>\n      <td>100650</td>\n      <td>중소</td>\n      <td>제과점</td>\n      <td>x시</td>\n      <td>30000</td>\n      <td>0</td>\n      <td>2</td>\n      <td>0</td>\n      <td>950524.6587</td>\n      <td>1.500760e+06</td>\n      <td>126.967369</td>\n      <td>33.497551</td>\n    </tr>\n    <tr>\n      <th>284263</th>\n      <td>284264</td>\n      <td>284264</td>\n      <td>202007</td>\n      <td>제주특별자치도</td>\n      <td>제주시</td>\n      <td>304300</td>\n      <td>100650</td>\n      <td>중소1</td>\n      <td>중국음식</td>\n      <td>x시</td>\n      <td>13000</td>\n      <td>0</td>\n      <td>1</td>\n      <td>0</td>\n      <td>950574.6388</td>\n      <td>1.500760e+06</td>\n      <td>126.967907</td>\n      <td>33.497555</td>\n    </tr>\n    <tr>\n      <th>284264</th>\n      <td>284265</td>\n      <td>284265</td>\n      <td>202007</td>\n      <td>제주특별자치도</td>\n      <td>제주시</td>\n      <td>304400</td>\n      <td>100650</td>\n      <td>영세</td>\n      <td>스넥</td>\n      <td>x시</td>\n      <td>9000</td>\n      <td>0</td>\n      <td>1</td>\n      <td>0</td>\n      <td>950674.5989</td>\n      <td>1.500760e+06</td>\n      <td>126.968983</td>\n      <td>33.497564</td>\n    </tr>\n  </tbody>\n</table>\n</div>"
     },
     "metadata": {},
     "execution_count": 22
    }
   ],
   "source": [
    "# 1. 좌표 변환 하기 \n",
    "\n",
    "df_7 = raw_data_7.copy()\n",
    "\n",
    "from pyproj import Proj, transform\n",
    "# ITRF좌표계\n",
    "proj_ITRF = Proj(init='epsg:5179')\n",
    "# WGS 좌표계 \n",
    "proj_WGS84 = Proj(init='epsg:4326')\n",
    "\n",
    "\n",
    "df_7['lon'], df_7['lat'] = transform(proj_ITRF, proj_WGS84, df_7['POINT_X'], df_7['POINT_Y'])\n",
    "\n",
    "df_7.tail(3)"
   ]
  },
  {
   "cell_type": "code",
   "execution_count": 23,
   "metadata": {},
   "outputs": [
    {
     "output_type": "execute_result",
     "data": {
      "text/plain": [
       "126.52427851055405_33.51290574138535     383\n",
       "126.47793511858133_33.48574932701181     322\n",
       "126.52935695016222_33.49899169591379     321\n",
       "126.52880376641139_33.499886709171996    299\n",
       "126.4902745974469_33.48770326836304      275\n",
       "                                        ... \n",
       "126.57061364973353_33.24657586777765       1\n",
       "126.65364028787246_33.46479009441826       1\n",
       "126.33127404051857_33.4189514899592        1\n",
       "126.55549055901162_33.25271259827109       1\n",
       "126.45728611233939_33.46701213491232       1\n",
       "Name: lon_lat, Length: 14000, dtype: int64"
      ]
     },
     "metadata": {},
     "execution_count": 23
    }
   ],
   "source": [
    "# 2. 좌표 구분 컬럼 생성 \n",
    "\n",
    "df_7['lon'] = df_7['lon'].astype(str)\n",
    "df_7['lat'] = df_7['lat'].astype(str)\n",
    "df_7['lon_lat'] = df_7['lon']+'_'+df_7['lat']\n",
    "df_7['lon_lat'].value_counts()"
   ]
  },
  {
   "cell_type": "code",
   "execution_count": 24,
   "metadata": {},
   "outputs": [
    {
     "output_type": "execute_result",
     "data": {
      "text/plain": [
       "lon_lat\n",
       "126.96951006044938_33.49847009919258     1\n",
       "126.48537105406359_33.49124975974724     1\n",
       "126.48551997546114_33.48268667698335     1\n",
       "126.4855121390691_33.4831373658612       1\n",
       "126.48549646585408_33.484038743513885    1\n",
       "                                        ..\n",
       "126.55813024766854_33.51600873041773     1\n",
       "126.55812977546134_33.48355190164557     1\n",
       "126.55811360750707_33.256349457237214    1\n",
       "126.55804557742673_33.42359553568285     1\n",
       "126.16370558240443_33.33544861735468     1\n",
       "Length: 14000, dtype: int64"
      ]
     },
     "metadata": {},
     "execution_count": 24
    }
   ],
   "source": [
    "# 3. 중복 좌표 삭제 > url 생성 \n",
    "\n",
    "df_uniq = df_7.drop_duplicates('lon_lat')\n",
    "df_uniq.value_counts('lon_lat')"
   ]
  },
  {
   "cell_type": "code",
   "execution_count": 25,
   "metadata": {},
   "outputs": [
    {
     "output_type": "execute_result",
     "data": {
      "text/plain": [
       "   index  OBJECTID  Field1      YM     SIDO SIGUNGU       X      Y FranClass  \\\n",
       "0      0         1       1  202007  제주특별자치도     제주시  230600  80000        영세   \n",
       "1      1         2       2  202007  제주특별자치도     제주시  230600  80050        영세   \n",
       "2      2         3       3  202007  제주특별자치도     제주시  230650  79850       중소1   \n",
       "3      3         4       4  202007  제주특별자치도     제주시  230650  80000        영세   \n",
       "4      4         5       5  202007  제주특별자치도     제주시  230650  80100        영세   \n",
       "\n",
       "   Type  ... TotalSpent  DisSpent  NumofSpent  NumofDisSpent      POINT_X  \\\n",
       "0  일반한식  ...      85500         0           4              0  877005.9834   \n",
       "1  단란주점  ...    1960000         0           4              0  877005.7447   \n",
       "2   편의점  ...     475650         0          43              0  877056.6756   \n",
       "3   편의점  ...      15650         0           1              0  877055.9593   \n",
       "4    주점  ...      82500         0           1              0  877055.4817   \n",
       "\n",
       "        POINT_Y                 lon                 lat  \\\n",
       "0  1.479766e+06  126.17889362710162   33.30231529076243   \n",
       "1  1.479816e+06  126.17888426813494  33.302765922881875   \n",
       "2  1.479616e+06  126.17945834265305   33.30097125427593   \n",
       "3  1.479766e+06  126.17943027296923   33.30232314934195   \n",
       "4  1.479866e+06  126.17941155823847   33.30322441283756   \n",
       "\n",
       "                                 lon_lat  \\\n",
       "0   126.17889362710162_33.30231529076243   \n",
       "1  126.17888426813494_33.302765922881875   \n",
       "2   126.17945834265305_33.30097125427593   \n",
       "3   126.17943027296923_33.30232314934195   \n",
       "4   126.17941155823847_33.30322441283756   \n",
       "\n",
       "                                                 url  \n",
       "0  https://dapi.kakao.com/v2/local/geo/coord2regi...  \n",
       "1  https://dapi.kakao.com/v2/local/geo/coord2regi...  \n",
       "2  https://dapi.kakao.com/v2/local/geo/coord2regi...  \n",
       "3  https://dapi.kakao.com/v2/local/geo/coord2regi...  \n",
       "4  https://dapi.kakao.com/v2/local/geo/coord2regi...  \n",
       "\n",
       "[5 rows x 21 columns]"
      ],
      "text/html": "<div>\n<style scoped>\n    .dataframe tbody tr th:only-of-type {\n        vertical-align: middle;\n    }\n\n    .dataframe tbody tr th {\n        vertical-align: top;\n    }\n\n    .dataframe thead th {\n        text-align: right;\n    }\n</style>\n<table border=\"1\" class=\"dataframe\">\n  <thead>\n    <tr style=\"text-align: right;\">\n      <th></th>\n      <th>index</th>\n      <th>OBJECTID</th>\n      <th>Field1</th>\n      <th>YM</th>\n      <th>SIDO</th>\n      <th>SIGUNGU</th>\n      <th>X</th>\n      <th>Y</th>\n      <th>FranClass</th>\n      <th>Type</th>\n      <th>...</th>\n      <th>TotalSpent</th>\n      <th>DisSpent</th>\n      <th>NumofSpent</th>\n      <th>NumofDisSpent</th>\n      <th>POINT_X</th>\n      <th>POINT_Y</th>\n      <th>lon</th>\n      <th>lat</th>\n      <th>lon_lat</th>\n      <th>url</th>\n    </tr>\n  </thead>\n  <tbody>\n    <tr>\n      <th>0</th>\n      <td>0</td>\n      <td>1</td>\n      <td>1</td>\n      <td>202007</td>\n      <td>제주특별자치도</td>\n      <td>제주시</td>\n      <td>230600</td>\n      <td>80000</td>\n      <td>영세</td>\n      <td>일반한식</td>\n      <td>...</td>\n      <td>85500</td>\n      <td>0</td>\n      <td>4</td>\n      <td>0</td>\n      <td>877005.9834</td>\n      <td>1.479766e+06</td>\n      <td>126.17889362710162</td>\n      <td>33.30231529076243</td>\n      <td>126.17889362710162_33.30231529076243</td>\n      <td>https://dapi.kakao.com/v2/local/geo/coord2regi...</td>\n    </tr>\n    <tr>\n      <th>1</th>\n      <td>1</td>\n      <td>2</td>\n      <td>2</td>\n      <td>202007</td>\n      <td>제주특별자치도</td>\n      <td>제주시</td>\n      <td>230600</td>\n      <td>80050</td>\n      <td>영세</td>\n      <td>단란주점</td>\n      <td>...</td>\n      <td>1960000</td>\n      <td>0</td>\n      <td>4</td>\n      <td>0</td>\n      <td>877005.7447</td>\n      <td>1.479816e+06</td>\n      <td>126.17888426813494</td>\n      <td>33.302765922881875</td>\n      <td>126.17888426813494_33.302765922881875</td>\n      <td>https://dapi.kakao.com/v2/local/geo/coord2regi...</td>\n    </tr>\n    <tr>\n      <th>2</th>\n      <td>2</td>\n      <td>3</td>\n      <td>3</td>\n      <td>202007</td>\n      <td>제주특별자치도</td>\n      <td>제주시</td>\n      <td>230650</td>\n      <td>79850</td>\n      <td>중소1</td>\n      <td>편의점</td>\n      <td>...</td>\n      <td>475650</td>\n      <td>0</td>\n      <td>43</td>\n      <td>0</td>\n      <td>877056.6756</td>\n      <td>1.479616e+06</td>\n      <td>126.17945834265305</td>\n      <td>33.30097125427593</td>\n      <td>126.17945834265305_33.30097125427593</td>\n      <td>https://dapi.kakao.com/v2/local/geo/coord2regi...</td>\n    </tr>\n    <tr>\n      <th>3</th>\n      <td>3</td>\n      <td>4</td>\n      <td>4</td>\n      <td>202007</td>\n      <td>제주특별자치도</td>\n      <td>제주시</td>\n      <td>230650</td>\n      <td>80000</td>\n      <td>영세</td>\n      <td>편의점</td>\n      <td>...</td>\n      <td>15650</td>\n      <td>0</td>\n      <td>1</td>\n      <td>0</td>\n      <td>877055.9593</td>\n      <td>1.479766e+06</td>\n      <td>126.17943027296923</td>\n      <td>33.30232314934195</td>\n      <td>126.17943027296923_33.30232314934195</td>\n      <td>https://dapi.kakao.com/v2/local/geo/coord2regi...</td>\n    </tr>\n    <tr>\n      <th>4</th>\n      <td>4</td>\n      <td>5</td>\n      <td>5</td>\n      <td>202007</td>\n      <td>제주특별자치도</td>\n      <td>제주시</td>\n      <td>230650</td>\n      <td>80100</td>\n      <td>영세</td>\n      <td>주점</td>\n      <td>...</td>\n      <td>82500</td>\n      <td>0</td>\n      <td>1</td>\n      <td>0</td>\n      <td>877055.4817</td>\n      <td>1.479866e+06</td>\n      <td>126.17941155823847</td>\n      <td>33.30322441283756</td>\n      <td>126.17941155823847_33.30322441283756</td>\n      <td>https://dapi.kakao.com/v2/local/geo/coord2regi...</td>\n    </tr>\n  </tbody>\n</table>\n<p>5 rows × 21 columns</p>\n</div>"
     },
     "metadata": {},
     "execution_count": 25
    }
   ],
   "source": [
    "# url 생성\n",
    "\n",
    "df_uniq['url1'] = 'https://dapi.kakao.com/v2/local/geo/coord2regioncode.json?x=' + df_uniq['lon']\n",
    "df_uniq['url2'] = '&y=' + df_uniq['lat']\n",
    "df_uniq['url'] = df_uniq['url1'] + df_uniq['url2']\n",
    "\n",
    "\n",
    "df_uniq.drop(columns=['url1','url2'],axis=1,inplace=True)\n",
    "df_uniq = df_uniq.reset_index()\n",
    "df_uniq.head(5)"
   ]
  },
  {
   "cell_type": "code",
   "execution_count": 26,
   "metadata": {},
   "outputs": [
    {
     "output_type": "stream",
     "name": "stdout",
     "text": [
      "converted point to addr\n"
     ]
    }
   ],
   "source": [
    "# 4. API를 통해 주소 가져오기 \n",
    "\n",
    "import requests\n",
    "import json\n",
    "\n",
    "dong_ls = []\n",
    "\n",
    "for i in range(len(df_uniq.index)):\n",
    "    url = df_uniq['url'][i]\n",
    "    headers = {\"Authorization\": \"KakaoAK 9c01f59434bc3920843d9dd0279e6e6c\"}\n",
    "    api_test = requests.get(url, headers=headers)\n",
    "    url_text = json.loads(api_test.text)\n",
    "    dong = url_text['documents'][0]['region_3depth_name']\n",
    "    dong_ls.append(dong)\n",
    "print('converted point to addr')"
   ]
  },
  {
   "cell_type": "code",
   "execution_count": 27,
   "metadata": {},
   "outputs": [
    {
     "output_type": "execute_result",
     "data": {
      "text/plain": [
       "      dong\n",
       "13997  성산읍\n",
       "13998  구좌읍\n",
       "13999  성산읍"
      ],
      "text/html": "<div>\n<style scoped>\n    .dataframe tbody tr th:only-of-type {\n        vertical-align: middle;\n    }\n\n    .dataframe tbody tr th {\n        vertical-align: top;\n    }\n\n    .dataframe thead th {\n        text-align: right;\n    }\n</style>\n<table border=\"1\" class=\"dataframe\">\n  <thead>\n    <tr style=\"text-align: right;\">\n      <th></th>\n      <th>dong</th>\n    </tr>\n  </thead>\n  <tbody>\n    <tr>\n      <th>13997</th>\n      <td>성산읍</td>\n    </tr>\n    <tr>\n      <th>13998</th>\n      <td>구좌읍</td>\n    </tr>\n    <tr>\n      <th>13999</th>\n      <td>성산읍</td>\n    </tr>\n  </tbody>\n</table>\n</div>"
     },
     "metadata": {},
     "execution_count": 27
    }
   ],
   "source": [
    "# 가져온 주소값 df 변환 \n",
    "dic = {'dong':dong_ls}\n",
    "df_dong = pd.DataFrame(dic)\n",
    "df_dong.tail(3)"
   ]
  },
  {
   "cell_type": "code",
   "execution_count": 28,
   "metadata": {},
   "outputs": [
    {
     "output_type": "execute_result",
     "data": {
      "text/plain": [
       "        index  OBJECTID  Field1      YM     SIDO SIGUNGU       X       Y  \\\n",
       "0           0         1       1  202007  제주특별자치도     제주시  230600   80000   \n",
       "1           1         2       2  202007  제주특별자치도     제주시  230600   80050   \n",
       "2           2         3       3  202007  제주특별자치도     제주시  230650   79850   \n",
       "3           3         4       4  202007  제주특별자치도     제주시  230650   80000   \n",
       "4           4         5       5  202007  제주특별자치도     제주시  230650   80100   \n",
       "...       ...       ...     ...     ...      ...     ...     ...     ...   \n",
       "13995  283079    283080  283080  202007  제주특별자치도    서귀포시  281050   77050   \n",
       "13996  283560    283561  283561  202007  제주특별자치도    서귀포시  291950   80650   \n",
       "13997  283563    283564  283564  202007  제주특별자치도    서귀포시  292000   85450   \n",
       "13998  283696    283697  283697  202007  제주특별자치도     제주시  293800  104100   \n",
       "13999  283987    283988  283988  202007  제주특별자치도    서귀포시  299100   95550   \n",
       "\n",
       "      FranClass   Type  ... DisSpent  NumofSpent  NumofDisSpent      POINT_X  \\\n",
       "0            영세   일반한식  ...        0           4              0  877005.9834   \n",
       "1            영세   단란주점  ...        0           4              0  877005.7447   \n",
       "2           중소1    편의점  ...        0          43              0  877056.6756   \n",
       "3            영세    편의점  ...        0           1              0  877055.9593   \n",
       "4            영세     주점  ...        0           1              0  877055.4817   \n",
       "...         ...    ...  ...      ...         ...            ...          ...   \n",
       "13995        영세   일반한식  ...        0           1              0  927447.1604   \n",
       "13996        영세  기타숙박업  ...        0           1              0  938325.4075   \n",
       "13997        영세   헬스크럽  ...        0           1              0  938352.4466   \n",
       "13998       중소1  농축수산품  ...        0           1              0  940062.3222   \n",
       "13999        영세  예체능학원  ...        0           3              0  945401.1892   \n",
       "\n",
       "            POINT_Y                 lon                 lat  \\\n",
       "0      1.479766e+06  126.17889362710162   33.30231529076243   \n",
       "1      1.479816e+06  126.17888426813494  33.302765922881875   \n",
       "2      1.479616e+06  126.17945834265305   33.30097125427593   \n",
       "3      1.479766e+06  126.17943027296923   33.30232314934195   \n",
       "4      1.479866e+06  126.17941155823847   33.30322441283756   \n",
       "...             ...                 ...                 ...   \n",
       "13995  1.477058e+06  126.72085202231753  33.282472206838406   \n",
       "13996  1.480709e+06   126.8374176866993  33.316074929565715   \n",
       "13997  1.485507e+06  126.83738053024116   33.35935333013854   \n",
       "13998  1.504158e+06   126.8545134611495  33.527665967051576   \n",
       "13999  1.495637e+06   126.9125257022098   33.45109898861301   \n",
       "\n",
       "                                     lon_lat  \\\n",
       "0       126.17889362710162_33.30231529076243   \n",
       "1      126.17888426813494_33.302765922881875   \n",
       "2       126.17945834265305_33.30097125427593   \n",
       "3       126.17943027296923_33.30232314934195   \n",
       "4       126.17941155823847_33.30322441283756   \n",
       "...                                      ...   \n",
       "13995  126.72085202231753_33.282472206838406   \n",
       "13996   126.8374176866993_33.316074929565715   \n",
       "13997   126.83738053024116_33.35935333013854   \n",
       "13998   126.8545134611495_33.527665967051576   \n",
       "13999    126.9125257022098_33.45109898861301   \n",
       "\n",
       "                                                     url dong  \n",
       "0      https://dapi.kakao.com/v2/local/geo/coord2regi...  한경면  \n",
       "1      https://dapi.kakao.com/v2/local/geo/coord2regi...  한경면  \n",
       "2      https://dapi.kakao.com/v2/local/geo/coord2regi...  한경면  \n",
       "3      https://dapi.kakao.com/v2/local/geo/coord2regi...  한경면  \n",
       "4      https://dapi.kakao.com/v2/local/geo/coord2regi...  한경면  \n",
       "...                                                  ...  ...  \n",
       "13995  https://dapi.kakao.com/v2/local/geo/coord2regi...  남원읍  \n",
       "13996  https://dapi.kakao.com/v2/local/geo/coord2regi...  표선면  \n",
       "13997  https://dapi.kakao.com/v2/local/geo/coord2regi...  성산읍  \n",
       "13998  https://dapi.kakao.com/v2/local/geo/coord2regi...  구좌읍  \n",
       "13999  https://dapi.kakao.com/v2/local/geo/coord2regi...  성산읍  \n",
       "\n",
       "[14000 rows x 22 columns]"
      ],
      "text/html": "<div>\n<style scoped>\n    .dataframe tbody tr th:only-of-type {\n        vertical-align: middle;\n    }\n\n    .dataframe tbody tr th {\n        vertical-align: top;\n    }\n\n    .dataframe thead th {\n        text-align: right;\n    }\n</style>\n<table border=\"1\" class=\"dataframe\">\n  <thead>\n    <tr style=\"text-align: right;\">\n      <th></th>\n      <th>index</th>\n      <th>OBJECTID</th>\n      <th>Field1</th>\n      <th>YM</th>\n      <th>SIDO</th>\n      <th>SIGUNGU</th>\n      <th>X</th>\n      <th>Y</th>\n      <th>FranClass</th>\n      <th>Type</th>\n      <th>...</th>\n      <th>DisSpent</th>\n      <th>NumofSpent</th>\n      <th>NumofDisSpent</th>\n      <th>POINT_X</th>\n      <th>POINT_Y</th>\n      <th>lon</th>\n      <th>lat</th>\n      <th>lon_lat</th>\n      <th>url</th>\n      <th>dong</th>\n    </tr>\n  </thead>\n  <tbody>\n    <tr>\n      <th>0</th>\n      <td>0</td>\n      <td>1</td>\n      <td>1</td>\n      <td>202007</td>\n      <td>제주특별자치도</td>\n      <td>제주시</td>\n      <td>230600</td>\n      <td>80000</td>\n      <td>영세</td>\n      <td>일반한식</td>\n      <td>...</td>\n      <td>0</td>\n      <td>4</td>\n      <td>0</td>\n      <td>877005.9834</td>\n      <td>1.479766e+06</td>\n      <td>126.17889362710162</td>\n      <td>33.30231529076243</td>\n      <td>126.17889362710162_33.30231529076243</td>\n      <td>https://dapi.kakao.com/v2/local/geo/coord2regi...</td>\n      <td>한경면</td>\n    </tr>\n    <tr>\n      <th>1</th>\n      <td>1</td>\n      <td>2</td>\n      <td>2</td>\n      <td>202007</td>\n      <td>제주특별자치도</td>\n      <td>제주시</td>\n      <td>230600</td>\n      <td>80050</td>\n      <td>영세</td>\n      <td>단란주점</td>\n      <td>...</td>\n      <td>0</td>\n      <td>4</td>\n      <td>0</td>\n      <td>877005.7447</td>\n      <td>1.479816e+06</td>\n      <td>126.17888426813494</td>\n      <td>33.302765922881875</td>\n      <td>126.17888426813494_33.302765922881875</td>\n      <td>https://dapi.kakao.com/v2/local/geo/coord2regi...</td>\n      <td>한경면</td>\n    </tr>\n    <tr>\n      <th>2</th>\n      <td>2</td>\n      <td>3</td>\n      <td>3</td>\n      <td>202007</td>\n      <td>제주특별자치도</td>\n      <td>제주시</td>\n      <td>230650</td>\n      <td>79850</td>\n      <td>중소1</td>\n      <td>편의점</td>\n      <td>...</td>\n      <td>0</td>\n      <td>43</td>\n      <td>0</td>\n      <td>877056.6756</td>\n      <td>1.479616e+06</td>\n      <td>126.17945834265305</td>\n      <td>33.30097125427593</td>\n      <td>126.17945834265305_33.30097125427593</td>\n      <td>https://dapi.kakao.com/v2/local/geo/coord2regi...</td>\n      <td>한경면</td>\n    </tr>\n    <tr>\n      <th>3</th>\n      <td>3</td>\n      <td>4</td>\n      <td>4</td>\n      <td>202007</td>\n      <td>제주특별자치도</td>\n      <td>제주시</td>\n      <td>230650</td>\n      <td>80000</td>\n      <td>영세</td>\n      <td>편의점</td>\n      <td>...</td>\n      <td>0</td>\n      <td>1</td>\n      <td>0</td>\n      <td>877055.9593</td>\n      <td>1.479766e+06</td>\n      <td>126.17943027296923</td>\n      <td>33.30232314934195</td>\n      <td>126.17943027296923_33.30232314934195</td>\n      <td>https://dapi.kakao.com/v2/local/geo/coord2regi...</td>\n      <td>한경면</td>\n    </tr>\n    <tr>\n      <th>4</th>\n      <td>4</td>\n      <td>5</td>\n      <td>5</td>\n      <td>202007</td>\n      <td>제주특별자치도</td>\n      <td>제주시</td>\n      <td>230650</td>\n      <td>80100</td>\n      <td>영세</td>\n      <td>주점</td>\n      <td>...</td>\n      <td>0</td>\n      <td>1</td>\n      <td>0</td>\n      <td>877055.4817</td>\n      <td>1.479866e+06</td>\n      <td>126.17941155823847</td>\n      <td>33.30322441283756</td>\n      <td>126.17941155823847_33.30322441283756</td>\n      <td>https://dapi.kakao.com/v2/local/geo/coord2regi...</td>\n      <td>한경면</td>\n    </tr>\n    <tr>\n      <th>...</th>\n      <td>...</td>\n      <td>...</td>\n      <td>...</td>\n      <td>...</td>\n      <td>...</td>\n      <td>...</td>\n      <td>...</td>\n      <td>...</td>\n      <td>...</td>\n      <td>...</td>\n      <td>...</td>\n      <td>...</td>\n      <td>...</td>\n      <td>...</td>\n      <td>...</td>\n      <td>...</td>\n      <td>...</td>\n      <td>...</td>\n      <td>...</td>\n      <td>...</td>\n      <td>...</td>\n    </tr>\n    <tr>\n      <th>13995</th>\n      <td>283079</td>\n      <td>283080</td>\n      <td>283080</td>\n      <td>202007</td>\n      <td>제주특별자치도</td>\n      <td>서귀포시</td>\n      <td>281050</td>\n      <td>77050</td>\n      <td>영세</td>\n      <td>일반한식</td>\n      <td>...</td>\n      <td>0</td>\n      <td>1</td>\n      <td>0</td>\n      <td>927447.1604</td>\n      <td>1.477058e+06</td>\n      <td>126.72085202231753</td>\n      <td>33.282472206838406</td>\n      <td>126.72085202231753_33.282472206838406</td>\n      <td>https://dapi.kakao.com/v2/local/geo/coord2regi...</td>\n      <td>남원읍</td>\n    </tr>\n    <tr>\n      <th>13996</th>\n      <td>283560</td>\n      <td>283561</td>\n      <td>283561</td>\n      <td>202007</td>\n      <td>제주특별자치도</td>\n      <td>서귀포시</td>\n      <td>291950</td>\n      <td>80650</td>\n      <td>영세</td>\n      <td>기타숙박업</td>\n      <td>...</td>\n      <td>0</td>\n      <td>1</td>\n      <td>0</td>\n      <td>938325.4075</td>\n      <td>1.480709e+06</td>\n      <td>126.8374176866993</td>\n      <td>33.316074929565715</td>\n      <td>126.8374176866993_33.316074929565715</td>\n      <td>https://dapi.kakao.com/v2/local/geo/coord2regi...</td>\n      <td>표선면</td>\n    </tr>\n    <tr>\n      <th>13997</th>\n      <td>283563</td>\n      <td>283564</td>\n      <td>283564</td>\n      <td>202007</td>\n      <td>제주특별자치도</td>\n      <td>서귀포시</td>\n      <td>292000</td>\n      <td>85450</td>\n      <td>영세</td>\n      <td>헬스크럽</td>\n      <td>...</td>\n      <td>0</td>\n      <td>1</td>\n      <td>0</td>\n      <td>938352.4466</td>\n      <td>1.485507e+06</td>\n      <td>126.83738053024116</td>\n      <td>33.35935333013854</td>\n      <td>126.83738053024116_33.35935333013854</td>\n      <td>https://dapi.kakao.com/v2/local/geo/coord2regi...</td>\n      <td>성산읍</td>\n    </tr>\n    <tr>\n      <th>13998</th>\n      <td>283696</td>\n      <td>283697</td>\n      <td>283697</td>\n      <td>202007</td>\n      <td>제주특별자치도</td>\n      <td>제주시</td>\n      <td>293800</td>\n      <td>104100</td>\n      <td>중소1</td>\n      <td>농축수산품</td>\n      <td>...</td>\n      <td>0</td>\n      <td>1</td>\n      <td>0</td>\n      <td>940062.3222</td>\n      <td>1.504158e+06</td>\n      <td>126.8545134611495</td>\n      <td>33.527665967051576</td>\n      <td>126.8545134611495_33.527665967051576</td>\n      <td>https://dapi.kakao.com/v2/local/geo/coord2regi...</td>\n      <td>구좌읍</td>\n    </tr>\n    <tr>\n      <th>13999</th>\n      <td>283987</td>\n      <td>283988</td>\n      <td>283988</td>\n      <td>202007</td>\n      <td>제주특별자치도</td>\n      <td>서귀포시</td>\n      <td>299100</td>\n      <td>95550</td>\n      <td>영세</td>\n      <td>예체능학원</td>\n      <td>...</td>\n      <td>0</td>\n      <td>3</td>\n      <td>0</td>\n      <td>945401.1892</td>\n      <td>1.495637e+06</td>\n      <td>126.9125257022098</td>\n      <td>33.45109898861301</td>\n      <td>126.9125257022098_33.45109898861301</td>\n      <td>https://dapi.kakao.com/v2/local/geo/coord2regi...</td>\n      <td>성산읍</td>\n    </tr>\n  </tbody>\n</table>\n<p>14000 rows × 22 columns</p>\n</div>"
     },
     "metadata": {},
     "execution_count": 28
    }
   ],
   "source": [
    "# 5. df 와 merge \n",
    "df_join = df_uniq.join(df_dong)\n",
    "df_join"
   ]
  },
  {
   "cell_type": "code",
   "execution_count": 29,
   "metadata": {},
   "outputs": [
    {
     "output_type": "execute_result",
     "data": {
      "text/plain": [
       "                                    lon_lat dong\n",
       "13997  126.83738053024116_33.35935333013854  성산읍\n",
       "13998  126.8545134611495_33.527665967051576  구좌읍\n",
       "13999   126.9125257022098_33.45109898861301  성산읍"
      ],
      "text/html": "<div>\n<style scoped>\n    .dataframe tbody tr th:only-of-type {\n        vertical-align: middle;\n    }\n\n    .dataframe tbody tr th {\n        vertical-align: top;\n    }\n\n    .dataframe thead th {\n        text-align: right;\n    }\n</style>\n<table border=\"1\" class=\"dataframe\">\n  <thead>\n    <tr style=\"text-align: right;\">\n      <th></th>\n      <th>lon_lat</th>\n      <th>dong</th>\n    </tr>\n  </thead>\n  <tbody>\n    <tr>\n      <th>13997</th>\n      <td>126.83738053024116_33.35935333013854</td>\n      <td>성산읍</td>\n    </tr>\n    <tr>\n      <th>13998</th>\n      <td>126.8545134611495_33.527665967051576</td>\n      <td>구좌읍</td>\n    </tr>\n    <tr>\n      <th>13999</th>\n      <td>126.9125257022098_33.45109898861301</td>\n      <td>성산읍</td>\n    </tr>\n  </tbody>\n</table>\n</div>"
     },
     "metadata": {},
     "execution_count": 29
    }
   ],
   "source": [
    "# 변환된 주소값을 원본 데이터와 합치기 \n",
    "\n",
    "df_addr = df_join[['lon_lat','dong']]\n",
    "df_addr.tail(3)"
   ]
  },
  {
   "cell_type": "code",
   "execution_count": 33,
   "metadata": {},
   "outputs": [
    {
     "output_type": "execute_result",
     "data": {
      "text/plain": [
       "        OBJECTID  Field1      YM     SIDO SIGUNGU       X       Y FranClass  \\\n",
       "0              1       1  202007  제주특별자치도     제주시  230600   80000        영세   \n",
       "1           5076    5076  202007  제주특별자치도     제주시  230600   80000        영세   \n",
       "2          19832   19832  202007  제주특별자치도     제주시  230600   80000        영세   \n",
       "3          24086   24086  202007  제주특별자치도     제주시  230600   80000        영세   \n",
       "4          30957   30957  202007  제주특별자치도     제주시  230600   80000        영세   \n",
       "...          ...     ...     ...      ...     ...     ...     ...       ...   \n",
       "284260    283080  283080  202007  제주특별자치도    서귀포시  281050   77050        영세   \n",
       "284261    283561  283561  202007  제주특별자치도    서귀포시  291950   80650        영세   \n",
       "284262    283564  283564  202007  제주특별자치도    서귀포시  292000   85450        영세   \n",
       "284263    283697  283697  202007  제주특별자치도     제주시  293800  104100       중소1   \n",
       "284264    283988  283988  202007  제주특별자치도    서귀포시  299100   95550        영세   \n",
       "\n",
       "         Type Time  TotalSpent  DisSpent  NumofSpent  NumofDisSpent  \\\n",
       "0        일반한식  00시       85500         0           4              0   \n",
       "1        일반한식  01시      226000         0           4              0   \n",
       "2         한의원  07시        9600         0           4              0   \n",
       "3         한의원  08시       14400         0           6              0   \n",
       "4         한의원  09시       41900         0           9              0   \n",
       "...       ...  ...         ...       ...         ...            ...   \n",
       "284260   일반한식   x시      210000         0           1              0   \n",
       "284261  기타숙박업   x시      420000         0           1              0   \n",
       "284262   헬스크럽   x시      180000         0           1              0   \n",
       "284263  농축수산품   x시        3000         0           1              0   \n",
       "284264  예체능학원   x시      560000         0           3              0   \n",
       "\n",
       "            POINT_X       POINT_Y                 lon                 lat  \\\n",
       "0       877005.9834  1.479766e+06  126.17889362710162   33.30231529076243   \n",
       "1       877005.9834  1.479766e+06  126.17889362710162   33.30231529076243   \n",
       "2       877005.9834  1.479766e+06  126.17889362710162   33.30231529076243   \n",
       "3       877005.9834  1.479766e+06  126.17889362710162   33.30231529076243   \n",
       "4       877005.9834  1.479766e+06  126.17889362710162   33.30231529076243   \n",
       "...             ...           ...                 ...                 ...   \n",
       "284260  927447.1604  1.477058e+06  126.72085202231753  33.282472206838406   \n",
       "284261  938325.4075  1.480709e+06   126.8374176866993  33.316074929565715   \n",
       "284262  938352.4466  1.485507e+06  126.83738053024116   33.35935333013854   \n",
       "284263  940062.3222  1.504158e+06   126.8545134611495  33.527665967051576   \n",
       "284264  945401.1892  1.495637e+06   126.9125257022098   33.45109898861301   \n",
       "\n",
       "                                      lon_lat dong  \n",
       "0        126.17889362710162_33.30231529076243  한경면  \n",
       "1        126.17889362710162_33.30231529076243  한경면  \n",
       "2        126.17889362710162_33.30231529076243  한경면  \n",
       "3        126.17889362710162_33.30231529076243  한경면  \n",
       "4        126.17889362710162_33.30231529076243  한경면  \n",
       "...                                       ...  ...  \n",
       "284260  126.72085202231753_33.282472206838406  남원읍  \n",
       "284261   126.8374176866993_33.316074929565715  표선면  \n",
       "284262   126.83738053024116_33.35935333013854  성산읍  \n",
       "284263   126.8545134611495_33.527665967051576  구좌읍  \n",
       "284264    126.9125257022098_33.45109898861301  성산읍  \n",
       "\n",
       "[284265 rows x 20 columns]"
      ],
      "text/html": "<div>\n<style scoped>\n    .dataframe tbody tr th:only-of-type {\n        vertical-align: middle;\n    }\n\n    .dataframe tbody tr th {\n        vertical-align: top;\n    }\n\n    .dataframe thead th {\n        text-align: right;\n    }\n</style>\n<table border=\"1\" class=\"dataframe\">\n  <thead>\n    <tr style=\"text-align: right;\">\n      <th></th>\n      <th>OBJECTID</th>\n      <th>Field1</th>\n      <th>YM</th>\n      <th>SIDO</th>\n      <th>SIGUNGU</th>\n      <th>X</th>\n      <th>Y</th>\n      <th>FranClass</th>\n      <th>Type</th>\n      <th>Time</th>\n      <th>TotalSpent</th>\n      <th>DisSpent</th>\n      <th>NumofSpent</th>\n      <th>NumofDisSpent</th>\n      <th>POINT_X</th>\n      <th>POINT_Y</th>\n      <th>lon</th>\n      <th>lat</th>\n      <th>lon_lat</th>\n      <th>dong</th>\n    </tr>\n  </thead>\n  <tbody>\n    <tr>\n      <th>0</th>\n      <td>1</td>\n      <td>1</td>\n      <td>202007</td>\n      <td>제주특별자치도</td>\n      <td>제주시</td>\n      <td>230600</td>\n      <td>80000</td>\n      <td>영세</td>\n      <td>일반한식</td>\n      <td>00시</td>\n      <td>85500</td>\n      <td>0</td>\n      <td>4</td>\n      <td>0</td>\n      <td>877005.9834</td>\n      <td>1.479766e+06</td>\n      <td>126.17889362710162</td>\n      <td>33.30231529076243</td>\n      <td>126.17889362710162_33.30231529076243</td>\n      <td>한경면</td>\n    </tr>\n    <tr>\n      <th>1</th>\n      <td>5076</td>\n      <td>5076</td>\n      <td>202007</td>\n      <td>제주특별자치도</td>\n      <td>제주시</td>\n      <td>230600</td>\n      <td>80000</td>\n      <td>영세</td>\n      <td>일반한식</td>\n      <td>01시</td>\n      <td>226000</td>\n      <td>0</td>\n      <td>4</td>\n      <td>0</td>\n      <td>877005.9834</td>\n      <td>1.479766e+06</td>\n      <td>126.17889362710162</td>\n      <td>33.30231529076243</td>\n      <td>126.17889362710162_33.30231529076243</td>\n      <td>한경면</td>\n    </tr>\n    <tr>\n      <th>2</th>\n      <td>19832</td>\n      <td>19832</td>\n      <td>202007</td>\n      <td>제주특별자치도</td>\n      <td>제주시</td>\n      <td>230600</td>\n      <td>80000</td>\n      <td>영세</td>\n      <td>한의원</td>\n      <td>07시</td>\n      <td>9600</td>\n      <td>0</td>\n      <td>4</td>\n      <td>0</td>\n      <td>877005.9834</td>\n      <td>1.479766e+06</td>\n      <td>126.17889362710162</td>\n      <td>33.30231529076243</td>\n      <td>126.17889362710162_33.30231529076243</td>\n      <td>한경면</td>\n    </tr>\n    <tr>\n      <th>3</th>\n      <td>24086</td>\n      <td>24086</td>\n      <td>202007</td>\n      <td>제주특별자치도</td>\n      <td>제주시</td>\n      <td>230600</td>\n      <td>80000</td>\n      <td>영세</td>\n      <td>한의원</td>\n      <td>08시</td>\n      <td>14400</td>\n      <td>0</td>\n      <td>6</td>\n      <td>0</td>\n      <td>877005.9834</td>\n      <td>1.479766e+06</td>\n      <td>126.17889362710162</td>\n      <td>33.30231529076243</td>\n      <td>126.17889362710162_33.30231529076243</td>\n      <td>한경면</td>\n    </tr>\n    <tr>\n      <th>4</th>\n      <td>30957</td>\n      <td>30957</td>\n      <td>202007</td>\n      <td>제주특별자치도</td>\n      <td>제주시</td>\n      <td>230600</td>\n      <td>80000</td>\n      <td>영세</td>\n      <td>한의원</td>\n      <td>09시</td>\n      <td>41900</td>\n      <td>0</td>\n      <td>9</td>\n      <td>0</td>\n      <td>877005.9834</td>\n      <td>1.479766e+06</td>\n      <td>126.17889362710162</td>\n      <td>33.30231529076243</td>\n      <td>126.17889362710162_33.30231529076243</td>\n      <td>한경면</td>\n    </tr>\n    <tr>\n      <th>...</th>\n      <td>...</td>\n      <td>...</td>\n      <td>...</td>\n      <td>...</td>\n      <td>...</td>\n      <td>...</td>\n      <td>...</td>\n      <td>...</td>\n      <td>...</td>\n      <td>...</td>\n      <td>...</td>\n      <td>...</td>\n      <td>...</td>\n      <td>...</td>\n      <td>...</td>\n      <td>...</td>\n      <td>...</td>\n      <td>...</td>\n      <td>...</td>\n      <td>...</td>\n    </tr>\n    <tr>\n      <th>284260</th>\n      <td>283080</td>\n      <td>283080</td>\n      <td>202007</td>\n      <td>제주특별자치도</td>\n      <td>서귀포시</td>\n      <td>281050</td>\n      <td>77050</td>\n      <td>영세</td>\n      <td>일반한식</td>\n      <td>x시</td>\n      <td>210000</td>\n      <td>0</td>\n      <td>1</td>\n      <td>0</td>\n      <td>927447.1604</td>\n      <td>1.477058e+06</td>\n      <td>126.72085202231753</td>\n      <td>33.282472206838406</td>\n      <td>126.72085202231753_33.282472206838406</td>\n      <td>남원읍</td>\n    </tr>\n    <tr>\n      <th>284261</th>\n      <td>283561</td>\n      <td>283561</td>\n      <td>202007</td>\n      <td>제주특별자치도</td>\n      <td>서귀포시</td>\n      <td>291950</td>\n      <td>80650</td>\n      <td>영세</td>\n      <td>기타숙박업</td>\n      <td>x시</td>\n      <td>420000</td>\n      <td>0</td>\n      <td>1</td>\n      <td>0</td>\n      <td>938325.4075</td>\n      <td>1.480709e+06</td>\n      <td>126.8374176866993</td>\n      <td>33.316074929565715</td>\n      <td>126.8374176866993_33.316074929565715</td>\n      <td>표선면</td>\n    </tr>\n    <tr>\n      <th>284262</th>\n      <td>283564</td>\n      <td>283564</td>\n      <td>202007</td>\n      <td>제주특별자치도</td>\n      <td>서귀포시</td>\n      <td>292000</td>\n      <td>85450</td>\n      <td>영세</td>\n      <td>헬스크럽</td>\n      <td>x시</td>\n      <td>180000</td>\n      <td>0</td>\n      <td>1</td>\n      <td>0</td>\n      <td>938352.4466</td>\n      <td>1.485507e+06</td>\n      <td>126.83738053024116</td>\n      <td>33.35935333013854</td>\n      <td>126.83738053024116_33.35935333013854</td>\n      <td>성산읍</td>\n    </tr>\n    <tr>\n      <th>284263</th>\n      <td>283697</td>\n      <td>283697</td>\n      <td>202007</td>\n      <td>제주특별자치도</td>\n      <td>제주시</td>\n      <td>293800</td>\n      <td>104100</td>\n      <td>중소1</td>\n      <td>농축수산품</td>\n      <td>x시</td>\n      <td>3000</td>\n      <td>0</td>\n      <td>1</td>\n      <td>0</td>\n      <td>940062.3222</td>\n      <td>1.504158e+06</td>\n      <td>126.8545134611495</td>\n      <td>33.527665967051576</td>\n      <td>126.8545134611495_33.527665967051576</td>\n      <td>구좌읍</td>\n    </tr>\n    <tr>\n      <th>284264</th>\n      <td>283988</td>\n      <td>283988</td>\n      <td>202007</td>\n      <td>제주특별자치도</td>\n      <td>서귀포시</td>\n      <td>299100</td>\n      <td>95550</td>\n      <td>영세</td>\n      <td>예체능학원</td>\n      <td>x시</td>\n      <td>560000</td>\n      <td>0</td>\n      <td>3</td>\n      <td>0</td>\n      <td>945401.1892</td>\n      <td>1.495637e+06</td>\n      <td>126.9125257022098</td>\n      <td>33.45109898861301</td>\n      <td>126.9125257022098_33.45109898861301</td>\n      <td>성산읍</td>\n    </tr>\n  </tbody>\n</table>\n<p>284265 rows × 20 columns</p>\n</div>"
     },
     "metadata": {},
     "execution_count": 33
    }
   ],
   "source": [
    "df_final = pd.merge(df_7, df_addr, on='lon_lat')\n",
    "df_final"
   ]
  },
  {
   "cell_type": "code",
   "execution_count": 34,
   "metadata": {},
   "outputs": [],
   "source": [
    "# # 피클로 저장하기 \n",
    "\n",
    "# import pickle\n",
    "# with open('jeju_uniq_data7.pickle', 'wb') as fw:\n",
    "#     pickle.dump(df_final, fw)\n"
   ]
  },
  {
   "cell_type": "code",
   "execution_count": 36,
   "metadata": {},
   "outputs": [],
   "source": [
    "# import pickle\n",
    "# with open('jeju_uniq_data7.pickle', 'rb') as fr:\n",
    "#     df_pickle7 = pickle.load(fr)\n",
    "\n",
    "# df_pickle7"
   ]
  },
  {
   "cell_type": "code",
   "execution_count": 37,
   "metadata": {},
   "outputs": [],
   "source": [
    "############# data 8월 ###########"
   ]
  },
  {
   "cell_type": "code",
   "execution_count": 38,
   "metadata": {},
   "outputs": [
    {
     "output_type": "execute_result",
     "data": {
      "text/plain": [
       "        OBJECTID  Field1      YM     SIDO SIGUNGU FranClass  Type Time  \\\n",
       "280080    280081  280081  202008  제주특별자치도     제주시        영세   편의점   x시   \n",
       "280081    280082  280082  202008  제주특별자치도     제주시        영세  일반한식   x시   \n",
       "280082    280083  280083  202008  제주특별자치도     제주시        영세  일반한식   x시   \n",
       "280083    280084  280084  202008  제주특별자치도     제주시       중소1  중국음식   x시   \n",
       "280084    280085  280085  202008  제주특별자치도     제주시        영세  서양음식   x시   \n",
       "\n",
       "        TotalSpent  DisSpent  NumofSpent  NumofDisSpent      POINT_X  \\\n",
       "280080       13700         0           2              0  950266.5976   \n",
       "280081       56000         0           1              0  950317.5379   \n",
       "280082       28000         0           1              0  950469.1585   \n",
       "280083       46000         0           3              0  950574.6388   \n",
       "280084        9000         0           1              0  950565.5176   \n",
       "\n",
       "             POINT_Y  \n",
       "280080  1.502458e+06  \n",
       "280081  1.502258e+06  \n",
       "280082  1.501909e+06  \n",
       "280083  1.500760e+06  \n",
       "280084  1.502659e+06  "
      ],
      "text/html": "<div>\n<style scoped>\n    .dataframe tbody tr th:only-of-type {\n        vertical-align: middle;\n    }\n\n    .dataframe tbody tr th {\n        vertical-align: top;\n    }\n\n    .dataframe thead th {\n        text-align: right;\n    }\n</style>\n<table border=\"1\" class=\"dataframe\">\n  <thead>\n    <tr style=\"text-align: right;\">\n      <th></th>\n      <th>OBJECTID</th>\n      <th>Field1</th>\n      <th>YM</th>\n      <th>SIDO</th>\n      <th>SIGUNGU</th>\n      <th>FranClass</th>\n      <th>Type</th>\n      <th>Time</th>\n      <th>TotalSpent</th>\n      <th>DisSpent</th>\n      <th>NumofSpent</th>\n      <th>NumofDisSpent</th>\n      <th>POINT_X</th>\n      <th>POINT_Y</th>\n    </tr>\n  </thead>\n  <tbody>\n    <tr>\n      <th>280080</th>\n      <td>280081</td>\n      <td>280081</td>\n      <td>202008</td>\n      <td>제주특별자치도</td>\n      <td>제주시</td>\n      <td>영세</td>\n      <td>편의점</td>\n      <td>x시</td>\n      <td>13700</td>\n      <td>0</td>\n      <td>2</td>\n      <td>0</td>\n      <td>950266.5976</td>\n      <td>1.502458e+06</td>\n    </tr>\n    <tr>\n      <th>280081</th>\n      <td>280082</td>\n      <td>280082</td>\n      <td>202008</td>\n      <td>제주특별자치도</td>\n      <td>제주시</td>\n      <td>영세</td>\n      <td>일반한식</td>\n      <td>x시</td>\n      <td>56000</td>\n      <td>0</td>\n      <td>1</td>\n      <td>0</td>\n      <td>950317.5379</td>\n      <td>1.502258e+06</td>\n    </tr>\n    <tr>\n      <th>280082</th>\n      <td>280083</td>\n      <td>280083</td>\n      <td>202008</td>\n      <td>제주특별자치도</td>\n      <td>제주시</td>\n      <td>영세</td>\n      <td>일반한식</td>\n      <td>x시</td>\n      <td>28000</td>\n      <td>0</td>\n      <td>1</td>\n      <td>0</td>\n      <td>950469.1585</td>\n      <td>1.501909e+06</td>\n    </tr>\n    <tr>\n      <th>280083</th>\n      <td>280084</td>\n      <td>280084</td>\n      <td>202008</td>\n      <td>제주특별자치도</td>\n      <td>제주시</td>\n      <td>중소1</td>\n      <td>중국음식</td>\n      <td>x시</td>\n      <td>46000</td>\n      <td>0</td>\n      <td>3</td>\n      <td>0</td>\n      <td>950574.6388</td>\n      <td>1.500760e+06</td>\n    </tr>\n    <tr>\n      <th>280084</th>\n      <td>280085</td>\n      <td>280085</td>\n      <td>202008</td>\n      <td>제주특별자치도</td>\n      <td>제주시</td>\n      <td>영세</td>\n      <td>서양음식</td>\n      <td>x시</td>\n      <td>9000</td>\n      <td>0</td>\n      <td>1</td>\n      <td>0</td>\n      <td>950565.5176</td>\n      <td>1.502659e+06</td>\n    </tr>\n  </tbody>\n</table>\n</div>"
     },
     "metadata": {},
     "execution_count": 38
    }
   ],
   "source": [
    "# 데이터 가져오기\n",
    "\n",
    "raw_data_8 = pd.read_csv('../../1. raw_data/KRI-DAC_Jeju_data8.txt', sep=',')\n",
    "raw_data_8.tail()"
   ]
  },
  {
   "cell_type": "code",
   "execution_count": 39,
   "metadata": {},
   "outputs": [
    {
     "output_type": "execute_result",
     "data": {
      "text/plain": [
       "        OBJECTID  Field1      YM     SIDO SIGUNGU FranClass  Type Time  \\\n",
       "280082    280083  280083  202008  제주특별자치도     제주시        영세  일반한식   x시   \n",
       "280083    280084  280084  202008  제주특별자치도     제주시       중소1  중국음식   x시   \n",
       "280084    280085  280085  202008  제주특별자치도     제주시        영세  서양음식   x시   \n",
       "\n",
       "        TotalSpent  DisSpent  NumofSpent  NumofDisSpent      POINT_X  \\\n",
       "280082       28000         0           1              0  950469.1585   \n",
       "280083       46000         0           3              0  950574.6388   \n",
       "280084        9000         0           1              0  950565.5176   \n",
       "\n",
       "             POINT_Y         lon        lat  \n",
       "280082  1.501909e+06  126.966708  33.507914  \n",
       "280083  1.500760e+06  126.967907  33.497555  \n",
       "280084  1.502659e+06  126.967704  33.514684  "
      ],
      "text/html": "<div>\n<style scoped>\n    .dataframe tbody tr th:only-of-type {\n        vertical-align: middle;\n    }\n\n    .dataframe tbody tr th {\n        vertical-align: top;\n    }\n\n    .dataframe thead th {\n        text-align: right;\n    }\n</style>\n<table border=\"1\" class=\"dataframe\">\n  <thead>\n    <tr style=\"text-align: right;\">\n      <th></th>\n      <th>OBJECTID</th>\n      <th>Field1</th>\n      <th>YM</th>\n      <th>SIDO</th>\n      <th>SIGUNGU</th>\n      <th>FranClass</th>\n      <th>Type</th>\n      <th>Time</th>\n      <th>TotalSpent</th>\n      <th>DisSpent</th>\n      <th>NumofSpent</th>\n      <th>NumofDisSpent</th>\n      <th>POINT_X</th>\n      <th>POINT_Y</th>\n      <th>lon</th>\n      <th>lat</th>\n    </tr>\n  </thead>\n  <tbody>\n    <tr>\n      <th>280082</th>\n      <td>280083</td>\n      <td>280083</td>\n      <td>202008</td>\n      <td>제주특별자치도</td>\n      <td>제주시</td>\n      <td>영세</td>\n      <td>일반한식</td>\n      <td>x시</td>\n      <td>28000</td>\n      <td>0</td>\n      <td>1</td>\n      <td>0</td>\n      <td>950469.1585</td>\n      <td>1.501909e+06</td>\n      <td>126.966708</td>\n      <td>33.507914</td>\n    </tr>\n    <tr>\n      <th>280083</th>\n      <td>280084</td>\n      <td>280084</td>\n      <td>202008</td>\n      <td>제주특별자치도</td>\n      <td>제주시</td>\n      <td>중소1</td>\n      <td>중국음식</td>\n      <td>x시</td>\n      <td>46000</td>\n      <td>0</td>\n      <td>3</td>\n      <td>0</td>\n      <td>950574.6388</td>\n      <td>1.500760e+06</td>\n      <td>126.967907</td>\n      <td>33.497555</td>\n    </tr>\n    <tr>\n      <th>280084</th>\n      <td>280085</td>\n      <td>280085</td>\n      <td>202008</td>\n      <td>제주특별자치도</td>\n      <td>제주시</td>\n      <td>영세</td>\n      <td>서양음식</td>\n      <td>x시</td>\n      <td>9000</td>\n      <td>0</td>\n      <td>1</td>\n      <td>0</td>\n      <td>950565.5176</td>\n      <td>1.502659e+06</td>\n      <td>126.967704</td>\n      <td>33.514684</td>\n    </tr>\n  </tbody>\n</table>\n</div>"
     },
     "metadata": {},
     "execution_count": 39
    }
   ],
   "source": [
    "# 1. 좌표 변환 하기 \n",
    "\n",
    "df_8 = raw_data_8.copy()\n",
    "\n",
    "from pyproj import Proj, transform\n",
    "# ITRF좌표계\n",
    "proj_ITRF = Proj(init='epsg:5179')\n",
    "# WGS 좌표계 \n",
    "proj_WGS84 = Proj(init='epsg:4326')\n",
    "\n",
    "\n",
    "df_8['lon'], df_8['lat'] = transform(proj_ITRF, proj_WGS84, df_8['POINT_X'], df_8['POINT_Y'])\n",
    "\n",
    "df_8.tail(3)"
   ]
  },
  {
   "cell_type": "code",
   "execution_count": 40,
   "metadata": {},
   "outputs": [
    {
     "output_type": "execute_result",
     "data": {
      "text/plain": [
       "126.52427851055405_33.51290574138535     366\n",
       "126.52935695016222_33.49899169591379     302\n",
       "126.47793511858133_33.48574932701181     301\n",
       "126.52880376641139_33.499886709171996    292\n",
       "126.57376368512601_33.51438638164462     271\n",
       "                                        ... \n",
       "126.25738732521178_33.35032065718666       1\n",
       "126.59183881308377_33.52811667401374       1\n",
       "126.94623819475633_33.509545034887644      1\n",
       "126.64155603093386_33.54985866185514       1\n",
       "126.47206615420284_33.48297247109361       1\n",
       "Name: lon_lat, Length: 13998, dtype: int64"
      ]
     },
     "metadata": {},
     "execution_count": 40
    }
   ],
   "source": [
    "# 2. 좌표 구분 컬럼 생성 \n",
    "\n",
    "df_8['lon'] = df_8['lon'].astype(str)\n",
    "df_8['lat'] = df_8['lat'].astype(str)\n",
    "df_8['lon_lat'] = df_8['lon']+'_'+df_8['lat']\n",
    "df_8['lon_lat'].value_counts()"
   ]
  },
  {
   "cell_type": "code",
   "execution_count": 41,
   "metadata": {},
   "outputs": [
    {
     "output_type": "execute_result",
     "data": {
      "text/plain": [
       "lon_lat\n",
       "126.96951006044938_33.49847009919258    1\n",
       "126.48510753973808_33.47546908389631    1\n",
       "126.48539457164357_33.48989769487357    1\n",
       "126.48538673295272_33.49034838320207    1\n",
       "126.48537105406359_33.49124975974724    1\n",
       "                                       ..\n",
       "126.55818756465061_33.25184225334594    1\n",
       "126.55818016997517_33.25229297326027    1\n",
       "126.55817277408272_33.25274369403429    1\n",
       "126.55816759430778_33.51375522420132    1\n",
       "126.16370558240443_33.33544861735468    1\n",
       "Length: 13998, dtype: int64"
      ]
     },
     "metadata": {},
     "execution_count": 41
    }
   ],
   "source": [
    "# 3. 중복 좌표 삭제 > url 생성 \n",
    "\n",
    "df_uniq = df_8.drop_duplicates('lon_lat')\n",
    "df_uniq.value_counts('lon_lat')"
   ]
  },
  {
   "cell_type": "code",
   "execution_count": 42,
   "metadata": {},
   "outputs": [
    {
     "output_type": "execute_result",
     "data": {
      "text/plain": [
       "   index  OBJECTID  Field1      YM     SIDO SIGUNGU FranClass  Type Time  \\\n",
       "0      0         1       1  202008  제주특별자치도     제주시        영세  일반한식  00시   \n",
       "1      1         2       2  202008  제주특별자치도     제주시        영세  단란주점  00시   \n",
       "2      2         3       3  202008  제주특별자치도     제주시       중소1   편의점  00시   \n",
       "3      3         4       4  202008  제주특별자치도     제주시        영세   편의점  00시   \n",
       "4      4         5       5  202008  제주특별자치도     제주시        영세    주점  00시   \n",
       "\n",
       "   TotalSpent  DisSpent  NumofSpent  NumofDisSpent      POINT_X       POINT_Y  \\\n",
       "0      249500         0           7              0  877005.9834  1.479766e+06   \n",
       "1     2010000         0           7              0  877005.7447  1.479816e+06   \n",
       "2      401210         0          41              0  877056.6756  1.479616e+06   \n",
       "3       12250         0           1              0  877055.9593  1.479766e+06   \n",
       "4       33000         0           1              0  877055.4817  1.479866e+06   \n",
       "\n",
       "                  lon                 lat  \\\n",
       "0  126.17889362710162   33.30231529076243   \n",
       "1  126.17888426813494  33.302765922881875   \n",
       "2  126.17945834265305   33.30097125427593   \n",
       "3  126.17943027296923   33.30232314934195   \n",
       "4  126.17941155823847   33.30322441283756   \n",
       "\n",
       "                                 lon_lat  \\\n",
       "0   126.17889362710162_33.30231529076243   \n",
       "1  126.17888426813494_33.302765922881875   \n",
       "2   126.17945834265305_33.30097125427593   \n",
       "3   126.17943027296923_33.30232314934195   \n",
       "4   126.17941155823847_33.30322441283756   \n",
       "\n",
       "                                                 url  \n",
       "0  https://dapi.kakao.com/v2/local/geo/coord2regi...  \n",
       "1  https://dapi.kakao.com/v2/local/geo/coord2regi...  \n",
       "2  https://dapi.kakao.com/v2/local/geo/coord2regi...  \n",
       "3  https://dapi.kakao.com/v2/local/geo/coord2regi...  \n",
       "4  https://dapi.kakao.com/v2/local/geo/coord2regi...  "
      ],
      "text/html": "<div>\n<style scoped>\n    .dataframe tbody tr th:only-of-type {\n        vertical-align: middle;\n    }\n\n    .dataframe tbody tr th {\n        vertical-align: top;\n    }\n\n    .dataframe thead th {\n        text-align: right;\n    }\n</style>\n<table border=\"1\" class=\"dataframe\">\n  <thead>\n    <tr style=\"text-align: right;\">\n      <th></th>\n      <th>index</th>\n      <th>OBJECTID</th>\n      <th>Field1</th>\n      <th>YM</th>\n      <th>SIDO</th>\n      <th>SIGUNGU</th>\n      <th>FranClass</th>\n      <th>Type</th>\n      <th>Time</th>\n      <th>TotalSpent</th>\n      <th>DisSpent</th>\n      <th>NumofSpent</th>\n      <th>NumofDisSpent</th>\n      <th>POINT_X</th>\n      <th>POINT_Y</th>\n      <th>lon</th>\n      <th>lat</th>\n      <th>lon_lat</th>\n      <th>url</th>\n    </tr>\n  </thead>\n  <tbody>\n    <tr>\n      <th>0</th>\n      <td>0</td>\n      <td>1</td>\n      <td>1</td>\n      <td>202008</td>\n      <td>제주특별자치도</td>\n      <td>제주시</td>\n      <td>영세</td>\n      <td>일반한식</td>\n      <td>00시</td>\n      <td>249500</td>\n      <td>0</td>\n      <td>7</td>\n      <td>0</td>\n      <td>877005.9834</td>\n      <td>1.479766e+06</td>\n      <td>126.17889362710162</td>\n      <td>33.30231529076243</td>\n      <td>126.17889362710162_33.30231529076243</td>\n      <td>https://dapi.kakao.com/v2/local/geo/coord2regi...</td>\n    </tr>\n    <tr>\n      <th>1</th>\n      <td>1</td>\n      <td>2</td>\n      <td>2</td>\n      <td>202008</td>\n      <td>제주특별자치도</td>\n      <td>제주시</td>\n      <td>영세</td>\n      <td>단란주점</td>\n      <td>00시</td>\n      <td>2010000</td>\n      <td>0</td>\n      <td>7</td>\n      <td>0</td>\n      <td>877005.7447</td>\n      <td>1.479816e+06</td>\n      <td>126.17888426813494</td>\n      <td>33.302765922881875</td>\n      <td>126.17888426813494_33.302765922881875</td>\n      <td>https://dapi.kakao.com/v2/local/geo/coord2regi...</td>\n    </tr>\n    <tr>\n      <th>2</th>\n      <td>2</td>\n      <td>3</td>\n      <td>3</td>\n      <td>202008</td>\n      <td>제주특별자치도</td>\n      <td>제주시</td>\n      <td>중소1</td>\n      <td>편의점</td>\n      <td>00시</td>\n      <td>401210</td>\n      <td>0</td>\n      <td>41</td>\n      <td>0</td>\n      <td>877056.6756</td>\n      <td>1.479616e+06</td>\n      <td>126.17945834265305</td>\n      <td>33.30097125427593</td>\n      <td>126.17945834265305_33.30097125427593</td>\n      <td>https://dapi.kakao.com/v2/local/geo/coord2regi...</td>\n    </tr>\n    <tr>\n      <th>3</th>\n      <td>3</td>\n      <td>4</td>\n      <td>4</td>\n      <td>202008</td>\n      <td>제주특별자치도</td>\n      <td>제주시</td>\n      <td>영세</td>\n      <td>편의점</td>\n      <td>00시</td>\n      <td>12250</td>\n      <td>0</td>\n      <td>1</td>\n      <td>0</td>\n      <td>877055.9593</td>\n      <td>1.479766e+06</td>\n      <td>126.17943027296923</td>\n      <td>33.30232314934195</td>\n      <td>126.17943027296923_33.30232314934195</td>\n      <td>https://dapi.kakao.com/v2/local/geo/coord2regi...</td>\n    </tr>\n    <tr>\n      <th>4</th>\n      <td>4</td>\n      <td>5</td>\n      <td>5</td>\n      <td>202008</td>\n      <td>제주특별자치도</td>\n      <td>제주시</td>\n      <td>영세</td>\n      <td>주점</td>\n      <td>00시</td>\n      <td>33000</td>\n      <td>0</td>\n      <td>1</td>\n      <td>0</td>\n      <td>877055.4817</td>\n      <td>1.479866e+06</td>\n      <td>126.17941155823847</td>\n      <td>33.30322441283756</td>\n      <td>126.17941155823847_33.30322441283756</td>\n      <td>https://dapi.kakao.com/v2/local/geo/coord2regi...</td>\n    </tr>\n  </tbody>\n</table>\n</div>"
     },
     "metadata": {},
     "execution_count": 42
    }
   ],
   "source": [
    "# url 생성\n",
    "\n",
    "df_uniq['url1'] = 'https://dapi.kakao.com/v2/local/geo/coord2regioncode.json?x=' + df_uniq['lon']\n",
    "df_uniq['url2'] = '&y=' + df_uniq['lat']\n",
    "df_uniq['url'] = df_uniq['url1'] + df_uniq['url2']\n",
    "\n",
    "\n",
    "df_uniq.drop(columns=['url1','url2'],axis=1,inplace=True)\n",
    "df_uniq = df_uniq.reset_index()\n",
    "df_uniq.head(5)"
   ]
  },
  {
   "cell_type": "code",
   "execution_count": 43,
   "metadata": {},
   "outputs": [
    {
     "output_type": "stream",
     "name": "stdout",
     "text": [
      "converted point to addr\n"
     ]
    }
   ],
   "source": [
    "# 4. API를 통해 주소 가져오기 \n",
    "\n",
    "import requests\n",
    "import json\n",
    "\n",
    "dong_ls = []\n",
    "\n",
    "for i in range(len(df_uniq.index)):\n",
    "    url = df_uniq['url'][i]\n",
    "    headers = {\"Authorization\": \"KakaoAK 9c01f59434bc3920843d9dd0279e6e6c\"}\n",
    "    api_test = requests.get(url, headers=headers)\n",
    "    url_text = json.loads(api_test.text)\n",
    "    dong = url_text['documents'][0]['region_3depth_name']\n",
    "    dong_ls.append(dong)\n",
    "print('converted point to addr')"
   ]
  },
  {
   "cell_type": "code",
   "execution_count": 44,
   "metadata": {},
   "outputs": [
    {
     "output_type": "execute_result",
     "data": {
      "text/plain": [
       "      dong\n",
       "13995  남원읍\n",
       "13996  성산읍\n",
       "13997  구좌읍"
      ],
      "text/html": "<div>\n<style scoped>\n    .dataframe tbody tr th:only-of-type {\n        vertical-align: middle;\n    }\n\n    .dataframe tbody tr th {\n        vertical-align: top;\n    }\n\n    .dataframe thead th {\n        text-align: right;\n    }\n</style>\n<table border=\"1\" class=\"dataframe\">\n  <thead>\n    <tr style=\"text-align: right;\">\n      <th></th>\n      <th>dong</th>\n    </tr>\n  </thead>\n  <tbody>\n    <tr>\n      <th>13995</th>\n      <td>남원읍</td>\n    </tr>\n    <tr>\n      <th>13996</th>\n      <td>성산읍</td>\n    </tr>\n    <tr>\n      <th>13997</th>\n      <td>구좌읍</td>\n    </tr>\n  </tbody>\n</table>\n</div>"
     },
     "metadata": {},
     "execution_count": 44
    }
   ],
   "source": [
    "# 가져온 주소값 df 변환 \n",
    "dic = {'dong':dong_ls}\n",
    "df_dong = pd.DataFrame(dic)\n",
    "df_dong.tail(3)"
   ]
  },
  {
   "cell_type": "code",
   "execution_count": 45,
   "metadata": {},
   "outputs": [
    {
     "output_type": "execute_result",
     "data": {
      "text/plain": [
       "        index  OBJECTID  Field1      YM     SIDO SIGUNGU FranClass       Type  \\\n",
       "0           0         1       1  202008  제주특별자치도     제주시        영세       일반한식   \n",
       "1           1         2       2  202008  제주특별자치도     제주시        영세       단란주점   \n",
       "2           2         3       3  202008  제주특별자치도     제주시       중소1        편의점   \n",
       "3           3         4       4  202008  제주특별자치도     제주시        영세        편의점   \n",
       "4           4         5       5  202008  제주특별자치도     제주시        영세         주점   \n",
       "...       ...       ...     ...     ...      ...     ...       ...        ...   \n",
       "13993  275531    275532  275532  202008  제주특별자치도     제주시        영세       보습학원   \n",
       "13994  275663    275664  275664  202008  제주특별자치도     제주시        영세  학원(회원제형태)   \n",
       "13995  278934    278935  278935  202008  제주특별자치도    서귀포시        영세      예체능학원   \n",
       "13996  279537    279538  279538  202008  제주특별자치도    서귀포시        영세       기타가구   \n",
       "13997  279784    279785  279785  202008  제주특별자치도     제주시        영세      기타숙박업   \n",
       "\n",
       "      Time  TotalSpent  DisSpent  NumofSpent  NumofDisSpent      POINT_X  \\\n",
       "0      00시      249500         0           7              0  877005.9834   \n",
       "1      00시     2010000         0           7              0  877005.7447   \n",
       "2      00시      401210         0          41              0  877056.6756   \n",
       "3      00시       12250         0           1              0  877055.9593   \n",
       "4      00시       33000         0           1              0  877055.4817   \n",
       "...    ...         ...       ...         ...            ...          ...   \n",
       "13993   x시      200000         0           1              0  910239.7342   \n",
       "13994   x시      220000         0           1              0  910390.6274   \n",
       "13995   x시      110000         0           1              0  921003.9820   \n",
       "13996   x시       50000         0           1              0  937500.1674   \n",
       "13997   x시       17470         0           2              0  941114.0531   \n",
       "\n",
       "            POINT_Y                 lon                 lat  \\\n",
       "0      1.479766e+06  126.17889362710162   33.30231529076243   \n",
       "1      1.479816e+06  126.17888426813494  33.302765922881875   \n",
       "2      1.479616e+06  126.17945834265305   33.30097125427593   \n",
       "3      1.479766e+06  126.17943027296923   33.30232314934195   \n",
       "4      1.479866e+06  126.17941155823847   33.30322441283756   \n",
       "...             ...                 ...                 ...   \n",
       "13993  1.500966e+06  126.53369851534627   33.49678916515772   \n",
       "13994  1.500767e+06    126.535342658025    33.4950054416331   \n",
       "13995  1.476178e+06  126.65174159048293   33.27407883370635   \n",
       "13996  1.486053e+06  126.82818252032293   33.36422597166203   \n",
       "13997  1.503713e+06  126.86586853032782   33.52371304945294   \n",
       "\n",
       "                                     lon_lat  \\\n",
       "0       126.17889362710162_33.30231529076243   \n",
       "1      126.17888426813494_33.302765922881875   \n",
       "2       126.17945834265305_33.30097125427593   \n",
       "3       126.17943027296923_33.30232314934195   \n",
       "4       126.17941155823847_33.30322441283756   \n",
       "...                                      ...   \n",
       "13993   126.53369851534627_33.49678916515772   \n",
       "13994      126.535342658025_33.4950054416331   \n",
       "13995   126.65174159048293_33.27407883370635   \n",
       "13996   126.82818252032293_33.36422597166203   \n",
       "13997   126.86586853032782_33.52371304945294   \n",
       "\n",
       "                                                     url  dong  \n",
       "0      https://dapi.kakao.com/v2/local/geo/coord2regi...   한경면  \n",
       "1      https://dapi.kakao.com/v2/local/geo/coord2regi...   한경면  \n",
       "2      https://dapi.kakao.com/v2/local/geo/coord2regi...   한경면  \n",
       "3      https://dapi.kakao.com/v2/local/geo/coord2regi...   한경면  \n",
       "4      https://dapi.kakao.com/v2/local/geo/coord2regi...   한경면  \n",
       "...                                                  ...   ...  \n",
       "13993  https://dapi.kakao.com/v2/local/geo/coord2regi...  이도이동  \n",
       "13994  https://dapi.kakao.com/v2/local/geo/coord2regi...  이도이동  \n",
       "13995  https://dapi.kakao.com/v2/local/geo/coord2regi...   남원읍  \n",
       "13996  https://dapi.kakao.com/v2/local/geo/coord2regi...   성산읍  \n",
       "13997  https://dapi.kakao.com/v2/local/geo/coord2regi...   구좌읍  \n",
       "\n",
       "[13998 rows x 20 columns]"
      ],
      "text/html": "<div>\n<style scoped>\n    .dataframe tbody tr th:only-of-type {\n        vertical-align: middle;\n    }\n\n    .dataframe tbody tr th {\n        vertical-align: top;\n    }\n\n    .dataframe thead th {\n        text-align: right;\n    }\n</style>\n<table border=\"1\" class=\"dataframe\">\n  <thead>\n    <tr style=\"text-align: right;\">\n      <th></th>\n      <th>index</th>\n      <th>OBJECTID</th>\n      <th>Field1</th>\n      <th>YM</th>\n      <th>SIDO</th>\n      <th>SIGUNGU</th>\n      <th>FranClass</th>\n      <th>Type</th>\n      <th>Time</th>\n      <th>TotalSpent</th>\n      <th>DisSpent</th>\n      <th>NumofSpent</th>\n      <th>NumofDisSpent</th>\n      <th>POINT_X</th>\n      <th>POINT_Y</th>\n      <th>lon</th>\n      <th>lat</th>\n      <th>lon_lat</th>\n      <th>url</th>\n      <th>dong</th>\n    </tr>\n  </thead>\n  <tbody>\n    <tr>\n      <th>0</th>\n      <td>0</td>\n      <td>1</td>\n      <td>1</td>\n      <td>202008</td>\n      <td>제주특별자치도</td>\n      <td>제주시</td>\n      <td>영세</td>\n      <td>일반한식</td>\n      <td>00시</td>\n      <td>249500</td>\n      <td>0</td>\n      <td>7</td>\n      <td>0</td>\n      <td>877005.9834</td>\n      <td>1.479766e+06</td>\n      <td>126.17889362710162</td>\n      <td>33.30231529076243</td>\n      <td>126.17889362710162_33.30231529076243</td>\n      <td>https://dapi.kakao.com/v2/local/geo/coord2regi...</td>\n      <td>한경면</td>\n    </tr>\n    <tr>\n      <th>1</th>\n      <td>1</td>\n      <td>2</td>\n      <td>2</td>\n      <td>202008</td>\n      <td>제주특별자치도</td>\n      <td>제주시</td>\n      <td>영세</td>\n      <td>단란주점</td>\n      <td>00시</td>\n      <td>2010000</td>\n      <td>0</td>\n      <td>7</td>\n      <td>0</td>\n      <td>877005.7447</td>\n      <td>1.479816e+06</td>\n      <td>126.17888426813494</td>\n      <td>33.302765922881875</td>\n      <td>126.17888426813494_33.302765922881875</td>\n      <td>https://dapi.kakao.com/v2/local/geo/coord2regi...</td>\n      <td>한경면</td>\n    </tr>\n    <tr>\n      <th>2</th>\n      <td>2</td>\n      <td>3</td>\n      <td>3</td>\n      <td>202008</td>\n      <td>제주특별자치도</td>\n      <td>제주시</td>\n      <td>중소1</td>\n      <td>편의점</td>\n      <td>00시</td>\n      <td>401210</td>\n      <td>0</td>\n      <td>41</td>\n      <td>0</td>\n      <td>877056.6756</td>\n      <td>1.479616e+06</td>\n      <td>126.17945834265305</td>\n      <td>33.30097125427593</td>\n      <td>126.17945834265305_33.30097125427593</td>\n      <td>https://dapi.kakao.com/v2/local/geo/coord2regi...</td>\n      <td>한경면</td>\n    </tr>\n    <tr>\n      <th>3</th>\n      <td>3</td>\n      <td>4</td>\n      <td>4</td>\n      <td>202008</td>\n      <td>제주특별자치도</td>\n      <td>제주시</td>\n      <td>영세</td>\n      <td>편의점</td>\n      <td>00시</td>\n      <td>12250</td>\n      <td>0</td>\n      <td>1</td>\n      <td>0</td>\n      <td>877055.9593</td>\n      <td>1.479766e+06</td>\n      <td>126.17943027296923</td>\n      <td>33.30232314934195</td>\n      <td>126.17943027296923_33.30232314934195</td>\n      <td>https://dapi.kakao.com/v2/local/geo/coord2regi...</td>\n      <td>한경면</td>\n    </tr>\n    <tr>\n      <th>4</th>\n      <td>4</td>\n      <td>5</td>\n      <td>5</td>\n      <td>202008</td>\n      <td>제주특별자치도</td>\n      <td>제주시</td>\n      <td>영세</td>\n      <td>주점</td>\n      <td>00시</td>\n      <td>33000</td>\n      <td>0</td>\n      <td>1</td>\n      <td>0</td>\n      <td>877055.4817</td>\n      <td>1.479866e+06</td>\n      <td>126.17941155823847</td>\n      <td>33.30322441283756</td>\n      <td>126.17941155823847_33.30322441283756</td>\n      <td>https://dapi.kakao.com/v2/local/geo/coord2regi...</td>\n      <td>한경면</td>\n    </tr>\n    <tr>\n      <th>...</th>\n      <td>...</td>\n      <td>...</td>\n      <td>...</td>\n      <td>...</td>\n      <td>...</td>\n      <td>...</td>\n      <td>...</td>\n      <td>...</td>\n      <td>...</td>\n      <td>...</td>\n      <td>...</td>\n      <td>...</td>\n      <td>...</td>\n      <td>...</td>\n      <td>...</td>\n      <td>...</td>\n      <td>...</td>\n      <td>...</td>\n      <td>...</td>\n      <td>...</td>\n    </tr>\n    <tr>\n      <th>13993</th>\n      <td>275531</td>\n      <td>275532</td>\n      <td>275532</td>\n      <td>202008</td>\n      <td>제주특별자치도</td>\n      <td>제주시</td>\n      <td>영세</td>\n      <td>보습학원</td>\n      <td>x시</td>\n      <td>200000</td>\n      <td>0</td>\n      <td>1</td>\n      <td>0</td>\n      <td>910239.7342</td>\n      <td>1.500966e+06</td>\n      <td>126.53369851534627</td>\n      <td>33.49678916515772</td>\n      <td>126.53369851534627_33.49678916515772</td>\n      <td>https://dapi.kakao.com/v2/local/geo/coord2regi...</td>\n      <td>이도이동</td>\n    </tr>\n    <tr>\n      <th>13994</th>\n      <td>275663</td>\n      <td>275664</td>\n      <td>275664</td>\n      <td>202008</td>\n      <td>제주특별자치도</td>\n      <td>제주시</td>\n      <td>영세</td>\n      <td>학원(회원제형태)</td>\n      <td>x시</td>\n      <td>220000</td>\n      <td>0</td>\n      <td>1</td>\n      <td>0</td>\n      <td>910390.6274</td>\n      <td>1.500767e+06</td>\n      <td>126.535342658025</td>\n      <td>33.4950054416331</td>\n      <td>126.535342658025_33.4950054416331</td>\n      <td>https://dapi.kakao.com/v2/local/geo/coord2regi...</td>\n      <td>이도이동</td>\n    </tr>\n    <tr>\n      <th>13995</th>\n      <td>278934</td>\n      <td>278935</td>\n      <td>278935</td>\n      <td>202008</td>\n      <td>제주특별자치도</td>\n      <td>서귀포시</td>\n      <td>영세</td>\n      <td>예체능학원</td>\n      <td>x시</td>\n      <td>110000</td>\n      <td>0</td>\n      <td>1</td>\n      <td>0</td>\n      <td>921003.9820</td>\n      <td>1.476178e+06</td>\n      <td>126.65174159048293</td>\n      <td>33.27407883370635</td>\n      <td>126.65174159048293_33.27407883370635</td>\n      <td>https://dapi.kakao.com/v2/local/geo/coord2regi...</td>\n      <td>남원읍</td>\n    </tr>\n    <tr>\n      <th>13996</th>\n      <td>279537</td>\n      <td>279538</td>\n      <td>279538</td>\n      <td>202008</td>\n      <td>제주특별자치도</td>\n      <td>서귀포시</td>\n      <td>영세</td>\n      <td>기타가구</td>\n      <td>x시</td>\n      <td>50000</td>\n      <td>0</td>\n      <td>1</td>\n      <td>0</td>\n      <td>937500.1674</td>\n      <td>1.486053e+06</td>\n      <td>126.82818252032293</td>\n      <td>33.36422597166203</td>\n      <td>126.82818252032293_33.36422597166203</td>\n      <td>https://dapi.kakao.com/v2/local/geo/coord2regi...</td>\n      <td>성산읍</td>\n    </tr>\n    <tr>\n      <th>13997</th>\n      <td>279784</td>\n      <td>279785</td>\n      <td>279785</td>\n      <td>202008</td>\n      <td>제주특별자치도</td>\n      <td>제주시</td>\n      <td>영세</td>\n      <td>기타숙박업</td>\n      <td>x시</td>\n      <td>17470</td>\n      <td>0</td>\n      <td>2</td>\n      <td>0</td>\n      <td>941114.0531</td>\n      <td>1.503713e+06</td>\n      <td>126.86586853032782</td>\n      <td>33.52371304945294</td>\n      <td>126.86586853032782_33.52371304945294</td>\n      <td>https://dapi.kakao.com/v2/local/geo/coord2regi...</td>\n      <td>구좌읍</td>\n    </tr>\n  </tbody>\n</table>\n<p>13998 rows × 20 columns</p>\n</div>"
     },
     "metadata": {},
     "execution_count": 45
    }
   ],
   "source": [
    "# 5. df 와 merge \n",
    "df_join = df_uniq.join(df_dong)\n",
    "df_join"
   ]
  },
  {
   "cell_type": "code",
   "execution_count": 46,
   "metadata": {},
   "outputs": [
    {
     "output_type": "execute_result",
     "data": {
      "text/plain": [
       "                                    lon_lat dong\n",
       "13995  126.65174159048293_33.27407883370635  남원읍\n",
       "13996  126.82818252032293_33.36422597166203  성산읍\n",
       "13997  126.86586853032782_33.52371304945294  구좌읍"
      ],
      "text/html": "<div>\n<style scoped>\n    .dataframe tbody tr th:only-of-type {\n        vertical-align: middle;\n    }\n\n    .dataframe tbody tr th {\n        vertical-align: top;\n    }\n\n    .dataframe thead th {\n        text-align: right;\n    }\n</style>\n<table border=\"1\" class=\"dataframe\">\n  <thead>\n    <tr style=\"text-align: right;\">\n      <th></th>\n      <th>lon_lat</th>\n      <th>dong</th>\n    </tr>\n  </thead>\n  <tbody>\n    <tr>\n      <th>13995</th>\n      <td>126.65174159048293_33.27407883370635</td>\n      <td>남원읍</td>\n    </tr>\n    <tr>\n      <th>13996</th>\n      <td>126.82818252032293_33.36422597166203</td>\n      <td>성산읍</td>\n    </tr>\n    <tr>\n      <th>13997</th>\n      <td>126.86586853032782_33.52371304945294</td>\n      <td>구좌읍</td>\n    </tr>\n  </tbody>\n</table>\n</div>"
     },
     "metadata": {},
     "execution_count": 46
    }
   ],
   "source": [
    "# 변환된 주소값을 원본 데이터와 합치기 \n",
    "\n",
    "df_addr = df_join[['lon_lat','dong']]\n",
    "df_addr.tail(3)"
   ]
  },
  {
   "cell_type": "code",
   "execution_count": 47,
   "metadata": {},
   "outputs": [
    {
     "output_type": "execute_result",
     "data": {
      "text/plain": [
       "        OBJECTID  Field1      YM     SIDO SIGUNGU FranClass       Type Time  \\\n",
       "0              1       1  202008  제주특별자치도     제주시        영세       일반한식  00시   \n",
       "1           5095    5095  202008  제주특별자치도     제주시        영세       일반한식  01시   \n",
       "2           8991    8991  202008  제주특별자치도     제주시        영세       일반한식  02시   \n",
       "3          20047   20047  202008  제주특별자치도     제주시        영세        한의원  07시   \n",
       "4          24415   24415  202008  제주특별자치도     제주시        영세         의원  08시   \n",
       "...          ...     ...     ...      ...     ...       ...        ...  ...   \n",
       "280080    275532  275532  202008  제주특별자치도     제주시        영세       보습학원   x시   \n",
       "280081    275664  275664  202008  제주특별자치도     제주시        영세  학원(회원제형태)   x시   \n",
       "280082    278935  278935  202008  제주특별자치도    서귀포시        영세      예체능학원   x시   \n",
       "280083    279538  279538  202008  제주특별자치도    서귀포시        영세       기타가구   x시   \n",
       "280084    279785  279785  202008  제주특별자치도     제주시        영세      기타숙박업   x시   \n",
       "\n",
       "        TotalSpent  DisSpent  NumofSpent  NumofDisSpent      POINT_X  \\\n",
       "0           249500         0           7              0  877005.9834   \n",
       "1           109000         0           4              0  877005.9834   \n",
       "2            13500         0           1              0  877005.9834   \n",
       "3             2400         0           1              0  877005.9834   \n",
       "4            18400         0           2              0  877005.9834   \n",
       "...            ...       ...         ...            ...          ...   \n",
       "280080      200000         0           1              0  910239.7342   \n",
       "280081      220000         0           1              0  910390.6274   \n",
       "280082      110000         0           1              0  921003.9820   \n",
       "280083       50000         0           1              0  937500.1674   \n",
       "280084       17470         0           2              0  941114.0531   \n",
       "\n",
       "             POINT_Y                 lon                lat  \\\n",
       "0       1.479766e+06  126.17889362710162  33.30231529076243   \n",
       "1       1.479766e+06  126.17889362710162  33.30231529076243   \n",
       "2       1.479766e+06  126.17889362710162  33.30231529076243   \n",
       "3       1.479766e+06  126.17889362710162  33.30231529076243   \n",
       "4       1.479766e+06  126.17889362710162  33.30231529076243   \n",
       "...              ...                 ...                ...   \n",
       "280080  1.500966e+06  126.53369851534627  33.49678916515772   \n",
       "280081  1.500767e+06    126.535342658025   33.4950054416331   \n",
       "280082  1.476178e+06  126.65174159048293  33.27407883370635   \n",
       "280083  1.486053e+06  126.82818252032293  33.36422597166203   \n",
       "280084  1.503713e+06  126.86586853032782  33.52371304945294   \n",
       "\n",
       "                                     lon_lat  dong  \n",
       "0       126.17889362710162_33.30231529076243   한경면  \n",
       "1       126.17889362710162_33.30231529076243   한경면  \n",
       "2       126.17889362710162_33.30231529076243   한경면  \n",
       "3       126.17889362710162_33.30231529076243   한경면  \n",
       "4       126.17889362710162_33.30231529076243   한경면  \n",
       "...                                      ...   ...  \n",
       "280080  126.53369851534627_33.49678916515772  이도이동  \n",
       "280081     126.535342658025_33.4950054416331  이도이동  \n",
       "280082  126.65174159048293_33.27407883370635   남원읍  \n",
       "280083  126.82818252032293_33.36422597166203   성산읍  \n",
       "280084  126.86586853032782_33.52371304945294   구좌읍  \n",
       "\n",
       "[280085 rows x 18 columns]"
      ],
      "text/html": "<div>\n<style scoped>\n    .dataframe tbody tr th:only-of-type {\n        vertical-align: middle;\n    }\n\n    .dataframe tbody tr th {\n        vertical-align: top;\n    }\n\n    .dataframe thead th {\n        text-align: right;\n    }\n</style>\n<table border=\"1\" class=\"dataframe\">\n  <thead>\n    <tr style=\"text-align: right;\">\n      <th></th>\n      <th>OBJECTID</th>\n      <th>Field1</th>\n      <th>YM</th>\n      <th>SIDO</th>\n      <th>SIGUNGU</th>\n      <th>FranClass</th>\n      <th>Type</th>\n      <th>Time</th>\n      <th>TotalSpent</th>\n      <th>DisSpent</th>\n      <th>NumofSpent</th>\n      <th>NumofDisSpent</th>\n      <th>POINT_X</th>\n      <th>POINT_Y</th>\n      <th>lon</th>\n      <th>lat</th>\n      <th>lon_lat</th>\n      <th>dong</th>\n    </tr>\n  </thead>\n  <tbody>\n    <tr>\n      <th>0</th>\n      <td>1</td>\n      <td>1</td>\n      <td>202008</td>\n      <td>제주특별자치도</td>\n      <td>제주시</td>\n      <td>영세</td>\n      <td>일반한식</td>\n      <td>00시</td>\n      <td>249500</td>\n      <td>0</td>\n      <td>7</td>\n      <td>0</td>\n      <td>877005.9834</td>\n      <td>1.479766e+06</td>\n      <td>126.17889362710162</td>\n      <td>33.30231529076243</td>\n      <td>126.17889362710162_33.30231529076243</td>\n      <td>한경면</td>\n    </tr>\n    <tr>\n      <th>1</th>\n      <td>5095</td>\n      <td>5095</td>\n      <td>202008</td>\n      <td>제주특별자치도</td>\n      <td>제주시</td>\n      <td>영세</td>\n      <td>일반한식</td>\n      <td>01시</td>\n      <td>109000</td>\n      <td>0</td>\n      <td>4</td>\n      <td>0</td>\n      <td>877005.9834</td>\n      <td>1.479766e+06</td>\n      <td>126.17889362710162</td>\n      <td>33.30231529076243</td>\n      <td>126.17889362710162_33.30231529076243</td>\n      <td>한경면</td>\n    </tr>\n    <tr>\n      <th>2</th>\n      <td>8991</td>\n      <td>8991</td>\n      <td>202008</td>\n      <td>제주특별자치도</td>\n      <td>제주시</td>\n      <td>영세</td>\n      <td>일반한식</td>\n      <td>02시</td>\n      <td>13500</td>\n      <td>0</td>\n      <td>1</td>\n      <td>0</td>\n      <td>877005.9834</td>\n      <td>1.479766e+06</td>\n      <td>126.17889362710162</td>\n      <td>33.30231529076243</td>\n      <td>126.17889362710162_33.30231529076243</td>\n      <td>한경면</td>\n    </tr>\n    <tr>\n      <th>3</th>\n      <td>20047</td>\n      <td>20047</td>\n      <td>202008</td>\n      <td>제주특별자치도</td>\n      <td>제주시</td>\n      <td>영세</td>\n      <td>한의원</td>\n      <td>07시</td>\n      <td>2400</td>\n      <td>0</td>\n      <td>1</td>\n      <td>0</td>\n      <td>877005.9834</td>\n      <td>1.479766e+06</td>\n      <td>126.17889362710162</td>\n      <td>33.30231529076243</td>\n      <td>126.17889362710162_33.30231529076243</td>\n      <td>한경면</td>\n    </tr>\n    <tr>\n      <th>4</th>\n      <td>24415</td>\n      <td>24415</td>\n      <td>202008</td>\n      <td>제주특별자치도</td>\n      <td>제주시</td>\n      <td>영세</td>\n      <td>의원</td>\n      <td>08시</td>\n      <td>18400</td>\n      <td>0</td>\n      <td>2</td>\n      <td>0</td>\n      <td>877005.9834</td>\n      <td>1.479766e+06</td>\n      <td>126.17889362710162</td>\n      <td>33.30231529076243</td>\n      <td>126.17889362710162_33.30231529076243</td>\n      <td>한경면</td>\n    </tr>\n    <tr>\n      <th>...</th>\n      <td>...</td>\n      <td>...</td>\n      <td>...</td>\n      <td>...</td>\n      <td>...</td>\n      <td>...</td>\n      <td>...</td>\n      <td>...</td>\n      <td>...</td>\n      <td>...</td>\n      <td>...</td>\n      <td>...</td>\n      <td>...</td>\n      <td>...</td>\n      <td>...</td>\n      <td>...</td>\n      <td>...</td>\n      <td>...</td>\n    </tr>\n    <tr>\n      <th>280080</th>\n      <td>275532</td>\n      <td>275532</td>\n      <td>202008</td>\n      <td>제주특별자치도</td>\n      <td>제주시</td>\n      <td>영세</td>\n      <td>보습학원</td>\n      <td>x시</td>\n      <td>200000</td>\n      <td>0</td>\n      <td>1</td>\n      <td>0</td>\n      <td>910239.7342</td>\n      <td>1.500966e+06</td>\n      <td>126.53369851534627</td>\n      <td>33.49678916515772</td>\n      <td>126.53369851534627_33.49678916515772</td>\n      <td>이도이동</td>\n    </tr>\n    <tr>\n      <th>280081</th>\n      <td>275664</td>\n      <td>275664</td>\n      <td>202008</td>\n      <td>제주특별자치도</td>\n      <td>제주시</td>\n      <td>영세</td>\n      <td>학원(회원제형태)</td>\n      <td>x시</td>\n      <td>220000</td>\n      <td>0</td>\n      <td>1</td>\n      <td>0</td>\n      <td>910390.6274</td>\n      <td>1.500767e+06</td>\n      <td>126.535342658025</td>\n      <td>33.4950054416331</td>\n      <td>126.535342658025_33.4950054416331</td>\n      <td>이도이동</td>\n    </tr>\n    <tr>\n      <th>280082</th>\n      <td>278935</td>\n      <td>278935</td>\n      <td>202008</td>\n      <td>제주특별자치도</td>\n      <td>서귀포시</td>\n      <td>영세</td>\n      <td>예체능학원</td>\n      <td>x시</td>\n      <td>110000</td>\n      <td>0</td>\n      <td>1</td>\n      <td>0</td>\n      <td>921003.9820</td>\n      <td>1.476178e+06</td>\n      <td>126.65174159048293</td>\n      <td>33.27407883370635</td>\n      <td>126.65174159048293_33.27407883370635</td>\n      <td>남원읍</td>\n    </tr>\n    <tr>\n      <th>280083</th>\n      <td>279538</td>\n      <td>279538</td>\n      <td>202008</td>\n      <td>제주특별자치도</td>\n      <td>서귀포시</td>\n      <td>영세</td>\n      <td>기타가구</td>\n      <td>x시</td>\n      <td>50000</td>\n      <td>0</td>\n      <td>1</td>\n      <td>0</td>\n      <td>937500.1674</td>\n      <td>1.486053e+06</td>\n      <td>126.82818252032293</td>\n      <td>33.36422597166203</td>\n      <td>126.82818252032293_33.36422597166203</td>\n      <td>성산읍</td>\n    </tr>\n    <tr>\n      <th>280084</th>\n      <td>279785</td>\n      <td>279785</td>\n      <td>202008</td>\n      <td>제주특별자치도</td>\n      <td>제주시</td>\n      <td>영세</td>\n      <td>기타숙박업</td>\n      <td>x시</td>\n      <td>17470</td>\n      <td>0</td>\n      <td>2</td>\n      <td>0</td>\n      <td>941114.0531</td>\n      <td>1.503713e+06</td>\n      <td>126.86586853032782</td>\n      <td>33.52371304945294</td>\n      <td>126.86586853032782_33.52371304945294</td>\n      <td>구좌읍</td>\n    </tr>\n  </tbody>\n</table>\n<p>280085 rows × 18 columns</p>\n</div>"
     },
     "metadata": {},
     "execution_count": 47
    }
   ],
   "source": [
    "df_final = pd.merge(df_8, df_addr, on='lon_lat')\n",
    "df_final"
   ]
  },
  {
   "cell_type": "code",
   "execution_count": 48,
   "metadata": {},
   "outputs": [],
   "source": [
    "# # 피클로 저장하기 \n",
    "\n",
    "# import pickle\n",
    "# with open('jeju_uniq_data8.pickle', 'wb') as fw:\n",
    "#     pickle.dump(df_final, fw)\n"
   ]
  },
  {
   "cell_type": "code",
   "execution_count": 49,
   "metadata": {},
   "outputs": [
    {
     "output_type": "execute_result",
     "data": {
      "text/plain": [
       "        OBJECTID  Field1      YM     SIDO SIGUNGU FranClass       Type Time  \\\n",
       "0              1       1  202008  제주특별자치도     제주시        영세       일반한식  00시   \n",
       "1           5095    5095  202008  제주특별자치도     제주시        영세       일반한식  01시   \n",
       "2           8991    8991  202008  제주특별자치도     제주시        영세       일반한식  02시   \n",
       "3          20047   20047  202008  제주특별자치도     제주시        영세        한의원  07시   \n",
       "4          24415   24415  202008  제주특별자치도     제주시        영세         의원  08시   \n",
       "...          ...     ...     ...      ...     ...       ...        ...  ...   \n",
       "280080    275532  275532  202008  제주특별자치도     제주시        영세       보습학원   x시   \n",
       "280081    275664  275664  202008  제주특별자치도     제주시        영세  학원(회원제형태)   x시   \n",
       "280082    278935  278935  202008  제주특별자치도    서귀포시        영세      예체능학원   x시   \n",
       "280083    279538  279538  202008  제주특별자치도    서귀포시        영세       기타가구   x시   \n",
       "280084    279785  279785  202008  제주특별자치도     제주시        영세      기타숙박업   x시   \n",
       "\n",
       "        TotalSpent  DisSpent  NumofSpent  NumofDisSpent      POINT_X  \\\n",
       "0           249500         0           7              0  877005.9834   \n",
       "1           109000         0           4              0  877005.9834   \n",
       "2            13500         0           1              0  877005.9834   \n",
       "3             2400         0           1              0  877005.9834   \n",
       "4            18400         0           2              0  877005.9834   \n",
       "...            ...       ...         ...            ...          ...   \n",
       "280080      200000         0           1              0  910239.7342   \n",
       "280081      220000         0           1              0  910390.6274   \n",
       "280082      110000         0           1              0  921003.9820   \n",
       "280083       50000         0           1              0  937500.1674   \n",
       "280084       17470         0           2              0  941114.0531   \n",
       "\n",
       "             POINT_Y                 lon                lat  \\\n",
       "0       1.479766e+06  126.17889362710162  33.30231529076243   \n",
       "1       1.479766e+06  126.17889362710162  33.30231529076243   \n",
       "2       1.479766e+06  126.17889362710162  33.30231529076243   \n",
       "3       1.479766e+06  126.17889362710162  33.30231529076243   \n",
       "4       1.479766e+06  126.17889362710162  33.30231529076243   \n",
       "...              ...                 ...                ...   \n",
       "280080  1.500966e+06  126.53369851534627  33.49678916515772   \n",
       "280081  1.500767e+06    126.535342658025   33.4950054416331   \n",
       "280082  1.476178e+06  126.65174159048293  33.27407883370635   \n",
       "280083  1.486053e+06  126.82818252032293  33.36422597166203   \n",
       "280084  1.503713e+06  126.86586853032782  33.52371304945294   \n",
       "\n",
       "                                     lon_lat  dong  \n",
       "0       126.17889362710162_33.30231529076243   한경면  \n",
       "1       126.17889362710162_33.30231529076243   한경면  \n",
       "2       126.17889362710162_33.30231529076243   한경면  \n",
       "3       126.17889362710162_33.30231529076243   한경면  \n",
       "4       126.17889362710162_33.30231529076243   한경면  \n",
       "...                                      ...   ...  \n",
       "280080  126.53369851534627_33.49678916515772  이도이동  \n",
       "280081     126.535342658025_33.4950054416331  이도이동  \n",
       "280082  126.65174159048293_33.27407883370635   남원읍  \n",
       "280083  126.82818252032293_33.36422597166203   성산읍  \n",
       "280084  126.86586853032782_33.52371304945294   구좌읍  \n",
       "\n",
       "[280085 rows x 18 columns]"
      ],
      "text/html": "<div>\n<style scoped>\n    .dataframe tbody tr th:only-of-type {\n        vertical-align: middle;\n    }\n\n    .dataframe tbody tr th {\n        vertical-align: top;\n    }\n\n    .dataframe thead th {\n        text-align: right;\n    }\n</style>\n<table border=\"1\" class=\"dataframe\">\n  <thead>\n    <tr style=\"text-align: right;\">\n      <th></th>\n      <th>OBJECTID</th>\n      <th>Field1</th>\n      <th>YM</th>\n      <th>SIDO</th>\n      <th>SIGUNGU</th>\n      <th>FranClass</th>\n      <th>Type</th>\n      <th>Time</th>\n      <th>TotalSpent</th>\n      <th>DisSpent</th>\n      <th>NumofSpent</th>\n      <th>NumofDisSpent</th>\n      <th>POINT_X</th>\n      <th>POINT_Y</th>\n      <th>lon</th>\n      <th>lat</th>\n      <th>lon_lat</th>\n      <th>dong</th>\n    </tr>\n  </thead>\n  <tbody>\n    <tr>\n      <th>0</th>\n      <td>1</td>\n      <td>1</td>\n      <td>202008</td>\n      <td>제주특별자치도</td>\n      <td>제주시</td>\n      <td>영세</td>\n      <td>일반한식</td>\n      <td>00시</td>\n      <td>249500</td>\n      <td>0</td>\n      <td>7</td>\n      <td>0</td>\n      <td>877005.9834</td>\n      <td>1.479766e+06</td>\n      <td>126.17889362710162</td>\n      <td>33.30231529076243</td>\n      <td>126.17889362710162_33.30231529076243</td>\n      <td>한경면</td>\n    </tr>\n    <tr>\n      <th>1</th>\n      <td>5095</td>\n      <td>5095</td>\n      <td>202008</td>\n      <td>제주특별자치도</td>\n      <td>제주시</td>\n      <td>영세</td>\n      <td>일반한식</td>\n      <td>01시</td>\n      <td>109000</td>\n      <td>0</td>\n      <td>4</td>\n      <td>0</td>\n      <td>877005.9834</td>\n      <td>1.479766e+06</td>\n      <td>126.17889362710162</td>\n      <td>33.30231529076243</td>\n      <td>126.17889362710162_33.30231529076243</td>\n      <td>한경면</td>\n    </tr>\n    <tr>\n      <th>2</th>\n      <td>8991</td>\n      <td>8991</td>\n      <td>202008</td>\n      <td>제주특별자치도</td>\n      <td>제주시</td>\n      <td>영세</td>\n      <td>일반한식</td>\n      <td>02시</td>\n      <td>13500</td>\n      <td>0</td>\n      <td>1</td>\n      <td>0</td>\n      <td>877005.9834</td>\n      <td>1.479766e+06</td>\n      <td>126.17889362710162</td>\n      <td>33.30231529076243</td>\n      <td>126.17889362710162_33.30231529076243</td>\n      <td>한경면</td>\n    </tr>\n    <tr>\n      <th>3</th>\n      <td>20047</td>\n      <td>20047</td>\n      <td>202008</td>\n      <td>제주특별자치도</td>\n      <td>제주시</td>\n      <td>영세</td>\n      <td>한의원</td>\n      <td>07시</td>\n      <td>2400</td>\n      <td>0</td>\n      <td>1</td>\n      <td>0</td>\n      <td>877005.9834</td>\n      <td>1.479766e+06</td>\n      <td>126.17889362710162</td>\n      <td>33.30231529076243</td>\n      <td>126.17889362710162_33.30231529076243</td>\n      <td>한경면</td>\n    </tr>\n    <tr>\n      <th>4</th>\n      <td>24415</td>\n      <td>24415</td>\n      <td>202008</td>\n      <td>제주특별자치도</td>\n      <td>제주시</td>\n      <td>영세</td>\n      <td>의원</td>\n      <td>08시</td>\n      <td>18400</td>\n      <td>0</td>\n      <td>2</td>\n      <td>0</td>\n      <td>877005.9834</td>\n      <td>1.479766e+06</td>\n      <td>126.17889362710162</td>\n      <td>33.30231529076243</td>\n      <td>126.17889362710162_33.30231529076243</td>\n      <td>한경면</td>\n    </tr>\n    <tr>\n      <th>...</th>\n      <td>...</td>\n      <td>...</td>\n      <td>...</td>\n      <td>...</td>\n      <td>...</td>\n      <td>...</td>\n      <td>...</td>\n      <td>...</td>\n      <td>...</td>\n      <td>...</td>\n      <td>...</td>\n      <td>...</td>\n      <td>...</td>\n      <td>...</td>\n      <td>...</td>\n      <td>...</td>\n      <td>...</td>\n      <td>...</td>\n    </tr>\n    <tr>\n      <th>280080</th>\n      <td>275532</td>\n      <td>275532</td>\n      <td>202008</td>\n      <td>제주특별자치도</td>\n      <td>제주시</td>\n      <td>영세</td>\n      <td>보습학원</td>\n      <td>x시</td>\n      <td>200000</td>\n      <td>0</td>\n      <td>1</td>\n      <td>0</td>\n      <td>910239.7342</td>\n      <td>1.500966e+06</td>\n      <td>126.53369851534627</td>\n      <td>33.49678916515772</td>\n      <td>126.53369851534627_33.49678916515772</td>\n      <td>이도이동</td>\n    </tr>\n    <tr>\n      <th>280081</th>\n      <td>275664</td>\n      <td>275664</td>\n      <td>202008</td>\n      <td>제주특별자치도</td>\n      <td>제주시</td>\n      <td>영세</td>\n      <td>학원(회원제형태)</td>\n      <td>x시</td>\n      <td>220000</td>\n      <td>0</td>\n      <td>1</td>\n      <td>0</td>\n      <td>910390.6274</td>\n      <td>1.500767e+06</td>\n      <td>126.535342658025</td>\n      <td>33.4950054416331</td>\n      <td>126.535342658025_33.4950054416331</td>\n      <td>이도이동</td>\n    </tr>\n    <tr>\n      <th>280082</th>\n      <td>278935</td>\n      <td>278935</td>\n      <td>202008</td>\n      <td>제주특별자치도</td>\n      <td>서귀포시</td>\n      <td>영세</td>\n      <td>예체능학원</td>\n      <td>x시</td>\n      <td>110000</td>\n      <td>0</td>\n      <td>1</td>\n      <td>0</td>\n      <td>921003.9820</td>\n      <td>1.476178e+06</td>\n      <td>126.65174159048293</td>\n      <td>33.27407883370635</td>\n      <td>126.65174159048293_33.27407883370635</td>\n      <td>남원읍</td>\n    </tr>\n    <tr>\n      <th>280083</th>\n      <td>279538</td>\n      <td>279538</td>\n      <td>202008</td>\n      <td>제주특별자치도</td>\n      <td>서귀포시</td>\n      <td>영세</td>\n      <td>기타가구</td>\n      <td>x시</td>\n      <td>50000</td>\n      <td>0</td>\n      <td>1</td>\n      <td>0</td>\n      <td>937500.1674</td>\n      <td>1.486053e+06</td>\n      <td>126.82818252032293</td>\n      <td>33.36422597166203</td>\n      <td>126.82818252032293_33.36422597166203</td>\n      <td>성산읍</td>\n    </tr>\n    <tr>\n      <th>280084</th>\n      <td>279785</td>\n      <td>279785</td>\n      <td>202008</td>\n      <td>제주특별자치도</td>\n      <td>제주시</td>\n      <td>영세</td>\n      <td>기타숙박업</td>\n      <td>x시</td>\n      <td>17470</td>\n      <td>0</td>\n      <td>2</td>\n      <td>0</td>\n      <td>941114.0531</td>\n      <td>1.503713e+06</td>\n      <td>126.86586853032782</td>\n      <td>33.52371304945294</td>\n      <td>126.86586853032782_33.52371304945294</td>\n      <td>구좌읍</td>\n    </tr>\n  </tbody>\n</table>\n<p>280085 rows × 18 columns</p>\n</div>"
     },
     "metadata": {},
     "execution_count": 49
    }
   ],
   "source": [
    "import pickle\n",
    "with open('jeju_uniq_data8.pickle', 'rb') as fr:\n",
    "    df_pickle8 = pickle.load(fr)\n",
    "\n",
    "df_pickle8"
   ]
  },
  {
   "cell_type": "code",
   "execution_count": 50,
   "metadata": {},
   "outputs": [],
   "source": [
    "############# data_5월 ############## "
   ]
  },
  {
   "cell_type": "code",
   "execution_count": 51,
   "metadata": {},
   "outputs": [
    {
     "output_type": "execute_result",
     "data": {
      "text/plain": [
       "        OBJECTID  Field1      YM     SIDO SIGUNGU FranClass   Type Time  \\\n",
       "273178    273179  273179  202005  제주특별자치도     제주시        중소  침구수예점   x시   \n",
       "273179    273180  273180  202005  제주특별자치도     제주시       중소1   서양음식   x시   \n",
       "273180    273181  273181  202005  제주특별자치도     제주시        영세    편의점   x시   \n",
       "273181    273182  273182  202005  제주특별자치도     제주시        중소    제과점   x시   \n",
       "273182    273183  273183  202005  제주특별자치도     제주시        영세   서양음식   x시   \n",
       "\n",
       "        TotalSpent  DisSpent  NumofSpent  NumofDisSpent      POINT_X  \\\n",
       "273178       17000         0           1              0  949616.6171   \n",
       "273179       12000         0           1              0  949665.1566   \n",
       "273180        4800         0           1              0  950266.5976   \n",
       "273181       25000         0           2              0  950524.6587   \n",
       "273182        6000         0           1              0  950674.5989   \n",
       "\n",
       "             POINT_Y  \n",
       "273178  1.502505e+06  \n",
       "273179  1.502805e+06  \n",
       "273180  1.502458e+06  \n",
       "273181  1.500760e+06  \n",
       "273182  1.500760e+06  "
      ],
      "text/html": "<div>\n<style scoped>\n    .dataframe tbody tr th:only-of-type {\n        vertical-align: middle;\n    }\n\n    .dataframe tbody tr th {\n        vertical-align: top;\n    }\n\n    .dataframe thead th {\n        text-align: right;\n    }\n</style>\n<table border=\"1\" class=\"dataframe\">\n  <thead>\n    <tr style=\"text-align: right;\">\n      <th></th>\n      <th>OBJECTID</th>\n      <th>Field1</th>\n      <th>YM</th>\n      <th>SIDO</th>\n      <th>SIGUNGU</th>\n      <th>FranClass</th>\n      <th>Type</th>\n      <th>Time</th>\n      <th>TotalSpent</th>\n      <th>DisSpent</th>\n      <th>NumofSpent</th>\n      <th>NumofDisSpent</th>\n      <th>POINT_X</th>\n      <th>POINT_Y</th>\n    </tr>\n  </thead>\n  <tbody>\n    <tr>\n      <th>273178</th>\n      <td>273179</td>\n      <td>273179</td>\n      <td>202005</td>\n      <td>제주특별자치도</td>\n      <td>제주시</td>\n      <td>중소</td>\n      <td>침구수예점</td>\n      <td>x시</td>\n      <td>17000</td>\n      <td>0</td>\n      <td>1</td>\n      <td>0</td>\n      <td>949616.6171</td>\n      <td>1.502505e+06</td>\n    </tr>\n    <tr>\n      <th>273179</th>\n      <td>273180</td>\n      <td>273180</td>\n      <td>202005</td>\n      <td>제주특별자치도</td>\n      <td>제주시</td>\n      <td>중소1</td>\n      <td>서양음식</td>\n      <td>x시</td>\n      <td>12000</td>\n      <td>0</td>\n      <td>1</td>\n      <td>0</td>\n      <td>949665.1566</td>\n      <td>1.502805e+06</td>\n    </tr>\n    <tr>\n      <th>273180</th>\n      <td>273181</td>\n      <td>273181</td>\n      <td>202005</td>\n      <td>제주특별자치도</td>\n      <td>제주시</td>\n      <td>영세</td>\n      <td>편의점</td>\n      <td>x시</td>\n      <td>4800</td>\n      <td>0</td>\n      <td>1</td>\n      <td>0</td>\n      <td>950266.5976</td>\n      <td>1.502458e+06</td>\n    </tr>\n    <tr>\n      <th>273181</th>\n      <td>273182</td>\n      <td>273182</td>\n      <td>202005</td>\n      <td>제주특별자치도</td>\n      <td>제주시</td>\n      <td>중소</td>\n      <td>제과점</td>\n      <td>x시</td>\n      <td>25000</td>\n      <td>0</td>\n      <td>2</td>\n      <td>0</td>\n      <td>950524.6587</td>\n      <td>1.500760e+06</td>\n    </tr>\n    <tr>\n      <th>273182</th>\n      <td>273183</td>\n      <td>273183</td>\n      <td>202005</td>\n      <td>제주특별자치도</td>\n      <td>제주시</td>\n      <td>영세</td>\n      <td>서양음식</td>\n      <td>x시</td>\n      <td>6000</td>\n      <td>0</td>\n      <td>1</td>\n      <td>0</td>\n      <td>950674.5989</td>\n      <td>1.500760e+06</td>\n    </tr>\n  </tbody>\n</table>\n</div>"
     },
     "metadata": {},
     "execution_count": 51
    }
   ],
   "source": [
    "# 데이터 가져오기\n",
    "\n",
    "raw_data_5 = pd.read_csv('../../1. raw_data/KRI-DAC_Jeju_data5.txt', sep=',')\n",
    "raw_data_5.tail()"
   ]
  },
  {
   "cell_type": "code",
   "execution_count": 52,
   "metadata": {},
   "outputs": [
    {
     "output_type": "execute_result",
     "data": {
      "text/plain": [
       "        OBJECTID  Field1      YM     SIDO SIGUNGU FranClass  Type Time  \\\n",
       "273180    273181  273181  202005  제주특별자치도     제주시        영세   편의점   x시   \n",
       "273181    273182  273182  202005  제주특별자치도     제주시        중소   제과점   x시   \n",
       "273182    273183  273183  202005  제주특별자치도     제주시        영세  서양음식   x시   \n",
       "\n",
       "        TotalSpent  DisSpent  NumofSpent  NumofDisSpent      POINT_X  \\\n",
       "273180        4800         0           1              0  950266.5976   \n",
       "273181       25000         0           2              0  950524.6587   \n",
       "273182        6000         0           1              0  950674.5989   \n",
       "\n",
       "             POINT_Y         lon        lat  \n",
       "273180  1.502458e+06  126.964496  33.512854  \n",
       "273181  1.500760e+06  126.967369  33.497551  \n",
       "273182  1.500760e+06  126.968983  33.497564  "
      ],
      "text/html": "<div>\n<style scoped>\n    .dataframe tbody tr th:only-of-type {\n        vertical-align: middle;\n    }\n\n    .dataframe tbody tr th {\n        vertical-align: top;\n    }\n\n    .dataframe thead th {\n        text-align: right;\n    }\n</style>\n<table border=\"1\" class=\"dataframe\">\n  <thead>\n    <tr style=\"text-align: right;\">\n      <th></th>\n      <th>OBJECTID</th>\n      <th>Field1</th>\n      <th>YM</th>\n      <th>SIDO</th>\n      <th>SIGUNGU</th>\n      <th>FranClass</th>\n      <th>Type</th>\n      <th>Time</th>\n      <th>TotalSpent</th>\n      <th>DisSpent</th>\n      <th>NumofSpent</th>\n      <th>NumofDisSpent</th>\n      <th>POINT_X</th>\n      <th>POINT_Y</th>\n      <th>lon</th>\n      <th>lat</th>\n    </tr>\n  </thead>\n  <tbody>\n    <tr>\n      <th>273180</th>\n      <td>273181</td>\n      <td>273181</td>\n      <td>202005</td>\n      <td>제주특별자치도</td>\n      <td>제주시</td>\n      <td>영세</td>\n      <td>편의점</td>\n      <td>x시</td>\n      <td>4800</td>\n      <td>0</td>\n      <td>1</td>\n      <td>0</td>\n      <td>950266.5976</td>\n      <td>1.502458e+06</td>\n      <td>126.964496</td>\n      <td>33.512854</td>\n    </tr>\n    <tr>\n      <th>273181</th>\n      <td>273182</td>\n      <td>273182</td>\n      <td>202005</td>\n      <td>제주특별자치도</td>\n      <td>제주시</td>\n      <td>중소</td>\n      <td>제과점</td>\n      <td>x시</td>\n      <td>25000</td>\n      <td>0</td>\n      <td>2</td>\n      <td>0</td>\n      <td>950524.6587</td>\n      <td>1.500760e+06</td>\n      <td>126.967369</td>\n      <td>33.497551</td>\n    </tr>\n    <tr>\n      <th>273182</th>\n      <td>273183</td>\n      <td>273183</td>\n      <td>202005</td>\n      <td>제주특별자치도</td>\n      <td>제주시</td>\n      <td>영세</td>\n      <td>서양음식</td>\n      <td>x시</td>\n      <td>6000</td>\n      <td>0</td>\n      <td>1</td>\n      <td>0</td>\n      <td>950674.5989</td>\n      <td>1.500760e+06</td>\n      <td>126.968983</td>\n      <td>33.497564</td>\n    </tr>\n  </tbody>\n</table>\n</div>"
     },
     "metadata": {},
     "execution_count": 52
    }
   ],
   "source": [
    "# 1. 좌표 변환 하기 \n",
    "\n",
    "df_5 = raw_data_5.copy()\n",
    "\n",
    "from pyproj import Proj, transform\n",
    "# ITRF좌표계\n",
    "proj_ITRF = Proj(init='epsg:5179')\n",
    "# WGS 좌표계 \n",
    "proj_WGS84 = Proj(init='epsg:4326')\n",
    "\n",
    "\n",
    "df_5['lon'], df_5['lat'] = transform(proj_ITRF, proj_WGS84, df_5['POINT_X'], df_5['POINT_Y'])\n",
    "\n",
    "df_5.tail(3)"
   ]
  },
  {
   "cell_type": "code",
   "execution_count": 53,
   "metadata": {},
   "outputs": [
    {
     "output_type": "execute_result",
     "data": {
      "text/plain": [
       "126.52427851055405_33.51290574138535     400\n",
       "126.52935695016222_33.49899169591379     314\n",
       "126.52880376641139_33.499886709171996    309\n",
       "126.47793511858133_33.48574932701181     275\n",
       "126.56362561835856_33.24739705179205     258\n",
       "                                        ... \n",
       "126.66989914559713_33.52717552512508       1\n",
       "126.49490448290277_33.250191572152616      1\n",
       "126.53890390710366_33.50721871134647       1\n",
       "126.45950461288548_33.49363587313679       1\n",
       "126.66543479759551_33.53749583871604       1\n",
       "Name: lon_lat, Length: 13820, dtype: int64"
      ]
     },
     "metadata": {},
     "execution_count": 53
    }
   ],
   "source": [
    "# 2. 좌표 구분 컬럼 생성 \n",
    "\n",
    "df_5['lon'] = df_5['lon'].astype(str)\n",
    "df_5['lat'] = df_5['lat'].astype(str)\n",
    "df_5['lon_lat'] = df_5['lon']+'_'+df_5['lat']\n",
    "df_5['lon_lat'].value_counts()"
   ]
  },
  {
   "cell_type": "code",
   "execution_count": 54,
   "metadata": {},
   "outputs": [
    {
     "output_type": "execute_result",
     "data": {
      "text/plain": [
       "lon_lat\n",
       "126.96951006044938_33.49847009919258     1\n",
       "126.48544160292364_33.487193564199174    1\n",
       "126.48541302178809_33.45789217335456     1\n",
       "126.48541024967045_33.488996318122375    1\n",
       "126.48539457164357_33.48989769487357     1\n",
       "                                        ..\n",
       "126.55718128617019_33.247773337040584    1\n",
       "126.5571738871868_33.24822405800287      1\n",
       "126.5571664880694_33.2486747789311       1\n",
       "126.55715908882763_33.24912549892337     1\n",
       "126.16370558240443_33.33544861735468     1\n",
       "Length: 13820, dtype: int64"
      ]
     },
     "metadata": {},
     "execution_count": 54
    }
   ],
   "source": [
    "# 3. 중복 좌표 삭제 > url 생성 \n",
    "\n",
    "df_uniq = df_5.drop_duplicates('lon_lat')\n",
    "df_uniq.value_counts('lon_lat')"
   ]
  },
  {
   "cell_type": "code",
   "execution_count": 56,
   "metadata": {},
   "outputs": [
    {
     "output_type": "execute_result",
     "data": {
      "text/plain": [
       "       level_0   index  OBJECTID  Field1      YM     SIDO SIGUNGU FranClass  \\\n",
       "0            0       0         1       1  202005  제주특별자치도     제주시        영세   \n",
       "1            1       1         2       2  202005  제주특별자치도     제주시        영세   \n",
       "2            2       2         3       3  202005  제주특별자치도     제주시       중소1   \n",
       "3            3       3         4       4  202005  제주특별자치도     제주시        영세   \n",
       "4            4       4         5       5  202005  제주특별자치도     제주시        영세   \n",
       "...        ...     ...       ...     ...     ...      ...     ...       ...   \n",
       "13815    13815  268814    268815  268815  202005  제주특별자치도    서귀포시        영세   \n",
       "13816    13816  269415    269416  269416  202005  제주특별자치도     제주시        일반   \n",
       "13817    13817  269435    269436  269436  202005  제주특별자치도    서귀포시        영세   \n",
       "13818    13818  270507    270508  270508  202005  제주특별자치도     제주시        일반   \n",
       "13819    13819  271852    271853  271853  202005  제주특별자치도    서귀포시        일반   \n",
       "\n",
       "              Type Time  TotalSpent  DisSpent  NumofSpent  NumofDisSpent  \\\n",
       "0             일반한식  00시      363000     66500          10              2   \n",
       "1             단란주점  00시     1180000         0           3              0   \n",
       "2              편의점  00시      157670      6850          20              2   \n",
       "3              편의점  00시       46600         0           2              0   \n",
       "4               주점  00시       66000         0           2              0   \n",
       "...            ...  ...         ...       ...         ...            ...   \n",
       "13815        기타숙박업   x시       50000         0           1              0   \n",
       "13816  건강식품(회원제형태)   x시     7662600         0          12              0   \n",
       "13817        기타숙박업   x시      240000         0           1              0   \n",
       "13818       기타음료식품   x시       90750         0           1              0   \n",
       "13819       기타음료식품   x시      200000         0           1              0   \n",
       "\n",
       "           POINT_X       POINT_Y                 lon                 lat  \\\n",
       "0      877005.9834  1.479766e+06  126.17889362710162   33.30231529076243   \n",
       "1      877005.7447  1.479816e+06  126.17888426813494  33.302765922881875   \n",
       "2      877056.6756  1.479616e+06  126.17945834265305   33.30097125427593   \n",
       "3      877055.9593  1.479766e+06  126.17943027296923   33.30232314934195   \n",
       "4      877055.4817  1.479866e+06  126.17941155823847   33.30322441283756   \n",
       "...            ...           ...                 ...                 ...   \n",
       "13815  889087.2224  1.472077e+06  126.30957647197593   33.23428902334641   \n",
       "13816  903092.2237  1.501082e+06  126.45675120309421   33.49720789225105   \n",
       "13817  903666.4287  1.475096e+06  126.46571021256327    33.2629083000071   \n",
       "13818  907738.4497  1.501454e+06  126.50672452857444   33.50097517749024   \n",
       "13819  912018.4146  1.473936e+06  126.55548315030599   33.25316331771586   \n",
       "\n",
       "                                     lon_lat  \\\n",
       "0       126.17889362710162_33.30231529076243   \n",
       "1      126.17888426813494_33.302765922881875   \n",
       "2       126.17945834265305_33.30097125427593   \n",
       "3       126.17943027296923_33.30232314934195   \n",
       "4       126.17941155823847_33.30322441283756   \n",
       "...                                      ...   \n",
       "13815   126.30957647197593_33.23428902334641   \n",
       "13816   126.45675120309421_33.49720789225105   \n",
       "13817    126.46571021256327_33.2629083000071   \n",
       "13818   126.50672452857444_33.50097517749024   \n",
       "13819   126.55548315030599_33.25316331771586   \n",
       "\n",
       "                                                     url  \n",
       "0      https://dapi.kakao.com/v2/local/geo/coord2regi...  \n",
       "1      https://dapi.kakao.com/v2/local/geo/coord2regi...  \n",
       "2      https://dapi.kakao.com/v2/local/geo/coord2regi...  \n",
       "3      https://dapi.kakao.com/v2/local/geo/coord2regi...  \n",
       "4      https://dapi.kakao.com/v2/local/geo/coord2regi...  \n",
       "...                                                  ...  \n",
       "13815  https://dapi.kakao.com/v2/local/geo/coord2regi...  \n",
       "13816  https://dapi.kakao.com/v2/local/geo/coord2regi...  \n",
       "13817  https://dapi.kakao.com/v2/local/geo/coord2regi...  \n",
       "13818  https://dapi.kakao.com/v2/local/geo/coord2regi...  \n",
       "13819  https://dapi.kakao.com/v2/local/geo/coord2regi...  \n",
       "\n",
       "[13820 rows x 20 columns]"
      ],
      "text/html": "<div>\n<style scoped>\n    .dataframe tbody tr th:only-of-type {\n        vertical-align: middle;\n    }\n\n    .dataframe tbody tr th {\n        vertical-align: top;\n    }\n\n    .dataframe thead th {\n        text-align: right;\n    }\n</style>\n<table border=\"1\" class=\"dataframe\">\n  <thead>\n    <tr style=\"text-align: right;\">\n      <th></th>\n      <th>level_0</th>\n      <th>index</th>\n      <th>OBJECTID</th>\n      <th>Field1</th>\n      <th>YM</th>\n      <th>SIDO</th>\n      <th>SIGUNGU</th>\n      <th>FranClass</th>\n      <th>Type</th>\n      <th>Time</th>\n      <th>TotalSpent</th>\n      <th>DisSpent</th>\n      <th>NumofSpent</th>\n      <th>NumofDisSpent</th>\n      <th>POINT_X</th>\n      <th>POINT_Y</th>\n      <th>lon</th>\n      <th>lat</th>\n      <th>lon_lat</th>\n      <th>url</th>\n    </tr>\n  </thead>\n  <tbody>\n    <tr>\n      <th>0</th>\n      <td>0</td>\n      <td>0</td>\n      <td>1</td>\n      <td>1</td>\n      <td>202005</td>\n      <td>제주특별자치도</td>\n      <td>제주시</td>\n      <td>영세</td>\n      <td>일반한식</td>\n      <td>00시</td>\n      <td>363000</td>\n      <td>66500</td>\n      <td>10</td>\n      <td>2</td>\n      <td>877005.9834</td>\n      <td>1.479766e+06</td>\n      <td>126.17889362710162</td>\n      <td>33.30231529076243</td>\n      <td>126.17889362710162_33.30231529076243</td>\n      <td>https://dapi.kakao.com/v2/local/geo/coord2regi...</td>\n    </tr>\n    <tr>\n      <th>1</th>\n      <td>1</td>\n      <td>1</td>\n      <td>2</td>\n      <td>2</td>\n      <td>202005</td>\n      <td>제주특별자치도</td>\n      <td>제주시</td>\n      <td>영세</td>\n      <td>단란주점</td>\n      <td>00시</td>\n      <td>1180000</td>\n      <td>0</td>\n      <td>3</td>\n      <td>0</td>\n      <td>877005.7447</td>\n      <td>1.479816e+06</td>\n      <td>126.17888426813494</td>\n      <td>33.302765922881875</td>\n      <td>126.17888426813494_33.302765922881875</td>\n      <td>https://dapi.kakao.com/v2/local/geo/coord2regi...</td>\n    </tr>\n    <tr>\n      <th>2</th>\n      <td>2</td>\n      <td>2</td>\n      <td>3</td>\n      <td>3</td>\n      <td>202005</td>\n      <td>제주특별자치도</td>\n      <td>제주시</td>\n      <td>중소1</td>\n      <td>편의점</td>\n      <td>00시</td>\n      <td>157670</td>\n      <td>6850</td>\n      <td>20</td>\n      <td>2</td>\n      <td>877056.6756</td>\n      <td>1.479616e+06</td>\n      <td>126.17945834265305</td>\n      <td>33.30097125427593</td>\n      <td>126.17945834265305_33.30097125427593</td>\n      <td>https://dapi.kakao.com/v2/local/geo/coord2regi...</td>\n    </tr>\n    <tr>\n      <th>3</th>\n      <td>3</td>\n      <td>3</td>\n      <td>4</td>\n      <td>4</td>\n      <td>202005</td>\n      <td>제주특별자치도</td>\n      <td>제주시</td>\n      <td>영세</td>\n      <td>편의점</td>\n      <td>00시</td>\n      <td>46600</td>\n      <td>0</td>\n      <td>2</td>\n      <td>0</td>\n      <td>877055.9593</td>\n      <td>1.479766e+06</td>\n      <td>126.17943027296923</td>\n      <td>33.30232314934195</td>\n      <td>126.17943027296923_33.30232314934195</td>\n      <td>https://dapi.kakao.com/v2/local/geo/coord2regi...</td>\n    </tr>\n    <tr>\n      <th>4</th>\n      <td>4</td>\n      <td>4</td>\n      <td>5</td>\n      <td>5</td>\n      <td>202005</td>\n      <td>제주특별자치도</td>\n      <td>제주시</td>\n      <td>영세</td>\n      <td>주점</td>\n      <td>00시</td>\n      <td>66000</td>\n      <td>0</td>\n      <td>2</td>\n      <td>0</td>\n      <td>877055.4817</td>\n      <td>1.479866e+06</td>\n      <td>126.17941155823847</td>\n      <td>33.30322441283756</td>\n      <td>126.17941155823847_33.30322441283756</td>\n      <td>https://dapi.kakao.com/v2/local/geo/coord2regi...</td>\n    </tr>\n    <tr>\n      <th>...</th>\n      <td>...</td>\n      <td>...</td>\n      <td>...</td>\n      <td>...</td>\n      <td>...</td>\n      <td>...</td>\n      <td>...</td>\n      <td>...</td>\n      <td>...</td>\n      <td>...</td>\n      <td>...</td>\n      <td>...</td>\n      <td>...</td>\n      <td>...</td>\n      <td>...</td>\n      <td>...</td>\n      <td>...</td>\n      <td>...</td>\n      <td>...</td>\n      <td>...</td>\n    </tr>\n    <tr>\n      <th>13815</th>\n      <td>13815</td>\n      <td>268814</td>\n      <td>268815</td>\n      <td>268815</td>\n      <td>202005</td>\n      <td>제주특별자치도</td>\n      <td>서귀포시</td>\n      <td>영세</td>\n      <td>기타숙박업</td>\n      <td>x시</td>\n      <td>50000</td>\n      <td>0</td>\n      <td>1</td>\n      <td>0</td>\n      <td>889087.2224</td>\n      <td>1.472077e+06</td>\n      <td>126.30957647197593</td>\n      <td>33.23428902334641</td>\n      <td>126.30957647197593_33.23428902334641</td>\n      <td>https://dapi.kakao.com/v2/local/geo/coord2regi...</td>\n    </tr>\n    <tr>\n      <th>13816</th>\n      <td>13816</td>\n      <td>269415</td>\n      <td>269416</td>\n      <td>269416</td>\n      <td>202005</td>\n      <td>제주특별자치도</td>\n      <td>제주시</td>\n      <td>일반</td>\n      <td>건강식품(회원제형태)</td>\n      <td>x시</td>\n      <td>7662600</td>\n      <td>0</td>\n      <td>12</td>\n      <td>0</td>\n      <td>903092.2237</td>\n      <td>1.501082e+06</td>\n      <td>126.45675120309421</td>\n      <td>33.49720789225105</td>\n      <td>126.45675120309421_33.49720789225105</td>\n      <td>https://dapi.kakao.com/v2/local/geo/coord2regi...</td>\n    </tr>\n    <tr>\n      <th>13817</th>\n      <td>13817</td>\n      <td>269435</td>\n      <td>269436</td>\n      <td>269436</td>\n      <td>202005</td>\n      <td>제주특별자치도</td>\n      <td>서귀포시</td>\n      <td>영세</td>\n      <td>기타숙박업</td>\n      <td>x시</td>\n      <td>240000</td>\n      <td>0</td>\n      <td>1</td>\n      <td>0</td>\n      <td>903666.4287</td>\n      <td>1.475096e+06</td>\n      <td>126.46571021256327</td>\n      <td>33.2629083000071</td>\n      <td>126.46571021256327_33.2629083000071</td>\n      <td>https://dapi.kakao.com/v2/local/geo/coord2regi...</td>\n    </tr>\n    <tr>\n      <th>13818</th>\n      <td>13818</td>\n      <td>270507</td>\n      <td>270508</td>\n      <td>270508</td>\n      <td>202005</td>\n      <td>제주특별자치도</td>\n      <td>제주시</td>\n      <td>일반</td>\n      <td>기타음료식품</td>\n      <td>x시</td>\n      <td>90750</td>\n      <td>0</td>\n      <td>1</td>\n      <td>0</td>\n      <td>907738.4497</td>\n      <td>1.501454e+06</td>\n      <td>126.50672452857444</td>\n      <td>33.50097517749024</td>\n      <td>126.50672452857444_33.50097517749024</td>\n      <td>https://dapi.kakao.com/v2/local/geo/coord2regi...</td>\n    </tr>\n    <tr>\n      <th>13819</th>\n      <td>13819</td>\n      <td>271852</td>\n      <td>271853</td>\n      <td>271853</td>\n      <td>202005</td>\n      <td>제주특별자치도</td>\n      <td>서귀포시</td>\n      <td>일반</td>\n      <td>기타음료식품</td>\n      <td>x시</td>\n      <td>200000</td>\n      <td>0</td>\n      <td>1</td>\n      <td>0</td>\n      <td>912018.4146</td>\n      <td>1.473936e+06</td>\n      <td>126.55548315030599</td>\n      <td>33.25316331771586</td>\n      <td>126.55548315030599_33.25316331771586</td>\n      <td>https://dapi.kakao.com/v2/local/geo/coord2regi...</td>\n    </tr>\n  </tbody>\n</table>\n<p>13820 rows × 20 columns</p>\n</div>"
     },
     "metadata": {},
     "execution_count": 56
    }
   ],
   "source": [
    "# url 생성\n",
    "\n",
    "df_uniq['url1'] = 'https://dapi.kakao.com/v2/local/geo/coord2regioncode.json?x=' + df_uniq['lon']\n",
    "df_uniq['url2'] = '&y=' + df_uniq['lat']\n",
    "df_uniq['url'] = df_uniq['url1'] + df_uniq['url2']\n",
    "\n",
    "\n",
    "df_uniq.drop(columns=['url1','url2'],axis=1,inplace=True)\n",
    "df_uniq = df_uniq.reset_index()\n",
    "df_uniq"
   ]
  },
  {
   "cell_type": "code",
   "execution_count": 57,
   "metadata": {},
   "outputs": [
    {
     "output_type": "stream",
     "name": "stdout",
     "text": [
      "converted point to addr\n"
     ]
    }
   ],
   "source": [
    "# 4. API를 통해 주소 가져오기 \n",
    "\n",
    "import requests\n",
    "import json\n",
    "\n",
    "dong_ls = []\n",
    "\n",
    "for i in range(len(df_uniq.index)):\n",
    "    url = df_uniq['url'][i]\n",
    "    headers = {\"Authorization\": \"KakaoAK 9c01f59434bc3920843d9dd0279e6e6c\"}\n",
    "    api_test = requests.get(url, headers=headers)\n",
    "    url_text = json.loads(api_test.text)\n",
    "    dong = url_text['documents'][0]['region_3depth_name']\n",
    "    dong_ls.append(dong)\n",
    "print('converted point to addr')"
   ]
  },
  {
   "cell_type": "code",
   "execution_count": 58,
   "metadata": {},
   "outputs": [
    {
     "output_type": "execute_result",
     "data": {
      "text/plain": [
       "       dong\n",
       "13817   하원동\n",
       "13818  용담이동\n",
       "13819   서홍동"
      ],
      "text/html": "<div>\n<style scoped>\n    .dataframe tbody tr th:only-of-type {\n        vertical-align: middle;\n    }\n\n    .dataframe tbody tr th {\n        vertical-align: top;\n    }\n\n    .dataframe thead th {\n        text-align: right;\n    }\n</style>\n<table border=\"1\" class=\"dataframe\">\n  <thead>\n    <tr style=\"text-align: right;\">\n      <th></th>\n      <th>dong</th>\n    </tr>\n  </thead>\n  <tbody>\n    <tr>\n      <th>13817</th>\n      <td>하원동</td>\n    </tr>\n    <tr>\n      <th>13818</th>\n      <td>용담이동</td>\n    </tr>\n    <tr>\n      <th>13819</th>\n      <td>서홍동</td>\n    </tr>\n  </tbody>\n</table>\n</div>"
     },
     "metadata": {},
     "execution_count": 58
    }
   ],
   "source": [
    "# 가져온 주소값 df 변환 \n",
    "dic = {'dong':dong_ls}\n",
    "df_dong = pd.DataFrame(dic)\n",
    "df_dong.tail(3)"
   ]
  },
  {
   "cell_type": "code",
   "execution_count": 59,
   "metadata": {},
   "outputs": [
    {
     "output_type": "execute_result",
     "data": {
      "text/plain": [
       "       level_0   index  OBJECTID  Field1      YM     SIDO SIGUNGU FranClass  \\\n",
       "0            0       0         1       1  202005  제주특별자치도     제주시        영세   \n",
       "1            1       1         2       2  202005  제주특별자치도     제주시        영세   \n",
       "2            2       2         3       3  202005  제주특별자치도     제주시       중소1   \n",
       "3            3       3         4       4  202005  제주특별자치도     제주시        영세   \n",
       "4            4       4         5       5  202005  제주특별자치도     제주시        영세   \n",
       "...        ...     ...       ...     ...     ...      ...     ...       ...   \n",
       "13815    13815  268814    268815  268815  202005  제주특별자치도    서귀포시        영세   \n",
       "13816    13816  269415    269416  269416  202005  제주특별자치도     제주시        일반   \n",
       "13817    13817  269435    269436  269436  202005  제주특별자치도    서귀포시        영세   \n",
       "13818    13818  270507    270508  270508  202005  제주특별자치도     제주시        일반   \n",
       "13819    13819  271852    271853  271853  202005  제주특별자치도    서귀포시        일반   \n",
       "\n",
       "              Type Time  ...  DisSpent  NumofSpent  NumofDisSpent  \\\n",
       "0             일반한식  00시  ...     66500          10              2   \n",
       "1             단란주점  00시  ...         0           3              0   \n",
       "2              편의점  00시  ...      6850          20              2   \n",
       "3              편의점  00시  ...         0           2              0   \n",
       "4               주점  00시  ...         0           2              0   \n",
       "...            ...  ...  ...       ...         ...            ...   \n",
       "13815        기타숙박업   x시  ...         0           1              0   \n",
       "13816  건강식품(회원제형태)   x시  ...         0          12              0   \n",
       "13817        기타숙박업   x시  ...         0           1              0   \n",
       "13818       기타음료식품   x시  ...         0           1              0   \n",
       "13819       기타음료식품   x시  ...         0           1              0   \n",
       "\n",
       "           POINT_X       POINT_Y                 lon                 lat  \\\n",
       "0      877005.9834  1.479766e+06  126.17889362710162   33.30231529076243   \n",
       "1      877005.7447  1.479816e+06  126.17888426813494  33.302765922881875   \n",
       "2      877056.6756  1.479616e+06  126.17945834265305   33.30097125427593   \n",
       "3      877055.9593  1.479766e+06  126.17943027296923   33.30232314934195   \n",
       "4      877055.4817  1.479866e+06  126.17941155823847   33.30322441283756   \n",
       "...            ...           ...                 ...                 ...   \n",
       "13815  889087.2224  1.472077e+06  126.30957647197593   33.23428902334641   \n",
       "13816  903092.2237  1.501082e+06  126.45675120309421   33.49720789225105   \n",
       "13817  903666.4287  1.475096e+06  126.46571021256327    33.2629083000071   \n",
       "13818  907738.4497  1.501454e+06  126.50672452857444   33.50097517749024   \n",
       "13819  912018.4146  1.473936e+06  126.55548315030599   33.25316331771586   \n",
       "\n",
       "                                     lon_lat  \\\n",
       "0       126.17889362710162_33.30231529076243   \n",
       "1      126.17888426813494_33.302765922881875   \n",
       "2       126.17945834265305_33.30097125427593   \n",
       "3       126.17943027296923_33.30232314934195   \n",
       "4       126.17941155823847_33.30322441283756   \n",
       "...                                      ...   \n",
       "13815   126.30957647197593_33.23428902334641   \n",
       "13816   126.45675120309421_33.49720789225105   \n",
       "13817    126.46571021256327_33.2629083000071   \n",
       "13818   126.50672452857444_33.50097517749024   \n",
       "13819   126.55548315030599_33.25316331771586   \n",
       "\n",
       "                                                     url  dong  \n",
       "0      https://dapi.kakao.com/v2/local/geo/coord2regi...   한경면  \n",
       "1      https://dapi.kakao.com/v2/local/geo/coord2regi...   한경면  \n",
       "2      https://dapi.kakao.com/v2/local/geo/coord2regi...   한경면  \n",
       "3      https://dapi.kakao.com/v2/local/geo/coord2regi...   한경면  \n",
       "4      https://dapi.kakao.com/v2/local/geo/coord2regi...   한경면  \n",
       "...                                                  ...   ...  \n",
       "13815  https://dapi.kakao.com/v2/local/geo/coord2regi...   안덕면  \n",
       "13816  https://dapi.kakao.com/v2/local/geo/coord2regi...  이호일동  \n",
       "13817  https://dapi.kakao.com/v2/local/geo/coord2regi...   하원동  \n",
       "13818  https://dapi.kakao.com/v2/local/geo/coord2regi...  용담이동  \n",
       "13819  https://dapi.kakao.com/v2/local/geo/coord2regi...   서홍동  \n",
       "\n",
       "[13820 rows x 21 columns]"
      ],
      "text/html": "<div>\n<style scoped>\n    .dataframe tbody tr th:only-of-type {\n        vertical-align: middle;\n    }\n\n    .dataframe tbody tr th {\n        vertical-align: top;\n    }\n\n    .dataframe thead th {\n        text-align: right;\n    }\n</style>\n<table border=\"1\" class=\"dataframe\">\n  <thead>\n    <tr style=\"text-align: right;\">\n      <th></th>\n      <th>level_0</th>\n      <th>index</th>\n      <th>OBJECTID</th>\n      <th>Field1</th>\n      <th>YM</th>\n      <th>SIDO</th>\n      <th>SIGUNGU</th>\n      <th>FranClass</th>\n      <th>Type</th>\n      <th>Time</th>\n      <th>...</th>\n      <th>DisSpent</th>\n      <th>NumofSpent</th>\n      <th>NumofDisSpent</th>\n      <th>POINT_X</th>\n      <th>POINT_Y</th>\n      <th>lon</th>\n      <th>lat</th>\n      <th>lon_lat</th>\n      <th>url</th>\n      <th>dong</th>\n    </tr>\n  </thead>\n  <tbody>\n    <tr>\n      <th>0</th>\n      <td>0</td>\n      <td>0</td>\n      <td>1</td>\n      <td>1</td>\n      <td>202005</td>\n      <td>제주특별자치도</td>\n      <td>제주시</td>\n      <td>영세</td>\n      <td>일반한식</td>\n      <td>00시</td>\n      <td>...</td>\n      <td>66500</td>\n      <td>10</td>\n      <td>2</td>\n      <td>877005.9834</td>\n      <td>1.479766e+06</td>\n      <td>126.17889362710162</td>\n      <td>33.30231529076243</td>\n      <td>126.17889362710162_33.30231529076243</td>\n      <td>https://dapi.kakao.com/v2/local/geo/coord2regi...</td>\n      <td>한경면</td>\n    </tr>\n    <tr>\n      <th>1</th>\n      <td>1</td>\n      <td>1</td>\n      <td>2</td>\n      <td>2</td>\n      <td>202005</td>\n      <td>제주특별자치도</td>\n      <td>제주시</td>\n      <td>영세</td>\n      <td>단란주점</td>\n      <td>00시</td>\n      <td>...</td>\n      <td>0</td>\n      <td>3</td>\n      <td>0</td>\n      <td>877005.7447</td>\n      <td>1.479816e+06</td>\n      <td>126.17888426813494</td>\n      <td>33.302765922881875</td>\n      <td>126.17888426813494_33.302765922881875</td>\n      <td>https://dapi.kakao.com/v2/local/geo/coord2regi...</td>\n      <td>한경면</td>\n    </tr>\n    <tr>\n      <th>2</th>\n      <td>2</td>\n      <td>2</td>\n      <td>3</td>\n      <td>3</td>\n      <td>202005</td>\n      <td>제주특별자치도</td>\n      <td>제주시</td>\n      <td>중소1</td>\n      <td>편의점</td>\n      <td>00시</td>\n      <td>...</td>\n      <td>6850</td>\n      <td>20</td>\n      <td>2</td>\n      <td>877056.6756</td>\n      <td>1.479616e+06</td>\n      <td>126.17945834265305</td>\n      <td>33.30097125427593</td>\n      <td>126.17945834265305_33.30097125427593</td>\n      <td>https://dapi.kakao.com/v2/local/geo/coord2regi...</td>\n      <td>한경면</td>\n    </tr>\n    <tr>\n      <th>3</th>\n      <td>3</td>\n      <td>3</td>\n      <td>4</td>\n      <td>4</td>\n      <td>202005</td>\n      <td>제주특별자치도</td>\n      <td>제주시</td>\n      <td>영세</td>\n      <td>편의점</td>\n      <td>00시</td>\n      <td>...</td>\n      <td>0</td>\n      <td>2</td>\n      <td>0</td>\n      <td>877055.9593</td>\n      <td>1.479766e+06</td>\n      <td>126.17943027296923</td>\n      <td>33.30232314934195</td>\n      <td>126.17943027296923_33.30232314934195</td>\n      <td>https://dapi.kakao.com/v2/local/geo/coord2regi...</td>\n      <td>한경면</td>\n    </tr>\n    <tr>\n      <th>4</th>\n      <td>4</td>\n      <td>4</td>\n      <td>5</td>\n      <td>5</td>\n      <td>202005</td>\n      <td>제주특별자치도</td>\n      <td>제주시</td>\n      <td>영세</td>\n      <td>주점</td>\n      <td>00시</td>\n      <td>...</td>\n      <td>0</td>\n      <td>2</td>\n      <td>0</td>\n      <td>877055.4817</td>\n      <td>1.479866e+06</td>\n      <td>126.17941155823847</td>\n      <td>33.30322441283756</td>\n      <td>126.17941155823847_33.30322441283756</td>\n      <td>https://dapi.kakao.com/v2/local/geo/coord2regi...</td>\n      <td>한경면</td>\n    </tr>\n    <tr>\n      <th>...</th>\n      <td>...</td>\n      <td>...</td>\n      <td>...</td>\n      <td>...</td>\n      <td>...</td>\n      <td>...</td>\n      <td>...</td>\n      <td>...</td>\n      <td>...</td>\n      <td>...</td>\n      <td>...</td>\n      <td>...</td>\n      <td>...</td>\n      <td>...</td>\n      <td>...</td>\n      <td>...</td>\n      <td>...</td>\n      <td>...</td>\n      <td>...</td>\n      <td>...</td>\n      <td>...</td>\n    </tr>\n    <tr>\n      <th>13815</th>\n      <td>13815</td>\n      <td>268814</td>\n      <td>268815</td>\n      <td>268815</td>\n      <td>202005</td>\n      <td>제주특별자치도</td>\n      <td>서귀포시</td>\n      <td>영세</td>\n      <td>기타숙박업</td>\n      <td>x시</td>\n      <td>...</td>\n      <td>0</td>\n      <td>1</td>\n      <td>0</td>\n      <td>889087.2224</td>\n      <td>1.472077e+06</td>\n      <td>126.30957647197593</td>\n      <td>33.23428902334641</td>\n      <td>126.30957647197593_33.23428902334641</td>\n      <td>https://dapi.kakao.com/v2/local/geo/coord2regi...</td>\n      <td>안덕면</td>\n    </tr>\n    <tr>\n      <th>13816</th>\n      <td>13816</td>\n      <td>269415</td>\n      <td>269416</td>\n      <td>269416</td>\n      <td>202005</td>\n      <td>제주특별자치도</td>\n      <td>제주시</td>\n      <td>일반</td>\n      <td>건강식품(회원제형태)</td>\n      <td>x시</td>\n      <td>...</td>\n      <td>0</td>\n      <td>12</td>\n      <td>0</td>\n      <td>903092.2237</td>\n      <td>1.501082e+06</td>\n      <td>126.45675120309421</td>\n      <td>33.49720789225105</td>\n      <td>126.45675120309421_33.49720789225105</td>\n      <td>https://dapi.kakao.com/v2/local/geo/coord2regi...</td>\n      <td>이호일동</td>\n    </tr>\n    <tr>\n      <th>13817</th>\n      <td>13817</td>\n      <td>269435</td>\n      <td>269436</td>\n      <td>269436</td>\n      <td>202005</td>\n      <td>제주특별자치도</td>\n      <td>서귀포시</td>\n      <td>영세</td>\n      <td>기타숙박업</td>\n      <td>x시</td>\n      <td>...</td>\n      <td>0</td>\n      <td>1</td>\n      <td>0</td>\n      <td>903666.4287</td>\n      <td>1.475096e+06</td>\n      <td>126.46571021256327</td>\n      <td>33.2629083000071</td>\n      <td>126.46571021256327_33.2629083000071</td>\n      <td>https://dapi.kakao.com/v2/local/geo/coord2regi...</td>\n      <td>하원동</td>\n    </tr>\n    <tr>\n      <th>13818</th>\n      <td>13818</td>\n      <td>270507</td>\n      <td>270508</td>\n      <td>270508</td>\n      <td>202005</td>\n      <td>제주특별자치도</td>\n      <td>제주시</td>\n      <td>일반</td>\n      <td>기타음료식품</td>\n      <td>x시</td>\n      <td>...</td>\n      <td>0</td>\n      <td>1</td>\n      <td>0</td>\n      <td>907738.4497</td>\n      <td>1.501454e+06</td>\n      <td>126.50672452857444</td>\n      <td>33.50097517749024</td>\n      <td>126.50672452857444_33.50097517749024</td>\n      <td>https://dapi.kakao.com/v2/local/geo/coord2regi...</td>\n      <td>용담이동</td>\n    </tr>\n    <tr>\n      <th>13819</th>\n      <td>13819</td>\n      <td>271852</td>\n      <td>271853</td>\n      <td>271853</td>\n      <td>202005</td>\n      <td>제주특별자치도</td>\n      <td>서귀포시</td>\n      <td>일반</td>\n      <td>기타음료식품</td>\n      <td>x시</td>\n      <td>...</td>\n      <td>0</td>\n      <td>1</td>\n      <td>0</td>\n      <td>912018.4146</td>\n      <td>1.473936e+06</td>\n      <td>126.55548315030599</td>\n      <td>33.25316331771586</td>\n      <td>126.55548315030599_33.25316331771586</td>\n      <td>https://dapi.kakao.com/v2/local/geo/coord2regi...</td>\n      <td>서홍동</td>\n    </tr>\n  </tbody>\n</table>\n<p>13820 rows × 21 columns</p>\n</div>"
     },
     "metadata": {},
     "execution_count": 59
    }
   ],
   "source": [
    "# 5. df 와 merge \n",
    "df_join = df_uniq.join(df_dong)\n",
    "df_join"
   ]
  },
  {
   "cell_type": "code",
   "execution_count": 60,
   "metadata": {},
   "outputs": [
    {
     "output_type": "execute_result",
     "data": {
      "text/plain": [
       "                                    lon_lat  dong\n",
       "13817   126.46571021256327_33.2629083000071   하원동\n",
       "13818  126.50672452857444_33.50097517749024  용담이동\n",
       "13819  126.55548315030599_33.25316331771586   서홍동"
      ],
      "text/html": "<div>\n<style scoped>\n    .dataframe tbody tr th:only-of-type {\n        vertical-align: middle;\n    }\n\n    .dataframe tbody tr th {\n        vertical-align: top;\n    }\n\n    .dataframe thead th {\n        text-align: right;\n    }\n</style>\n<table border=\"1\" class=\"dataframe\">\n  <thead>\n    <tr style=\"text-align: right;\">\n      <th></th>\n      <th>lon_lat</th>\n      <th>dong</th>\n    </tr>\n  </thead>\n  <tbody>\n    <tr>\n      <th>13817</th>\n      <td>126.46571021256327_33.2629083000071</td>\n      <td>하원동</td>\n    </tr>\n    <tr>\n      <th>13818</th>\n      <td>126.50672452857444_33.50097517749024</td>\n      <td>용담이동</td>\n    </tr>\n    <tr>\n      <th>13819</th>\n      <td>126.55548315030599_33.25316331771586</td>\n      <td>서홍동</td>\n    </tr>\n  </tbody>\n</table>\n</div>"
     },
     "metadata": {},
     "execution_count": 60
    }
   ],
   "source": [
    "# 변환된 주소값을 원본 데이터와 합치기 \n",
    "\n",
    "df_addr = df_join[['lon_lat','dong']]\n",
    "df_addr.tail(3)"
   ]
  },
  {
   "cell_type": "code",
   "execution_count": 62,
   "metadata": {},
   "outputs": [
    {
     "output_type": "execute_result",
     "data": {
      "text/plain": [
       "        OBJECTID  Field1      YM     SIDO SIGUNGU FranClass         Type Time  \\\n",
       "0              1       1  202005  제주특별자치도     제주시        영세         일반한식  00시   \n",
       "1           4904    4904  202005  제주특별자치도     제주시        영세         일반한식  01시   \n",
       "2           8569    8569  202005  제주특별자치도     제주시        영세         일반한식  02시   \n",
       "3          11270   11270  202005  제주특별자치도     제주시        영세         일반한식  03시   \n",
       "4          19122   19122  202005  제주특별자치도     제주시        중소          한의원  07시   \n",
       "...          ...     ...     ...      ...     ...       ...          ...  ...   \n",
       "273178    268815  268815  202005  제주특별자치도    서귀포시        영세        기타숙박업   x시   \n",
       "273179    269416  269416  202005  제주특별자치도     제주시        일반  건강식품(회원제형태)   x시   \n",
       "273180    269436  269436  202005  제주특별자치도    서귀포시        영세        기타숙박업   x시   \n",
       "273181    270508  270508  202005  제주특별자치도     제주시        일반       기타음료식품   x시   \n",
       "273182    271853  271853  202005  제주특별자치도    서귀포시        일반       기타음료식품   x시   \n",
       "\n",
       "        TotalSpent  DisSpent  NumofSpent  NumofDisSpent      POINT_X  \\\n",
       "0           363000     66500          10              2  877005.9834   \n",
       "1            86500         0           3              0  877005.9834   \n",
       "2           208000         0           5              0  877005.9834   \n",
       "3            18000         0           1              0  877005.9834   \n",
       "4             4800         0           2              0  877005.9834   \n",
       "...            ...       ...         ...            ...          ...   \n",
       "273178       50000         0           1              0  889087.2224   \n",
       "273179     7662600         0          12              0  903092.2237   \n",
       "273180      240000         0           1              0  903666.4287   \n",
       "273181       90750         0           1              0  907738.4497   \n",
       "273182      200000         0           1              0  912018.4146   \n",
       "\n",
       "             POINT_Y                 lon                lat  \\\n",
       "0       1.479766e+06  126.17889362710162  33.30231529076243   \n",
       "1       1.479766e+06  126.17889362710162  33.30231529076243   \n",
       "2       1.479766e+06  126.17889362710162  33.30231529076243   \n",
       "3       1.479766e+06  126.17889362710162  33.30231529076243   \n",
       "4       1.479766e+06  126.17889362710162  33.30231529076243   \n",
       "...              ...                 ...                ...   \n",
       "273178  1.472077e+06  126.30957647197593  33.23428902334641   \n",
       "273179  1.501082e+06  126.45675120309421  33.49720789225105   \n",
       "273180  1.475096e+06  126.46571021256327   33.2629083000071   \n",
       "273181  1.501454e+06  126.50672452857444  33.50097517749024   \n",
       "273182  1.473936e+06  126.55548315030599  33.25316331771586   \n",
       "\n",
       "                                     lon_lat  dong  \n",
       "0       126.17889362710162_33.30231529076243   한경면  \n",
       "1       126.17889362710162_33.30231529076243   한경면  \n",
       "2       126.17889362710162_33.30231529076243   한경면  \n",
       "3       126.17889362710162_33.30231529076243   한경면  \n",
       "4       126.17889362710162_33.30231529076243   한경면  \n",
       "...                                      ...   ...  \n",
       "273178  126.30957647197593_33.23428902334641   안덕면  \n",
       "273179  126.45675120309421_33.49720789225105  이호일동  \n",
       "273180   126.46571021256327_33.2629083000071   하원동  \n",
       "273181  126.50672452857444_33.50097517749024  용담이동  \n",
       "273182  126.55548315030599_33.25316331771586   서홍동  \n",
       "\n",
       "[273183 rows x 18 columns]"
      ],
      "text/html": "<div>\n<style scoped>\n    .dataframe tbody tr th:only-of-type {\n        vertical-align: middle;\n    }\n\n    .dataframe tbody tr th {\n        vertical-align: top;\n    }\n\n    .dataframe thead th {\n        text-align: right;\n    }\n</style>\n<table border=\"1\" class=\"dataframe\">\n  <thead>\n    <tr style=\"text-align: right;\">\n      <th></th>\n      <th>OBJECTID</th>\n      <th>Field1</th>\n      <th>YM</th>\n      <th>SIDO</th>\n      <th>SIGUNGU</th>\n      <th>FranClass</th>\n      <th>Type</th>\n      <th>Time</th>\n      <th>TotalSpent</th>\n      <th>DisSpent</th>\n      <th>NumofSpent</th>\n      <th>NumofDisSpent</th>\n      <th>POINT_X</th>\n      <th>POINT_Y</th>\n      <th>lon</th>\n      <th>lat</th>\n      <th>lon_lat</th>\n      <th>dong</th>\n    </tr>\n  </thead>\n  <tbody>\n    <tr>\n      <th>0</th>\n      <td>1</td>\n      <td>1</td>\n      <td>202005</td>\n      <td>제주특별자치도</td>\n      <td>제주시</td>\n      <td>영세</td>\n      <td>일반한식</td>\n      <td>00시</td>\n      <td>363000</td>\n      <td>66500</td>\n      <td>10</td>\n      <td>2</td>\n      <td>877005.9834</td>\n      <td>1.479766e+06</td>\n      <td>126.17889362710162</td>\n      <td>33.30231529076243</td>\n      <td>126.17889362710162_33.30231529076243</td>\n      <td>한경면</td>\n    </tr>\n    <tr>\n      <th>1</th>\n      <td>4904</td>\n      <td>4904</td>\n      <td>202005</td>\n      <td>제주특별자치도</td>\n      <td>제주시</td>\n      <td>영세</td>\n      <td>일반한식</td>\n      <td>01시</td>\n      <td>86500</td>\n      <td>0</td>\n      <td>3</td>\n      <td>0</td>\n      <td>877005.9834</td>\n      <td>1.479766e+06</td>\n      <td>126.17889362710162</td>\n      <td>33.30231529076243</td>\n      <td>126.17889362710162_33.30231529076243</td>\n      <td>한경면</td>\n    </tr>\n    <tr>\n      <th>2</th>\n      <td>8569</td>\n      <td>8569</td>\n      <td>202005</td>\n      <td>제주특별자치도</td>\n      <td>제주시</td>\n      <td>영세</td>\n      <td>일반한식</td>\n      <td>02시</td>\n      <td>208000</td>\n      <td>0</td>\n      <td>5</td>\n      <td>0</td>\n      <td>877005.9834</td>\n      <td>1.479766e+06</td>\n      <td>126.17889362710162</td>\n      <td>33.30231529076243</td>\n      <td>126.17889362710162_33.30231529076243</td>\n      <td>한경면</td>\n    </tr>\n    <tr>\n      <th>3</th>\n      <td>11270</td>\n      <td>11270</td>\n      <td>202005</td>\n      <td>제주특별자치도</td>\n      <td>제주시</td>\n      <td>영세</td>\n      <td>일반한식</td>\n      <td>03시</td>\n      <td>18000</td>\n      <td>0</td>\n      <td>1</td>\n      <td>0</td>\n      <td>877005.9834</td>\n      <td>1.479766e+06</td>\n      <td>126.17889362710162</td>\n      <td>33.30231529076243</td>\n      <td>126.17889362710162_33.30231529076243</td>\n      <td>한경면</td>\n    </tr>\n    <tr>\n      <th>4</th>\n      <td>19122</td>\n      <td>19122</td>\n      <td>202005</td>\n      <td>제주특별자치도</td>\n      <td>제주시</td>\n      <td>중소</td>\n      <td>한의원</td>\n      <td>07시</td>\n      <td>4800</td>\n      <td>0</td>\n      <td>2</td>\n      <td>0</td>\n      <td>877005.9834</td>\n      <td>1.479766e+06</td>\n      <td>126.17889362710162</td>\n      <td>33.30231529076243</td>\n      <td>126.17889362710162_33.30231529076243</td>\n      <td>한경면</td>\n    </tr>\n    <tr>\n      <th>...</th>\n      <td>...</td>\n      <td>...</td>\n      <td>...</td>\n      <td>...</td>\n      <td>...</td>\n      <td>...</td>\n      <td>...</td>\n      <td>...</td>\n      <td>...</td>\n      <td>...</td>\n      <td>...</td>\n      <td>...</td>\n      <td>...</td>\n      <td>...</td>\n      <td>...</td>\n      <td>...</td>\n      <td>...</td>\n      <td>...</td>\n    </tr>\n    <tr>\n      <th>273178</th>\n      <td>268815</td>\n      <td>268815</td>\n      <td>202005</td>\n      <td>제주특별자치도</td>\n      <td>서귀포시</td>\n      <td>영세</td>\n      <td>기타숙박업</td>\n      <td>x시</td>\n      <td>50000</td>\n      <td>0</td>\n      <td>1</td>\n      <td>0</td>\n      <td>889087.2224</td>\n      <td>1.472077e+06</td>\n      <td>126.30957647197593</td>\n      <td>33.23428902334641</td>\n      <td>126.30957647197593_33.23428902334641</td>\n      <td>안덕면</td>\n    </tr>\n    <tr>\n      <th>273179</th>\n      <td>269416</td>\n      <td>269416</td>\n      <td>202005</td>\n      <td>제주특별자치도</td>\n      <td>제주시</td>\n      <td>일반</td>\n      <td>건강식품(회원제형태)</td>\n      <td>x시</td>\n      <td>7662600</td>\n      <td>0</td>\n      <td>12</td>\n      <td>0</td>\n      <td>903092.2237</td>\n      <td>1.501082e+06</td>\n      <td>126.45675120309421</td>\n      <td>33.49720789225105</td>\n      <td>126.45675120309421_33.49720789225105</td>\n      <td>이호일동</td>\n    </tr>\n    <tr>\n      <th>273180</th>\n      <td>269436</td>\n      <td>269436</td>\n      <td>202005</td>\n      <td>제주특별자치도</td>\n      <td>서귀포시</td>\n      <td>영세</td>\n      <td>기타숙박업</td>\n      <td>x시</td>\n      <td>240000</td>\n      <td>0</td>\n      <td>1</td>\n      <td>0</td>\n      <td>903666.4287</td>\n      <td>1.475096e+06</td>\n      <td>126.46571021256327</td>\n      <td>33.2629083000071</td>\n      <td>126.46571021256327_33.2629083000071</td>\n      <td>하원동</td>\n    </tr>\n    <tr>\n      <th>273181</th>\n      <td>270508</td>\n      <td>270508</td>\n      <td>202005</td>\n      <td>제주특별자치도</td>\n      <td>제주시</td>\n      <td>일반</td>\n      <td>기타음료식품</td>\n      <td>x시</td>\n      <td>90750</td>\n      <td>0</td>\n      <td>1</td>\n      <td>0</td>\n      <td>907738.4497</td>\n      <td>1.501454e+06</td>\n      <td>126.50672452857444</td>\n      <td>33.50097517749024</td>\n      <td>126.50672452857444_33.50097517749024</td>\n      <td>용담이동</td>\n    </tr>\n    <tr>\n      <th>273182</th>\n      <td>271853</td>\n      <td>271853</td>\n      <td>202005</td>\n      <td>제주특별자치도</td>\n      <td>서귀포시</td>\n      <td>일반</td>\n      <td>기타음료식품</td>\n      <td>x시</td>\n      <td>200000</td>\n      <td>0</td>\n      <td>1</td>\n      <td>0</td>\n      <td>912018.4146</td>\n      <td>1.473936e+06</td>\n      <td>126.55548315030599</td>\n      <td>33.25316331771586</td>\n      <td>126.55548315030599_33.25316331771586</td>\n      <td>서홍동</td>\n    </tr>\n  </tbody>\n</table>\n<p>273183 rows × 18 columns</p>\n</div>"
     },
     "metadata": {},
     "execution_count": 62
    }
   ],
   "source": [
    "df_final = pd.merge(df_5, df_addr, on='lon_lat')\n",
    "df_final"
   ]
  },
  {
   "cell_type": "code",
   "execution_count": 63,
   "metadata": {},
   "outputs": [],
   "source": [
    "# # 피클로 저장하기 \n",
    "\n",
    "# import pickle\n",
    "# with open('jeju_uniq_data5.pickle', 'wb') as fw:\n",
    "#     pickle.dump(df_final, fw)\n"
   ]
  },
  {
   "cell_type": "code",
   "execution_count": 64,
   "metadata": {},
   "outputs": [
    {
     "output_type": "execute_result",
     "data": {
      "text/plain": [
       "        OBJECTID  Field1      YM     SIDO SIGUNGU FranClass         Type Time  \\\n",
       "0              1       1  202005  제주특별자치도     제주시        영세         일반한식  00시   \n",
       "1           4904    4904  202005  제주특별자치도     제주시        영세         일반한식  01시   \n",
       "2           8569    8569  202005  제주특별자치도     제주시        영세         일반한식  02시   \n",
       "3          11270   11270  202005  제주특별자치도     제주시        영세         일반한식  03시   \n",
       "4          19122   19122  202005  제주특별자치도     제주시        중소          한의원  07시   \n",
       "...          ...     ...     ...      ...     ...       ...          ...  ...   \n",
       "273178    268815  268815  202005  제주특별자치도    서귀포시        영세        기타숙박업   x시   \n",
       "273179    269416  269416  202005  제주특별자치도     제주시        일반  건강식품(회원제형태)   x시   \n",
       "273180    269436  269436  202005  제주특별자치도    서귀포시        영세        기타숙박업   x시   \n",
       "273181    270508  270508  202005  제주특별자치도     제주시        일반       기타음료식품   x시   \n",
       "273182    271853  271853  202005  제주특별자치도    서귀포시        일반       기타음료식품   x시   \n",
       "\n",
       "        TotalSpent  DisSpent  NumofSpent  NumofDisSpent      POINT_X  \\\n",
       "0           363000     66500          10              2  877005.9834   \n",
       "1            86500         0           3              0  877005.9834   \n",
       "2           208000         0           5              0  877005.9834   \n",
       "3            18000         0           1              0  877005.9834   \n",
       "4             4800         0           2              0  877005.9834   \n",
       "...            ...       ...         ...            ...          ...   \n",
       "273178       50000         0           1              0  889087.2224   \n",
       "273179     7662600         0          12              0  903092.2237   \n",
       "273180      240000         0           1              0  903666.4287   \n",
       "273181       90750         0           1              0  907738.4497   \n",
       "273182      200000         0           1              0  912018.4146   \n",
       "\n",
       "             POINT_Y                 lon                lat  \\\n",
       "0       1.479766e+06  126.17889362710162  33.30231529076243   \n",
       "1       1.479766e+06  126.17889362710162  33.30231529076243   \n",
       "2       1.479766e+06  126.17889362710162  33.30231529076243   \n",
       "3       1.479766e+06  126.17889362710162  33.30231529076243   \n",
       "4       1.479766e+06  126.17889362710162  33.30231529076243   \n",
       "...              ...                 ...                ...   \n",
       "273178  1.472077e+06  126.30957647197593  33.23428902334641   \n",
       "273179  1.501082e+06  126.45675120309421  33.49720789225105   \n",
       "273180  1.475096e+06  126.46571021256327   33.2629083000071   \n",
       "273181  1.501454e+06  126.50672452857444  33.50097517749024   \n",
       "273182  1.473936e+06  126.55548315030599  33.25316331771586   \n",
       "\n",
       "                                     lon_lat  dong  \n",
       "0       126.17889362710162_33.30231529076243   한경면  \n",
       "1       126.17889362710162_33.30231529076243   한경면  \n",
       "2       126.17889362710162_33.30231529076243   한경면  \n",
       "3       126.17889362710162_33.30231529076243   한경면  \n",
       "4       126.17889362710162_33.30231529076243   한경면  \n",
       "...                                      ...   ...  \n",
       "273178  126.30957647197593_33.23428902334641   안덕면  \n",
       "273179  126.45675120309421_33.49720789225105  이호일동  \n",
       "273180   126.46571021256327_33.2629083000071   하원동  \n",
       "273181  126.50672452857444_33.50097517749024  용담이동  \n",
       "273182  126.55548315030599_33.25316331771586   서홍동  \n",
       "\n",
       "[273183 rows x 18 columns]"
      ],
      "text/html": "<div>\n<style scoped>\n    .dataframe tbody tr th:only-of-type {\n        vertical-align: middle;\n    }\n\n    .dataframe tbody tr th {\n        vertical-align: top;\n    }\n\n    .dataframe thead th {\n        text-align: right;\n    }\n</style>\n<table border=\"1\" class=\"dataframe\">\n  <thead>\n    <tr style=\"text-align: right;\">\n      <th></th>\n      <th>OBJECTID</th>\n      <th>Field1</th>\n      <th>YM</th>\n      <th>SIDO</th>\n      <th>SIGUNGU</th>\n      <th>FranClass</th>\n      <th>Type</th>\n      <th>Time</th>\n      <th>TotalSpent</th>\n      <th>DisSpent</th>\n      <th>NumofSpent</th>\n      <th>NumofDisSpent</th>\n      <th>POINT_X</th>\n      <th>POINT_Y</th>\n      <th>lon</th>\n      <th>lat</th>\n      <th>lon_lat</th>\n      <th>dong</th>\n    </tr>\n  </thead>\n  <tbody>\n    <tr>\n      <th>0</th>\n      <td>1</td>\n      <td>1</td>\n      <td>202005</td>\n      <td>제주특별자치도</td>\n      <td>제주시</td>\n      <td>영세</td>\n      <td>일반한식</td>\n      <td>00시</td>\n      <td>363000</td>\n      <td>66500</td>\n      <td>10</td>\n      <td>2</td>\n      <td>877005.9834</td>\n      <td>1.479766e+06</td>\n      <td>126.17889362710162</td>\n      <td>33.30231529076243</td>\n      <td>126.17889362710162_33.30231529076243</td>\n      <td>한경면</td>\n    </tr>\n    <tr>\n      <th>1</th>\n      <td>4904</td>\n      <td>4904</td>\n      <td>202005</td>\n      <td>제주특별자치도</td>\n      <td>제주시</td>\n      <td>영세</td>\n      <td>일반한식</td>\n      <td>01시</td>\n      <td>86500</td>\n      <td>0</td>\n      <td>3</td>\n      <td>0</td>\n      <td>877005.9834</td>\n      <td>1.479766e+06</td>\n      <td>126.17889362710162</td>\n      <td>33.30231529076243</td>\n      <td>126.17889362710162_33.30231529076243</td>\n      <td>한경면</td>\n    </tr>\n    <tr>\n      <th>2</th>\n      <td>8569</td>\n      <td>8569</td>\n      <td>202005</td>\n      <td>제주특별자치도</td>\n      <td>제주시</td>\n      <td>영세</td>\n      <td>일반한식</td>\n      <td>02시</td>\n      <td>208000</td>\n      <td>0</td>\n      <td>5</td>\n      <td>0</td>\n      <td>877005.9834</td>\n      <td>1.479766e+06</td>\n      <td>126.17889362710162</td>\n      <td>33.30231529076243</td>\n      <td>126.17889362710162_33.30231529076243</td>\n      <td>한경면</td>\n    </tr>\n    <tr>\n      <th>3</th>\n      <td>11270</td>\n      <td>11270</td>\n      <td>202005</td>\n      <td>제주특별자치도</td>\n      <td>제주시</td>\n      <td>영세</td>\n      <td>일반한식</td>\n      <td>03시</td>\n      <td>18000</td>\n      <td>0</td>\n      <td>1</td>\n      <td>0</td>\n      <td>877005.9834</td>\n      <td>1.479766e+06</td>\n      <td>126.17889362710162</td>\n      <td>33.30231529076243</td>\n      <td>126.17889362710162_33.30231529076243</td>\n      <td>한경면</td>\n    </tr>\n    <tr>\n      <th>4</th>\n      <td>19122</td>\n      <td>19122</td>\n      <td>202005</td>\n      <td>제주특별자치도</td>\n      <td>제주시</td>\n      <td>중소</td>\n      <td>한의원</td>\n      <td>07시</td>\n      <td>4800</td>\n      <td>0</td>\n      <td>2</td>\n      <td>0</td>\n      <td>877005.9834</td>\n      <td>1.479766e+06</td>\n      <td>126.17889362710162</td>\n      <td>33.30231529076243</td>\n      <td>126.17889362710162_33.30231529076243</td>\n      <td>한경면</td>\n    </tr>\n    <tr>\n      <th>...</th>\n      <td>...</td>\n      <td>...</td>\n      <td>...</td>\n      <td>...</td>\n      <td>...</td>\n      <td>...</td>\n      <td>...</td>\n      <td>...</td>\n      <td>...</td>\n      <td>...</td>\n      <td>...</td>\n      <td>...</td>\n      <td>...</td>\n      <td>...</td>\n      <td>...</td>\n      <td>...</td>\n      <td>...</td>\n      <td>...</td>\n    </tr>\n    <tr>\n      <th>273178</th>\n      <td>268815</td>\n      <td>268815</td>\n      <td>202005</td>\n      <td>제주특별자치도</td>\n      <td>서귀포시</td>\n      <td>영세</td>\n      <td>기타숙박업</td>\n      <td>x시</td>\n      <td>50000</td>\n      <td>0</td>\n      <td>1</td>\n      <td>0</td>\n      <td>889087.2224</td>\n      <td>1.472077e+06</td>\n      <td>126.30957647197593</td>\n      <td>33.23428902334641</td>\n      <td>126.30957647197593_33.23428902334641</td>\n      <td>안덕면</td>\n    </tr>\n    <tr>\n      <th>273179</th>\n      <td>269416</td>\n      <td>269416</td>\n      <td>202005</td>\n      <td>제주특별자치도</td>\n      <td>제주시</td>\n      <td>일반</td>\n      <td>건강식품(회원제형태)</td>\n      <td>x시</td>\n      <td>7662600</td>\n      <td>0</td>\n      <td>12</td>\n      <td>0</td>\n      <td>903092.2237</td>\n      <td>1.501082e+06</td>\n      <td>126.45675120309421</td>\n      <td>33.49720789225105</td>\n      <td>126.45675120309421_33.49720789225105</td>\n      <td>이호일동</td>\n    </tr>\n    <tr>\n      <th>273180</th>\n      <td>269436</td>\n      <td>269436</td>\n      <td>202005</td>\n      <td>제주특별자치도</td>\n      <td>서귀포시</td>\n      <td>영세</td>\n      <td>기타숙박업</td>\n      <td>x시</td>\n      <td>240000</td>\n      <td>0</td>\n      <td>1</td>\n      <td>0</td>\n      <td>903666.4287</td>\n      <td>1.475096e+06</td>\n      <td>126.46571021256327</td>\n      <td>33.2629083000071</td>\n      <td>126.46571021256327_33.2629083000071</td>\n      <td>하원동</td>\n    </tr>\n    <tr>\n      <th>273181</th>\n      <td>270508</td>\n      <td>270508</td>\n      <td>202005</td>\n      <td>제주특별자치도</td>\n      <td>제주시</td>\n      <td>일반</td>\n      <td>기타음료식품</td>\n      <td>x시</td>\n      <td>90750</td>\n      <td>0</td>\n      <td>1</td>\n      <td>0</td>\n      <td>907738.4497</td>\n      <td>1.501454e+06</td>\n      <td>126.50672452857444</td>\n      <td>33.50097517749024</td>\n      <td>126.50672452857444_33.50097517749024</td>\n      <td>용담이동</td>\n    </tr>\n    <tr>\n      <th>273182</th>\n      <td>271853</td>\n      <td>271853</td>\n      <td>202005</td>\n      <td>제주특별자치도</td>\n      <td>서귀포시</td>\n      <td>일반</td>\n      <td>기타음료식품</td>\n      <td>x시</td>\n      <td>200000</td>\n      <td>0</td>\n      <td>1</td>\n      <td>0</td>\n      <td>912018.4146</td>\n      <td>1.473936e+06</td>\n      <td>126.55548315030599</td>\n      <td>33.25316331771586</td>\n      <td>126.55548315030599_33.25316331771586</td>\n      <td>서홍동</td>\n    </tr>\n  </tbody>\n</table>\n<p>273183 rows × 18 columns</p>\n</div>"
     },
     "metadata": {},
     "execution_count": 64
    }
   ],
   "source": [
    "import pickle\n",
    "with open('jeju_uniq_data5.pickle', 'rb') as fr:\n",
    "    df_pickle5 = pickle.load(fr)\n",
    "\n",
    "df_pickle5"
   ]
  },
  {
   "cell_type": "code",
   "execution_count": null,
   "metadata": {},
   "outputs": [],
   "source": [
    "# 1. 데이터 가져오기 (5~8월)\n",
    "\n",
    "import pickle\n",
    "with open('jeju_uniq_data5.pickle','rb') as fr:\n",
    "    jeju_5 = pickle.load(fr)\n",
    "with open('jeju_uniq_data6.pickle','rb') as fr:\n",
    "    jeju_6 = pickle.load(fr)\n",
    "with open('jeju_uniq_data7.pickle','rb') as fr:\n",
    "    jeju_7 = pickle.load(fr)\n",
    "with open('jeju_uniq_data8.pickle','rb') as fr:\n",
    "    jeju_8 = pickle.load(fr)"
   ]
  },
  {
   "cell_type": "code",
   "execution_count": null,
   "metadata": {},
   "outputs": [],
   "source": [
    "jeju_7.drop(columns=['X','Y'],axis=1,inplace=True)\n",
    "jeju_all = pd.concat([jeju_5,jeju_6,jeju_7,jeju_8],axis=0, sort=False)\n",
    "jeju_all.head()"
   ]
  },
  {
   "cell_type": "code",
   "execution_count": null,
   "metadata": {},
   "outputs": [],
   "source": [
    "# # 피클 저장하기 \n",
    "\n",
    "# with open('jeju_all.pickle','wb') as fw:\n",
    "#     pickle.dump(jeju_all, fw)"
   ]
  },
  {
   "cell_type": "code",
   "execution_count": null,
   "metadata": {},
   "outputs": [],
   "source": []
  }
 ]
}