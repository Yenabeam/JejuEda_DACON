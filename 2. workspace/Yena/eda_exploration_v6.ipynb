{
 "cells": [
  {
   "cell_type": "code",
   "execution_count": 31,
   "metadata": {},
   "outputs": [
    {
     "output_type": "execute_result",
     "data": {
      "text/plain": [
       "        OBJECTID  Field1      YM     SIDO SIGUNGU FranClass   Type Time  \\\n",
       "273178    273179  273179  202005  제주특별자치도     제주시        중소  침구수예점   x시   \n",
       "273179    273180  273180  202005  제주특별자치도     제주시       중소1   서양음식   x시   \n",
       "273180    273181  273181  202005  제주특별자치도     제주시        영세    편의점   x시   \n",
       "273181    273182  273182  202005  제주특별자치도     제주시        중소    제과점   x시   \n",
       "273182    273183  273183  202005  제주특별자치도     제주시        영세   서양음식   x시   \n",
       "\n",
       "        TotalSpent  DisSpent  NumofSpent  NumofDisSpent      POINT_X  \\\n",
       "273178       17000         0           1              0  949616.6171   \n",
       "273179       12000         0           1              0  949665.1566   \n",
       "273180        4800         0           1              0  950266.5976   \n",
       "273181       25000         0           2              0  950524.6587   \n",
       "273182        6000         0           1              0  950674.5989   \n",
       "\n",
       "             POINT_Y  \n",
       "273178  1.502505e+06  \n",
       "273179  1.502805e+06  \n",
       "273180  1.502458e+06  \n",
       "273181  1.500760e+06  \n",
       "273182  1.500760e+06  "
      ],
      "text/html": "<div>\n<style scoped>\n    .dataframe tbody tr th:only-of-type {\n        vertical-align: middle;\n    }\n\n    .dataframe tbody tr th {\n        vertical-align: top;\n    }\n\n    .dataframe thead th {\n        text-align: right;\n    }\n</style>\n<table border=\"1\" class=\"dataframe\">\n  <thead>\n    <tr style=\"text-align: right;\">\n      <th></th>\n      <th>OBJECTID</th>\n      <th>Field1</th>\n      <th>YM</th>\n      <th>SIDO</th>\n      <th>SIGUNGU</th>\n      <th>FranClass</th>\n      <th>Type</th>\n      <th>Time</th>\n      <th>TotalSpent</th>\n      <th>DisSpent</th>\n      <th>NumofSpent</th>\n      <th>NumofDisSpent</th>\n      <th>POINT_X</th>\n      <th>POINT_Y</th>\n    </tr>\n  </thead>\n  <tbody>\n    <tr>\n      <th>273178</th>\n      <td>273179</td>\n      <td>273179</td>\n      <td>202005</td>\n      <td>제주특별자치도</td>\n      <td>제주시</td>\n      <td>중소</td>\n      <td>침구수예점</td>\n      <td>x시</td>\n      <td>17000</td>\n      <td>0</td>\n      <td>1</td>\n      <td>0</td>\n      <td>949616.6171</td>\n      <td>1.502505e+06</td>\n    </tr>\n    <tr>\n      <th>273179</th>\n      <td>273180</td>\n      <td>273180</td>\n      <td>202005</td>\n      <td>제주특별자치도</td>\n      <td>제주시</td>\n      <td>중소1</td>\n      <td>서양음식</td>\n      <td>x시</td>\n      <td>12000</td>\n      <td>0</td>\n      <td>1</td>\n      <td>0</td>\n      <td>949665.1566</td>\n      <td>1.502805e+06</td>\n    </tr>\n    <tr>\n      <th>273180</th>\n      <td>273181</td>\n      <td>273181</td>\n      <td>202005</td>\n      <td>제주특별자치도</td>\n      <td>제주시</td>\n      <td>영세</td>\n      <td>편의점</td>\n      <td>x시</td>\n      <td>4800</td>\n      <td>0</td>\n      <td>1</td>\n      <td>0</td>\n      <td>950266.5976</td>\n      <td>1.502458e+06</td>\n    </tr>\n    <tr>\n      <th>273181</th>\n      <td>273182</td>\n      <td>273182</td>\n      <td>202005</td>\n      <td>제주특별자치도</td>\n      <td>제주시</td>\n      <td>중소</td>\n      <td>제과점</td>\n      <td>x시</td>\n      <td>25000</td>\n      <td>0</td>\n      <td>2</td>\n      <td>0</td>\n      <td>950524.6587</td>\n      <td>1.500760e+06</td>\n    </tr>\n    <tr>\n      <th>273182</th>\n      <td>273183</td>\n      <td>273183</td>\n      <td>202005</td>\n      <td>제주특별자치도</td>\n      <td>제주시</td>\n      <td>영세</td>\n      <td>서양음식</td>\n      <td>x시</td>\n      <td>6000</td>\n      <td>0</td>\n      <td>1</td>\n      <td>0</td>\n      <td>950674.5989</td>\n      <td>1.500760e+06</td>\n    </tr>\n  </tbody>\n</table>\n</div>"
     },
     "metadata": {},
     "execution_count": 31
    }
   ],
   "source": [
    "# 데이터 가져오기\n",
    "\n",
    "raw_data = pd.read_csv('../../1. raw_data/KRI-DAC_Jeju_data5.txt', sep=',')\n",
    "raw_data.tail()"
   ]
  },
  {
   "cell_type": "code",
   "execution_count": 32,
   "metadata": {},
   "outputs": [],
   "source": [
    "df = raw_data.copy()"
   ]
  },
  {
   "cell_type": "code",
   "execution_count": 33,
   "metadata": {},
   "outputs": [],
   "source": [
    "from pyproj import Proj, transform\n",
    "\n",
    "# ITRF좌표계\n",
    "proj_ITRF = Proj(init='epsg:5179')\n",
    "# WGS 좌표계 \n",
    "proj_WGS84 = Proj(init='epsg:4326')\n"
   ]
  },
  {
   "cell_type": "code",
   "execution_count": 34,
   "metadata": {},
   "outputs": [
    {
     "output_type": "execute_result",
     "data": {
      "text/plain": [
       "(127.07103374451121, 35.53921546645965)"
      ]
     },
     "metadata": {},
     "execution_count": 34
    }
   ],
   "source": [
    "# 변환 예시 \n",
    "x1, y1 = 961114.519726,1727112.269174\n",
    "x2, y2 = transform(proj_ITRF, proj_WGS84, x1, y1)\n",
    "x2, y2"
   ]
  },
  {
   "cell_type": "code",
   "execution_count": 35,
   "metadata": {},
   "outputs": [
    {
     "output_type": "execute_result",
     "data": {
      "text/plain": [
       "        OBJECTID  Field1      YM     SIDO SIGUNGU FranClass   Type Time  \\\n",
       "273178    273179  273179  202005  제주특별자치도     제주시        중소  침구수예점   x시   \n",
       "273179    273180  273180  202005  제주특별자치도     제주시       중소1   서양음식   x시   \n",
       "273180    273181  273181  202005  제주특별자치도     제주시        영세    편의점   x시   \n",
       "273181    273182  273182  202005  제주특별자치도     제주시        중소    제과점   x시   \n",
       "273182    273183  273183  202005  제주특별자치도     제주시        영세   서양음식   x시   \n",
       "\n",
       "        TotalSpent  DisSpent  NumofSpent  NumofDisSpent      POINT_X  \\\n",
       "273178       17000         0           1              0  949616.6171   \n",
       "273179       12000         0           1              0  949665.1566   \n",
       "273180        4800         0           1              0  950266.5976   \n",
       "273181       25000         0           2              0  950524.6587   \n",
       "273182        6000         0           1              0  950674.5989   \n",
       "\n",
       "             POINT_Y         lon        lat  \n",
       "273178  1.502505e+06  126.957495  33.513247  \n",
       "273179  1.502805e+06  126.958001  33.515956  \n",
       "273180  1.502458e+06  126.964496  33.512854  \n",
       "273181  1.500760e+06  126.967369  33.497551  \n",
       "273182  1.500760e+06  126.968983  33.497564  "
      ],
      "text/html": "<div>\n<style scoped>\n    .dataframe tbody tr th:only-of-type {\n        vertical-align: middle;\n    }\n\n    .dataframe tbody tr th {\n        vertical-align: top;\n    }\n\n    .dataframe thead th {\n        text-align: right;\n    }\n</style>\n<table border=\"1\" class=\"dataframe\">\n  <thead>\n    <tr style=\"text-align: right;\">\n      <th></th>\n      <th>OBJECTID</th>\n      <th>Field1</th>\n      <th>YM</th>\n      <th>SIDO</th>\n      <th>SIGUNGU</th>\n      <th>FranClass</th>\n      <th>Type</th>\n      <th>Time</th>\n      <th>TotalSpent</th>\n      <th>DisSpent</th>\n      <th>NumofSpent</th>\n      <th>NumofDisSpent</th>\n      <th>POINT_X</th>\n      <th>POINT_Y</th>\n      <th>lon</th>\n      <th>lat</th>\n    </tr>\n  </thead>\n  <tbody>\n    <tr>\n      <th>273178</th>\n      <td>273179</td>\n      <td>273179</td>\n      <td>202005</td>\n      <td>제주특별자치도</td>\n      <td>제주시</td>\n      <td>중소</td>\n      <td>침구수예점</td>\n      <td>x시</td>\n      <td>17000</td>\n      <td>0</td>\n      <td>1</td>\n      <td>0</td>\n      <td>949616.6171</td>\n      <td>1.502505e+06</td>\n      <td>126.957495</td>\n      <td>33.513247</td>\n    </tr>\n    <tr>\n      <th>273179</th>\n      <td>273180</td>\n      <td>273180</td>\n      <td>202005</td>\n      <td>제주특별자치도</td>\n      <td>제주시</td>\n      <td>중소1</td>\n      <td>서양음식</td>\n      <td>x시</td>\n      <td>12000</td>\n      <td>0</td>\n      <td>1</td>\n      <td>0</td>\n      <td>949665.1566</td>\n      <td>1.502805e+06</td>\n      <td>126.958001</td>\n      <td>33.515956</td>\n    </tr>\n    <tr>\n      <th>273180</th>\n      <td>273181</td>\n      <td>273181</td>\n      <td>202005</td>\n      <td>제주특별자치도</td>\n      <td>제주시</td>\n      <td>영세</td>\n      <td>편의점</td>\n      <td>x시</td>\n      <td>4800</td>\n      <td>0</td>\n      <td>1</td>\n      <td>0</td>\n      <td>950266.5976</td>\n      <td>1.502458e+06</td>\n      <td>126.964496</td>\n      <td>33.512854</td>\n    </tr>\n    <tr>\n      <th>273181</th>\n      <td>273182</td>\n      <td>273182</td>\n      <td>202005</td>\n      <td>제주특별자치도</td>\n      <td>제주시</td>\n      <td>중소</td>\n      <td>제과점</td>\n      <td>x시</td>\n      <td>25000</td>\n      <td>0</td>\n      <td>2</td>\n      <td>0</td>\n      <td>950524.6587</td>\n      <td>1.500760e+06</td>\n      <td>126.967369</td>\n      <td>33.497551</td>\n    </tr>\n    <tr>\n      <th>273182</th>\n      <td>273183</td>\n      <td>273183</td>\n      <td>202005</td>\n      <td>제주특별자치도</td>\n      <td>제주시</td>\n      <td>영세</td>\n      <td>서양음식</td>\n      <td>x시</td>\n      <td>6000</td>\n      <td>0</td>\n      <td>1</td>\n      <td>0</td>\n      <td>950674.5989</td>\n      <td>1.500760e+06</td>\n      <td>126.968983</td>\n      <td>33.497564</td>\n    </tr>\n  </tbody>\n</table>\n</div>"
     },
     "metadata": {},
     "execution_count": 35
    }
   ],
   "source": [
    "df['lon'], df['lat'] = transform(proj_ITRF, proj_WGS84, df['POINT_X'], df['POINT_Y'])\n",
    "df.tail()"
   ]
  },
  {
   "cell_type": "code",
   "execution_count": 36,
   "metadata": {},
   "outputs": [
    {
     "output_type": "execute_result",
     "data": {
      "text/plain": [
       "126.52427851055405_33.51290574138535     400\n",
       "126.52935695016222_33.49899169591379     314\n",
       "126.52880376641139_33.499886709171996    309\n",
       "126.47793511858133_33.48574932701181     275\n",
       "126.56362561835856_33.24739705179205     258\n",
       "                                        ... \n",
       "126.61973674157_33.533839907407454         1\n",
       "126.47811623086326_33.475383515599056      1\n",
       "126.75397178703172_33.557350919669986      1\n",
       "126.30082494598244_33.95764108778818       1\n",
       "126.50993684338977_33.5019153869064        1\n",
       "Name: lon_lat, Length: 13820, dtype: int64"
      ]
     },
     "metadata": {},
     "execution_count": 36
    }
   ],
   "source": [
    "df['lon'] = df['lon'].astype(str)\n",
    "df['lat'] = df['lat'].astype(str)\n",
    "df['lon_lat'] = df['lon']+'_'+df['lat']\n",
    "df['lon_lat'].value_counts()"
   ]
  },
  {
   "cell_type": "code",
   "execution_count": 37,
   "metadata": {},
   "outputs": [],
   "source": [
    "# ################# 좌표 정보 주소 변환 ####################\n",
    "# import requests\n",
    "# import json"
   ]
  },
  {
   "cell_type": "code",
   "execution_count": 38,
   "metadata": {},
   "outputs": [],
   "source": [
    "# url = \"https://dapi.kakao.com/v2/local/geo/coord2regioncode.json?x=126.968983&y=33.497564\"\n",
    "# headers = {\"Authorization\": \"KakaoAK 1fecb2a27219321b92e1464ad08365fb\"}"
   ]
  },
  {
   "cell_type": "code",
   "execution_count": 39,
   "metadata": {},
   "outputs": [],
   "source": [
    "# api_test = requests.get(url, headers=headers)\n",
    "# url_text = json.loads(api_test.text)\n",
    "# url_text"
   ]
  },
  {
   "cell_type": "code",
   "execution_count": 40,
   "metadata": {},
   "outputs": [],
   "source": [
    "# dongmyeon = url_text['documents'][0]['region_3depth_name']\n",
    "# ri = url_text['documents'][0]['region_4depth_name']\n",
    "\n",
    "# dongmyeon, ri "
   ]
  },
  {
   "cell_type": "code",
   "execution_count": 41,
   "metadata": {},
   "outputs": [],
   "source": [
    "# df['lon'] = df['lon'].astype(str)\n",
    "# df['lat'] = df['lat'].astype(str)"
   ]
  },
  {
   "cell_type": "code",
   "execution_count": 42,
   "metadata": {},
   "outputs": [],
   "source": [
    "# df['url1'] = 'https://dapi.kakao.com/v2/local/geo/coord2regioncode.json?x=' + df['lon']\n",
    "# df['url2'] = '&y=' + df['lat']\n",
    "# df['url'] = df['url1'] + df['url2']"
   ]
  },
  {
   "cell_type": "code",
   "execution_count": 43,
   "metadata": {},
   "outputs": [],
   "source": [
    "# df.drop(columns=['url1','url2'],axis=1,inplace=True)"
   ]
  },
  {
   "cell_type": "code",
   "execution_count": 44,
   "metadata": {},
   "outputs": [],
   "source": [
    "# dong_ls = []\n",
    "# ri_ls = []\n",
    "# for i in df.index[:100]:\n",
    "#     url = df['url'][i]\n",
    "#     headers = {\"Authorization\": \"KakaoAK 1fecb2a27219321b92e1464ad08365fb\"}\n",
    "#     api_test = requests.get(url, headers=headers)\n",
    "#     url_text = json.loads(api_test.text)\n",
    "#     dong = url_text['documents'][0]['region_3depth_name']\n",
    "#     dong_ls.append(dong)"
   ]
  },
  {
   "cell_type": "code",
   "execution_count": 45,
   "metadata": {},
   "outputs": [],
   "source": [
    "##############################시각화#########################"
   ]
  },
  {
   "cell_type": "code",
   "execution_count": 46,
   "metadata": {},
   "outputs": [
    {
     "output_type": "execute_result",
     "data": {
      "text/plain": [
       "       OBJECTID  Field1      YM     SIDO SIGUNGU FranClass  Type Time  \\\n",
       "0             1       1  202005  제주특별자치도     제주시        영세  일반한식  00시   \n",
       "4903       4904    4904  202005  제주특별자치도     제주시        영세  일반한식  01시   \n",
       "8568       8569    8569  202005  제주특별자치도     제주시        영세  일반한식  02시   \n",
       "11269     11270   11270  202005  제주특별자치도     제주시        영세  일반한식  03시   \n",
       "19121     19122   19122  202005  제주특별자치도     제주시        중소   한의원  07시   \n",
       "\n",
       "       TotalSpent  DisSpent  NumofSpent  NumofDisSpent      POINT_X  \\\n",
       "0          363000     66500          10              2  877005.9834   \n",
       "4903        86500         0           3              0  877005.9834   \n",
       "8568       208000         0           5              0  877005.9834   \n",
       "11269       18000         0           1              0  877005.9834   \n",
       "19121        4800         0           2              0  877005.9834   \n",
       "\n",
       "           POINT_Y                 lon                lat  \\\n",
       "0      1479766.073  126.17889362710162  33.30231529076243   \n",
       "4903   1479766.073  126.17889362710162  33.30231529076243   \n",
       "8568   1479766.073  126.17889362710162  33.30231529076243   \n",
       "11269  1479766.073  126.17889362710162  33.30231529076243   \n",
       "19121  1479766.073  126.17889362710162  33.30231529076243   \n",
       "\n",
       "                                    lon_lat  \n",
       "0      126.17889362710162_33.30231529076243  \n",
       "4903   126.17889362710162_33.30231529076243  \n",
       "8568   126.17889362710162_33.30231529076243  \n",
       "11269  126.17889362710162_33.30231529076243  \n",
       "19121  126.17889362710162_33.30231529076243  "
      ],
      "text/html": "<div>\n<style scoped>\n    .dataframe tbody tr th:only-of-type {\n        vertical-align: middle;\n    }\n\n    .dataframe tbody tr th {\n        vertical-align: top;\n    }\n\n    .dataframe thead th {\n        text-align: right;\n    }\n</style>\n<table border=\"1\" class=\"dataframe\">\n  <thead>\n    <tr style=\"text-align: right;\">\n      <th></th>\n      <th>OBJECTID</th>\n      <th>Field1</th>\n      <th>YM</th>\n      <th>SIDO</th>\n      <th>SIGUNGU</th>\n      <th>FranClass</th>\n      <th>Type</th>\n      <th>Time</th>\n      <th>TotalSpent</th>\n      <th>DisSpent</th>\n      <th>NumofSpent</th>\n      <th>NumofDisSpent</th>\n      <th>POINT_X</th>\n      <th>POINT_Y</th>\n      <th>lon</th>\n      <th>lat</th>\n      <th>lon_lat</th>\n    </tr>\n  </thead>\n  <tbody>\n    <tr>\n      <th>0</th>\n      <td>1</td>\n      <td>1</td>\n      <td>202005</td>\n      <td>제주특별자치도</td>\n      <td>제주시</td>\n      <td>영세</td>\n      <td>일반한식</td>\n      <td>00시</td>\n      <td>363000</td>\n      <td>66500</td>\n      <td>10</td>\n      <td>2</td>\n      <td>877005.9834</td>\n      <td>1479766.073</td>\n      <td>126.17889362710162</td>\n      <td>33.30231529076243</td>\n      <td>126.17889362710162_33.30231529076243</td>\n    </tr>\n    <tr>\n      <th>4903</th>\n      <td>4904</td>\n      <td>4904</td>\n      <td>202005</td>\n      <td>제주특별자치도</td>\n      <td>제주시</td>\n      <td>영세</td>\n      <td>일반한식</td>\n      <td>01시</td>\n      <td>86500</td>\n      <td>0</td>\n      <td>3</td>\n      <td>0</td>\n      <td>877005.9834</td>\n      <td>1479766.073</td>\n      <td>126.17889362710162</td>\n      <td>33.30231529076243</td>\n      <td>126.17889362710162_33.30231529076243</td>\n    </tr>\n    <tr>\n      <th>8568</th>\n      <td>8569</td>\n      <td>8569</td>\n      <td>202005</td>\n      <td>제주특별자치도</td>\n      <td>제주시</td>\n      <td>영세</td>\n      <td>일반한식</td>\n      <td>02시</td>\n      <td>208000</td>\n      <td>0</td>\n      <td>5</td>\n      <td>0</td>\n      <td>877005.9834</td>\n      <td>1479766.073</td>\n      <td>126.17889362710162</td>\n      <td>33.30231529076243</td>\n      <td>126.17889362710162_33.30231529076243</td>\n    </tr>\n    <tr>\n      <th>11269</th>\n      <td>11270</td>\n      <td>11270</td>\n      <td>202005</td>\n      <td>제주특별자치도</td>\n      <td>제주시</td>\n      <td>영세</td>\n      <td>일반한식</td>\n      <td>03시</td>\n      <td>18000</td>\n      <td>0</td>\n      <td>1</td>\n      <td>0</td>\n      <td>877005.9834</td>\n      <td>1479766.073</td>\n      <td>126.17889362710162</td>\n      <td>33.30231529076243</td>\n      <td>126.17889362710162_33.30231529076243</td>\n    </tr>\n    <tr>\n      <th>19121</th>\n      <td>19122</td>\n      <td>19122</td>\n      <td>202005</td>\n      <td>제주특별자치도</td>\n      <td>제주시</td>\n      <td>중소</td>\n      <td>한의원</td>\n      <td>07시</td>\n      <td>4800</td>\n      <td>0</td>\n      <td>2</td>\n      <td>0</td>\n      <td>877005.9834</td>\n      <td>1479766.073</td>\n      <td>126.17889362710162</td>\n      <td>33.30231529076243</td>\n      <td>126.17889362710162_33.30231529076243</td>\n    </tr>\n  </tbody>\n</table>\n</div>"
     },
     "metadata": {},
     "execution_count": 46
    }
   ],
   "source": [
    "df[df['lon_lat']=='126.17889362710162_33.30231529076243'].head()\n",
    "# 같은 좌표인 경우에도 다른 업종인 경우가 많음 "
   ]
  },
  {
   "cell_type": "code",
   "execution_count": 47,
   "metadata": {},
   "outputs": [],
   "source": [
    "# 업종에 따른 folium 분포 나타내기 "
   ]
  },
  {
   "cell_type": "code",
   "execution_count": 48,
   "metadata": {},
   "outputs": [
    {
     "output_type": "execute_result",
     "data": {
      "text/plain": [
       "영세     152294\n",
       "일반      35889\n",
       "중소      33211\n",
       "중소1     32814\n",
       "중소2     18975\n",
       "Name: FranClass, dtype: int64"
      ]
     },
     "metadata": {},
     "execution_count": 48
    }
   ],
   "source": [
    "df['FranClass'].value_counts()"
   ]
  },
  {
   "cell_type": "code",
   "execution_count": 49,
   "metadata": {},
   "outputs": [
    {
     "output_type": "execute_result",
     "data": {
      "text/plain": [
       "       SIGUNGU FranClass   Type                 lon                 lat  \\\n",
       "0          제주시        영세   일반한식  126.17889362710162   33.30231529076243   \n",
       "1          제주시        영세   단란주점  126.17888426813494  33.302765922881875   \n",
       "3          제주시        영세    편의점  126.17943027296923   33.30232314934195   \n",
       "4          제주시        영세     주점  126.17941155823847   33.30322441283756   \n",
       "5          제주시        영세     스넥  126.18102151237558    33.3032479753176   \n",
       "...        ...       ...    ...                 ...                 ...   \n",
       "268814    서귀포시        영세  기타숙박업  126.30957647197593   33.23428902334641   \n",
       "269294     제주시        영세  피부미용실  126.43102865310969   33.49147577780778   \n",
       "269435    서귀포시        영세  기타숙박업  126.46571021256327    33.2629083000071   \n",
       "269698     제주시        영세     정장   126.4780768663447   33.47763695457516   \n",
       "272142    서귀포시        영세    미용원  126.56569771250837   33.25192901182615   \n",
       "\n",
       "                                      lon_lat  \n",
       "0        126.17889362710162_33.30231529076243  \n",
       "1       126.17888426813494_33.302765922881875  \n",
       "3        126.17943027296923_33.30232314934195  \n",
       "4        126.17941155823847_33.30322441283756  \n",
       "5         126.18102151237558_33.3032479753176  \n",
       "...                                       ...  \n",
       "268814   126.30957647197593_33.23428902334641  \n",
       "269294   126.43102865310969_33.49147577780778  \n",
       "269435    126.46571021256327_33.2629083000071  \n",
       "269698    126.4780768663447_33.47763695457516  \n",
       "272142   126.56569771250837_33.25192901182615  \n",
       "\n",
       "[20215 rows x 6 columns]"
      ],
      "text/html": "<div>\n<style scoped>\n    .dataframe tbody tr th:only-of-type {\n        vertical-align: middle;\n    }\n\n    .dataframe tbody tr th {\n        vertical-align: top;\n    }\n\n    .dataframe thead th {\n        text-align: right;\n    }\n</style>\n<table border=\"1\" class=\"dataframe\">\n  <thead>\n    <tr style=\"text-align: right;\">\n      <th></th>\n      <th>SIGUNGU</th>\n      <th>FranClass</th>\n      <th>Type</th>\n      <th>lon</th>\n      <th>lat</th>\n      <th>lon_lat</th>\n    </tr>\n  </thead>\n  <tbody>\n    <tr>\n      <th>0</th>\n      <td>제주시</td>\n      <td>영세</td>\n      <td>일반한식</td>\n      <td>126.17889362710162</td>\n      <td>33.30231529076243</td>\n      <td>126.17889362710162_33.30231529076243</td>\n    </tr>\n    <tr>\n      <th>1</th>\n      <td>제주시</td>\n      <td>영세</td>\n      <td>단란주점</td>\n      <td>126.17888426813494</td>\n      <td>33.302765922881875</td>\n      <td>126.17888426813494_33.302765922881875</td>\n    </tr>\n    <tr>\n      <th>3</th>\n      <td>제주시</td>\n      <td>영세</td>\n      <td>편의점</td>\n      <td>126.17943027296923</td>\n      <td>33.30232314934195</td>\n      <td>126.17943027296923_33.30232314934195</td>\n    </tr>\n    <tr>\n      <th>4</th>\n      <td>제주시</td>\n      <td>영세</td>\n      <td>주점</td>\n      <td>126.17941155823847</td>\n      <td>33.30322441283756</td>\n      <td>126.17941155823847_33.30322441283756</td>\n    </tr>\n    <tr>\n      <th>5</th>\n      <td>제주시</td>\n      <td>영세</td>\n      <td>스넥</td>\n      <td>126.18102151237558</td>\n      <td>33.3032479753176</td>\n      <td>126.18102151237558_33.3032479753176</td>\n    </tr>\n    <tr>\n      <th>...</th>\n      <td>...</td>\n      <td>...</td>\n      <td>...</td>\n      <td>...</td>\n      <td>...</td>\n      <td>...</td>\n    </tr>\n    <tr>\n      <th>268814</th>\n      <td>서귀포시</td>\n      <td>영세</td>\n      <td>기타숙박업</td>\n      <td>126.30957647197593</td>\n      <td>33.23428902334641</td>\n      <td>126.30957647197593_33.23428902334641</td>\n    </tr>\n    <tr>\n      <th>269294</th>\n      <td>제주시</td>\n      <td>영세</td>\n      <td>피부미용실</td>\n      <td>126.43102865310969</td>\n      <td>33.49147577780778</td>\n      <td>126.43102865310969_33.49147577780778</td>\n    </tr>\n    <tr>\n      <th>269435</th>\n      <td>서귀포시</td>\n      <td>영세</td>\n      <td>기타숙박업</td>\n      <td>126.46571021256327</td>\n      <td>33.2629083000071</td>\n      <td>126.46571021256327_33.2629083000071</td>\n    </tr>\n    <tr>\n      <th>269698</th>\n      <td>제주시</td>\n      <td>영세</td>\n      <td>정장</td>\n      <td>126.4780768663447</td>\n      <td>33.47763695457516</td>\n      <td>126.4780768663447_33.47763695457516</td>\n    </tr>\n    <tr>\n      <th>272142</th>\n      <td>서귀포시</td>\n      <td>영세</td>\n      <td>미용원</td>\n      <td>126.56569771250837</td>\n      <td>33.25192901182615</td>\n      <td>126.56569771250837_33.25192901182615</td>\n    </tr>\n  </tbody>\n</table>\n<p>20215 rows × 6 columns</p>\n</div>"
     },
     "metadata": {},
     "execution_count": 49
    }
   ],
   "source": [
    "df_js2 = df[df['FranClass']=='중소2'] #중소2에 대해 추출 \n",
    "df_js2 = df_js2[['SIGUNGU','FranClass','Type','lon','lat','lon_lat']] #업종별 분포 확인에 대한 정보만 추출 \n",
    "df_js2.drop_duplicates(inplace=True) #중복되는 row 삭제 \n",
    "df_js2 #중소2 업종 리스트 \n",
    "\n",
    "df_js1 = df[df['FranClass']=='중소1'] #중소1에 대해 추출 \n",
    "df_js1 = df_js1[['SIGUNGU','FranClass','Type','lon','lat','lon_lat']] #업종별 분포 확인에 대한 정보만 추출 \n",
    "df_js1.drop_duplicates(inplace=True) #중복되는 row 삭제 \n",
    "df_js1 #중소1 업종 리스트 \n",
    "\n",
    "df_js = df[df['FranClass']=='중소'] #중소에 대해 추출 \n",
    "df_js = df_js[['SIGUNGU','FranClass','Type','lon','lat','lon_lat']] #업종별 분포 확인에 대한 정보만 추출 \n",
    "df_js.drop_duplicates(inplace=True) #중복되는 row 삭제 \n",
    "df_js #중소 업종 리스트 \n",
    "\n",
    "df_gn = df[df['FranClass']=='일반'] #일반에 대해 추출 \n",
    "df_gn = df_gn[['SIGUNGU','FranClass','Type','lon','lat','lon_lat']] #업종별 분포 확인에 대한 정보만 추출 \n",
    "df_gn.drop_duplicates(inplace=True) #중복되는 row 삭제 \n",
    "df_gn #일반 업종 리스트 \n",
    "\n",
    "df_ys = df[df['FranClass']=='영세'] #중소에 대해 추출 \n",
    "df_ys = df_ys[['SIGUNGU','FranClass','Type','lon','lat','lon_lat']] #업종별 분포 확인에 대한 정보만 추출 \n",
    "df_ys.drop_duplicates(inplace=True) #중복되는 row 삭제 \n",
    "df_ys #중소 업종 리스트 "
   ]
  },
  {
   "cell_type": "code",
   "execution_count": 50,
   "metadata": {},
   "outputs": [],
   "source": [
    "#############folium을 통한 표현############ \n",
    "import pandas as pd \n",
    "import folium\n",
    "from folium.plugins import MarkerCluster, MiniMap"
   ]
  },
  {
   "cell_type": "code",
   "execution_count": 51,
   "metadata": {},
   "outputs": [
    {
     "output_type": "execute_result",
     "data": {
      "text/plain": [
       "<folium.plugins.marker_cluster.MarkerCluster at 0x181a0c03550>"
      ]
     },
     "metadata": {},
     "execution_count": 51
    }
   ],
   "source": [
    "map_jeju = folium.Map((33.38773221915759, 126.54124720118492), zoom_start= 13)\n",
    "mc = MarkerCluster()\n",
    "\n",
    "mc.add_child(folium.Marker(location=[33.48908804243811,126.49294055515932], popup='중소2', icon=folium.Icon(color='red')))\n",
    "\n",
    "# minimap = MiniMap()\n",
    "# map_jeju.add_child(minimap)\n",
    "\n",
    "# map_jeju.add_child(mc)"
   ]
  },
  {
   "cell_type": "code",
   "execution_count": 52,
   "metadata": {},
   "outputs": [],
   "source": [
    "map = folium.Map((33.38773221915759, 126.54124720118492), zoom_start= 13)\n",
    "\n",
    "# 중소2 서클 추가 \n",
    "for i in range(len(df_js2['FranClass'])):\n",
    "    folium.Circle(list(df_js2.iloc[i][['lat','lon']]), radius=5, color = '#e41a1c',fill_color = '#e41a1c').add_to(map)\n",
    "\n",
    "# 중소1 서클 추가 \n",
    "for i in range(len(df_js1['FranClass'])):\n",
    "    folium.Circle(list(df_js1.iloc[i][['lat','lon']]), radius=5, color = '#377eb8',fill_color = '#377eb8').add_to(map)\n",
    "\n",
    "# 중소 서클 추가 \n",
    "for i in range(len(df_js['FranClass'])):\n",
    "    folium.Circle(list(df_js.iloc[i][['lat','lon']]), radius=5, color = '#4daf4a',fill_color = '#4daf4a').add_to(map)\n",
    "\n",
    "# 일반 서클 추가 \n",
    "for i in range(len(df_gn['FranClass'])):\n",
    "    folium.Circle(list(df_gn.iloc[i][['lat','lon']]), radius=5, color = '#984ea3',fill_color = '#984ea3').add_to(map)\n",
    "\n",
    "# 일반 서클 추가 \n",
    "for i in range(len(df_ys['FranClass'])):\n",
    "    folium.Circle(list(df_ys.iloc[i][['lat','lon']]), radius=5, color = '#ff7f00',fill_color = '#ff7f00').add_to(map)    \n",
    "\n",
    "\n",
    "map\n",
    "map.save('map_all.html')"
   ]
  },
  {
   "cell_type": "code",
   "execution_count": 53,
   "metadata": {},
   "outputs": [],
   "source": [
    "map = folium.Map((33.38773221915759, 126.54124720118492), zoom_start= 10)\n",
    "\n",
    "# 중소2 서클 추가 \n",
    "for i in range(len(df_js2['FranClass'])):\n",
    "    folium.Circle(list(df_js2.iloc[i][['lat','lon']]), radius=5, color = '#e41a1c',fill_color = '#e41a1c').add_to(map)\n",
    "\n",
    "# # 중소1 서클 추가 \n",
    "# for i in range(len(df_js1['FranClass'])):\n",
    "#     folium.Circle(list(df_js1.iloc[i][['lat','lon']]), radius=5, color = '#d7b5d8',fill_color = '#d7b5d8').add_to(map)\n",
    "\n",
    "# # 중소 서클 추가 \n",
    "# for i in range(len(df_js['FranClass'])):\n",
    "#     folium.Circle(list(df_js.iloc[i][['lat','lon']]), radius=5, color = '#df65b0',fill_color = '#df65b0').add_to(map)\n",
    "\n",
    "# # 일반 서클 추가 \n",
    "# for i in range(len(df_gn['FranClass'])):\n",
    "#     folium.Circle(list(df_gn.iloc[i][['lat','lon']]), radius=5, color = '#dd1c77',fill_color = '#dd1c77').add_to(map)\n",
    "\n",
    "# # 영세 서클 추가 \n",
    "# for i in range(len(df_ys['FranClass'])):\n",
    "#     folium.Circle(list(df_ys.iloc[i][['lat','lon']]), radius=5, color = '#980043',fill_color = '#980043').add_to(map)    \n",
    "\n",
    "\n",
    "# map\n",
    "# map.save('map_all.html')"
   ]
  },
  {
   "cell_type": "code",
   "execution_count": 55,
   "metadata": {},
   "outputs": [
    {
     "output_type": "execute_result",
     "data": {
      "text/plain": [
       "   OBJECTID  Field1      YM     SIDO SIGUNGU FranClass  Type Time  TotalSpent  \\\n",
       "0         1       1  202005  제주특별자치도     제주시        영세  일반한식  00시      363000   \n",
       "1         2       2  202005  제주특별자치도     제주시        영세  단란주점  00시     1180000   \n",
       "2         3       3  202005  제주특별자치도     제주시       중소1   편의점  00시      157670   \n",
       "3         4       4  202005  제주특별자치도     제주시        영세   편의점  00시       46600   \n",
       "4         5       5  202005  제주특별자치도     제주시        영세    주점  00시       66000   \n",
       "\n",
       "   DisSpent  NumofSpent  NumofDisSpent      POINT_X       POINT_Y  \\\n",
       "0     66500          10              2  877005.9834  1.479766e+06   \n",
       "1         0           3              0  877005.7447  1.479816e+06   \n",
       "2      6850          20              2  877056.6756  1.479616e+06   \n",
       "3         0           2              0  877055.9593  1.479766e+06   \n",
       "4         0           2              0  877055.4817  1.479866e+06   \n",
       "\n",
       "                  lon                 lat  \\\n",
       "0  126.17889362710162   33.30231529076243   \n",
       "1  126.17888426813494  33.302765922881875   \n",
       "2  126.17945834265305   33.30097125427593   \n",
       "3  126.17943027296923   33.30232314934195   \n",
       "4  126.17941155823847   33.30322441283756   \n",
       "\n",
       "                                 lon_lat  \n",
       "0   126.17889362710162_33.30231529076243  \n",
       "1  126.17888426813494_33.302765922881875  \n",
       "2   126.17945834265305_33.30097125427593  \n",
       "3   126.17943027296923_33.30232314934195  \n",
       "4   126.17941155823847_33.30322441283756  "
      ],
      "text/html": "<div>\n<style scoped>\n    .dataframe tbody tr th:only-of-type {\n        vertical-align: middle;\n    }\n\n    .dataframe tbody tr th {\n        vertical-align: top;\n    }\n\n    .dataframe thead th {\n        text-align: right;\n    }\n</style>\n<table border=\"1\" class=\"dataframe\">\n  <thead>\n    <tr style=\"text-align: right;\">\n      <th></th>\n      <th>OBJECTID</th>\n      <th>Field1</th>\n      <th>YM</th>\n      <th>SIDO</th>\n      <th>SIGUNGU</th>\n      <th>FranClass</th>\n      <th>Type</th>\n      <th>Time</th>\n      <th>TotalSpent</th>\n      <th>DisSpent</th>\n      <th>NumofSpent</th>\n      <th>NumofDisSpent</th>\n      <th>POINT_X</th>\n      <th>POINT_Y</th>\n      <th>lon</th>\n      <th>lat</th>\n      <th>lon_lat</th>\n    </tr>\n  </thead>\n  <tbody>\n    <tr>\n      <th>0</th>\n      <td>1</td>\n      <td>1</td>\n      <td>202005</td>\n      <td>제주특별자치도</td>\n      <td>제주시</td>\n      <td>영세</td>\n      <td>일반한식</td>\n      <td>00시</td>\n      <td>363000</td>\n      <td>66500</td>\n      <td>10</td>\n      <td>2</td>\n      <td>877005.9834</td>\n      <td>1.479766e+06</td>\n      <td>126.17889362710162</td>\n      <td>33.30231529076243</td>\n      <td>126.17889362710162_33.30231529076243</td>\n    </tr>\n    <tr>\n      <th>1</th>\n      <td>2</td>\n      <td>2</td>\n      <td>202005</td>\n      <td>제주특별자치도</td>\n      <td>제주시</td>\n      <td>영세</td>\n      <td>단란주점</td>\n      <td>00시</td>\n      <td>1180000</td>\n      <td>0</td>\n      <td>3</td>\n      <td>0</td>\n      <td>877005.7447</td>\n      <td>1.479816e+06</td>\n      <td>126.17888426813494</td>\n      <td>33.302765922881875</td>\n      <td>126.17888426813494_33.302765922881875</td>\n    </tr>\n    <tr>\n      <th>2</th>\n      <td>3</td>\n      <td>3</td>\n      <td>202005</td>\n      <td>제주특별자치도</td>\n      <td>제주시</td>\n      <td>중소1</td>\n      <td>편의점</td>\n      <td>00시</td>\n      <td>157670</td>\n      <td>6850</td>\n      <td>20</td>\n      <td>2</td>\n      <td>877056.6756</td>\n      <td>1.479616e+06</td>\n      <td>126.17945834265305</td>\n      <td>33.30097125427593</td>\n      <td>126.17945834265305_33.30097125427593</td>\n    </tr>\n    <tr>\n      <th>3</th>\n      <td>4</td>\n      <td>4</td>\n      <td>202005</td>\n      <td>제주특별자치도</td>\n      <td>제주시</td>\n      <td>영세</td>\n      <td>편의점</td>\n      <td>00시</td>\n      <td>46600</td>\n      <td>0</td>\n      <td>2</td>\n      <td>0</td>\n      <td>877055.9593</td>\n      <td>1.479766e+06</td>\n      <td>126.17943027296923</td>\n      <td>33.30232314934195</td>\n      <td>126.17943027296923_33.30232314934195</td>\n    </tr>\n    <tr>\n      <th>4</th>\n      <td>5</td>\n      <td>5</td>\n      <td>202005</td>\n      <td>제주특별자치도</td>\n      <td>제주시</td>\n      <td>영세</td>\n      <td>주점</td>\n      <td>00시</td>\n      <td>66000</td>\n      <td>0</td>\n      <td>2</td>\n      <td>0</td>\n      <td>877055.4817</td>\n      <td>1.479866e+06</td>\n      <td>126.17941155823847</td>\n      <td>33.30322441283756</td>\n      <td>126.17941155823847_33.30322441283756</td>\n    </tr>\n  </tbody>\n</table>\n</div>"
     },
     "metadata": {},
     "execution_count": 55
    }
   ],
   "source": [
    "########### 주소 가져오기 ############ \n",
    "# 1. 중복 위도 경도 삭제 \n",
    "# 2. 유니크 값만 주소 API 로 데이터 가져오기 \n",
    "# 3. DF 와 merge 시키기 \n",
    "\n",
    "df.head()"
   ]
  },
  {
   "cell_type": "code",
   "execution_count": 56,
   "metadata": {},
   "outputs": [
    {
     "output_type": "execute_result",
     "data": {
      "text/plain": [
       "lon_lat\n",
       "126.96951006044938_33.49847009919258     1\n",
       "126.48544160292364_33.487193564199174    1\n",
       "126.48541302178809_33.45789217335456     1\n",
       "126.48541024967045_33.488996318122375    1\n",
       "126.48539457164357_33.48989769487357     1\n",
       "                                        ..\n",
       "126.55718128617019_33.247773337040584    1\n",
       "126.5571738871868_33.24822405800287      1\n",
       "126.5571664880694_33.2486747789311       1\n",
       "126.55715908882763_33.24912549892337     1\n",
       "126.16370558240443_33.33544861735468     1\n",
       "Length: 13820, dtype: int64"
      ]
     },
     "metadata": {},
     "execution_count": 56
    }
   ],
   "source": [
    "# 1. 중복 위도 경도 삭제 \n",
    "df_uniq = df.drop_duplicates('lon_lat')\n",
    "df_uniq.value_counts('lon_lat')"
   ]
  },
  {
   "cell_type": "code",
   "execution_count": 57,
   "metadata": {},
   "outputs": [
    {
     "output_type": "stream",
     "name": "stdout",
     "text": [
      "<class 'pandas.core.frame.DataFrame'>\nInt64Index: 13820 entries, 0 to 271852\nData columns (total 17 columns):\n #   Column         Non-Null Count  Dtype  \n---  ------         --------------  -----  \n 0   OBJECTID       13820 non-null  int64  \n 1   Field1         13820 non-null  int64  \n 2   YM             13820 non-null  int64  \n 3   SIDO           13820 non-null  object \n 4   SIGUNGU        13820 non-null  object \n 5   FranClass      13820 non-null  object \n 6   Type           13820 non-null  object \n 7   Time           13820 non-null  object \n 8   TotalSpent     13820 non-null  int64  \n 9   DisSpent       13820 non-null  int64  \n 10  NumofSpent     13820 non-null  int64  \n 11  NumofDisSpent  13820 non-null  int64  \n 12  POINT_X        13820 non-null  float64\n 13  POINT_Y        13820 non-null  float64\n 14  lon            13820 non-null  object \n 15  lat            13820 non-null  object \n 16  lon_lat        13820 non-null  object \ndtypes: float64(2), int64(7), object(8)\nmemory usage: 1.9+ MB\n"
     ]
    }
   ],
   "source": [
    "# 2. 유니크 좌표 값 주소 가져오기 \n",
    "df_uniq.info()"
   ]
  },
  {
   "cell_type": "code",
   "execution_count": 58,
   "metadata": {},
   "outputs": [
    {
     "output_type": "execute_result",
     "data": {
      "text/plain": [
       "   index  OBJECTID  Field1      YM     SIDO SIGUNGU FranClass  Type Time  \\\n",
       "0      0         1       1  202005  제주특별자치도     제주시        영세  일반한식  00시   \n",
       "1      1         2       2  202005  제주특별자치도     제주시        영세  단란주점  00시   \n",
       "2      2         3       3  202005  제주특별자치도     제주시       중소1   편의점  00시   \n",
       "3      3         4       4  202005  제주특별자치도     제주시        영세   편의점  00시   \n",
       "4      4         5       5  202005  제주특별자치도     제주시        영세    주점  00시   \n",
       "\n",
       "   TotalSpent  DisSpent  NumofSpent  NumofDisSpent      POINT_X       POINT_Y  \\\n",
       "0      363000     66500          10              2  877005.9834  1.479766e+06   \n",
       "1     1180000         0           3              0  877005.7447  1.479816e+06   \n",
       "2      157670      6850          20              2  877056.6756  1.479616e+06   \n",
       "3       46600         0           2              0  877055.9593  1.479766e+06   \n",
       "4       66000         0           2              0  877055.4817  1.479866e+06   \n",
       "\n",
       "                  lon                 lat  \\\n",
       "0  126.17889362710162   33.30231529076243   \n",
       "1  126.17888426813494  33.302765922881875   \n",
       "2  126.17945834265305   33.30097125427593   \n",
       "3  126.17943027296923   33.30232314934195   \n",
       "4  126.17941155823847   33.30322441283756   \n",
       "\n",
       "                                 lon_lat  \\\n",
       "0   126.17889362710162_33.30231529076243   \n",
       "1  126.17888426813494_33.302765922881875   \n",
       "2   126.17945834265305_33.30097125427593   \n",
       "3   126.17943027296923_33.30232314934195   \n",
       "4   126.17941155823847_33.30322441283756   \n",
       "\n",
       "                                                 url  \n",
       "0  https://dapi.kakao.com/v2/local/geo/coord2regi...  \n",
       "1  https://dapi.kakao.com/v2/local/geo/coord2regi...  \n",
       "2  https://dapi.kakao.com/v2/local/geo/coord2regi...  \n",
       "3  https://dapi.kakao.com/v2/local/geo/coord2regi...  \n",
       "4  https://dapi.kakao.com/v2/local/geo/coord2regi...  "
      ],
      "text/html": "<div>\n<style scoped>\n    .dataframe tbody tr th:only-of-type {\n        vertical-align: middle;\n    }\n\n    .dataframe tbody tr th {\n        vertical-align: top;\n    }\n\n    .dataframe thead th {\n        text-align: right;\n    }\n</style>\n<table border=\"1\" class=\"dataframe\">\n  <thead>\n    <tr style=\"text-align: right;\">\n      <th></th>\n      <th>index</th>\n      <th>OBJECTID</th>\n      <th>Field1</th>\n      <th>YM</th>\n      <th>SIDO</th>\n      <th>SIGUNGU</th>\n      <th>FranClass</th>\n      <th>Type</th>\n      <th>Time</th>\n      <th>TotalSpent</th>\n      <th>DisSpent</th>\n      <th>NumofSpent</th>\n      <th>NumofDisSpent</th>\n      <th>POINT_X</th>\n      <th>POINT_Y</th>\n      <th>lon</th>\n      <th>lat</th>\n      <th>lon_lat</th>\n      <th>url</th>\n    </tr>\n  </thead>\n  <tbody>\n    <tr>\n      <th>0</th>\n      <td>0</td>\n      <td>1</td>\n      <td>1</td>\n      <td>202005</td>\n      <td>제주특별자치도</td>\n      <td>제주시</td>\n      <td>영세</td>\n      <td>일반한식</td>\n      <td>00시</td>\n      <td>363000</td>\n      <td>66500</td>\n      <td>10</td>\n      <td>2</td>\n      <td>877005.9834</td>\n      <td>1.479766e+06</td>\n      <td>126.17889362710162</td>\n      <td>33.30231529076243</td>\n      <td>126.17889362710162_33.30231529076243</td>\n      <td>https://dapi.kakao.com/v2/local/geo/coord2regi...</td>\n    </tr>\n    <tr>\n      <th>1</th>\n      <td>1</td>\n      <td>2</td>\n      <td>2</td>\n      <td>202005</td>\n      <td>제주특별자치도</td>\n      <td>제주시</td>\n      <td>영세</td>\n      <td>단란주점</td>\n      <td>00시</td>\n      <td>1180000</td>\n      <td>0</td>\n      <td>3</td>\n      <td>0</td>\n      <td>877005.7447</td>\n      <td>1.479816e+06</td>\n      <td>126.17888426813494</td>\n      <td>33.302765922881875</td>\n      <td>126.17888426813494_33.302765922881875</td>\n      <td>https://dapi.kakao.com/v2/local/geo/coord2regi...</td>\n    </tr>\n    <tr>\n      <th>2</th>\n      <td>2</td>\n      <td>3</td>\n      <td>3</td>\n      <td>202005</td>\n      <td>제주특별자치도</td>\n      <td>제주시</td>\n      <td>중소1</td>\n      <td>편의점</td>\n      <td>00시</td>\n      <td>157670</td>\n      <td>6850</td>\n      <td>20</td>\n      <td>2</td>\n      <td>877056.6756</td>\n      <td>1.479616e+06</td>\n      <td>126.17945834265305</td>\n      <td>33.30097125427593</td>\n      <td>126.17945834265305_33.30097125427593</td>\n      <td>https://dapi.kakao.com/v2/local/geo/coord2regi...</td>\n    </tr>\n    <tr>\n      <th>3</th>\n      <td>3</td>\n      <td>4</td>\n      <td>4</td>\n      <td>202005</td>\n      <td>제주특별자치도</td>\n      <td>제주시</td>\n      <td>영세</td>\n      <td>편의점</td>\n      <td>00시</td>\n      <td>46600</td>\n      <td>0</td>\n      <td>2</td>\n      <td>0</td>\n      <td>877055.9593</td>\n      <td>1.479766e+06</td>\n      <td>126.17943027296923</td>\n      <td>33.30232314934195</td>\n      <td>126.17943027296923_33.30232314934195</td>\n      <td>https://dapi.kakao.com/v2/local/geo/coord2regi...</td>\n    </tr>\n    <tr>\n      <th>4</th>\n      <td>4</td>\n      <td>5</td>\n      <td>5</td>\n      <td>202005</td>\n      <td>제주특별자치도</td>\n      <td>제주시</td>\n      <td>영세</td>\n      <td>주점</td>\n      <td>00시</td>\n      <td>66000</td>\n      <td>0</td>\n      <td>2</td>\n      <td>0</td>\n      <td>877055.4817</td>\n      <td>1.479866e+06</td>\n      <td>126.17941155823847</td>\n      <td>33.30322441283756</td>\n      <td>126.17941155823847_33.30322441283756</td>\n      <td>https://dapi.kakao.com/v2/local/geo/coord2regi...</td>\n    </tr>\n  </tbody>\n</table>\n</div>"
     },
     "metadata": {},
     "execution_count": 58
    }
   ],
   "source": [
    "# url 컬럼 작업 \n",
    "\n",
    "df_uniq['url1'] = 'https://dapi.kakao.com/v2/local/geo/coord2regioncode.json?x=' + df_uniq['lon']\n",
    "df_uniq['url2'] = '&y=' + df_uniq['lat']\n",
    "df_uniq['url'] = df_uniq['url1'] + df_uniq['url2']\n",
    "\n",
    "\n",
    "df_uniq.drop(columns=['url1','url2'],axis=1,inplace=True)\n",
    "df_uniq = df_uniq.reset_index()\n",
    "df_uniq.head(5)"
   ]
  },
  {
   "cell_type": "code",
   "execution_count": 60,
   "metadata": {},
   "outputs": [
    {
     "output_type": "stream",
     "name": "stdout",
     "text": [
      "converted point to addr\n"
     ]
    }
   ],
   "source": [
    "# import requests\n",
    "# import json\n",
    "\n",
    "# dong_ls = []\n",
    "\n",
    "# for i in range(len(df_uniq.index)):\n",
    "#     url = df_uniq['url'][i]\n",
    "#     headers = {\"Authorization\": \"KakaoAK 9c01f59434bc3920843d9dd0279e6e6c\"}\n",
    "#     api_test = requests.get(url, headers=headers)\n",
    "#     url_text = json.loads(api_test.text)\n",
    "#     dong = url_text['documents'][0]['region_3depth_name']\n",
    "#     dong_ls.append(dong)\n",
    "# print('converted point to addr')"
   ]
  },
  {
   "cell_type": "code",
   "execution_count": 61,
   "metadata": {},
   "outputs": [],
   "source": [
    "# 가져온 주소값 df 변환 \n",
    "dic = {'dong':dong_ls}"
   ]
  },
  {
   "cell_type": "code",
   "execution_count": 62,
   "metadata": {},
   "outputs": [
    {
     "output_type": "execute_result",
     "data": {
      "text/plain": [
       "       dong\n",
       "13815   안덕면\n",
       "13816  이호일동\n",
       "13817   하원동\n",
       "13818  용담이동\n",
       "13819   서홍동"
      ],
      "text/html": "<div>\n<style scoped>\n    .dataframe tbody tr th:only-of-type {\n        vertical-align: middle;\n    }\n\n    .dataframe tbody tr th {\n        vertical-align: top;\n    }\n\n    .dataframe thead th {\n        text-align: right;\n    }\n</style>\n<table border=\"1\" class=\"dataframe\">\n  <thead>\n    <tr style=\"text-align: right;\">\n      <th></th>\n      <th>dong</th>\n    </tr>\n  </thead>\n  <tbody>\n    <tr>\n      <th>13815</th>\n      <td>안덕면</td>\n    </tr>\n    <tr>\n      <th>13816</th>\n      <td>이호일동</td>\n    </tr>\n    <tr>\n      <th>13817</th>\n      <td>하원동</td>\n    </tr>\n    <tr>\n      <th>13818</th>\n      <td>용담이동</td>\n    </tr>\n    <tr>\n      <th>13819</th>\n      <td>서홍동</td>\n    </tr>\n  </tbody>\n</table>\n</div>"
     },
     "metadata": {},
     "execution_count": 62
    }
   ],
   "source": [
    "df_dong  = pd.DataFrame(dic)\n",
    "df_dong.tail()"
   ]
  },
  {
   "cell_type": "code",
   "execution_count": 63,
   "metadata": {},
   "outputs": [],
   "source": [
    "# 3. DF 와 merge 시키기 \n",
    "\n",
    "df_join = df_uniq.join(df_dong)"
   ]
  },
  {
   "cell_type": "code",
   "execution_count": 64,
   "metadata": {},
   "outputs": [
    {
     "output_type": "execute_result",
     "data": {
      "text/plain": [
       "        index  OBJECTID  Field1      YM     SIDO SIGUNGU FranClass  \\\n",
       "0           0         1       1  202005  제주특별자치도     제주시        영세   \n",
       "1           1         2       2  202005  제주특별자치도     제주시        영세   \n",
       "2           2         3       3  202005  제주특별자치도     제주시       중소1   \n",
       "3           3         4       4  202005  제주특별자치도     제주시        영세   \n",
       "4           4         5       5  202005  제주특별자치도     제주시        영세   \n",
       "...       ...       ...     ...     ...      ...     ...       ...   \n",
       "13815  268814    268815  268815  202005  제주특별자치도    서귀포시        영세   \n",
       "13816  269415    269416  269416  202005  제주특별자치도     제주시        일반   \n",
       "13817  269435    269436  269436  202005  제주특별자치도    서귀포시        영세   \n",
       "13818  270507    270508  270508  202005  제주특별자치도     제주시        일반   \n",
       "13819  271852    271853  271853  202005  제주특별자치도    서귀포시        일반   \n",
       "\n",
       "              Type Time  TotalSpent  DisSpent  NumofSpent  NumofDisSpent  \\\n",
       "0             일반한식  00시      363000     66500          10              2   \n",
       "1             단란주점  00시     1180000         0           3              0   \n",
       "2              편의점  00시      157670      6850          20              2   \n",
       "3              편의점  00시       46600         0           2              0   \n",
       "4               주점  00시       66000         0           2              0   \n",
       "...            ...  ...         ...       ...         ...            ...   \n",
       "13815        기타숙박업   x시       50000         0           1              0   \n",
       "13816  건강식품(회원제형태)   x시     7662600         0          12              0   \n",
       "13817        기타숙박업   x시      240000         0           1              0   \n",
       "13818       기타음료식품   x시       90750         0           1              0   \n",
       "13819       기타음료식품   x시      200000         0           1              0   \n",
       "\n",
       "           POINT_X       POINT_Y                 lon                 lat  \\\n",
       "0      877005.9834  1.479766e+06  126.17889362710162   33.30231529076243   \n",
       "1      877005.7447  1.479816e+06  126.17888426813494  33.302765922881875   \n",
       "2      877056.6756  1.479616e+06  126.17945834265305   33.30097125427593   \n",
       "3      877055.9593  1.479766e+06  126.17943027296923   33.30232314934195   \n",
       "4      877055.4817  1.479866e+06  126.17941155823847   33.30322441283756   \n",
       "...            ...           ...                 ...                 ...   \n",
       "13815  889087.2224  1.472077e+06  126.30957647197593   33.23428902334641   \n",
       "13816  903092.2237  1.501082e+06  126.45675120309421   33.49720789225105   \n",
       "13817  903666.4287  1.475096e+06  126.46571021256327    33.2629083000071   \n",
       "13818  907738.4497  1.501454e+06  126.50672452857444   33.50097517749024   \n",
       "13819  912018.4146  1.473936e+06  126.55548315030599   33.25316331771586   \n",
       "\n",
       "                                     lon_lat  \\\n",
       "0       126.17889362710162_33.30231529076243   \n",
       "1      126.17888426813494_33.302765922881875   \n",
       "2       126.17945834265305_33.30097125427593   \n",
       "3       126.17943027296923_33.30232314934195   \n",
       "4       126.17941155823847_33.30322441283756   \n",
       "...                                      ...   \n",
       "13815   126.30957647197593_33.23428902334641   \n",
       "13816   126.45675120309421_33.49720789225105   \n",
       "13817    126.46571021256327_33.2629083000071   \n",
       "13818   126.50672452857444_33.50097517749024   \n",
       "13819   126.55548315030599_33.25316331771586   \n",
       "\n",
       "                                                     url  dong  \n",
       "0      https://dapi.kakao.com/v2/local/geo/coord2regi...   한경면  \n",
       "1      https://dapi.kakao.com/v2/local/geo/coord2regi...   한경면  \n",
       "2      https://dapi.kakao.com/v2/local/geo/coord2regi...   한경면  \n",
       "3      https://dapi.kakao.com/v2/local/geo/coord2regi...   한경면  \n",
       "4      https://dapi.kakao.com/v2/local/geo/coord2regi...   한경면  \n",
       "...                                                  ...   ...  \n",
       "13815  https://dapi.kakao.com/v2/local/geo/coord2regi...   안덕면  \n",
       "13816  https://dapi.kakao.com/v2/local/geo/coord2regi...  이호일동  \n",
       "13817  https://dapi.kakao.com/v2/local/geo/coord2regi...   하원동  \n",
       "13818  https://dapi.kakao.com/v2/local/geo/coord2regi...  용담이동  \n",
       "13819  https://dapi.kakao.com/v2/local/geo/coord2regi...   서홍동  \n",
       "\n",
       "[13820 rows x 20 columns]"
      ],
      "text/html": "<div>\n<style scoped>\n    .dataframe tbody tr th:only-of-type {\n        vertical-align: middle;\n    }\n\n    .dataframe tbody tr th {\n        vertical-align: top;\n    }\n\n    .dataframe thead th {\n        text-align: right;\n    }\n</style>\n<table border=\"1\" class=\"dataframe\">\n  <thead>\n    <tr style=\"text-align: right;\">\n      <th></th>\n      <th>index</th>\n      <th>OBJECTID</th>\n      <th>Field1</th>\n      <th>YM</th>\n      <th>SIDO</th>\n      <th>SIGUNGU</th>\n      <th>FranClass</th>\n      <th>Type</th>\n      <th>Time</th>\n      <th>TotalSpent</th>\n      <th>DisSpent</th>\n      <th>NumofSpent</th>\n      <th>NumofDisSpent</th>\n      <th>POINT_X</th>\n      <th>POINT_Y</th>\n      <th>lon</th>\n      <th>lat</th>\n      <th>lon_lat</th>\n      <th>url</th>\n      <th>dong</th>\n    </tr>\n  </thead>\n  <tbody>\n    <tr>\n      <th>0</th>\n      <td>0</td>\n      <td>1</td>\n      <td>1</td>\n      <td>202005</td>\n      <td>제주특별자치도</td>\n      <td>제주시</td>\n      <td>영세</td>\n      <td>일반한식</td>\n      <td>00시</td>\n      <td>363000</td>\n      <td>66500</td>\n      <td>10</td>\n      <td>2</td>\n      <td>877005.9834</td>\n      <td>1.479766e+06</td>\n      <td>126.17889362710162</td>\n      <td>33.30231529076243</td>\n      <td>126.17889362710162_33.30231529076243</td>\n      <td>https://dapi.kakao.com/v2/local/geo/coord2regi...</td>\n      <td>한경면</td>\n    </tr>\n    <tr>\n      <th>1</th>\n      <td>1</td>\n      <td>2</td>\n      <td>2</td>\n      <td>202005</td>\n      <td>제주특별자치도</td>\n      <td>제주시</td>\n      <td>영세</td>\n      <td>단란주점</td>\n      <td>00시</td>\n      <td>1180000</td>\n      <td>0</td>\n      <td>3</td>\n      <td>0</td>\n      <td>877005.7447</td>\n      <td>1.479816e+06</td>\n      <td>126.17888426813494</td>\n      <td>33.302765922881875</td>\n      <td>126.17888426813494_33.302765922881875</td>\n      <td>https://dapi.kakao.com/v2/local/geo/coord2regi...</td>\n      <td>한경면</td>\n    </tr>\n    <tr>\n      <th>2</th>\n      <td>2</td>\n      <td>3</td>\n      <td>3</td>\n      <td>202005</td>\n      <td>제주특별자치도</td>\n      <td>제주시</td>\n      <td>중소1</td>\n      <td>편의점</td>\n      <td>00시</td>\n      <td>157670</td>\n      <td>6850</td>\n      <td>20</td>\n      <td>2</td>\n      <td>877056.6756</td>\n      <td>1.479616e+06</td>\n      <td>126.17945834265305</td>\n      <td>33.30097125427593</td>\n      <td>126.17945834265305_33.30097125427593</td>\n      <td>https://dapi.kakao.com/v2/local/geo/coord2regi...</td>\n      <td>한경면</td>\n    </tr>\n    <tr>\n      <th>3</th>\n      <td>3</td>\n      <td>4</td>\n      <td>4</td>\n      <td>202005</td>\n      <td>제주특별자치도</td>\n      <td>제주시</td>\n      <td>영세</td>\n      <td>편의점</td>\n      <td>00시</td>\n      <td>46600</td>\n      <td>0</td>\n      <td>2</td>\n      <td>0</td>\n      <td>877055.9593</td>\n      <td>1.479766e+06</td>\n      <td>126.17943027296923</td>\n      <td>33.30232314934195</td>\n      <td>126.17943027296923_33.30232314934195</td>\n      <td>https://dapi.kakao.com/v2/local/geo/coord2regi...</td>\n      <td>한경면</td>\n    </tr>\n    <tr>\n      <th>4</th>\n      <td>4</td>\n      <td>5</td>\n      <td>5</td>\n      <td>202005</td>\n      <td>제주특별자치도</td>\n      <td>제주시</td>\n      <td>영세</td>\n      <td>주점</td>\n      <td>00시</td>\n      <td>66000</td>\n      <td>0</td>\n      <td>2</td>\n      <td>0</td>\n      <td>877055.4817</td>\n      <td>1.479866e+06</td>\n      <td>126.17941155823847</td>\n      <td>33.30322441283756</td>\n      <td>126.17941155823847_33.30322441283756</td>\n      <td>https://dapi.kakao.com/v2/local/geo/coord2regi...</td>\n      <td>한경면</td>\n    </tr>\n    <tr>\n      <th>...</th>\n      <td>...</td>\n      <td>...</td>\n      <td>...</td>\n      <td>...</td>\n      <td>...</td>\n      <td>...</td>\n      <td>...</td>\n      <td>...</td>\n      <td>...</td>\n      <td>...</td>\n      <td>...</td>\n      <td>...</td>\n      <td>...</td>\n      <td>...</td>\n      <td>...</td>\n      <td>...</td>\n      <td>...</td>\n      <td>...</td>\n      <td>...</td>\n      <td>...</td>\n    </tr>\n    <tr>\n      <th>13815</th>\n      <td>268814</td>\n      <td>268815</td>\n      <td>268815</td>\n      <td>202005</td>\n      <td>제주특별자치도</td>\n      <td>서귀포시</td>\n      <td>영세</td>\n      <td>기타숙박업</td>\n      <td>x시</td>\n      <td>50000</td>\n      <td>0</td>\n      <td>1</td>\n      <td>0</td>\n      <td>889087.2224</td>\n      <td>1.472077e+06</td>\n      <td>126.30957647197593</td>\n      <td>33.23428902334641</td>\n      <td>126.30957647197593_33.23428902334641</td>\n      <td>https://dapi.kakao.com/v2/local/geo/coord2regi...</td>\n      <td>안덕면</td>\n    </tr>\n    <tr>\n      <th>13816</th>\n      <td>269415</td>\n      <td>269416</td>\n      <td>269416</td>\n      <td>202005</td>\n      <td>제주특별자치도</td>\n      <td>제주시</td>\n      <td>일반</td>\n      <td>건강식품(회원제형태)</td>\n      <td>x시</td>\n      <td>7662600</td>\n      <td>0</td>\n      <td>12</td>\n      <td>0</td>\n      <td>903092.2237</td>\n      <td>1.501082e+06</td>\n      <td>126.45675120309421</td>\n      <td>33.49720789225105</td>\n      <td>126.45675120309421_33.49720789225105</td>\n      <td>https://dapi.kakao.com/v2/local/geo/coord2regi...</td>\n      <td>이호일동</td>\n    </tr>\n    <tr>\n      <th>13817</th>\n      <td>269435</td>\n      <td>269436</td>\n      <td>269436</td>\n      <td>202005</td>\n      <td>제주특별자치도</td>\n      <td>서귀포시</td>\n      <td>영세</td>\n      <td>기타숙박업</td>\n      <td>x시</td>\n      <td>240000</td>\n      <td>0</td>\n      <td>1</td>\n      <td>0</td>\n      <td>903666.4287</td>\n      <td>1.475096e+06</td>\n      <td>126.46571021256327</td>\n      <td>33.2629083000071</td>\n      <td>126.46571021256327_33.2629083000071</td>\n      <td>https://dapi.kakao.com/v2/local/geo/coord2regi...</td>\n      <td>하원동</td>\n    </tr>\n    <tr>\n      <th>13818</th>\n      <td>270507</td>\n      <td>270508</td>\n      <td>270508</td>\n      <td>202005</td>\n      <td>제주특별자치도</td>\n      <td>제주시</td>\n      <td>일반</td>\n      <td>기타음료식품</td>\n      <td>x시</td>\n      <td>90750</td>\n      <td>0</td>\n      <td>1</td>\n      <td>0</td>\n      <td>907738.4497</td>\n      <td>1.501454e+06</td>\n      <td>126.50672452857444</td>\n      <td>33.50097517749024</td>\n      <td>126.50672452857444_33.50097517749024</td>\n      <td>https://dapi.kakao.com/v2/local/geo/coord2regi...</td>\n      <td>용담이동</td>\n    </tr>\n    <tr>\n      <th>13819</th>\n      <td>271852</td>\n      <td>271853</td>\n      <td>271853</td>\n      <td>202005</td>\n      <td>제주특별자치도</td>\n      <td>서귀포시</td>\n      <td>일반</td>\n      <td>기타음료식품</td>\n      <td>x시</td>\n      <td>200000</td>\n      <td>0</td>\n      <td>1</td>\n      <td>0</td>\n      <td>912018.4146</td>\n      <td>1.473936e+06</td>\n      <td>126.55548315030599</td>\n      <td>33.25316331771586</td>\n      <td>126.55548315030599_33.25316331771586</td>\n      <td>https://dapi.kakao.com/v2/local/geo/coord2regi...</td>\n      <td>서홍동</td>\n    </tr>\n  </tbody>\n</table>\n<p>13820 rows × 20 columns</p>\n</div>"
     },
     "metadata": {},
     "execution_count": 64
    }
   ],
   "source": [
    "df_join # 5월 발생된 매출을 가진 업종에 대한 주소값 확인 "
   ]
  },
  {
   "cell_type": "code",
   "execution_count": 65,
   "metadata": {},
   "outputs": [],
   "source": [
    "# # 피클로 저장하기 \n",
    "# import pickle\n",
    "\n",
    "# with open('jeju_uniq_data5.pickle', 'wb') as fw:\n",
    "#     pickle.dump(df_join, fw)\n"
   ]
  },
  {
   "cell_type": "code",
   "execution_count": 2,
   "metadata": {},
   "outputs": [
    {
     "output_type": "error",
     "ename": "EOFError",
     "evalue": "Ran out of input",
     "traceback": [
      "\u001b[1;31m---------------------------------------------------------------------------\u001b[0m",
      "\u001b[1;31mEOFError\u001b[0m                                  Traceback (most recent call last)",
      "\u001b[1;32m<ipython-input-2-fb277cf752ef>\u001b[0m in \u001b[0;36m<module>\u001b[1;34m\u001b[0m\n\u001b[0;32m      2\u001b[0m \u001b[1;32mimport\u001b[0m \u001b[0mpickle\u001b[0m\u001b[1;33m\u001b[0m\u001b[1;33m\u001b[0m\u001b[0m\n\u001b[0;32m      3\u001b[0m \u001b[1;32mwith\u001b[0m \u001b[0mopen\u001b[0m\u001b[1;33m(\u001b[0m\u001b[1;34m'jeju_uniq_data5.pickle'\u001b[0m\u001b[1;33m,\u001b[0m \u001b[1;34m'rb'\u001b[0m\u001b[1;33m)\u001b[0m \u001b[1;32mas\u001b[0m \u001b[0mfr\u001b[0m\u001b[1;33m:\u001b[0m\u001b[1;33m\u001b[0m\u001b[1;33m\u001b[0m\u001b[0m\n\u001b[1;32m----> 4\u001b[1;33m     \u001b[0mdf_join\u001b[0m \u001b[1;33m=\u001b[0m \u001b[0mpickle\u001b[0m\u001b[1;33m.\u001b[0m\u001b[0mload\u001b[0m\u001b[1;33m(\u001b[0m\u001b[0mfr\u001b[0m\u001b[1;33m)\u001b[0m\u001b[1;33m\u001b[0m\u001b[1;33m\u001b[0m\u001b[0m\n\u001b[0m\u001b[0;32m      5\u001b[0m \u001b[1;33m\u001b[0m\u001b[0m\n\u001b[0;32m      6\u001b[0m \u001b[0mdf_join\u001b[0m\u001b[1;33m\u001b[0m\u001b[1;33m\u001b[0m\u001b[0m\n",
      "\u001b[1;31mEOFError\u001b[0m: Ran out of input"
     ]
    }
   ],
   "source": [
    "# 피클 가져오기 \n",
    "import pickle\n",
    "with open('jeju_uniq_data5.pickle', 'rb') as fr:\n",
    "    df_join = pickle.load(fr)\n",
    "\n",
    "df_join"
   ]
  },
  {
   "cell_type": "code",
   "execution_count": null,
   "metadata": {},
   "outputs": [],
   "source": [
    "# 변환된 주소값을 원본 데이터와 합치기 "
   ]
  },
  {
   "cell_type": "code",
   "execution_count": 67,
   "metadata": {},
   "outputs": [
    {
     "output_type": "execute_result",
     "data": {
      "text/plain": [
       "                                    lon_lat  dong\n",
       "13815  126.30957647197593_33.23428902334641   안덕면\n",
       "13816  126.45675120309421_33.49720789225105  이호일동\n",
       "13817   126.46571021256327_33.2629083000071   하원동\n",
       "13818  126.50672452857444_33.50097517749024  용담이동\n",
       "13819  126.55548315030599_33.25316331771586   서홍동"
      ],
      "text/html": "<div>\n<style scoped>\n    .dataframe tbody tr th:only-of-type {\n        vertical-align: middle;\n    }\n\n    .dataframe tbody tr th {\n        vertical-align: top;\n    }\n\n    .dataframe thead th {\n        text-align: right;\n    }\n</style>\n<table border=\"1\" class=\"dataframe\">\n  <thead>\n    <tr style=\"text-align: right;\">\n      <th></th>\n      <th>lon_lat</th>\n      <th>dong</th>\n    </tr>\n  </thead>\n  <tbody>\n    <tr>\n      <th>13815</th>\n      <td>126.30957647197593_33.23428902334641</td>\n      <td>안덕면</td>\n    </tr>\n    <tr>\n      <th>13816</th>\n      <td>126.45675120309421_33.49720789225105</td>\n      <td>이호일동</td>\n    </tr>\n    <tr>\n      <th>13817</th>\n      <td>126.46571021256327_33.2629083000071</td>\n      <td>하원동</td>\n    </tr>\n    <tr>\n      <th>13818</th>\n      <td>126.50672452857444_33.50097517749024</td>\n      <td>용담이동</td>\n    </tr>\n    <tr>\n      <th>13819</th>\n      <td>126.55548315030599_33.25316331771586</td>\n      <td>서홍동</td>\n    </tr>\n  </tbody>\n</table>\n</div>"
     },
     "metadata": {},
     "execution_count": 67
    }
   ],
   "source": [
    "df_addr = df_join[['lon_lat','dong']]\n",
    "df_addr.tail()"
   ]
  },
  {
   "cell_type": "code",
   "execution_count": 68,
   "metadata": {},
   "outputs": [
    {
     "output_type": "execute_result",
     "data": {
      "text/plain": [
       "        OBJECTID  Field1      YM     SIDO SIGUNGU FranClass   Type Time  \\\n",
       "273178    273179  273179  202005  제주특별자치도     제주시        중소  침구수예점   x시   \n",
       "273179    273180  273180  202005  제주특별자치도     제주시       중소1   서양음식   x시   \n",
       "273180    273181  273181  202005  제주특별자치도     제주시        영세    편의점   x시   \n",
       "273181    273182  273182  202005  제주특별자치도     제주시        중소    제과점   x시   \n",
       "273182    273183  273183  202005  제주특별자치도     제주시        영세   서양음식   x시   \n",
       "\n",
       "        TotalSpent  DisSpent  NumofSpent  NumofDisSpent      POINT_X  \\\n",
       "273178       17000         0           1              0  949616.6171   \n",
       "273179       12000         0           1              0  949665.1566   \n",
       "273180        4800         0           1              0  950266.5976   \n",
       "273181       25000         0           2              0  950524.6587   \n",
       "273182        6000         0           1              0  950674.5989   \n",
       "\n",
       "             POINT_Y                 lon                 lat  \\\n",
       "273178  1.502505e+06  126.95749518388968   33.51324665784147   \n",
       "273179  1.502805e+06  126.95800093548306   33.51595579736336   \n",
       "273180  1.502458e+06     126.96449620673   33.51285447500652   \n",
       "273181  1.500760e+06  126.96736859949111  33.497550664200574   \n",
       "273182  1.500760e+06  126.96898269451708   33.49756408518746   \n",
       "\n",
       "                                      lon_lat  \n",
       "273178   126.95749518388968_33.51324665784147  \n",
       "273179   126.95800093548306_33.51595579736336  \n",
       "273180      126.96449620673_33.51285447500652  \n",
       "273181  126.96736859949111_33.497550664200574  \n",
       "273182   126.96898269451708_33.49756408518746  "
      ],
      "text/html": "<div>\n<style scoped>\n    .dataframe tbody tr th:only-of-type {\n        vertical-align: middle;\n    }\n\n    .dataframe tbody tr th {\n        vertical-align: top;\n    }\n\n    .dataframe thead th {\n        text-align: right;\n    }\n</style>\n<table border=\"1\" class=\"dataframe\">\n  <thead>\n    <tr style=\"text-align: right;\">\n      <th></th>\n      <th>OBJECTID</th>\n      <th>Field1</th>\n      <th>YM</th>\n      <th>SIDO</th>\n      <th>SIGUNGU</th>\n      <th>FranClass</th>\n      <th>Type</th>\n      <th>Time</th>\n      <th>TotalSpent</th>\n      <th>DisSpent</th>\n      <th>NumofSpent</th>\n      <th>NumofDisSpent</th>\n      <th>POINT_X</th>\n      <th>POINT_Y</th>\n      <th>lon</th>\n      <th>lat</th>\n      <th>lon_lat</th>\n    </tr>\n  </thead>\n  <tbody>\n    <tr>\n      <th>273178</th>\n      <td>273179</td>\n      <td>273179</td>\n      <td>202005</td>\n      <td>제주특별자치도</td>\n      <td>제주시</td>\n      <td>중소</td>\n      <td>침구수예점</td>\n      <td>x시</td>\n      <td>17000</td>\n      <td>0</td>\n      <td>1</td>\n      <td>0</td>\n      <td>949616.6171</td>\n      <td>1.502505e+06</td>\n      <td>126.95749518388968</td>\n      <td>33.51324665784147</td>\n      <td>126.95749518388968_33.51324665784147</td>\n    </tr>\n    <tr>\n      <th>273179</th>\n      <td>273180</td>\n      <td>273180</td>\n      <td>202005</td>\n      <td>제주특별자치도</td>\n      <td>제주시</td>\n      <td>중소1</td>\n      <td>서양음식</td>\n      <td>x시</td>\n      <td>12000</td>\n      <td>0</td>\n      <td>1</td>\n      <td>0</td>\n      <td>949665.1566</td>\n      <td>1.502805e+06</td>\n      <td>126.95800093548306</td>\n      <td>33.51595579736336</td>\n      <td>126.95800093548306_33.51595579736336</td>\n    </tr>\n    <tr>\n      <th>273180</th>\n      <td>273181</td>\n      <td>273181</td>\n      <td>202005</td>\n      <td>제주특별자치도</td>\n      <td>제주시</td>\n      <td>영세</td>\n      <td>편의점</td>\n      <td>x시</td>\n      <td>4800</td>\n      <td>0</td>\n      <td>1</td>\n      <td>0</td>\n      <td>950266.5976</td>\n      <td>1.502458e+06</td>\n      <td>126.96449620673</td>\n      <td>33.51285447500652</td>\n      <td>126.96449620673_33.51285447500652</td>\n    </tr>\n    <tr>\n      <th>273181</th>\n      <td>273182</td>\n      <td>273182</td>\n      <td>202005</td>\n      <td>제주특별자치도</td>\n      <td>제주시</td>\n      <td>중소</td>\n      <td>제과점</td>\n      <td>x시</td>\n      <td>25000</td>\n      <td>0</td>\n      <td>2</td>\n      <td>0</td>\n      <td>950524.6587</td>\n      <td>1.500760e+06</td>\n      <td>126.96736859949111</td>\n      <td>33.497550664200574</td>\n      <td>126.96736859949111_33.497550664200574</td>\n    </tr>\n    <tr>\n      <th>273182</th>\n      <td>273183</td>\n      <td>273183</td>\n      <td>202005</td>\n      <td>제주특별자치도</td>\n      <td>제주시</td>\n      <td>영세</td>\n      <td>서양음식</td>\n      <td>x시</td>\n      <td>6000</td>\n      <td>0</td>\n      <td>1</td>\n      <td>0</td>\n      <td>950674.5989</td>\n      <td>1.500760e+06</td>\n      <td>126.96898269451708</td>\n      <td>33.49756408518746</td>\n      <td>126.96898269451708_33.49756408518746</td>\n    </tr>\n  </tbody>\n</table>\n</div>"
     },
     "metadata": {},
     "execution_count": 68
    }
   ],
   "source": [
    "df.tail()"
   ]
  },
  {
   "cell_type": "code",
   "execution_count": 69,
   "metadata": {},
   "outputs": [
    {
     "output_type": "execute_result",
     "data": {
      "text/plain": [
       "        OBJECTID  Field1      YM     SIDO SIGUNGU FranClass         Type Time  \\\n",
       "0              1       1  202005  제주특별자치도     제주시        영세         일반한식  00시   \n",
       "1           4904    4904  202005  제주특별자치도     제주시        영세         일반한식  01시   \n",
       "2           8569    8569  202005  제주특별자치도     제주시        영세         일반한식  02시   \n",
       "3          11270   11270  202005  제주특별자치도     제주시        영세         일반한식  03시   \n",
       "4          19122   19122  202005  제주특별자치도     제주시        중소          한의원  07시   \n",
       "...          ...     ...     ...      ...     ...       ...          ...  ...   \n",
       "273178    268815  268815  202005  제주특별자치도    서귀포시        영세        기타숙박업   x시   \n",
       "273179    269416  269416  202005  제주특별자치도     제주시        일반  건강식품(회원제형태)   x시   \n",
       "273180    269436  269436  202005  제주특별자치도    서귀포시        영세        기타숙박업   x시   \n",
       "273181    270508  270508  202005  제주특별자치도     제주시        일반       기타음료식품   x시   \n",
       "273182    271853  271853  202005  제주특별자치도    서귀포시        일반       기타음료식품   x시   \n",
       "\n",
       "        TotalSpent  DisSpent  NumofSpent  NumofDisSpent      POINT_X  \\\n",
       "0           363000     66500          10              2  877005.9834   \n",
       "1            86500         0           3              0  877005.9834   \n",
       "2           208000         0           5              0  877005.9834   \n",
       "3            18000         0           1              0  877005.9834   \n",
       "4             4800         0           2              0  877005.9834   \n",
       "...            ...       ...         ...            ...          ...   \n",
       "273178       50000         0           1              0  889087.2224   \n",
       "273179     7662600         0          12              0  903092.2237   \n",
       "273180      240000         0           1              0  903666.4287   \n",
       "273181       90750         0           1              0  907738.4497   \n",
       "273182      200000         0           1              0  912018.4146   \n",
       "\n",
       "             POINT_Y                 lon                lat  \\\n",
       "0       1.479766e+06  126.17889362710162  33.30231529076243   \n",
       "1       1.479766e+06  126.17889362710162  33.30231529076243   \n",
       "2       1.479766e+06  126.17889362710162  33.30231529076243   \n",
       "3       1.479766e+06  126.17889362710162  33.30231529076243   \n",
       "4       1.479766e+06  126.17889362710162  33.30231529076243   \n",
       "...              ...                 ...                ...   \n",
       "273178  1.472077e+06  126.30957647197593  33.23428902334641   \n",
       "273179  1.501082e+06  126.45675120309421  33.49720789225105   \n",
       "273180  1.475096e+06  126.46571021256327   33.2629083000071   \n",
       "273181  1.501454e+06  126.50672452857444  33.50097517749024   \n",
       "273182  1.473936e+06  126.55548315030599  33.25316331771586   \n",
       "\n",
       "                                     lon_lat  dong  \n",
       "0       126.17889362710162_33.30231529076243   한경면  \n",
       "1       126.17889362710162_33.30231529076243   한경면  \n",
       "2       126.17889362710162_33.30231529076243   한경면  \n",
       "3       126.17889362710162_33.30231529076243   한경면  \n",
       "4       126.17889362710162_33.30231529076243   한경면  \n",
       "...                                      ...   ...  \n",
       "273178  126.30957647197593_33.23428902334641   안덕면  \n",
       "273179  126.45675120309421_33.49720789225105  이호일동  \n",
       "273180   126.46571021256327_33.2629083000071   하원동  \n",
       "273181  126.50672452857444_33.50097517749024  용담이동  \n",
       "273182  126.55548315030599_33.25316331771586   서홍동  \n",
       "\n",
       "[273183 rows x 18 columns]"
      ],
      "text/html": "<div>\n<style scoped>\n    .dataframe tbody tr th:only-of-type {\n        vertical-align: middle;\n    }\n\n    .dataframe tbody tr th {\n        vertical-align: top;\n    }\n\n    .dataframe thead th {\n        text-align: right;\n    }\n</style>\n<table border=\"1\" class=\"dataframe\">\n  <thead>\n    <tr style=\"text-align: right;\">\n      <th></th>\n      <th>OBJECTID</th>\n      <th>Field1</th>\n      <th>YM</th>\n      <th>SIDO</th>\n      <th>SIGUNGU</th>\n      <th>FranClass</th>\n      <th>Type</th>\n      <th>Time</th>\n      <th>TotalSpent</th>\n      <th>DisSpent</th>\n      <th>NumofSpent</th>\n      <th>NumofDisSpent</th>\n      <th>POINT_X</th>\n      <th>POINT_Y</th>\n      <th>lon</th>\n      <th>lat</th>\n      <th>lon_lat</th>\n      <th>dong</th>\n    </tr>\n  </thead>\n  <tbody>\n    <tr>\n      <th>0</th>\n      <td>1</td>\n      <td>1</td>\n      <td>202005</td>\n      <td>제주특별자치도</td>\n      <td>제주시</td>\n      <td>영세</td>\n      <td>일반한식</td>\n      <td>00시</td>\n      <td>363000</td>\n      <td>66500</td>\n      <td>10</td>\n      <td>2</td>\n      <td>877005.9834</td>\n      <td>1.479766e+06</td>\n      <td>126.17889362710162</td>\n      <td>33.30231529076243</td>\n      <td>126.17889362710162_33.30231529076243</td>\n      <td>한경면</td>\n    </tr>\n    <tr>\n      <th>1</th>\n      <td>4904</td>\n      <td>4904</td>\n      <td>202005</td>\n      <td>제주특별자치도</td>\n      <td>제주시</td>\n      <td>영세</td>\n      <td>일반한식</td>\n      <td>01시</td>\n      <td>86500</td>\n      <td>0</td>\n      <td>3</td>\n      <td>0</td>\n      <td>877005.9834</td>\n      <td>1.479766e+06</td>\n      <td>126.17889362710162</td>\n      <td>33.30231529076243</td>\n      <td>126.17889362710162_33.30231529076243</td>\n      <td>한경면</td>\n    </tr>\n    <tr>\n      <th>2</th>\n      <td>8569</td>\n      <td>8569</td>\n      <td>202005</td>\n      <td>제주특별자치도</td>\n      <td>제주시</td>\n      <td>영세</td>\n      <td>일반한식</td>\n      <td>02시</td>\n      <td>208000</td>\n      <td>0</td>\n      <td>5</td>\n      <td>0</td>\n      <td>877005.9834</td>\n      <td>1.479766e+06</td>\n      <td>126.17889362710162</td>\n      <td>33.30231529076243</td>\n      <td>126.17889362710162_33.30231529076243</td>\n      <td>한경면</td>\n    </tr>\n    <tr>\n      <th>3</th>\n      <td>11270</td>\n      <td>11270</td>\n      <td>202005</td>\n      <td>제주특별자치도</td>\n      <td>제주시</td>\n      <td>영세</td>\n      <td>일반한식</td>\n      <td>03시</td>\n      <td>18000</td>\n      <td>0</td>\n      <td>1</td>\n      <td>0</td>\n      <td>877005.9834</td>\n      <td>1.479766e+06</td>\n      <td>126.17889362710162</td>\n      <td>33.30231529076243</td>\n      <td>126.17889362710162_33.30231529076243</td>\n      <td>한경면</td>\n    </tr>\n    <tr>\n      <th>4</th>\n      <td>19122</td>\n      <td>19122</td>\n      <td>202005</td>\n      <td>제주특별자치도</td>\n      <td>제주시</td>\n      <td>중소</td>\n      <td>한의원</td>\n      <td>07시</td>\n      <td>4800</td>\n      <td>0</td>\n      <td>2</td>\n      <td>0</td>\n      <td>877005.9834</td>\n      <td>1.479766e+06</td>\n      <td>126.17889362710162</td>\n      <td>33.30231529076243</td>\n      <td>126.17889362710162_33.30231529076243</td>\n      <td>한경면</td>\n    </tr>\n    <tr>\n      <th>...</th>\n      <td>...</td>\n      <td>...</td>\n      <td>...</td>\n      <td>...</td>\n      <td>...</td>\n      <td>...</td>\n      <td>...</td>\n      <td>...</td>\n      <td>...</td>\n      <td>...</td>\n      <td>...</td>\n      <td>...</td>\n      <td>...</td>\n      <td>...</td>\n      <td>...</td>\n      <td>...</td>\n      <td>...</td>\n      <td>...</td>\n    </tr>\n    <tr>\n      <th>273178</th>\n      <td>268815</td>\n      <td>268815</td>\n      <td>202005</td>\n      <td>제주특별자치도</td>\n      <td>서귀포시</td>\n      <td>영세</td>\n      <td>기타숙박업</td>\n      <td>x시</td>\n      <td>50000</td>\n      <td>0</td>\n      <td>1</td>\n      <td>0</td>\n      <td>889087.2224</td>\n      <td>1.472077e+06</td>\n      <td>126.30957647197593</td>\n      <td>33.23428902334641</td>\n      <td>126.30957647197593_33.23428902334641</td>\n      <td>안덕면</td>\n    </tr>\n    <tr>\n      <th>273179</th>\n      <td>269416</td>\n      <td>269416</td>\n      <td>202005</td>\n      <td>제주특별자치도</td>\n      <td>제주시</td>\n      <td>일반</td>\n      <td>건강식품(회원제형태)</td>\n      <td>x시</td>\n      <td>7662600</td>\n      <td>0</td>\n      <td>12</td>\n      <td>0</td>\n      <td>903092.2237</td>\n      <td>1.501082e+06</td>\n      <td>126.45675120309421</td>\n      <td>33.49720789225105</td>\n      <td>126.45675120309421_33.49720789225105</td>\n      <td>이호일동</td>\n    </tr>\n    <tr>\n      <th>273180</th>\n      <td>269436</td>\n      <td>269436</td>\n      <td>202005</td>\n      <td>제주특별자치도</td>\n      <td>서귀포시</td>\n      <td>영세</td>\n      <td>기타숙박업</td>\n      <td>x시</td>\n      <td>240000</td>\n      <td>0</td>\n      <td>1</td>\n      <td>0</td>\n      <td>903666.4287</td>\n      <td>1.475096e+06</td>\n      <td>126.46571021256327</td>\n      <td>33.2629083000071</td>\n      <td>126.46571021256327_33.2629083000071</td>\n      <td>하원동</td>\n    </tr>\n    <tr>\n      <th>273181</th>\n      <td>270508</td>\n      <td>270508</td>\n      <td>202005</td>\n      <td>제주특별자치도</td>\n      <td>제주시</td>\n      <td>일반</td>\n      <td>기타음료식품</td>\n      <td>x시</td>\n      <td>90750</td>\n      <td>0</td>\n      <td>1</td>\n      <td>0</td>\n      <td>907738.4497</td>\n      <td>1.501454e+06</td>\n      <td>126.50672452857444</td>\n      <td>33.50097517749024</td>\n      <td>126.50672452857444_33.50097517749024</td>\n      <td>용담이동</td>\n    </tr>\n    <tr>\n      <th>273182</th>\n      <td>271853</td>\n      <td>271853</td>\n      <td>202005</td>\n      <td>제주특별자치도</td>\n      <td>서귀포시</td>\n      <td>일반</td>\n      <td>기타음료식품</td>\n      <td>x시</td>\n      <td>200000</td>\n      <td>0</td>\n      <td>1</td>\n      <td>0</td>\n      <td>912018.4146</td>\n      <td>1.473936e+06</td>\n      <td>126.55548315030599</td>\n      <td>33.25316331771586</td>\n      <td>126.55548315030599_33.25316331771586</td>\n      <td>서홍동</td>\n    </tr>\n  </tbody>\n</table>\n<p>273183 rows × 18 columns</p>\n</div>"
     },
     "metadata": {},
     "execution_count": 69
    }
   ],
   "source": [
    "df_final = pd.merge(df, df_addr, on='lon_lat')\n",
    "df_final"
   ]
  },
  {
   "cell_type": "code",
   "execution_count": 1,
   "metadata": {},
   "outputs": [
    {
     "output_type": "error",
     "ename": "NameError",
     "evalue": "name 'df_final' is not defined",
     "traceback": [
      "\u001b[1;31m---------------------------------------------------------------------------\u001b[0m",
      "\u001b[1;31mNameError\u001b[0m                                 Traceback (most recent call last)",
      "\u001b[1;32m<ipython-input-1-b48ca446aea4>\u001b[0m in \u001b[0;36m<module>\u001b[1;34m\u001b[0m\n\u001b[0;32m      3\u001b[0m \u001b[1;32mimport\u001b[0m \u001b[0mpickle\u001b[0m\u001b[1;33m\u001b[0m\u001b[1;33m\u001b[0m\u001b[0m\n\u001b[0;32m      4\u001b[0m \u001b[1;32mwith\u001b[0m \u001b[0mopen\u001b[0m\u001b[1;33m(\u001b[0m\u001b[1;34m'jeju_uniq_data5.pickle'\u001b[0m\u001b[1;33m,\u001b[0m \u001b[1;34m'wb'\u001b[0m\u001b[1;33m)\u001b[0m \u001b[1;32mas\u001b[0m \u001b[0mfw\u001b[0m\u001b[1;33m:\u001b[0m\u001b[1;33m\u001b[0m\u001b[1;33m\u001b[0m\u001b[0m\n\u001b[1;32m----> 5\u001b[1;33m     \u001b[0mpickle\u001b[0m\u001b[1;33m.\u001b[0m\u001b[0mdump\u001b[0m\u001b[1;33m(\u001b[0m\u001b[0mdf_final\u001b[0m\u001b[1;33m,\u001b[0m \u001b[0mfw\u001b[0m\u001b[1;33m)\u001b[0m\u001b[1;33m\u001b[0m\u001b[1;33m\u001b[0m\u001b[0m\n\u001b[0m",
      "\u001b[1;31mNameError\u001b[0m: name 'df_final' is not defined"
     ]
    }
   ],
   "source": [
    "# # 피클로 저장하기 \n",
    "\n",
    "# import pickle\n",
    "# with open('jeju_uniq_data5.pickle', 'wb') as fw:\n",
    "#     pickle.dump(df_final, fw)\n"
   ]
  },
  {
   "cell_type": "code",
   "execution_count": 3,
   "metadata": {},
   "outputs": [
    {
     "output_type": "execute_result",
     "data": {
      "text/plain": [
       "        OBJECTID  Field1      YM     SIDO SIGUNGU FranClass         Type Time  \\\n",
       "0              1       1  202005  제주특별자치도     제주시        영세         일반한식  00시   \n",
       "1           4904    4904  202005  제주특별자치도     제주시        영세         일반한식  01시   \n",
       "2           8569    8569  202005  제주특별자치도     제주시        영세         일반한식  02시   \n",
       "3          11270   11270  202005  제주특별자치도     제주시        영세         일반한식  03시   \n",
       "4          19122   19122  202005  제주특별자치도     제주시        중소          한의원  07시   \n",
       "...          ...     ...     ...      ...     ...       ...          ...  ...   \n",
       "273178    268815  268815  202005  제주특별자치도    서귀포시        영세        기타숙박업   x시   \n",
       "273179    269416  269416  202005  제주특별자치도     제주시        일반  건강식품(회원제형태)   x시   \n",
       "273180    269436  269436  202005  제주특별자치도    서귀포시        영세        기타숙박업   x시   \n",
       "273181    270508  270508  202005  제주특별자치도     제주시        일반       기타음료식품   x시   \n",
       "273182    271853  271853  202005  제주특별자치도    서귀포시        일반       기타음료식품   x시   \n",
       "\n",
       "        TotalSpent  DisSpent  NumofSpent  NumofDisSpent      POINT_X  \\\n",
       "0           363000     66500          10              2  877005.9834   \n",
       "1            86500         0           3              0  877005.9834   \n",
       "2           208000         0           5              0  877005.9834   \n",
       "3            18000         0           1              0  877005.9834   \n",
       "4             4800         0           2              0  877005.9834   \n",
       "...            ...       ...         ...            ...          ...   \n",
       "273178       50000         0           1              0  889087.2224   \n",
       "273179     7662600         0          12              0  903092.2237   \n",
       "273180      240000         0           1              0  903666.4287   \n",
       "273181       90750         0           1              0  907738.4497   \n",
       "273182      200000         0           1              0  912018.4146   \n",
       "\n",
       "             POINT_Y                 lon                lat  \\\n",
       "0       1.479766e+06  126.17889362710162  33.30231529076243   \n",
       "1       1.479766e+06  126.17889362710162  33.30231529076243   \n",
       "2       1.479766e+06  126.17889362710162  33.30231529076243   \n",
       "3       1.479766e+06  126.17889362710162  33.30231529076243   \n",
       "4       1.479766e+06  126.17889362710162  33.30231529076243   \n",
       "...              ...                 ...                ...   \n",
       "273178  1.472077e+06  126.30957647197593  33.23428902334641   \n",
       "273179  1.501082e+06  126.45675120309421  33.49720789225105   \n",
       "273180  1.475096e+06  126.46571021256327   33.2629083000071   \n",
       "273181  1.501454e+06  126.50672452857444  33.50097517749024   \n",
       "273182  1.473936e+06  126.55548315030599  33.25316331771586   \n",
       "\n",
       "                                     lon_lat  dong  \n",
       "0       126.17889362710162_33.30231529076243   한경면  \n",
       "1       126.17889362710162_33.30231529076243   한경면  \n",
       "2       126.17889362710162_33.30231529076243   한경면  \n",
       "3       126.17889362710162_33.30231529076243   한경면  \n",
       "4       126.17889362710162_33.30231529076243   한경면  \n",
       "...                                      ...   ...  \n",
       "273178  126.30957647197593_33.23428902334641   안덕면  \n",
       "273179  126.45675120309421_33.49720789225105  이호일동  \n",
       "273180   126.46571021256327_33.2629083000071   하원동  \n",
       "273181  126.50672452857444_33.50097517749024  용담이동  \n",
       "273182  126.55548315030599_33.25316331771586   서홍동  \n",
       "\n",
       "[273183 rows x 18 columns]"
      ],
      "text/html": "<div>\n<style scoped>\n    .dataframe tbody tr th:only-of-type {\n        vertical-align: middle;\n    }\n\n    .dataframe tbody tr th {\n        vertical-align: top;\n    }\n\n    .dataframe thead th {\n        text-align: right;\n    }\n</style>\n<table border=\"1\" class=\"dataframe\">\n  <thead>\n    <tr style=\"text-align: right;\">\n      <th></th>\n      <th>OBJECTID</th>\n      <th>Field1</th>\n      <th>YM</th>\n      <th>SIDO</th>\n      <th>SIGUNGU</th>\n      <th>FranClass</th>\n      <th>Type</th>\n      <th>Time</th>\n      <th>TotalSpent</th>\n      <th>DisSpent</th>\n      <th>NumofSpent</th>\n      <th>NumofDisSpent</th>\n      <th>POINT_X</th>\n      <th>POINT_Y</th>\n      <th>lon</th>\n      <th>lat</th>\n      <th>lon_lat</th>\n      <th>dong</th>\n    </tr>\n  </thead>\n  <tbody>\n    <tr>\n      <th>0</th>\n      <td>1</td>\n      <td>1</td>\n      <td>202005</td>\n      <td>제주특별자치도</td>\n      <td>제주시</td>\n      <td>영세</td>\n      <td>일반한식</td>\n      <td>00시</td>\n      <td>363000</td>\n      <td>66500</td>\n      <td>10</td>\n      <td>2</td>\n      <td>877005.9834</td>\n      <td>1.479766e+06</td>\n      <td>126.17889362710162</td>\n      <td>33.30231529076243</td>\n      <td>126.17889362710162_33.30231529076243</td>\n      <td>한경면</td>\n    </tr>\n    <tr>\n      <th>1</th>\n      <td>4904</td>\n      <td>4904</td>\n      <td>202005</td>\n      <td>제주특별자치도</td>\n      <td>제주시</td>\n      <td>영세</td>\n      <td>일반한식</td>\n      <td>01시</td>\n      <td>86500</td>\n      <td>0</td>\n      <td>3</td>\n      <td>0</td>\n      <td>877005.9834</td>\n      <td>1.479766e+06</td>\n      <td>126.17889362710162</td>\n      <td>33.30231529076243</td>\n      <td>126.17889362710162_33.30231529076243</td>\n      <td>한경면</td>\n    </tr>\n    <tr>\n      <th>2</th>\n      <td>8569</td>\n      <td>8569</td>\n      <td>202005</td>\n      <td>제주특별자치도</td>\n      <td>제주시</td>\n      <td>영세</td>\n      <td>일반한식</td>\n      <td>02시</td>\n      <td>208000</td>\n      <td>0</td>\n      <td>5</td>\n      <td>0</td>\n      <td>877005.9834</td>\n      <td>1.479766e+06</td>\n      <td>126.17889362710162</td>\n      <td>33.30231529076243</td>\n      <td>126.17889362710162_33.30231529076243</td>\n      <td>한경면</td>\n    </tr>\n    <tr>\n      <th>3</th>\n      <td>11270</td>\n      <td>11270</td>\n      <td>202005</td>\n      <td>제주특별자치도</td>\n      <td>제주시</td>\n      <td>영세</td>\n      <td>일반한식</td>\n      <td>03시</td>\n      <td>18000</td>\n      <td>0</td>\n      <td>1</td>\n      <td>0</td>\n      <td>877005.9834</td>\n      <td>1.479766e+06</td>\n      <td>126.17889362710162</td>\n      <td>33.30231529076243</td>\n      <td>126.17889362710162_33.30231529076243</td>\n      <td>한경면</td>\n    </tr>\n    <tr>\n      <th>4</th>\n      <td>19122</td>\n      <td>19122</td>\n      <td>202005</td>\n      <td>제주특별자치도</td>\n      <td>제주시</td>\n      <td>중소</td>\n      <td>한의원</td>\n      <td>07시</td>\n      <td>4800</td>\n      <td>0</td>\n      <td>2</td>\n      <td>0</td>\n      <td>877005.9834</td>\n      <td>1.479766e+06</td>\n      <td>126.17889362710162</td>\n      <td>33.30231529076243</td>\n      <td>126.17889362710162_33.30231529076243</td>\n      <td>한경면</td>\n    </tr>\n    <tr>\n      <th>...</th>\n      <td>...</td>\n      <td>...</td>\n      <td>...</td>\n      <td>...</td>\n      <td>...</td>\n      <td>...</td>\n      <td>...</td>\n      <td>...</td>\n      <td>...</td>\n      <td>...</td>\n      <td>...</td>\n      <td>...</td>\n      <td>...</td>\n      <td>...</td>\n      <td>...</td>\n      <td>...</td>\n      <td>...</td>\n      <td>...</td>\n    </tr>\n    <tr>\n      <th>273178</th>\n      <td>268815</td>\n      <td>268815</td>\n      <td>202005</td>\n      <td>제주특별자치도</td>\n      <td>서귀포시</td>\n      <td>영세</td>\n      <td>기타숙박업</td>\n      <td>x시</td>\n      <td>50000</td>\n      <td>0</td>\n      <td>1</td>\n      <td>0</td>\n      <td>889087.2224</td>\n      <td>1.472077e+06</td>\n      <td>126.30957647197593</td>\n      <td>33.23428902334641</td>\n      <td>126.30957647197593_33.23428902334641</td>\n      <td>안덕면</td>\n    </tr>\n    <tr>\n      <th>273179</th>\n      <td>269416</td>\n      <td>269416</td>\n      <td>202005</td>\n      <td>제주특별자치도</td>\n      <td>제주시</td>\n      <td>일반</td>\n      <td>건강식품(회원제형태)</td>\n      <td>x시</td>\n      <td>7662600</td>\n      <td>0</td>\n      <td>12</td>\n      <td>0</td>\n      <td>903092.2237</td>\n      <td>1.501082e+06</td>\n      <td>126.45675120309421</td>\n      <td>33.49720789225105</td>\n      <td>126.45675120309421_33.49720789225105</td>\n      <td>이호일동</td>\n    </tr>\n    <tr>\n      <th>273180</th>\n      <td>269436</td>\n      <td>269436</td>\n      <td>202005</td>\n      <td>제주특별자치도</td>\n      <td>서귀포시</td>\n      <td>영세</td>\n      <td>기타숙박업</td>\n      <td>x시</td>\n      <td>240000</td>\n      <td>0</td>\n      <td>1</td>\n      <td>0</td>\n      <td>903666.4287</td>\n      <td>1.475096e+06</td>\n      <td>126.46571021256327</td>\n      <td>33.2629083000071</td>\n      <td>126.46571021256327_33.2629083000071</td>\n      <td>하원동</td>\n    </tr>\n    <tr>\n      <th>273181</th>\n      <td>270508</td>\n      <td>270508</td>\n      <td>202005</td>\n      <td>제주특별자치도</td>\n      <td>제주시</td>\n      <td>일반</td>\n      <td>기타음료식품</td>\n      <td>x시</td>\n      <td>90750</td>\n      <td>0</td>\n      <td>1</td>\n      <td>0</td>\n      <td>907738.4497</td>\n      <td>1.501454e+06</td>\n      <td>126.50672452857444</td>\n      <td>33.50097517749024</td>\n      <td>126.50672452857444_33.50097517749024</td>\n      <td>용담이동</td>\n    </tr>\n    <tr>\n      <th>273182</th>\n      <td>271853</td>\n      <td>271853</td>\n      <td>202005</td>\n      <td>제주특별자치도</td>\n      <td>서귀포시</td>\n      <td>일반</td>\n      <td>기타음료식품</td>\n      <td>x시</td>\n      <td>200000</td>\n      <td>0</td>\n      <td>1</td>\n      <td>0</td>\n      <td>912018.4146</td>\n      <td>1.473936e+06</td>\n      <td>126.55548315030599</td>\n      <td>33.25316331771586</td>\n      <td>126.55548315030599_33.25316331771586</td>\n      <td>서홍동</td>\n    </tr>\n  </tbody>\n</table>\n<p>273183 rows × 18 columns</p>\n</div>"
     },
     "metadata": {},
     "execution_count": 3
    }
   ],
   "source": [
    "# 나는 잘저장되었는지 확인까지 하는 센스쟁이다 \n",
    "import pickle\n",
    "with open('jeju_uniq_data5.pickle', 'rb') as fr:\n",
    "    df_pickle5 = pickle.load(fr)\n",
    "\n",
    "df_pickle5"
   ]
  },
  {
   "cell_type": "code",
   "execution_count": 72,
   "metadata": {},
   "outputs": [
    {
     "output_type": "execute_result",
     "data": {
      "text/plain": [
       "       OBJECTID     Field1          YM  TotalSpent   DisSpent  NumofSpent  \\\n",
       "dong                                                                        \n",
       "강정동   512100318  512100318   736914240  1867490700  299962319       76317   \n",
       "건입동   398290942  398290942   617327280  2377675345  371405496       69437   \n",
       "구좌읍   941854857  941854857  1345757310  2757713406  260934343       96612   \n",
       "남원읍   692161951  692161951  1009822995  2734187657  410439628       74572   \n",
       "내도동    60991819   60991819    95346360   237764389   45136935        5214   \n",
       "\n",
       "      NumofDisSpent       POINT_X       POINT_Y  \n",
       "dong                                             \n",
       "강정동           12108  3.308128e+09  5.375080e+09  \n",
       "건입동           10770  2.781822e+09  4.593477e+09  \n",
       "구좌읍            9552  6.244280e+09  1.002024e+10  \n",
       "남원읍           13176  4.626594e+09  7.385123e+09  \n",
       "내도동             986  4.256069e+08  7.083024e+08  "
      ],
      "text/html": "<div>\n<style scoped>\n    .dataframe tbody tr th:only-of-type {\n        vertical-align: middle;\n    }\n\n    .dataframe tbody tr th {\n        vertical-align: top;\n    }\n\n    .dataframe thead th {\n        text-align: right;\n    }\n</style>\n<table border=\"1\" class=\"dataframe\">\n  <thead>\n    <tr style=\"text-align: right;\">\n      <th></th>\n      <th>OBJECTID</th>\n      <th>Field1</th>\n      <th>YM</th>\n      <th>TotalSpent</th>\n      <th>DisSpent</th>\n      <th>NumofSpent</th>\n      <th>NumofDisSpent</th>\n      <th>POINT_X</th>\n      <th>POINT_Y</th>\n    </tr>\n    <tr>\n      <th>dong</th>\n      <th></th>\n      <th></th>\n      <th></th>\n      <th></th>\n      <th></th>\n      <th></th>\n      <th></th>\n      <th></th>\n      <th></th>\n    </tr>\n  </thead>\n  <tbody>\n    <tr>\n      <th>강정동</th>\n      <td>512100318</td>\n      <td>512100318</td>\n      <td>736914240</td>\n      <td>1867490700</td>\n      <td>299962319</td>\n      <td>76317</td>\n      <td>12108</td>\n      <td>3.308128e+09</td>\n      <td>5.375080e+09</td>\n    </tr>\n    <tr>\n      <th>건입동</th>\n      <td>398290942</td>\n      <td>398290942</td>\n      <td>617327280</td>\n      <td>2377675345</td>\n      <td>371405496</td>\n      <td>69437</td>\n      <td>10770</td>\n      <td>2.781822e+09</td>\n      <td>4.593477e+09</td>\n    </tr>\n    <tr>\n      <th>구좌읍</th>\n      <td>941854857</td>\n      <td>941854857</td>\n      <td>1345757310</td>\n      <td>2757713406</td>\n      <td>260934343</td>\n      <td>96612</td>\n      <td>9552</td>\n      <td>6.244280e+09</td>\n      <td>1.002024e+10</td>\n    </tr>\n    <tr>\n      <th>남원읍</th>\n      <td>692161951</td>\n      <td>692161951</td>\n      <td>1009822995</td>\n      <td>2734187657</td>\n      <td>410439628</td>\n      <td>74572</td>\n      <td>13176</td>\n      <td>4.626594e+09</td>\n      <td>7.385123e+09</td>\n    </tr>\n    <tr>\n      <th>내도동</th>\n      <td>60991819</td>\n      <td>60991819</td>\n      <td>95346360</td>\n      <td>237764389</td>\n      <td>45136935</td>\n      <td>5214</td>\n      <td>986</td>\n      <td>4.256069e+08</td>\n      <td>7.083024e+08</td>\n    </tr>\n  </tbody>\n</table>\n</div>"
     },
     "metadata": {},
     "execution_count": 72
    }
   ],
   "source": [
    "############ 제주시 지역별 #################\n",
    "\n",
    "df_dong_group = df_final.groupby(['dong']).sum()\n",
    "df_dong_group.head()"
   ]
  },
  {
   "cell_type": "code",
   "execution_count": 73,
   "metadata": {},
   "outputs": [
    {
     "output_type": "execute_result",
     "data": {
      "text/plain": [
       "        OBJECTID  Field1      YM     SIDO SIGUNGU FranClass         Type Time  \\\n",
       "14982        580     580  202005  제주특별자치도     제주시        영세          편의점  00시   \n",
       "14983      11443   11443  202005  제주특별자치도     제주시        영세          편의점  03시   \n",
       "14984      14890   14890  202005  제주특별자치도     제주시        영세          편의점  05시   \n",
       "14985      16840   16840  202005  제주특별자치도     제주시        영세          편의점  06시   \n",
       "14986      19854   19854  202005  제주특별자치도     제주시        영세          편의점  07시   \n",
       "...          ...     ...     ...      ...     ...       ...          ...  ...   \n",
       "273171    265430  265430  202005  제주특별자치도     제주시        영세        기타숙박업  23시   \n",
       "273172    266403  266403  202005  제주특별자치도     제주시        영세        기타숙박업  23시   \n",
       "273173    266676  266676  202005  제주특별자치도     제주시        영세        피부미용실  23시   \n",
       "273179    269416  269416  202005  제주특별자치도     제주시        일반  건강식품(회원제형태)   x시   \n",
       "273181    270508  270508  202005  제주특별자치도     제주시        일반       기타음료식품   x시   \n",
       "\n",
       "        TotalSpent  DisSpent  NumofSpent  NumofDisSpent      POINT_X  \\\n",
       "14982         3200         0           1              0  899996.0333   \n",
       "14983        11500         0           1              0  899996.0333   \n",
       "14984         5200         0           1              0  899996.0333   \n",
       "14985        46620      4800           6              1  899996.0333   \n",
       "14986        29000      2200           4              1  899996.0333   \n",
       "...            ...       ...         ...            ...          ...   \n",
       "273171       30000         0           1              0  909587.1435   \n",
       "273172       25000         0           1              0  910930.7817   \n",
       "273173      225000         0           1              0  911353.8793   \n",
       "273179     7662600         0          12              0  903092.2237   \n",
       "273181       90750         0           1              0  907738.4497   \n",
       "\n",
       "             POINT_Y                 lon                 lat  \\\n",
       "14982   1.500567e+06  126.42348204025272   33.49228163615811   \n",
       "14983   1.500567e+06  126.42348204025272   33.49228163615811   \n",
       "14984   1.500567e+06  126.42348204025272   33.49228163615811   \n",
       "14985   1.500567e+06  126.42348204025272   33.49228163615811   \n",
       "14986   1.500567e+06  126.42348204025272   33.49228163615811   \n",
       "...              ...                 ...                 ...   \n",
       "273171  1.501563e+06  126.52661380103442   33.50211464436661   \n",
       "273172  1.502769e+06  126.54095768287527  33.513103125062536   \n",
       "273173  1.497923e+06  126.54599217980697  33.469435744708115   \n",
       "273179  1.501082e+06  126.45675120309421   33.49720789225105   \n",
       "273181  1.501454e+06  126.50672452857444   33.50097517749024   \n",
       "\n",
       "                                      lon_lat  dong  \n",
       "14982    126.42348204025272_33.49228163615811  외도이동  \n",
       "14983    126.42348204025272_33.49228163615811  외도이동  \n",
       "14984    126.42348204025272_33.49228163615811  외도이동  \n",
       "14985    126.42348204025272_33.49228163615811  외도이동  \n",
       "14986    126.42348204025272_33.49228163615811  외도이동  \n",
       "...                                       ...   ...  \n",
       "273171   126.52661380103442_33.50211464436661  이도일동  \n",
       "273172  126.54095768287527_33.513103125062536  일도이동  \n",
       "273173  126.54599217980697_33.469435744708115  아라일동  \n",
       "273179   126.45675120309421_33.49720789225105  이호일동  \n",
       "273181   126.50672452857444_33.50097517749024  용담이동  \n",
       "\n",
       "[153171 rows x 18 columns]"
      ],
      "text/html": "<div>\n<style scoped>\n    .dataframe tbody tr th:only-of-type {\n        vertical-align: middle;\n    }\n\n    .dataframe tbody tr th {\n        vertical-align: top;\n    }\n\n    .dataframe thead th {\n        text-align: right;\n    }\n</style>\n<table border=\"1\" class=\"dataframe\">\n  <thead>\n    <tr style=\"text-align: right;\">\n      <th></th>\n      <th>OBJECTID</th>\n      <th>Field1</th>\n      <th>YM</th>\n      <th>SIDO</th>\n      <th>SIGUNGU</th>\n      <th>FranClass</th>\n      <th>Type</th>\n      <th>Time</th>\n      <th>TotalSpent</th>\n      <th>DisSpent</th>\n      <th>NumofSpent</th>\n      <th>NumofDisSpent</th>\n      <th>POINT_X</th>\n      <th>POINT_Y</th>\n      <th>lon</th>\n      <th>lat</th>\n      <th>lon_lat</th>\n      <th>dong</th>\n    </tr>\n  </thead>\n  <tbody>\n    <tr>\n      <th>14982</th>\n      <td>580</td>\n      <td>580</td>\n      <td>202005</td>\n      <td>제주특별자치도</td>\n      <td>제주시</td>\n      <td>영세</td>\n      <td>편의점</td>\n      <td>00시</td>\n      <td>3200</td>\n      <td>0</td>\n      <td>1</td>\n      <td>0</td>\n      <td>899996.0333</td>\n      <td>1.500567e+06</td>\n      <td>126.42348204025272</td>\n      <td>33.49228163615811</td>\n      <td>126.42348204025272_33.49228163615811</td>\n      <td>외도이동</td>\n    </tr>\n    <tr>\n      <th>14983</th>\n      <td>11443</td>\n      <td>11443</td>\n      <td>202005</td>\n      <td>제주특별자치도</td>\n      <td>제주시</td>\n      <td>영세</td>\n      <td>편의점</td>\n      <td>03시</td>\n      <td>11500</td>\n      <td>0</td>\n      <td>1</td>\n      <td>0</td>\n      <td>899996.0333</td>\n      <td>1.500567e+06</td>\n      <td>126.42348204025272</td>\n      <td>33.49228163615811</td>\n      <td>126.42348204025272_33.49228163615811</td>\n      <td>외도이동</td>\n    </tr>\n    <tr>\n      <th>14984</th>\n      <td>14890</td>\n      <td>14890</td>\n      <td>202005</td>\n      <td>제주특별자치도</td>\n      <td>제주시</td>\n      <td>영세</td>\n      <td>편의점</td>\n      <td>05시</td>\n      <td>5200</td>\n      <td>0</td>\n      <td>1</td>\n      <td>0</td>\n      <td>899996.0333</td>\n      <td>1.500567e+06</td>\n      <td>126.42348204025272</td>\n      <td>33.49228163615811</td>\n      <td>126.42348204025272_33.49228163615811</td>\n      <td>외도이동</td>\n    </tr>\n    <tr>\n      <th>14985</th>\n      <td>16840</td>\n      <td>16840</td>\n      <td>202005</td>\n      <td>제주특별자치도</td>\n      <td>제주시</td>\n      <td>영세</td>\n      <td>편의점</td>\n      <td>06시</td>\n      <td>46620</td>\n      <td>4800</td>\n      <td>6</td>\n      <td>1</td>\n      <td>899996.0333</td>\n      <td>1.500567e+06</td>\n      <td>126.42348204025272</td>\n      <td>33.49228163615811</td>\n      <td>126.42348204025272_33.49228163615811</td>\n      <td>외도이동</td>\n    </tr>\n    <tr>\n      <th>14986</th>\n      <td>19854</td>\n      <td>19854</td>\n      <td>202005</td>\n      <td>제주특별자치도</td>\n      <td>제주시</td>\n      <td>영세</td>\n      <td>편의점</td>\n      <td>07시</td>\n      <td>29000</td>\n      <td>2200</td>\n      <td>4</td>\n      <td>1</td>\n      <td>899996.0333</td>\n      <td>1.500567e+06</td>\n      <td>126.42348204025272</td>\n      <td>33.49228163615811</td>\n      <td>126.42348204025272_33.49228163615811</td>\n      <td>외도이동</td>\n    </tr>\n    <tr>\n      <th>...</th>\n      <td>...</td>\n      <td>...</td>\n      <td>...</td>\n      <td>...</td>\n      <td>...</td>\n      <td>...</td>\n      <td>...</td>\n      <td>...</td>\n      <td>...</td>\n      <td>...</td>\n      <td>...</td>\n      <td>...</td>\n      <td>...</td>\n      <td>...</td>\n      <td>...</td>\n      <td>...</td>\n      <td>...</td>\n      <td>...</td>\n    </tr>\n    <tr>\n      <th>273171</th>\n      <td>265430</td>\n      <td>265430</td>\n      <td>202005</td>\n      <td>제주특별자치도</td>\n      <td>제주시</td>\n      <td>영세</td>\n      <td>기타숙박업</td>\n      <td>23시</td>\n      <td>30000</td>\n      <td>0</td>\n      <td>1</td>\n      <td>0</td>\n      <td>909587.1435</td>\n      <td>1.501563e+06</td>\n      <td>126.52661380103442</td>\n      <td>33.50211464436661</td>\n      <td>126.52661380103442_33.50211464436661</td>\n      <td>이도일동</td>\n    </tr>\n    <tr>\n      <th>273172</th>\n      <td>266403</td>\n      <td>266403</td>\n      <td>202005</td>\n      <td>제주특별자치도</td>\n      <td>제주시</td>\n      <td>영세</td>\n      <td>기타숙박업</td>\n      <td>23시</td>\n      <td>25000</td>\n      <td>0</td>\n      <td>1</td>\n      <td>0</td>\n      <td>910930.7817</td>\n      <td>1.502769e+06</td>\n      <td>126.54095768287527</td>\n      <td>33.513103125062536</td>\n      <td>126.54095768287527_33.513103125062536</td>\n      <td>일도이동</td>\n    </tr>\n    <tr>\n      <th>273173</th>\n      <td>266676</td>\n      <td>266676</td>\n      <td>202005</td>\n      <td>제주특별자치도</td>\n      <td>제주시</td>\n      <td>영세</td>\n      <td>피부미용실</td>\n      <td>23시</td>\n      <td>225000</td>\n      <td>0</td>\n      <td>1</td>\n      <td>0</td>\n      <td>911353.8793</td>\n      <td>1.497923e+06</td>\n      <td>126.54599217980697</td>\n      <td>33.469435744708115</td>\n      <td>126.54599217980697_33.469435744708115</td>\n      <td>아라일동</td>\n    </tr>\n    <tr>\n      <th>273179</th>\n      <td>269416</td>\n      <td>269416</td>\n      <td>202005</td>\n      <td>제주특별자치도</td>\n      <td>제주시</td>\n      <td>일반</td>\n      <td>건강식품(회원제형태)</td>\n      <td>x시</td>\n      <td>7662600</td>\n      <td>0</td>\n      <td>12</td>\n      <td>0</td>\n      <td>903092.2237</td>\n      <td>1.501082e+06</td>\n      <td>126.45675120309421</td>\n      <td>33.49720789225105</td>\n      <td>126.45675120309421_33.49720789225105</td>\n      <td>이호일동</td>\n    </tr>\n    <tr>\n      <th>273181</th>\n      <td>270508</td>\n      <td>270508</td>\n      <td>202005</td>\n      <td>제주특별자치도</td>\n      <td>제주시</td>\n      <td>일반</td>\n      <td>기타음료식품</td>\n      <td>x시</td>\n      <td>90750</td>\n      <td>0</td>\n      <td>1</td>\n      <td>0</td>\n      <td>907738.4497</td>\n      <td>1.501454e+06</td>\n      <td>126.50672452857444</td>\n      <td>33.50097517749024</td>\n      <td>126.50672452857444_33.50097517749024</td>\n      <td>용담이동</td>\n    </tr>\n  </tbody>\n</table>\n<p>153171 rows × 18 columns</p>\n</div>"
     },
     "metadata": {},
     "execution_count": 73
    }
   ],
   "source": [
    "# 제주시 지역 \n",
    "cond1 = df_final['SIGUNGU'] == '제주시'\n",
    "cond2 = df_final['dong'].str.contains('동')\n",
    "df_reg_jejusi = df_final[cond1&cond2]\n",
    "df_reg_jejusi"
   ]
  },
  {
   "cell_type": "code",
   "execution_count": 83,
   "metadata": {},
   "outputs": [],
   "source": [
    "test = df_reg_jejusi.groupby(['Type']).sum()\n",
    "test = test.sort_values('TotalSpent', ascending=False)\n",
    "test = test.reset_index()"
   ]
  },
  {
   "cell_type": "code",
   "execution_count": 85,
   "metadata": {},
   "outputs": [
    {
     "output_type": "execute_result",
     "data": {
      "text/plain": [
       "<matplotlib.axes._subplots.AxesSubplot at 0x1819e1e4eb0>"
      ]
     },
     "metadata": {},
     "execution_count": 85
    },
    {
     "output_type": "display_data",
     "data": {
      "text/plain": "<Figure size 720x216 with 1 Axes>",
      "image/svg+xml": "<?xml version=\"1.0\" encoding=\"utf-8\" standalone=\"no\"?>\r\n<!DOCTYPE svg PUBLIC \"-//W3C//DTD SVG 1.1//EN\"\r\n  \"http://www.w3.org/Graphics/SVG/1.1/DTD/svg11.dtd\">\r\n<!-- Created with matplotlib (https://matplotlib.org/) -->\r\n<svg height=\"218.984688pt\" version=\"1.1\" viewBox=\"0 0 612.067188 218.984688\" width=\"612.067188pt\" xmlns=\"http://www.w3.org/2000/svg\" xmlns:xlink=\"http://www.w3.org/1999/xlink\">\r\n <defs>\r\n  <style type=\"text/css\">\r\n*{stroke-linecap:butt;stroke-linejoin:round;}\r\n  </style>\r\n </defs>\r\n <g id=\"figure_1\">\r\n  <g id=\"patch_1\">\r\n   <path d=\"M 0 218.984688 \r\nL 612.067188 218.984688 \r\nL 612.067188 -0 \r\nL 0 -0 \r\nz\r\n\" style=\"fill:none;\"/>\r\n  </g>\r\n  <g id=\"axes_1\">\r\n   <g id=\"patch_2\">\r\n    <path d=\"M 46.867188 180.872187 \r\nL 604.867188 180.872187 \r\nL 604.867188 17.792187 \r\nL 46.867188 17.792187 \r\nz\r\n\" style=\"fill:#ffffff;\"/>\r\n   </g>\r\n   <g id=\"patch_3\">\r\n    <path clip-path=\"url(#p5d7981abf0)\" d=\"M 52.447187 180.872187 \r\nL 97.087187 180.872187 \r\nL 97.087187 25.557902 \r\nL 52.447187 25.557902 \r\nz\r\n\" style=\"fill:#374249;\"/>\r\n   </g>\r\n   <g id=\"patch_4\">\r\n    <path clip-path=\"url(#p5d7981abf0)\" d=\"M 108.247188 180.872187 \r\nL 152.887188 180.872187 \r\nL 152.887188 92.181248 \r\nL 108.247188 92.181248 \r\nz\r\n\" style=\"fill:#3b5060;\"/>\r\n   </g>\r\n   <g id=\"patch_5\">\r\n    <path clip-path=\"url(#p5d7981abf0)\" d=\"M 164.047188 180.872187 \r\nL 208.687188 180.872187 \r\nL 208.687188 111.382139 \r\nL 164.047188 111.382139 \r\nz\r\n\" style=\"fill:#3e5f76;\"/>\r\n   </g>\r\n   <g id=\"patch_6\">\r\n    <path clip-path=\"url(#p5d7981abf0)\" d=\"M 219.847188 180.872187 \r\nL 264.487188 180.872187 \r\nL 264.487188 131.737665 \r\nL 219.847188 131.737665 \r\nz\r\n\" style=\"fill:#426e8e;\"/>\r\n   </g>\r\n   <g id=\"patch_7\">\r\n    <path clip-path=\"url(#p5d7981abf0)\" d=\"M 275.647188 180.872187 \r\nL 320.287188 180.872187 \r\nL 320.287188 145.4706 \r\nL 275.647188 145.4706 \r\nz\r\n\" style=\"fill:#467da4;\"/>\r\n   </g>\r\n   <g id=\"patch_8\">\r\n    <path clip-path=\"url(#p5d7981abf0)\" d=\"M 331.447188 180.872187 \r\nL 376.087188 180.872187 \r\nL 376.087188 147.008184 \r\nL 331.447188 147.008184 \r\nz\r\n\" style=\"fill:#528bb3;\"/>\r\n   </g>\r\n   <g id=\"patch_9\">\r\n    <path clip-path=\"url(#p5d7981abf0)\" d=\"M 387.247187 180.872187 \r\nL 431.887187 180.872187 \r\nL 431.887187 151.69075 \r\nL 387.247187 151.69075 \r\nz\r\n\" style=\"fill:#6598bc;\"/>\r\n   </g>\r\n   <g id=\"patch_10\">\r\n    <path clip-path=\"url(#p5d7981abf0)\" d=\"M 443.047188 180.872187 \r\nL 487.687188 180.872187 \r\nL 487.687188 151.741145 \r\nL 443.047188 151.741145 \r\nz\r\n\" style=\"fill:#79a6c5;\"/>\r\n   </g>\r\n   <g id=\"patch_11\">\r\n    <path clip-path=\"url(#p5d7981abf0)\" d=\"M 498.847188 180.872187 \r\nL 543.487188 180.872187 \r\nL 543.487188 151.975431 \r\nL 498.847188 151.975431 \r\nz\r\n\" style=\"fill:#8cb3cd;\"/>\r\n   </g>\r\n   <g id=\"patch_12\">\r\n    <path clip-path=\"url(#p5d7981abf0)\" d=\"M 554.647187 180.872187 \r\nL 599.287188 180.872187 \r\nL 599.287188 153.849369 \r\nL 554.647187 153.849369 \r\nz\r\n\" style=\"fill:#9fc1d6;\"/>\r\n   </g>\r\n   <g id=\"matplotlib.axis_1\">\r\n    <g id=\"xtick_1\">\r\n     <g id=\"line2d_1\">\r\n      <defs>\r\n       <path d=\"M 0 0 \r\nL 0 3.5 \r\n\" id=\"mb709a44199\" style=\"stroke:#000000;stroke-width:0.8;\"/>\r\n      </defs>\r\n      <g>\r\n       <use style=\"stroke:#000000;stroke-width:0.8;\" x=\"74.767188\" xlink:href=\"#mb709a44199\" y=\"180.872187\"/>\r\n      </g>\r\n     </g>\r\n     <g id=\"text_1\">\r\n      <!-- 일반한식 -->\r\n      <defs>\r\n       <path d=\"M 77.296875 28.609375 \r\nL 77.296875 77.09375 \r\nL 84.71875 77.09375 \r\nL 84.71875 28.609375 \r\nz\r\nM 37.796875 31.984375 \r\nQ 27.15625 31.984375 20.53125 38.109375 \r\nQ 13.921875 44.234375 13.921875 53.71875 \r\nQ 13.921875 63.140625 20.53125 69.21875 \r\nQ 27.15625 75.296875 37.796875 75.296875 \r\nQ 48.390625 75.296875 55.046875 69.1875 \r\nQ 61.71875 63.09375 61.71875 53.71875 \r\nQ 61.71875 44.28125 55.03125 38.125 \r\nQ 48.34375 31.984375 37.796875 31.984375 \r\nz\r\nM 37.796875 69 \r\nQ 30.171875 69 25.671875 64.8125 \r\nQ 21.1875 60.640625 21.1875 53.71875 \r\nQ 21.1875 46.734375 25.671875 42.453125 \r\nQ 30.171875 38.1875 37.796875 38.1875 \r\nQ 45.40625 38.1875 49.890625 42.453125 \r\nQ 54.390625 46.734375 54.390625 53.71875 \r\nQ 54.390625 60.640625 49.890625 64.8125 \r\nQ 45.40625 69 37.796875 69 \r\nz\r\nM 26.609375 -14.890625 \r\nL 26.609375 7.90625 \r\nL 77.484375 7.90625 \r\nL 77.484375 16.890625 \r\nL 26.609375 16.890625 \r\nL 26.609375 23.390625 \r\nL 84.71875 23.390625 \r\nL 84.71875 1.609375 \r\nL 33.796875 1.609375 \r\nL 33.796875 -8.40625 \r\nL 87.3125 -8.40625 \r\nL 87.3125 -14.890625 \r\nz\r\n\" id=\"MalgunGothicRegular-51068\"/>\r\n       <path d=\"M 80.078125 41.21875 \r\nL 80.078125 8.296875 \r\nL 72.796875 8.296875 \r\nL 72.796875 77.09375 \r\nL 80.078125 77.09375 \r\nL 80.078125 47.796875 \r\nL 94.28125 47.796875 \r\nL 94.28125 41.21875 \r\nz\r\nM 11.8125 24.8125 \r\nL 11.8125 72.609375 \r\nL 19 72.609375 \r\nL 19 54.5 \r\nL 47.796875 54.5 \r\nL 47.796875 72.609375 \r\nL 54.984375 72.609375 \r\nL 54.984375 24.8125 \r\nz\r\nM 47.796875 48 \r\nL 19 48 \r\nL 19 31.296875 \r\nL 47.796875 31.296875 \r\nz\r\nM 22.703125 -14.109375 \r\nL 22.703125 14.796875 \r\nL 29.984375 14.796875 \r\nL 29.984375 -7.625 \r\nL 82.71875 -7.625 \r\nL 82.71875 -14.109375 \r\nz\r\n\" id=\"MalgunGothicRegular-48152\"/>\r\n       <path d=\"M 80.078125 34.078125 \r\nL 80.078125 6.984375 \r\nL 72.796875 6.984375 \r\nL 72.796875 77.09375 \r\nL 80.078125 77.09375 \r\nL 80.078125 40.71875 \r\nL 94.28125 40.71875 \r\nL 94.28125 34.078125 \r\nz\r\nM 6.984375 58.015625 \r\nL 6.984375 64.5 \r\nL 31.296875 64.5 \r\nL 31.296875 76.703125 \r\nL 38.71875 76.703125 \r\nL 38.71875 64.5 \r\nL 62.984375 64.5 \r\nL 62.984375 58.015625 \r\nz\r\nM 35.015625 17.484375 \r\nQ 24.359375 17.484375 18.140625 22.625 \r\nQ 11.921875 27.78125 11.921875 35.296875 \r\nQ 11.921875 42.71875 18.140625 47.84375 \r\nQ 24.359375 52.984375 35.109375 52.984375 \r\nQ 45.796875 52.984375 52.046875 47.875 \r\nQ 58.296875 42.78125 58.296875 35.296875 \r\nQ 58.296875 27.875 52.015625 22.671875 \r\nQ 45.75 17.484375 35.015625 17.484375 \r\nz\r\nM 35.109375 46.78125 \r\nQ 27.6875 46.78125 23.390625 43.546875 \r\nQ 19.09375 40.328125 19.09375 35.296875 \r\nQ 19.09375 30.21875 23.40625 26.953125 \r\nQ 27.734375 23.6875 35.109375 23.6875 \r\nQ 42.484375 23.6875 46.796875 26.953125 \r\nQ 51.125 30.21875 51.125 35.296875 \r\nQ 51.125 40.328125 46.828125 43.546875 \r\nQ 42.53125 46.78125 35.109375 46.78125 \r\nz\r\nM 22.796875 -15.375 \r\nL 22.796875 10.6875 \r\nL 29.984375 10.6875 \r\nL 29.984375 -8.890625 \r\nL 83.015625 -8.890625 \r\nL 83.015625 -15.375 \r\nz\r\n\" id=\"MalgunGothicRegular-54620\"/>\r\n       <path d=\"M 76.3125 22.796875 \r\nL 76.3125 77.09375 \r\nL 83.59375 77.09375 \r\nL 83.59375 22.796875 \r\nz\r\nM 57.078125 28.078125 \r\nQ 50.6875 31.546875 44.234375 37.796875 \r\nQ 37.796875 44.046875 35.203125 49.515625 \r\nQ 32.421875 43.3125 25.921875 36.34375 \r\nQ 19.4375 29.390625 12.796875 25.6875 \r\nL 7.625 30.71875 \r\nQ 17.71875 35.546875 24.546875 44.71875 \r\nQ 31.390625 53.90625 31.390625 64.015625 \r\nL 31.390625 74.03125 \r\nL 38.484375 74.03125 \r\nL 38.484375 64.015625 \r\nQ 38.484375 54.59375 45.5625 45.953125 \r\nQ 52.640625 37.3125 62.015625 33.40625 \r\nz\r\nM 76.3125 -17.09375 \r\nL 76.3125 10.984375 \r\nL 22.3125 10.984375 \r\nL 22.3125 17.484375 \r\nL 83.59375 17.484375 \r\nL 83.59375 -17.09375 \r\nz\r\n\" id=\"MalgunGothicRegular-49885\"/>\r\n      </defs>\r\n      <g transform=\"translate(54.767188 195.464375)scale(0.1 -0.1)\">\r\n       <use xlink:href=\"#MalgunGothicRegular-51068\"/>\r\n       <use x=\"100\" xlink:href=\"#MalgunGothicRegular-48152\"/>\r\n       <use x=\"200\" xlink:href=\"#MalgunGothicRegular-54620\"/>\r\n       <use x=\"300\" xlink:href=\"#MalgunGothicRegular-49885\"/>\r\n      </g>\r\n     </g>\r\n    </g>\r\n    <g id=\"xtick_2\">\r\n     <g id=\"line2d_2\">\r\n      <g>\r\n       <use style=\"stroke:#000000;stroke-width:0.8;\" x=\"130.567188\" xlink:href=\"#mb709a44199\" y=\"180.872187\"/>\r\n      </g>\r\n     </g>\r\n     <g id=\"text_2\">\r\n      <!-- 슈퍼마켓 -->\r\n      <defs>\r\n       <path d=\"M 85.296875 39.890625 \r\nQ 74.21875 41.703125 63.859375 47.796875 \r\nQ 53.515625 53.90625 50 60.296875 \r\nQ 46.390625 54 36.234375 47.65625 \r\nQ 26.078125 41.3125 14.796875 39.40625 \r\nL 10.40625 45.515625 \r\nQ 24.90625 47.125 35.59375 54.953125 \r\nQ 46.296875 62.796875 46.296875 71.6875 \r\nL 46.296875 75.59375 \r\nL 53.609375 75.59375 \r\nL 53.609375 71.6875 \r\nQ 53.609375 62.703125 64.03125 55.078125 \r\nQ 74.46875 47.46875 89.59375 45.90625 \r\nz\r\nM 29.390625 -17.09375 \r\nL 29.390625 20.796875 \r\nL 6.296875 20.796875 \r\nL 6.296875 27.296875 \r\nL 93.703125 27.296875 \r\nL 93.703125 20.796875 \r\nL 70.609375 20.796875 \r\nL 70.609375 -17.09375 \r\nL 63.28125 -17.09375 \r\nL 63.28125 20.796875 \r\nL 36.71875 20.796875 \r\nL 36.71875 -17.09375 \r\nz\r\n\" id=\"MalgunGothicRegular-49800\"/>\r\n       <path d=\"M 77.59375 -17.09375 \r\nL 77.59375 35.59375 \r\nL 59.078125 35.59375 \r\nL 59.078125 42.09375 \r\nL 77.59375 42.09375 \r\nL 77.59375 77.09375 \r\nL 85.015625 77.09375 \r\nL 85.015625 -17.09375 \r\nz\r\nM 9.28125 62.5 \r\nL 9.28125 68.890625 \r\nL 62.890625 68.890625 \r\nL 62.890625 62.5 \r\nz\r\nM 67.390625 9.515625 \r\nQ 60.40625 8.109375 52.203125 8.109375 \r\nL 5.90625 8.109375 \r\nL 5.90625 14.59375 \r\nL 20.125 14.59375 \r\nL 19.09375 55.609375 \r\nL 26.3125 55.609375 \r\nL 27.296875 14.59375 \r\nL 44 14.59375 \r\nL 44.921875 55.609375 \r\nL 52.09375 55.609375 \r\nL 51.125 14.59375 \r\nQ 62.3125 14.59375 66.703125 15.71875 \r\nz\r\n\" id=\"MalgunGothicRegular-54140\"/>\r\n       <path d=\"M 79.59375 32.8125 \r\nL 79.59375 -17.09375 \r\nL 72.3125 -17.09375 \r\nL 72.3125 77.09375 \r\nL 79.59375 77.09375 \r\nL 79.59375 39.3125 \r\nL 95.90625 39.3125 \r\nL 95.90625 32.8125 \r\nz\r\nM 12.5 10.59375 \r\nL 12.5 68.796875 \r\nL 56.984375 68.796875 \r\nL 56.984375 10.59375 \r\nz\r\nM 49.8125 62.40625 \r\nL 19.828125 62.40625 \r\nL 19.828125 17 \r\nL 49.8125 17 \r\nz\r\n\" id=\"MalgunGothicRegular-47560\"/>\r\n       <path d=\"M 79 16.015625 \r\nL 79 77.09375 \r\nL 86.28125 77.09375 \r\nL 86.28125 16.015625 \r\nz\r\nM 62.203125 22.015625 \r\nL 62.203125 43.015625 \r\nL 46.78125 43.015625 \r\nL 46.78125 49.515625 \r\nL 62.203125 49.515625 \r\nL 62.203125 75.203125 \r\nL 69.390625 75.203125 \r\nL 69.390625 22.015625 \r\nz\r\nM 11.28125 43.890625 \r\nL 8.796875 50.484375 \r\nL 39.890625 52.875 \r\nQ 42.390625 58.40625 43.015625 64.109375 \r\nL 13.71875 64.109375 \r\nL 13.71875 70.515625 \r\nL 50.875 70.515625 \r\nQ 49.515625 35.359375 14.015625 18.21875 \r\nL 8.5 23.78125 \r\nQ 26.421875 30.90625 36.71875 46.78125 \r\nz\r\nM 87.796875 -14.984375 \r\nQ 78.03125 -12.796875 68.609375 -6.15625 \r\nQ 59.1875 0.484375 54.78125 8.109375 \r\nQ 51.375 0.921875 41.765625 -5.90625 \r\nQ 32.171875 -12.75 22.3125 -14.984375 \r\nL 17.671875 -8.6875 \r\nQ 30.515625 -6.890625 40.796875 1.953125 \r\nQ 51.078125 10.796875 51.21875 19.390625 \r\nL 51.21875 21.578125 \r\nL 58.5 21.578125 \r\nL 58.5 19.484375 \r\nQ 58.5 11.078125 68.671875 2.140625 \r\nQ 78.859375 -6.78125 92 -8.6875 \r\nz\r\n\" id=\"MalgunGothicRegular-53011\"/>\r\n      </defs>\r\n      <g transform=\"translate(110.567188 195.464375)scale(0.1 -0.1)\">\r\n       <use xlink:href=\"#MalgunGothicRegular-49800\"/>\r\n       <use x=\"100\" xlink:href=\"#MalgunGothicRegular-54140\"/>\r\n       <use x=\"200\" xlink:href=\"#MalgunGothicRegular-47560\"/>\r\n       <use x=\"300\" xlink:href=\"#MalgunGothicRegular-53011\"/>\r\n      </g>\r\n     </g>\r\n    </g>\r\n    <g id=\"xtick_3\">\r\n     <g id=\"line2d_3\">\r\n      <g>\r\n       <use style=\"stroke:#000000;stroke-width:0.8;\" x=\"186.367188\" xlink:href=\"#mb709a44199\" y=\"180.872187\"/>\r\n      </g>\r\n     </g>\r\n     <g id=\"text_3\">\r\n      <!-- 면세점 -->\r\n      <defs>\r\n       <path d=\"M 77.390625 8.296875 \r\nL 77.390625 34.71875 \r\nL 58.59375 34.71875 \r\nL 58.59375 25.484375 \r\nL 15.375 25.484375 \r\nL 15.375 71.78125 \r\nL 58.59375 71.78125 \r\nL 58.59375 62.5 \r\nL 77.390625 62.5 \r\nL 77.390625 77.09375 \r\nL 84.71875 77.09375 \r\nL 84.71875 8.296875 \r\nz\r\nM 51.3125 65.28125 \r\nL 22.703125 65.28125 \r\nL 22.703125 31.984375 \r\nL 51.3125 31.984375 \r\nz\r\nM 77.390625 56.203125 \r\nL 58.59375 56.203125 \r\nL 58.59375 41.015625 \r\nL 77.390625 41.015625 \r\nz\r\nM 27.09375 -14.40625 \r\nL 27.09375 15.28125 \r\nL 34.421875 15.28125 \r\nL 34.421875 -7.90625 \r\nL 87.59375 -7.90625 \r\nL 87.59375 -14.40625 \r\nz\r\n\" id=\"MalgunGothicRegular-47732\"/>\r\n       <path d=\"M 78.71875 -17.09375 \r\nL 78.71875 77.09375 \r\nL 85.984375 77.09375 \r\nL 85.984375 -17.09375 \r\nz\r\nM 61.625 -14.203125 \r\nL 61.625 38.1875 \r\nL 45.21875 38.1875 \r\nL 45.21875 44.671875 \r\nL 61.625 44.671875 \r\nL 61.625 75.203125 \r\nL 68.796875 75.203125 \r\nL 68.796875 -14.203125 \r\nz\r\nM 48.6875 4.984375 \r\nQ 36.03125 17.4375 31 34.421875 \r\nQ 29.390625 27.484375 23.890625 18.59375 \r\nQ 18.40625 9.71875 12.109375 3.71875 \r\nL 6.390625 8.296875 \r\nQ 14.703125 14.15625 21.09375 26.828125 \r\nQ 27.484375 39.5 27.484375 51.609375 \r\nL 27.484375 70.21875 \r\nL 34.71875 70.21875 \r\nL 34.71875 51.515625 \r\nQ 34.71875 39.75 40.453125 28.078125 \r\nQ 46.1875 16.40625 54.203125 9.71875 \r\nz\r\n\" id=\"MalgunGothicRegular-49464\"/>\r\n       <path d=\"M 76.3125 24.703125 \r\nL 76.3125 49.125 \r\nL 53.8125 49.125 \r\nL 53.8125 55.71875 \r\nL 76.3125 55.71875 \r\nL 76.3125 77.09375 \r\nL 83.59375 77.09375 \r\nL 83.59375 24.703125 \r\nz\r\nM 57.078125 28.078125 \r\nQ 50.6875 31.546875 44.234375 37.796875 \r\nQ 37.796875 44.046875 35.203125 49.515625 \r\nQ 32.421875 43.3125 25.921875 36.34375 \r\nQ 19.4375 29.390625 12.796875 25.6875 \r\nL 7.625 30.71875 \r\nQ 17.71875 35.546875 24.546875 44.71875 \r\nQ 31.390625 53.90625 31.390625 64.015625 \r\nL 31.390625 66.40625 \r\nL 10.6875 66.40625 \r\nL 10.6875 72.90625 \r\nL 59.1875 72.90625 \r\nL 59.1875 66.40625 \r\nL 38.484375 66.40625 \r\nL 38.484375 64.015625 \r\nQ 38.484375 54.59375 45.5625 45.953125 \r\nQ 52.640625 37.3125 62.015625 33.40625 \r\nz\r\nM 25.390625 -14.5 \r\nL 25.390625 19.28125 \r\nL 83.59375 19.28125 \r\nL 83.59375 -14.5 \r\nz\r\nM 76.421875 12.890625 \r\nL 32.625 12.890625 \r\nL 32.625 -8.109375 \r\nL 76.421875 -8.109375 \r\nz\r\n\" id=\"MalgunGothicRegular-51216\"/>\r\n      </defs>\r\n      <g transform=\"translate(171.367188 195.464375)scale(0.1 -0.1)\">\r\n       <use xlink:href=\"#MalgunGothicRegular-47732\"/>\r\n       <use x=\"100\" xlink:href=\"#MalgunGothicRegular-49464\"/>\r\n       <use x=\"200\" xlink:href=\"#MalgunGothicRegular-51216\"/>\r\n      </g>\r\n     </g>\r\n    </g>\r\n    <g id=\"xtick_4\">\r\n     <g id=\"line2d_4\">\r\n      <g>\r\n       <use style=\"stroke:#000000;stroke-width:0.8;\" x=\"242.167188\" xlink:href=\"#mb709a44199\" y=\"180.872187\"/>\r\n      </g>\r\n     </g>\r\n     <g id=\"text_4\">\r\n      <!-- 편의점 -->\r\n      <defs>\r\n       <path d=\"M 60.6875 36.078125 \r\nL 60.6875 42.390625 \r\nL 77.6875 42.390625 \r\nL 77.6875 51.515625 \r\nL 60.6875 51.515625 \r\nL 60.6875 57.8125 \r\nL 77.6875 57.8125 \r\nL 77.6875 77.09375 \r\nL 85.015625 77.09375 \r\nL 85.015625 8.40625 \r\nL 77.6875 8.40625 \r\nL 77.6875 36.078125 \r\nz\r\nM 12.40625 64.796875 \r\nL 12.40625 71.1875 \r\nL 63.375 71.1875 \r\nL 63.375 64.796875 \r\nz\r\nM 67.28125 24.125 \r\nQ 61.140625 22.90625 50.6875 22.90625 \r\nL 10.109375 22.90625 \r\nL 10.109375 29.296875 \r\nL 22.90625 29.296875 \r\nL 21.78125 59.421875 \r\nL 28.90625 59.421875 \r\nL 29.78125 29.296875 \r\nL 45.3125 29.296875 \r\nL 46.1875 59.421875 \r\nL 53.328125 59.421875 \r\nL 52.09375 29.390625 \r\nQ 61.328125 29.390625 66.796875 30.421875 \r\nz\r\nM 26.125 -14.015625 \r\nL 26.125 14.40625 \r\nL 33.40625 14.40625 \r\nL 33.40625 -7.625 \r\nL 87.109375 -7.625 \r\nL 87.109375 -14.015625 \r\nz\r\n\" id=\"MalgunGothicRegular-54200\"/>\r\n       <path d=\"M 78.328125 -17.09375 \r\nL 78.328125 77.09375 \r\nL 85.59375 77.09375 \r\nL 85.59375 -17.09375 \r\nz\r\nM 38.28125 25 \r\nQ 27.734375 25 20.546875 31.390625 \r\nQ 13.375 37.796875 13.375 47.515625 \r\nQ 13.375 57.03125 20.5 63.46875 \r\nQ 27.640625 69.921875 38.28125 69.921875 \r\nQ 48.875 69.921875 56.03125 63.421875 \r\nQ 63.1875 56.9375 63.1875 47.515625 \r\nQ 63.1875 37.75 56.046875 31.375 \r\nQ 48.921875 25 38.28125 25 \r\nz\r\nM 38.28125 63.484375 \r\nQ 30.859375 63.484375 25.875 58.984375 \r\nQ 20.90625 54.5 20.90625 47.515625 \r\nQ 20.90625 40.4375 26 35.96875 \r\nQ 31.109375 31.5 38.28125 31.5 \r\nQ 45.65625 31.5 50.6875 35.96875 \r\nQ 55.71875 40.4375 55.71875 47.515625 \r\nQ 55.71875 54.59375 50.734375 59.03125 \r\nQ 45.75 63.484375 38.28125 63.484375 \r\nz\r\nM 7.171875 0 \r\nL 6.5 6.296875 \r\nQ 19.09375 6.296875 41.671875 6.78125 \r\nQ 64.265625 7.28125 71.6875 7.90625 \r\nL 72.125 1.609375 \r\nQ 64.453125 0.984375 41.859375 0.484375 \r\nQ 19.28125 0 7.171875 0 \r\nz\r\n\" id=\"MalgunGothicRegular-51032\"/>\r\n      </defs>\r\n      <g transform=\"translate(227.167188 195.464375)scale(0.1 -0.1)\">\r\n       <use xlink:href=\"#MalgunGothicRegular-54200\"/>\r\n       <use x=\"100\" xlink:href=\"#MalgunGothicRegular-51032\"/>\r\n       <use x=\"200\" xlink:href=\"#MalgunGothicRegular-51216\"/>\r\n      </g>\r\n     </g>\r\n    </g>\r\n    <g id=\"xtick_5\">\r\n     <g id=\"line2d_5\">\r\n      <g>\r\n       <use style=\"stroke:#000000;stroke-width:0.8;\" x=\"297.967188\" xlink:href=\"#mb709a44199\" y=\"180.872187\"/>\r\n      </g>\r\n     </g>\r\n     <g id=\"text_5\">\r\n      <!-- 주유소 -->\r\n      <defs>\r\n       <path d=\"M 85.796875 38.09375 \r\nQ 74.609375 39.65625 64.125 45.828125 \r\nQ 53.65625 52 50 58.203125 \r\nQ 46.578125 52.15625 36.203125 45.75 \r\nQ 25.828125 39.359375 14.40625 37.5 \r\nL 9.90625 43.609375 \r\nQ 22.859375 44.921875 33.625 51.75 \r\nQ 44.390625 58.59375 46.09375 67.09375 \r\nL 16.015625 67.09375 \r\nL 16.015625 73.578125 \r\nL 83.984375 73.578125 \r\nL 83.984375 67.09375 \r\nL 53.8125 67.09375 \r\nQ 55.46875 58.453125 66.015625 51.859375 \r\nQ 76.5625 45.265625 90.09375 44 \r\nz\r\nM 53.71875 20.796875 \r\nL 53.71875 -17.09375 \r\nL 46.296875 -17.09375 \r\nL 46.296875 20.796875 \r\nL 6.296875 20.796875 \r\nL 6.296875 27.296875 \r\nL 93.703125 27.296875 \r\nL 93.703125 20.796875 \r\nz\r\n\" id=\"MalgunGothicRegular-51452\"/>\r\n       <path d=\"M 50 35.203125 \r\nQ 35.59375 35.203125 27.625 40.625 \r\nQ 19.671875 46.046875 19.671875 55.421875 \r\nQ 19.671875 64.65625 27.734375 70.21875 \r\nQ 35.796875 75.78125 50 75.78125 \r\nQ 64.5 75.78125 72.5 70.21875 \r\nQ 80.515625 64.65625 80.515625 55.421875 \r\nQ 80.515625 46.140625 72.5 40.671875 \r\nQ 64.5 35.203125 50 35.203125 \r\nz\r\nM 50 69.484375 \r\nQ 39.265625 69.484375 33.28125 65.703125 \r\nQ 27.296875 61.921875 27.296875 55.421875 \r\nQ 27.296875 49.03125 33.28125 45.21875 \r\nQ 39.265625 41.40625 50 41.40625 \r\nQ 60.75 41.40625 66.71875 45.21875 \r\nQ 72.703125 49.03125 72.703125 55.421875 \r\nQ 72.703125 61.921875 66.71875 65.703125 \r\nQ 60.75 69.484375 50 69.484375 \r\nz\r\nM 29.890625 -17 \r\nL 29.890625 17.828125 \r\nL 6.296875 17.828125 \r\nL 6.296875 24.421875 \r\nL 93.703125 24.421875 \r\nL 93.703125 17.828125 \r\nL 70.125 17.828125 \r\nL 70.125 -17 \r\nL 62.796875 -17 \r\nL 62.796875 17.828125 \r\nL 37.203125 17.828125 \r\nL 37.203125 -17 \r\nz\r\n\" id=\"MalgunGothicRegular-50976\"/>\r\n       <path d=\"M 49.90625 52.78125 \r\nQ 46.296875 45.0625 36.40625 37.640625 \r\nQ 26.515625 30.21875 14.984375 27 \r\nL 10.015625 32.8125 \r\nQ 26.5625 36.578125 36.375 46.34375 \r\nQ 46.1875 56.109375 46.1875 64.59375 \r\nL 46.1875 69.578125 \r\nL 53.71875 69.578125 \r\nL 53.71875 64.59375 \r\nQ 53.71875 56.25 63.578125 46.484375 \r\nQ 73.4375 36.71875 89.984375 32.8125 \r\nL 84.8125 27.09375 \r\nQ 73.734375 30.46875 63.625 37.90625 \r\nQ 53.515625 45.359375 49.90625 52.78125 \r\nz\r\nM 6.296875 -2.296875 \r\nL 6.296875 4.203125 \r\nL 46.296875 4.203125 \r\nL 46.296875 27.09375 \r\nL 53.71875 27.09375 \r\nL 53.71875 4.203125 \r\nL 93.703125 4.203125 \r\nL 93.703125 -2.296875 \r\nz\r\n\" id=\"MalgunGothicRegular-49548\"/>\r\n      </defs>\r\n      <g transform=\"translate(282.967188 195.464375)scale(0.1 -0.1)\">\r\n       <use xlink:href=\"#MalgunGothicRegular-51452\"/>\r\n       <use x=\"100\" xlink:href=\"#MalgunGothicRegular-50976\"/>\r\n       <use x=\"200\" xlink:href=\"#MalgunGothicRegular-49548\"/>\r\n      </g>\r\n     </g>\r\n    </g>\r\n    <g id=\"xtick_6\">\r\n     <g id=\"line2d_6\">\r\n      <g>\r\n       <use style=\"stroke:#000000;stroke-width:0.8;\" x=\"353.767187\" xlink:href=\"#mb709a44199\" y=\"180.872187\"/>\r\n      </g>\r\n     </g>\r\n     <g id=\"text_6\">\r\n      <!-- 유아원 -->\r\n      <defs>\r\n       <path d=\"M 79.59375 32.328125 \r\nL 79.59375 -17.09375 \r\nL 72.3125 -17.09375 \r\nL 72.3125 77.09375 \r\nL 79.59375 77.09375 \r\nL 79.59375 38.921875 \r\nL 95.515625 38.921875 \r\nL 95.515625 32.328125 \r\nz\r\nM 34.28125 6.78125 \r\nQ 23.578125 6.78125 16.984375 15.328125 \r\nQ 10.40625 23.875 10.40625 38.8125 \r\nQ 10.40625 53.90625 16.921875 62.34375 \r\nQ 23.4375 70.796875 34.28125 70.796875 \r\nQ 45.171875 70.796875 51.6875 62.21875 \r\nQ 58.203125 53.65625 58.203125 38.8125 \r\nQ 58.203125 23.921875 51.65625 15.34375 \r\nQ 45.125 6.78125 34.28125 6.78125 \r\nz\r\nM 34.28125 64.3125 \r\nQ 26.8125 64.3125 22.1875 57.453125 \r\nQ 17.578125 50.59375 17.578125 38.8125 \r\nQ 17.578125 27.25 22.234375 20.265625 \r\nQ 26.90625 13.28125 34.28125 13.28125 \r\nQ 41.609375 13.28125 46.296875 20.3125 \r\nQ 50.984375 27.34375 50.984375 38.8125 \r\nQ 50.984375 50.53125 46.390625 57.421875 \r\nQ 41.796875 64.3125 34.28125 64.3125 \r\nz\r\n\" id=\"MalgunGothicRegular-50500\"/>\r\n       <path d=\"M 77.78125 2.59375 \r\nL 77.78125 12.703125 \r\nL 57.171875 12.703125 \r\nL 57.171875 19.1875 \r\nL 77.78125 19.1875 \r\nL 77.78125 77.09375 \r\nL 85.203125 77.09375 \r\nL 85.203125 2.59375 \r\nz\r\nM 41.015625 39.5 \r\nQ 30.71875 39.5 24.1875 44.671875 \r\nQ 17.671875 49.859375 17.671875 57.515625 \r\nQ 17.671875 65.09375 24.140625 70.234375 \r\nQ 30.609375 75.390625 41.015625 75.390625 \r\nQ 51.375 75.390625 57.84375 70.28125 \r\nQ 64.3125 65.1875 64.3125 57.515625 \r\nQ 64.3125 49.8125 57.8125 44.65625 \r\nQ 51.3125 39.5 41.015625 39.5 \r\nz\r\nM 41.015625 69.1875 \r\nQ 33.796875 69.1875 29.390625 65.671875 \r\nQ 25 62.15625 25 57.515625 \r\nQ 25 52.78125 29.390625 49.234375 \r\nQ 33.796875 45.703125 41.015625 45.703125 \r\nQ 48.25 45.703125 52.65625 49.234375 \r\nQ 57.078125 52.78125 57.078125 57.515625 \r\nQ 57.078125 62.15625 52.65625 65.671875 \r\nQ 48.25 69.1875 41.015625 69.1875 \r\nz\r\nM 71.1875 27.484375 \r\nQ 64.0625 27 45.015625 26.21875 \r\nL 45.015625 5.90625 \r\nL 37.796875 5.90625 \r\nL 37.796875 25.875 \r\nQ 18.890625 25.203125 10.015625 25.203125 \r\nL 8.984375 31.984375 \r\nQ 44.578125 31.984375 70.703125 33.796875 \r\nz\r\nM 23.578125 -14.59375 \r\nL 23.578125 13.625 \r\nL 30.90625 13.625 \r\nL 30.90625 -8.109375 \r\nL 87.5 -8.109375 \r\nL 87.5 -14.59375 \r\nz\r\n\" id=\"MalgunGothicRegular-50896\"/>\r\n      </defs>\r\n      <g transform=\"translate(338.767187 195.464375)scale(0.1 -0.1)\">\r\n       <use xlink:href=\"#MalgunGothicRegular-50976\"/>\r\n       <use x=\"100\" xlink:href=\"#MalgunGothicRegular-50500\"/>\r\n       <use x=\"200\" xlink:href=\"#MalgunGothicRegular-50896\"/>\r\n      </g>\r\n     </g>\r\n    </g>\r\n    <g id=\"xtick_7\">\r\n     <g id=\"line2d_7\">\r\n      <g>\r\n       <use style=\"stroke:#000000;stroke-width:0.8;\" x=\"409.567188\" xlink:href=\"#mb709a44199\" y=\"180.872187\"/>\r\n      </g>\r\n     </g>\r\n     <g id=\"text_7\">\r\n      <!-- 대형할인점 -->\r\n      <defs>\r\n       <path d=\"M 79.203125 -17.09375 \r\nL 79.203125 31.890625 \r\nL 67.09375 31.890625 \r\nL 67.09375 -14.203125 \r\nL 59.90625 -14.203125 \r\nL 59.90625 75.203125 \r\nL 67.09375 75.203125 \r\nL 67.09375 38.375 \r\nL 79.203125 38.375 \r\nL 79.203125 77.09375 \r\nL 86.53125 77.09375 \r\nL 86.53125 -17.09375 \r\nz\r\nM 52.984375 9.71875 \r\nQ 39.3125 8.296875 12.890625 8.296875 \r\nL 12.890625 68.796875 \r\nL 49.03125 68.796875 \r\nL 49.03125 62.3125 \r\nL 20.125 62.3125 \r\nL 20.125 14.796875 \r\nL 28.8125 14.796875 \r\nQ 43.609375 14.796875 52.484375 15.921875 \r\nz\r\n\" id=\"MalgunGothicRegular-45824\"/>\r\n       <path d=\"M 7.71875 58.984375 \r\nL 7.71875 65.375 \r\nL 31.6875 65.375 \r\nL 31.6875 77.59375 \r\nL 38.921875 77.59375 \r\nL 38.921875 65.375 \r\nL 62.890625 65.375 \r\nL 62.890625 58.984375 \r\nz\r\nM 61.71875 30.171875 \r\nL 61.71875 36.625 \r\nL 77.296875 36.625 \r\nL 77.296875 47.015625 \r\nL 61.71875 47.015625 \r\nL 61.71875 53.328125 \r\nL 77.296875 53.328125 \r\nL 77.296875 77.09375 \r\nL 84.625 77.09375 \r\nL 84.625 19.484375 \r\nL 77.296875 19.484375 \r\nL 77.296875 30.171875 \r\nz\r\nM 35.203125 22.3125 \r\nQ 24.75 22.3125 18.625 26.96875 \r\nQ 12.5 31.640625 12.5 38.71875 \r\nQ 12.5 45.75 18.578125 50.359375 \r\nQ 24.65625 54.984375 35.296875 54.984375 \r\nQ 45.84375 54.984375 51.921875 50.359375 \r\nQ 58.015625 45.75 58.015625 38.71875 \r\nQ 58.015625 31.640625 51.875 26.96875 \r\nQ 45.75 22.3125 35.203125 22.3125 \r\nz\r\nM 35.296875 48.78125 \r\nQ 28.078125 48.78125 23.953125 46 \r\nQ 19.828125 43.21875 19.828125 38.71875 \r\nQ 19.828125 34.234375 23.96875 31.375 \r\nQ 28.125 28.515625 35.296875 28.515625 \r\nQ 42.484375 28.515625 46.578125 31.375 \r\nQ 50.6875 34.234375 50.6875 38.71875 \r\nQ 50.6875 43.171875 46.609375 45.96875 \r\nQ 42.53125 48.78125 35.296875 48.78125 \r\nz\r\nM 54.390625 -16.40625 \r\nQ 39.359375 -16.40625 31.265625 -11.84375 \r\nQ 23.1875 -7.28125 23.1875 0.484375 \r\nQ 23.1875 8.25 31.25 12.765625 \r\nQ 39.3125 17.28125 54.390625 17.28125 \r\nQ 69.625 17.28125 77.609375 12.734375 \r\nQ 85.59375 8.203125 85.59375 0.484375 \r\nQ 85.59375 -7.28125 77.5625 -11.84375 \r\nQ 69.53125 -16.40625 54.390625 -16.40625 \r\nz\r\nM 54.390625 11.078125 \r\nQ 43.015625 11.078125 37 8.296875 \r\nQ 31 5.515625 31 0.484375 \r\nQ 31 -4.546875 36.9375 -7.375 \r\nQ 42.875 -10.203125 54.390625 -10.203125 \r\nQ 65.96875 -10.203125 71.921875 -7.34375 \r\nQ 77.875 -4.5 77.875 0.484375 \r\nQ 77.875 5.515625 71.84375 8.296875 \r\nQ 65.828125 11.078125 54.390625 11.078125 \r\nz\r\n\" id=\"MalgunGothicRegular-54805\"/>\r\n       <path d=\"M 6.984375 62.109375 \r\nL 6.984375 68.3125 \r\nL 31.203125 68.3125 \r\nL 31.203125 78.609375 \r\nL 38.484375 78.609375 \r\nL 38.484375 68.3125 \r\nL 62.796875 68.3125 \r\nL 62.796875 62.109375 \r\nz\r\nM 80.078125 42.921875 \r\nL 80.078125 24.609375 \r\nL 72.796875 24.609375 \r\nL 72.796875 77.09375 \r\nL 80.078125 77.09375 \r\nL 80.078125 49.3125 \r\nL 94.28125 49.3125 \r\nL 94.28125 42.921875 \r\nz\r\nM 34.8125 26.609375 \r\nQ 23.875 26.609375 17.703125 30.6875 \r\nQ 11.53125 34.765625 11.53125 41.609375 \r\nQ 11.53125 48.484375 17.65625 52.578125 \r\nQ 23.78125 56.6875 34.90625 56.6875 \r\nQ 46 56.6875 52.140625 52.53125 \r\nQ 58.296875 48.390625 58.296875 41.609375 \r\nQ 58.296875 34.8125 52.0625 30.703125 \r\nQ 45.84375 26.609375 34.8125 26.609375 \r\nz\r\nM 34.90625 50.875 \r\nQ 27.34375 50.875 23.0625 48.359375 \r\nQ 18.796875 45.84375 18.796875 41.609375 \r\nQ 18.796875 37.359375 23.140625 34.9375 \r\nQ 27.484375 32.515625 34.90625 32.515625 \r\nQ 42.390625 32.515625 46.625 34.953125 \r\nQ 50.875 37.40625 50.875 41.609375 \r\nQ 50.875 45.796875 46.703125 48.328125 \r\nQ 42.53125 50.875 34.90625 50.875 \r\nz\r\nM 22.3125 -16.21875 \r\nL 22.3125 4.890625 \r\nL 72.90625 4.890625 \r\nL 72.90625 13.09375 \r\nL 22.3125 13.09375 \r\nL 22.3125 19.390625 \r\nL 80.078125 19.390625 \r\nL 80.078125 -1.125 \r\nL 29.5 -1.125 \r\nL 29.5 -10.015625 \r\nL 82.625 -10.015625 \r\nL 82.625 -16.21875 \r\nz\r\n\" id=\"MalgunGothicRegular-54624\"/>\r\n       <path d=\"M 77.296875 8.296875 \r\nL 77.296875 77.09375 \r\nL 84.625 77.09375 \r\nL 84.625 8.296875 \r\nz\r\nM 38.09375 25.6875 \r\nQ 27.546875 25.6875 20.453125 32.34375 \r\nQ 13.375 39.015625 13.375 49.609375 \r\nQ 13.375 60.25 20.421875 66.859375 \r\nQ 27.484375 73.484375 38.09375 73.484375 \r\nQ 48.6875 73.484375 55.6875 66.890625 \r\nQ 62.703125 60.296875 62.703125 49.609375 \r\nQ 62.703125 39.015625 55.671875 32.34375 \r\nQ 48.640625 25.6875 38.09375 25.6875 \r\nz\r\nM 38.09375 67 \r\nQ 30.375 67 25.53125 62.25 \r\nQ 20.703125 57.515625 20.703125 49.609375 \r\nQ 20.703125 41.703125 25.515625 36.9375 \r\nQ 30.328125 32.171875 38.09375 32.171875 \r\nQ 45.84375 32.171875 50.671875 36.9375 \r\nQ 55.515625 41.703125 55.515625 49.609375 \r\nQ 55.515625 57.515625 50.671875 62.25 \r\nQ 45.84375 67 38.09375 67 \r\nz\r\nM 25.203125 -13.484375 \r\nL 25.203125 17.09375 \r\nL 32.515625 17.09375 \r\nL 32.515625 -6.890625 \r\nL 87.109375 -6.890625 \r\nL 87.109375 -13.484375 \r\nz\r\n\" id=\"MalgunGothicRegular-51064\"/>\r\n      </defs>\r\n      <g transform=\"translate(384.567188 195.464375)scale(0.1 -0.1)\">\r\n       <use xlink:href=\"#MalgunGothicRegular-45824\"/>\r\n       <use x=\"100\" xlink:href=\"#MalgunGothicRegular-54805\"/>\r\n       <use x=\"200\" xlink:href=\"#MalgunGothicRegular-54624\"/>\r\n       <use x=\"300\" xlink:href=\"#MalgunGothicRegular-51064\"/>\r\n       <use x=\"400\" xlink:href=\"#MalgunGothicRegular-51216\"/>\r\n      </g>\r\n     </g>\r\n    </g>\r\n    <g id=\"xtick_8\">\r\n     <g id=\"line2d_8\">\r\n      <g>\r\n       <use style=\"stroke:#000000;stroke-width:0.8;\" x=\"465.367188\" xlink:href=\"#mb709a44199\" y=\"180.872187\"/>\r\n      </g>\r\n     </g>\r\n     <g id=\"text_8\">\r\n      <!-- 스포츠레져용품 -->\r\n      <defs>\r\n       <path d=\"M 49.90625 52.59375 \r\nQ 46.390625 45.0625 36.375 37.46875 \r\nQ 26.375 29.890625 14.984375 26.8125 \r\nL 10.015625 32.625 \r\nQ 26.609375 36.078125 36.390625 45.9375 \r\nQ 46.1875 55.8125 46.1875 64.5 \r\nL 46.1875 69.484375 \r\nL 53.71875 69.484375 \r\nL 53.71875 64.5 \r\nQ 53.71875 55.671875 63.640625 46.015625 \r\nQ 73.578125 36.375 89.984375 32.71875 \r\nL 84.8125 26.90625 \r\nQ 73.34375 30.46875 63.40625 37.890625 \r\nQ 53.46875 45.3125 49.90625 52.59375 \r\nz\r\nM 93.703125 -1.3125 \r\nL 6.296875 -1.3125 \r\nL 6.296875 5.171875 \r\nL 93.703125 5.171875 \r\nz\r\n\" id=\"MalgunGothicRegular-49828\"/>\r\n       <path d=\"M 15.578125 68.21875 \r\nL 84.421875 68.21875 \r\nL 84.421875 61.8125 \r\nL 15.578125 61.8125 \r\nz\r\nM 70.21875 30.421875 \r\nL 85.59375 30.421875 \r\nL 85.59375 23.875 \r\nL 53.71875 23.875 \r\nL 53.71875 3.515625 \r\nL 93.703125 3.515625 \r\nL 93.703125 -2.984375 \r\nL 6.296875 -2.984375 \r\nL 6.296875 3.515625 \r\nL 46.296875 3.515625 \r\nL 46.296875 23.875 \r\nL 14.40625 23.875 \r\nL 14.40625 30.421875 \r\nL 29.78125 30.421875 \r\nL 28.609375 56.890625 \r\nL 35.796875 56.890625 \r\nL 37.109375 30.421875 \r\nL 62.890625 30.421875 \r\nL 64.203125 56.890625 \r\nL 71.390625 56.890625 \r\nz\r\n\" id=\"MalgunGothicRegular-54252\"/>\r\n       <path d=\"M 53.71875 58.015625 \r\nQ 54.046875 49.21875 64.328125 41.109375 \r\nQ 74.609375 33.015625 89.59375 30.421875 \r\nL 84.90625 23.875 \r\nQ 74.171875 26.609375 63.90625 33.390625 \r\nQ 53.65625 40.1875 49.90625 46.78125 \r\nQ 45.609375 39.59375 36.078125 33.25 \r\nQ 26.5625 26.90625 15.578125 23.875 \r\nL 10.5 30.078125 \r\nQ 24.421875 32.28125 35.203125 40.71875 \r\nQ 46 49.171875 46.296875 58.015625 \r\nL 16.015625 58.015625 \r\nL 16.015625 64.5 \r\nL 46.390625 64.5 \r\nL 46.390625 75.203125 \r\nL 53.8125 75.203125 \r\nL 53.8125 64.5 \r\nL 83.984375 64.5 \r\nL 83.984375 58.015625 \r\nz\r\nM 93.703125 -0.984375 \r\nL 6.296875 -0.984375 \r\nL 6.296875 5.515625 \r\nL 93.703125 5.515625 \r\nz\r\n\" id=\"MalgunGothicRegular-52768\"/>\r\n       <path d=\"M 79.5 -17.09375 \r\nL 79.5 77.09375 \r\nL 86.921875 77.09375 \r\nL 86.921875 -17.09375 \r\nz\r\nM 62.5 -14.59375 \r\nL 62.5 30.90625 \r\nL 49.125 30.90625 \r\nL 49.125 37.40625 \r\nL 62.5 37.40625 \r\nL 62.5 75.203125 \r\nL 69.671875 75.203125 \r\nL 69.671875 -14.59375 \r\nz\r\nM 12.015625 2.984375 \r\nL 12.015625 40.828125 \r\nL 38.09375 40.828125 \r\nL 38.09375 62.109375 \r\nL 12.015625 62.109375 \r\nL 12.015625 68.609375 \r\nL 45.40625 68.609375 \r\nL 45.40625 34.515625 \r\nL 19.28125 34.515625 \r\nL 19.28125 9.515625 \r\nQ 44.09375 9.515625 51.3125 10.796875 \r\nL 52.09375 4.59375 \r\nQ 42.625 2.984375 12.015625 2.984375 \r\nz\r\n\" id=\"MalgunGothicRegular-47112\"/>\r\n       <path d=\"M 56.984375 26.703125 \r\nL 56.984375 33.109375 \r\nL 77.390625 33.109375 \r\nL 77.390625 47.21875 \r\nL 56.984375 47.21875 \r\nL 56.984375 53.609375 \r\nL 77.390625 53.609375 \r\nL 77.390625 77.09375 \r\nL 84.71875 77.09375 \r\nL 84.71875 -17.09375 \r\nL 77.390625 -17.09375 \r\nL 77.390625 26.703125 \r\nz\r\nM 57.625 5.90625 \r\nQ 39.75 20.125 34.90625 36.375 \r\nQ 33.109375 29 26.703125 19.890625 \r\nQ 20.3125 10.796875 12.5 4.59375 \r\nL 6.890625 9.625 \r\nQ 18.171875 17.390625 24.734375 29.65625 \r\nQ 31.296875 41.9375 31.296875 54.5 \r\nL 31.296875 62.40625 \r\nL 10.6875 62.40625 \r\nL 10.6875 68.890625 \r\nL 59.1875 68.890625 \r\nL 59.1875 62.40625 \r\nL 38.484375 62.40625 \r\nL 38.484375 54.78125 \r\nQ 38.484375 42.140625 45.1875 30.046875 \r\nQ 51.90625 17.96875 62.5 11.53125 \r\nz\r\n\" id=\"MalgunGothicRegular-51256\"/>\r\n       <path d=\"M 29.6875 44.484375 \r\nQ 20.125 49.171875 20.125 58.40625 \r\nQ 20.125 66.75 27.875 71.3125 \r\nQ 35.640625 75.875 50 75.875 \r\nQ 64.359375 75.875 72.125 71.3125 \r\nQ 79.890625 66.75 79.890625 58.40625 \r\nQ 79.890625 49.03125 70.21875 44.484375 \r\nL 70.21875 31.109375 \r\nL 93.703125 31.109375 \r\nL 93.703125 24.609375 \r\nL 6.296875 24.609375 \r\nL 6.296875 31.109375 \r\nL 29.6875 31.109375 \r\nz\r\nM 50 69.671875 \r\nQ 27.6875 69.671875 27.6875 58.40625 \r\nQ 27.6875 53.078125 33.21875 50.09375 \r\nQ 38.765625 47.125 50 47.125 \r\nQ 61.234375 47.125 66.765625 50.09375 \r\nQ 72.3125 53.078125 72.3125 58.40625 \r\nQ 72.3125 69.671875 50 69.671875 \r\nz\r\nM 37.015625 31.109375 \r\nL 62.890625 31.109375 \r\nL 62.890625 42.09375 \r\nQ 57.46875 40.921875 50 40.921875 \r\nQ 43.0625 40.921875 37.015625 42.1875 \r\nz\r\nM 50 -16.609375 \r\nQ 35.296875 -16.609375 27.5625 -11.96875 \r\nQ 19.828125 -7.328125 19.828125 0.78125 \r\nQ 19.828125 8.984375 27.609375 13.640625 \r\nQ 35.40625 18.3125 50 18.3125 \r\nQ 64.59375 18.3125 72.375 13.640625 \r\nQ 80.171875 8.984375 80.171875 0.78125 \r\nQ 80.171875 -7.328125 72.4375 -11.96875 \r\nQ 64.703125 -16.609375 50 -16.609375 \r\nz\r\nM 50 12.109375 \r\nQ 38.8125 12.109375 33.09375 9.078125 \r\nQ 27.390625 6.0625 27.390625 0.78125 \r\nQ 27.390625 -4.5 33.078125 -7.453125 \r\nQ 38.765625 -10.40625 50 -10.40625 \r\nQ 61.1875 -10.40625 66.890625 -7.453125 \r\nQ 72.609375 -4.5 72.609375 0.78125 \r\nQ 72.609375 6.109375 66.875 9.109375 \r\nQ 61.140625 12.109375 50 12.109375 \r\nz\r\n\" id=\"MalgunGothicRegular-50857\"/>\r\n       <path d=\"M 17 68.21875 \r\nL 17 74.703125 \r\nL 83.015625 74.703125 \r\nL 83.015625 68.21875 \r\nz\r\nM 15.828125 41.40625 \r\nL 15.828125 47.703125 \r\nL 29.890625 47.703125 \r\nL 29 64.796875 \r\nL 36.1875 64.796875 \r\nL 37.203125 47.703125 \r\nL 62.796875 47.703125 \r\nL 63.8125 64.796875 \r\nL 71 64.796875 \r\nL 70.125 47.703125 \r\nL 84.1875 47.703125 \r\nL 84.1875 41.40625 \r\nz\r\nM 20.703125 -14.3125 \r\nL 20.703125 15.578125 \r\nL 46.296875 15.578125 \r\nL 46.296875 26.515625 \r\nL 6.296875 26.515625 \r\nL 6.296875 33.015625 \r\nL 93.703125 33.015625 \r\nL 93.703125 26.515625 \r\nL 53.71875 26.515625 \r\nL 53.71875 15.578125 \r\nL 79.296875 15.578125 \r\nL 79.296875 -14.3125 \r\nz\r\nM 72.125 9.078125 \r\nL 27.875 9.078125 \r\nL 27.875 -7.90625 \r\nL 72.125 -7.90625 \r\nz\r\n\" id=\"MalgunGothicRegular-54408\"/>\r\n      </defs>\r\n      <g transform=\"translate(430.367188 195.464375)scale(0.1 -0.1)\">\r\n       <use xlink:href=\"#MalgunGothicRegular-49828\"/>\r\n       <use x=\"100\" xlink:href=\"#MalgunGothicRegular-54252\"/>\r\n       <use x=\"200\" xlink:href=\"#MalgunGothicRegular-52768\"/>\r\n       <use x=\"300\" xlink:href=\"#MalgunGothicRegular-47112\"/>\r\n       <use x=\"400\" xlink:href=\"#MalgunGothicRegular-51256\"/>\r\n       <use x=\"500\" xlink:href=\"#MalgunGothicRegular-50857\"/>\r\n       <use x=\"600\" xlink:href=\"#MalgunGothicRegular-54408\"/>\r\n      </g>\r\n     </g>\r\n    </g>\r\n    <g id=\"xtick_9\">\r\n     <g id=\"line2d_9\">\r\n      <g>\r\n       <use style=\"stroke:#000000;stroke-width:0.8;\" x=\"521.167188\" xlink:href=\"#mb709a44199\" y=\"180.872187\"/>\r\n      </g>\r\n     </g>\r\n     <g id=\"text_9\">\r\n      <!-- 서양음식 -->\r\n      <defs>\r\n       <path d=\"M 77.296875 -17.09375 \r\nL 77.296875 39.703125 \r\nL 55.328125 39.703125 \r\nL 55.328125 46.1875 \r\nL 77.296875 46.1875 \r\nL 77.296875 77.09375 \r\nL 84.625 77.09375 \r\nL 84.625 -17.09375 \r\nz\r\nM 58.984375 6.78125 \r\nQ 51.078125 12.84375 44.15625 22 \r\nQ 37.25 31.15625 35.40625 37.796875 \r\nQ 33.15625 30.171875 26.46875 20.9375 \r\nQ 19.78125 11.71875 11.921875 5.609375 \r\nL 6.296875 10.5 \r\nQ 17.921875 18.3125 24.796875 30.4375 \r\nQ 31.6875 42.578125 31.6875 55.171875 \r\nL 31.6875 70.609375 \r\nL 38.921875 70.609375 \r\nL 38.921875 55.515625 \r\nQ 38.921875 43.3125 45.734375 31.640625 \r\nQ 52.546875 19.96875 64.109375 12.5 \r\nz\r\n\" id=\"MalgunGothicRegular-49436\"/>\r\n       <path d=\"M 80.078125 35.59375 \r\nL 80.078125 22.703125 \r\nL 72.796875 22.703125 \r\nL 72.796875 77.09375 \r\nL 80.078125 77.09375 \r\nL 80.078125 63.09375 \r\nL 94.28125 63.09375 \r\nL 94.28125 56.6875 \r\nL 80.078125 56.6875 \r\nL 80.078125 42 \r\nL 94.28125 42 \r\nL 94.28125 35.59375 \r\nz\r\nM 33.59375 29.203125 \r\nQ 23.046875 29.203125 16.375 35.625 \r\nQ 9.71875 42.046875 9.71875 51.8125 \r\nQ 9.71875 61.53125 16.328125 67.921875 \r\nQ 22.953125 74.3125 33.59375 74.3125 \r\nQ 44.234375 74.3125 50.921875 67.9375 \r\nQ 57.625 61.578125 57.625 51.8125 \r\nQ 57.625 41.9375 50.90625 35.5625 \r\nQ 44.1875 29.203125 33.59375 29.203125 \r\nz\r\nM 33.59375 68.109375 \r\nQ 26.171875 68.109375 21.578125 63.546875 \r\nQ 17 58.984375 17 51.8125 \r\nQ 17 44.53125 21.578125 39.96875 \r\nQ 26.171875 35.40625 33.59375 35.40625 \r\nQ 41.0625 35.40625 45.671875 39.984375 \r\nQ 50.296875 44.578125 50.296875 51.8125 \r\nQ 50.296875 58.890625 45.671875 63.5 \r\nQ 41.0625 68.109375 33.59375 68.109375 \r\nz\r\nM 51.125 -16.015625 \r\nQ 36.46875 -16.015625 28.625 -10.953125 \r\nQ 20.796875 -5.90625 20.796875 2.6875 \r\nQ 20.796875 11.234375 28.609375 16.265625 \r\nQ 36.421875 21.296875 51.125 21.296875 \r\nQ 65.96875 21.296875 73.734375 16.265625 \r\nQ 81.5 11.234375 81.5 2.6875 \r\nQ 81.5 -5.859375 73.703125 -10.9375 \r\nQ 65.921875 -16.015625 51.125 -16.015625 \r\nz\r\nM 51.125 15.09375 \r\nQ 40.140625 15.09375 34.375 11.75 \r\nQ 28.609375 8.40625 28.609375 2.6875 \r\nQ 28.609375 -3.078125 34.34375 -6.4375 \r\nQ 40.09375 -9.8125 51.125 -9.8125 \r\nQ 62.203125 -9.8125 67.984375 -6.421875 \r\nQ 73.78125 -3.03125 73.78125 2.6875 \r\nQ 73.78125 8.34375 67.96875 11.71875 \r\nQ 62.15625 15.09375 51.125 15.09375 \r\nz\r\n\" id=\"MalgunGothicRegular-50577\"/>\r\n       <path d=\"M 50 40.1875 \r\nQ 35.796875 40.1875 28.09375 45.234375 \r\nQ 20.40625 50.296875 20.40625 58.40625 \r\nQ 20.40625 66.5 28.09375 71.546875 \r\nQ 35.796875 76.609375 50 76.609375 \r\nQ 64.203125 76.609375 71.890625 71.546875 \r\nQ 79.59375 66.5 79.59375 58.40625 \r\nQ 79.59375 50.296875 71.890625 45.234375 \r\nQ 64.203125 40.1875 50 40.1875 \r\nz\r\nM 50 70.40625 \r\nQ 39.453125 70.40625 33.765625 67.1875 \r\nQ 28.078125 63.96875 28.078125 58.40625 \r\nQ 28.078125 52.828125 33.765625 49.609375 \r\nQ 39.453125 46.390625 50 46.390625 \r\nQ 60.546875 46.390625 66.234375 49.609375 \r\nQ 71.921875 52.828125 71.921875 58.40625 \r\nQ 71.921875 63.96875 66.234375 67.1875 \r\nQ 60.546875 70.40625 50 70.40625 \r\nz\r\nM 6.296875 25.6875 \r\nL 6.296875 32.171875 \r\nL 93.703125 32.171875 \r\nL 93.703125 25.6875 \r\nz\r\nM 20.703125 -14.3125 \r\nL 20.703125 17.09375 \r\nL 79.296875 17.09375 \r\nL 79.296875 -14.3125 \r\nz\r\nM 72.015625 10.59375 \r\nL 27.984375 10.59375 \r\nL 27.984375 -7.8125 \r\nL 72.015625 -7.8125 \r\nz\r\n\" id=\"MalgunGothicRegular-51020\"/>\r\n      </defs>\r\n      <g transform=\"translate(501.167188 195.464375)scale(0.1 -0.1)\">\r\n       <use xlink:href=\"#MalgunGothicRegular-49436\"/>\r\n       <use x=\"100\" xlink:href=\"#MalgunGothicRegular-50577\"/>\r\n       <use x=\"200\" xlink:href=\"#MalgunGothicRegular-51020\"/>\r\n       <use x=\"300\" xlink:href=\"#MalgunGothicRegular-49885\"/>\r\n      </g>\r\n     </g>\r\n    </g>\r\n    <g id=\"xtick_10\">\r\n     <g id=\"line2d_10\">\r\n      <g>\r\n       <use style=\"stroke:#000000;stroke-width:0.8;\" x=\"576.967188\" xlink:href=\"#mb709a44199\" y=\"180.872187\"/>\r\n      </g>\r\n     </g>\r\n     <g id=\"text_10\">\r\n      <!-- 약국 -->\r\n      <defs>\r\n       <path d=\"M 80.078125 35.890625 \r\nL 80.078125 24.515625 \r\nL 72.796875 24.515625 \r\nL 72.796875 77.09375 \r\nL 80.078125 77.09375 \r\nL 80.078125 63.375 \r\nL 94.28125 63.375 \r\nL 94.28125 56.984375 \r\nL 80.078125 56.984375 \r\nL 80.078125 42.28125 \r\nL 94.28125 42.28125 \r\nL 94.28125 35.890625 \r\nz\r\nM 33.59375 29.109375 \r\nQ 23.09375 29.109375 16.40625 35.578125 \r\nQ 9.71875 42.046875 9.71875 51.8125 \r\nQ 9.71875 61.53125 16.359375 67.96875 \r\nQ 23 74.421875 33.59375 74.421875 \r\nQ 44.1875 74.421875 50.90625 68 \r\nQ 57.625 61.578125 57.625 51.8125 \r\nQ 57.625 41.9375 50.875 35.515625 \r\nQ 44.140625 29.109375 33.59375 29.109375 \r\nz\r\nM 33.59375 68.21875 \r\nQ 26.21875 68.21875 21.609375 63.59375 \r\nQ 17 58.984375 17 51.8125 \r\nQ 17 44.53125 21.578125 39.96875 \r\nQ 26.171875 35.40625 33.59375 35.40625 \r\nQ 41.0625 35.40625 45.671875 39.984375 \r\nQ 50.296875 44.578125 50.296875 51.8125 \r\nQ 50.296875 58.890625 45.671875 63.546875 \r\nQ 41.0625 68.21875 33.59375 68.21875 \r\nz\r\nM 72.796875 -17.09375 \r\nL 72.796875 12.796875 \r\nL 19.671875 12.796875 \r\nL 19.671875 19.28125 \r\nL 80.078125 19.28125 \r\nL 80.078125 -17.09375 \r\nz\r\n\" id=\"MalgunGothicRegular-50557\"/>\r\n       <path d=\"M 71.921875 -17.09375 \r\nL 71.921875 11.375 \r\nL 19.390625 11.375 \r\nL 19.390625 17.921875 \r\nL 45.515625 17.921875 \r\nL 45.515625 35.5 \r\nL 6.296875 35.5 \r\nL 6.296875 42 \r\nL 71.578125 42 \r\nQ 72.40625 49.953125 72.40625 67.484375 \r\nL 20.90625 67.484375 \r\nL 20.90625 74.03125 \r\nL 79.6875 74.03125 \r\nQ 79.6875 57.71875 78.609375 42 \r\nL 93.703125 42 \r\nL 93.703125 35.5 \r\nL 52.78125 35.5 \r\nL 52.78125 17.921875 \r\nL 79.203125 17.921875 \r\nL 79.203125 -17.09375 \r\nz\r\n\" id=\"MalgunGothicRegular-44397\"/>\r\n      </defs>\r\n      <g transform=\"translate(566.967188 195.464375)scale(0.1 -0.1)\">\r\n       <use xlink:href=\"#MalgunGothicRegular-50557\"/>\r\n       <use x=\"100\" xlink:href=\"#MalgunGothicRegular-44397\"/>\r\n      </g>\r\n     </g>\r\n    </g>\r\n    <g id=\"text_11\">\r\n     <!-- Type -->\r\n     <defs>\r\n      <path d=\"M 51.46875 64.59375 \r\nL 30.71875 64.59375 \r\nL 30.71875 0 \r\nL 22.75 0 \r\nL 22.75 64.59375 \r\nL 2.09375 64.59375 \r\nL 2.09375 71.875 \r\nL 51.46875 71.875 \r\nz\r\n\" id=\"MalgunGothicRegular-84\"/>\r\n      <path d=\"M 48.734375 51.3125 \r\nL 24.953125 -8.5 \r\nQ 18.703125 -24.171875 7.515625 -24.171875 \r\nQ 4.890625 -24.171875 2.4375 -23.578125 \r\nL 2.4375 -16.5 \r\nQ 4.9375 -17.328125 7.171875 -17.328125 \r\nQ 13.421875 -17.328125 16.546875 -9.8125 \r\nL 20.75 0.09375 \r\nL 0.734375 51.3125 \r\nL 9.328125 51.3125 \r\nL 23.484375 11.28125 \r\nQ 23.640625 10.890625 24.5625 7.625 \r\nL 24.8125 7.625 \r\nL 25.78125 11.1875 \r\nL 40.671875 51.3125 \r\nz\r\n\" id=\"MalgunGothicRegular-121\"/>\r\n      <path d=\"M 16.15625 7.515625 \r\nL 16.15625 -23.640625 \r\nL 8.40625 -23.640625 \r\nL 8.40625 51.3125 \r\nL 16.15625 51.3125 \r\nL 16.15625 42.234375 \r\nL 16.359375 42.234375 \r\nQ 22.46875 52.484375 34.125 52.484375 \r\nQ 43.890625 52.484375 49.546875 45.625 \r\nQ 55.21875 38.765625 55.21875 27.15625 \r\nQ 55.21875 14.15625 48.84375 6.46875 \r\nQ 42.484375 -1.21875 31.78125 -1.21875 \r\nQ 21.78125 -1.21875 16.359375 7.515625 \r\nz\r\nM 16.15625 20.796875 \r\nQ 16.15625 14.40625 20.421875 9.890625 \r\nQ 24.703125 5.375 31.109375 5.375 \r\nQ 38.671875 5.375 42.984375 11.1875 \r\nQ 47.3125 17 47.3125 27.390625 \r\nQ 47.3125 35.9375 43.234375 40.9375 \r\nQ 39.15625 45.953125 32.375 45.953125 \r\nQ 25.296875 45.953125 20.71875 40.921875 \r\nQ 16.15625 35.890625 16.15625 28.21875 \r\nz\r\n\" id=\"MalgunGothicRegular-112\"/>\r\n      <path d=\"M 49.3125 23.734375 \r\nL 12.9375 23.734375 \r\nQ 13.1875 14.84375 17.703125 10.125 \r\nQ 22.21875 5.421875 29.828125 5.421875 \r\nQ 38.625 5.421875 45.84375 11.234375 \r\nL 45.84375 3.8125 \r\nQ 38.96875 -1.21875 28.03125 -1.21875 \r\nQ 17.1875 -1.21875 11.0625 5.875 \r\nQ 4.9375 12.984375 4.9375 25.53125 \r\nQ 4.9375 37.203125 11.671875 44.84375 \r\nQ 18.40625 52.484375 28.375 52.484375 \r\nQ 38.328125 52.484375 43.8125 45.96875 \r\nQ 49.3125 39.453125 49.3125 27.9375 \r\nz\r\nM 41.3125 30.5625 \r\nQ 41.3125 37.75 37.859375 41.796875 \r\nQ 34.421875 45.84375 28.265625 45.84375 \r\nQ 22.46875 45.84375 18.265625 41.671875 \r\nQ 14.0625 37.5 13.03125 30.5625 \r\nz\r\n\" id=\"MalgunGothicRegular-101\"/>\r\n     </defs>\r\n     <g transform=\"translate(315.35625 209.3675)scale(0.1 -0.1)\">\r\n      <use xlink:href=\"#MalgunGothicRegular-84\"/>\r\n      <use x=\"47.369141\" xlink:href=\"#MalgunGothicRegular-121\"/>\r\n      <use x=\"96.636719\" xlink:href=\"#MalgunGothicRegular-112\"/>\r\n      <use x=\"156.695312\" xlink:href=\"#MalgunGothicRegular-101\"/>\r\n     </g>\r\n    </g>\r\n   </g>\r\n   <g id=\"matplotlib.axis_2\">\r\n    <g id=\"ytick_1\">\r\n     <g id=\"line2d_11\">\r\n      <defs>\r\n       <path d=\"M 0 0 \r\nL -3.5 0 \r\n\" id=\"m8331cc8fb8\" style=\"stroke:#000000;stroke-width:0.8;\"/>\r\n      </defs>\r\n      <g>\r\n       <use style=\"stroke:#000000;stroke-width:0.8;\" x=\"46.867188\" xlink:href=\"#m8331cc8fb8\" y=\"180.872187\"/>\r\n      </g>\r\n     </g>\r\n     <g id=\"text_12\">\r\n      <!-- 0.00 -->\r\n      <defs>\r\n       <path d=\"M 4.34375 34.46875 \r\nQ 4.34375 53.515625 10.546875 63.28125 \r\nQ 16.75 73.046875 28.421875 73.046875 \r\nQ 50.828125 73.046875 50.828125 36.234375 \r\nQ 50.828125 18.0625 44.59375 8.421875 \r\nQ 38.375 -1.21875 26.8125 -1.21875 \r\nQ 15.875 -1.21875 10.109375 8.125 \r\nQ 4.34375 17.484375 4.34375 34.46875 \r\nz\r\nM 12.25 34.859375 \r\nQ 12.25 5.375 27.640625 5.375 \r\nQ 42.921875 5.375 42.921875 35.296875 \r\nQ 42.921875 66.40625 28.03125 66.40625 \r\nQ 12.25 66.40625 12.25 34.859375 \r\nz\r\n\" id=\"MalgunGothicRegular-48\"/>\r\n       <path d=\"M 5.5625 4.296875 \r\nQ 5.5625 6.59375 7.171875 8.171875 \r\nQ 8.796875 9.765625 10.9375 9.765625 \r\nQ 13.09375 9.765625 14.703125 8.171875 \r\nQ 16.3125 6.59375 16.3125 4.296875 \r\nQ 16.3125 2.15625 14.71875 0.515625 \r\nQ 13.140625 -1.125 10.9375 -1.125 \r\nQ 8.734375 -1.125 7.140625 0.453125 \r\nQ 5.5625 2.046875 5.5625 4.296875 \r\nz\r\n\" id=\"MalgunGothicRegular-46\"/>\r\n      </defs>\r\n      <g transform=\"translate(21.15625 184.668281)scale(0.1 -0.1)\">\r\n       <use xlink:href=\"#MalgunGothicRegular-48\"/>\r\n       <use x=\"55.078125\" xlink:href=\"#MalgunGothicRegular-46\"/>\r\n       <use x=\"76.953125\" xlink:href=\"#MalgunGothicRegular-48\"/>\r\n       <use x=\"132.03125\" xlink:href=\"#MalgunGothicRegular-48\"/>\r\n      </g>\r\n     </g>\r\n    </g>\r\n    <g id=\"ytick_2\">\r\n     <g id=\"line2d_12\">\r\n      <g>\r\n       <use style=\"stroke:#000000;stroke-width:0.8;\" x=\"46.867188\" xlink:href=\"#m8331cc8fb8\" y=\"156.215734\"/>\r\n      </g>\r\n     </g>\r\n     <g id=\"text_13\">\r\n      <!-- 0.25 -->\r\n      <defs>\r\n       <path d=\"M 47.796875 0 \r\nL 4.78125 0 \r\nL 4.78125 6.984375 \r\nL 25.6875 28.078125 \r\nQ 35.984375 38.484375 38.421875 43.234375 \r\nQ 40.875 48 40.875 53.265625 \r\nQ 40.875 59.625 37.25 63.03125 \r\nQ 33.640625 66.453125 26.953125 66.453125 \r\nQ 17.28125 66.453125 8.5 58.15625 \r\nL 8.5 66.40625 \r\nQ 16.75 73.046875 27.984375 73.046875 \r\nQ 37.3125 73.046875 42.875 67.890625 \r\nQ 48.4375 62.75 48.4375 53.953125 \r\nQ 48.4375 47.359375 45.015625 41.015625 \r\nQ 41.609375 34.671875 30.8125 23.78125 \r\nL 14.0625 7.234375 \r\nL 14.0625 7.03125 \r\nL 47.796875 7.03125 \r\nz\r\n\" id=\"MalgunGothicRegular-50\"/>\r\n       <path d=\"M 8.203125 10.15625 \r\nQ 15.625 5.375 23.140625 5.375 \r\nQ 30.71875 5.375 35.515625 9.765625 \r\nQ 40.328125 14.15625 40.328125 21.390625 \r\nQ 40.328125 28.65625 35.546875 32.65625 \r\nQ 30.765625 36.671875 21.78125 36.671875 \r\nQ 18.953125 36.671875 10.5 36.078125 \r\nL 10.5 71.875 \r\nL 44.921875 71.875 \r\nL 44.921875 64.796875 \r\nL 17.875 64.796875 \r\nL 17.875 43.265625 \r\nQ 21.921875 43.5 23.96875 43.5 \r\nQ 35.40625 43.5 41.765625 37.765625 \r\nQ 48.140625 32.03125 48.140625 21.828125 \r\nQ 48.140625 11.140625 41.234375 4.953125 \r\nQ 34.328125 -1.21875 22.90625 -1.21875 \r\nQ 12.984375 -1.21875 8.203125 1.765625 \r\nz\r\n\" id=\"MalgunGothicRegular-53\"/>\r\n      </defs>\r\n      <g transform=\"translate(21.15625 160.011828)scale(0.1 -0.1)\">\r\n       <use xlink:href=\"#MalgunGothicRegular-48\"/>\r\n       <use x=\"55.078125\" xlink:href=\"#MalgunGothicRegular-46\"/>\r\n       <use x=\"76.953125\" xlink:href=\"#MalgunGothicRegular-50\"/>\r\n       <use x=\"132.03125\" xlink:href=\"#MalgunGothicRegular-53\"/>\r\n      </g>\r\n     </g>\r\n    </g>\r\n    <g id=\"ytick_3\">\r\n     <g id=\"line2d_13\">\r\n      <g>\r\n       <use style=\"stroke:#000000;stroke-width:0.8;\" x=\"46.867188\" xlink:href=\"#m8331cc8fb8\" y=\"131.55928\"/>\r\n      </g>\r\n     </g>\r\n     <g id=\"text_14\">\r\n      <!-- 0.50 -->\r\n      <g transform=\"translate(21.15625 135.355374)scale(0.1 -0.1)\">\r\n       <use xlink:href=\"#MalgunGothicRegular-48\"/>\r\n       <use x=\"55.078125\" xlink:href=\"#MalgunGothicRegular-46\"/>\r\n       <use x=\"76.953125\" xlink:href=\"#MalgunGothicRegular-53\"/>\r\n       <use x=\"132.03125\" xlink:href=\"#MalgunGothicRegular-48\"/>\r\n      </g>\r\n     </g>\r\n    </g>\r\n    <g id=\"ytick_4\">\r\n     <g id=\"line2d_14\">\r\n      <g>\r\n       <use style=\"stroke:#000000;stroke-width:0.8;\" x=\"46.867188\" xlink:href=\"#m8331cc8fb8\" y=\"106.902827\"/>\r\n      </g>\r\n     </g>\r\n     <g id=\"text_15\">\r\n      <!-- 0.75 -->\r\n      <defs>\r\n       <path d=\"M 50.34375 69.578125 \r\nL 21.6875 0 \r\nL 13.671875 0 \r\nL 40.671875 64.796875 \r\nL 4.25 64.796875 \r\nL 4.25 71.875 \r\nL 50.34375 71.875 \r\nz\r\n\" id=\"MalgunGothicRegular-55\"/>\r\n      </defs>\r\n      <g transform=\"translate(21.15625 110.69892)scale(0.1 -0.1)\">\r\n       <use xlink:href=\"#MalgunGothicRegular-48\"/>\r\n       <use x=\"55.078125\" xlink:href=\"#MalgunGothicRegular-46\"/>\r\n       <use x=\"76.953125\" xlink:href=\"#MalgunGothicRegular-55\"/>\r\n       <use x=\"132.03125\" xlink:href=\"#MalgunGothicRegular-53\"/>\r\n      </g>\r\n     </g>\r\n    </g>\r\n    <g id=\"ytick_5\">\r\n     <g id=\"line2d_15\">\r\n      <g>\r\n       <use style=\"stroke:#000000;stroke-width:0.8;\" x=\"46.867188\" xlink:href=\"#m8331cc8fb8\" y=\"82.246373\"/>\r\n      </g>\r\n     </g>\r\n     <g id=\"text_16\">\r\n      <!-- 1.00 -->\r\n      <defs>\r\n       <path d=\"M 49.171875 0 \r\nL 8.84375 0 \r\nL 8.84375 6.9375 \r\nL 25.140625 6.9375 \r\nL 25.140625 63.421875 \r\nL 8.40625 58.34375 \r\nL 8.40625 65.828125 \r\nL 32.90625 73.484375 \r\nL 32.90625 6.9375 \r\nL 49.171875 6.9375 \r\nz\r\n\" id=\"MalgunGothicRegular-49\"/>\r\n      </defs>\r\n      <g transform=\"translate(21.15625 86.042467)scale(0.1 -0.1)\">\r\n       <use xlink:href=\"#MalgunGothicRegular-49\"/>\r\n       <use x=\"55.078125\" xlink:href=\"#MalgunGothicRegular-46\"/>\r\n       <use x=\"76.953125\" xlink:href=\"#MalgunGothicRegular-48\"/>\r\n       <use x=\"132.03125\" xlink:href=\"#MalgunGothicRegular-48\"/>\r\n      </g>\r\n     </g>\r\n    </g>\r\n    <g id=\"ytick_6\">\r\n     <g id=\"line2d_16\">\r\n      <g>\r\n       <use style=\"stroke:#000000;stroke-width:0.8;\" x=\"46.867188\" xlink:href=\"#m8331cc8fb8\" y=\"57.58992\"/>\r\n      </g>\r\n     </g>\r\n     <g id=\"text_17\">\r\n      <!-- 1.25 -->\r\n      <g transform=\"translate(21.15625 61.386013)scale(0.1 -0.1)\">\r\n       <use xlink:href=\"#MalgunGothicRegular-49\"/>\r\n       <use x=\"55.078125\" xlink:href=\"#MalgunGothicRegular-46\"/>\r\n       <use x=\"76.953125\" xlink:href=\"#MalgunGothicRegular-50\"/>\r\n       <use x=\"132.03125\" xlink:href=\"#MalgunGothicRegular-53\"/>\r\n      </g>\r\n     </g>\r\n    </g>\r\n    <g id=\"ytick_7\">\r\n     <g id=\"line2d_17\">\r\n      <g>\r\n       <use style=\"stroke:#000000;stroke-width:0.8;\" x=\"46.867188\" xlink:href=\"#m8331cc8fb8\" y=\"32.933466\"/>\r\n      </g>\r\n     </g>\r\n     <g id=\"text_18\">\r\n      <!-- 1.50 -->\r\n      <g transform=\"translate(21.15625 36.72956)scale(0.1 -0.1)\">\r\n       <use xlink:href=\"#MalgunGothicRegular-49\"/>\r\n       <use x=\"55.078125\" xlink:href=\"#MalgunGothicRegular-46\"/>\r\n       <use x=\"76.953125\" xlink:href=\"#MalgunGothicRegular-53\"/>\r\n       <use x=\"132.03125\" xlink:href=\"#MalgunGothicRegular-48\"/>\r\n      </g>\r\n     </g>\r\n    </g>\r\n    <g id=\"text_19\">\r\n     <!-- TotalSpent -->\r\n     <defs>\r\n      <path d=\"M 4.9375 25 \r\nQ 4.9375 37.796875 11.890625 45.140625 \r\nQ 18.84375 52.484375 30.90625 52.484375 \r\nQ 42.140625 52.484375 48.609375 45.421875 \r\nQ 55.078125 38.375 55.078125 25.78125 \r\nQ 55.078125 13.578125 48.09375 6.171875 \r\nQ 41.109375 -1.21875 29.6875 -1.21875 \r\nQ 18.5 -1.21875 11.71875 6 \r\nQ 4.9375 13.234375 4.9375 25 \r\nz\r\nM 12.796875 25.34375 \r\nQ 12.796875 16.265625 17.546875 10.8125 \r\nQ 22.3125 5.375 30.21875 5.375 \r\nQ 38.421875 5.375 42.796875 10.625 \r\nQ 47.171875 15.875 47.171875 25.53125 \r\nQ 47.171875 35.25 42.765625 40.59375 \r\nQ 38.375 45.953125 30.21875 45.953125 \r\nQ 22.265625 45.953125 17.53125 40.421875 \r\nQ 12.796875 34.90625 12.796875 25.34375 \r\nz\r\n\" id=\"MalgunGothicRegular-111\"/>\r\n      <path d=\"M 31.734375 0.484375 \r\nQ 28.8125 -1.125 24.265625 -1.125 \r\nQ 11.03125 -1.125 11.03125 13.765625 \r\nL 11.03125 44.625 \r\nL 2.15625 44.625 \r\nL 2.15625 51.3125 \r\nL 11.03125 51.3125 \r\nL 11.03125 63.921875 \r\nL 18.75 66.40625 \r\nL 18.75 51.3125 \r\nL 31.734375 51.3125 \r\nL 31.734375 44.625 \r\nL 18.75 44.625 \r\nL 18.75 15.1875 \r\nQ 18.75 9.765625 20.546875 7.609375 \r\nQ 22.359375 5.46875 26.421875 5.46875 \r\nQ 29.5 5.46875 31.734375 7.171875 \r\nz\r\n\" id=\"MalgunGothicRegular-116\"/>\r\n      <path d=\"M 9.625 47.65625 \r\nQ 17.140625 52.484375 26.90625 52.484375 \r\nQ 44.78125 52.484375 44.78125 33.546875 \r\nL 44.78125 0 \r\nL 37.015625 0 \r\nL 37.015625 8.0625 \r\nL 36.71875 8.0625 \r\nQ 31.390625 -1.21875 20.953125 -1.21875 \r\nQ 13.421875 -1.21875 9 2.8125 \r\nQ 4.59375 6.84375 4.59375 13.578125 \r\nQ 4.59375 27.875 21.484375 30.21875 \r\nL 36.96875 32.46875 \r\nQ 36.96875 45.84375 26.3125 45.84375 \r\nQ 16.9375 45.84375 9.625 39.453125 \r\nz\r\nM 24.421875 24.359375 \r\nQ 18.40625 23.578125 15.515625 21.421875 \r\nQ 12.640625 19.28125 12.640625 14.109375 \r\nQ 12.640625 10.203125 15.40625 7.8125 \r\nQ 18.171875 5.421875 22.65625 5.421875 \r\nQ 28.859375 5.421875 32.90625 9.8125 \r\nQ 36.96875 14.203125 36.96875 20.84375 \r\nL 36.96875 26.03125 \r\nz\r\n\" id=\"MalgunGothicRegular-97\"/>\r\n      <path d=\"M 8.453125 0 \r\nL 8.453125 75.921875 \r\nL 16.15625 75.921875 \r\nL 16.15625 0 \r\nz\r\n\" id=\"MalgunGothicRegular-108\"/>\r\n      <path d=\"M 6.15625 12.453125 \r\nQ 9.46875 9.578125 15.0625 7.8125 \r\nQ 20.65625 6.0625 25.390625 6.0625 \r\nQ 41.0625 6.0625 41.0625 17.4375 \r\nQ 41.0625 20.703125 39.421875 23.1875 \r\nQ 37.796875 25.6875 35.15625 27.4375 \r\nQ 32.515625 29.203125 24.171875 33.5 \r\nQ 14.109375 38.671875 10.171875 43.03125 \r\nQ 6.25 47.40625 6.25 54 \r\nQ 6.25 62.796875 13.40625 67.921875 \r\nQ 20.5625 73.046875 31.0625 73.046875 \r\nQ 41.703125 73.046875 46.296875 70.515625 \r\nL 46.296875 61.375 \r\nQ 40.046875 65.71875 30.03125 65.71875 \r\nQ 23.1875 65.71875 18.859375 62.78125 \r\nQ 14.546875 59.859375 14.546875 54.6875 \r\nQ 14.546875 50 17.59375 47.046875 \r\nQ 20.65625 44.09375 30.28125 39.40625 \r\nQ 41.5 33.796875 45.40625 28.8125 \r\nQ 49.3125 23.828125 49.3125 18.015625 \r\nQ 49.3125 8.6875 42.578125 3.734375 \r\nQ 35.84375 -1.21875 23.921875 -1.21875 \r\nQ 20.171875 -1.21875 14.484375 -0.015625 \r\nQ 8.796875 1.171875 6.15625 2.9375 \r\nz\r\n\" id=\"MalgunGothicRegular-83\"/>\r\n      <path d=\"M 50.59375 0 \r\nL 42.828125 0 \r\nL 42.828125 29.296875 \r\nQ 42.828125 45.953125 30.671875 45.953125 \r\nQ 24.421875 45.953125 20.28125 41.234375 \r\nQ 16.15625 36.53125 16.15625 29.25 \r\nL 16.15625 0 \r\nL 8.40625 0 \r\nL 8.40625 51.3125 \r\nL 16.15625 51.3125 \r\nL 16.15625 42.71875 \r\nL 16.359375 42.71875 \r\nQ 22.125 52.484375 33.203125 52.484375 \r\nQ 41.65625 52.484375 46.125 47.0625 \r\nQ 50.59375 41.65625 50.59375 31.34375 \r\nz\r\n\" id=\"MalgunGothicRegular-110\"/>\r\n     </defs>\r\n     <g transform=\"translate(14.792188 123.001719)rotate(-90)scale(0.1 -0.1)\">\r\n      <use xlink:href=\"#MalgunGothicRegular-84\"/>\r\n      <use x=\"42.244141\" xlink:href=\"#MalgunGothicRegular-111\"/>\r\n      <use x=\"102.15625\" xlink:href=\"#MalgunGothicRegular-116\"/>\r\n      <use x=\"136.628906\" xlink:href=\"#MalgunGothicRegular-97\"/>\r\n      <use x=\"188.630859\" xlink:href=\"#MalgunGothicRegular-108\"/>\r\n      <use x=\"213.240234\" xlink:href=\"#MalgunGothicRegular-83\"/>\r\n      <use x=\"267.537109\" xlink:href=\"#MalgunGothicRegular-112\"/>\r\n      <use x=\"327.595703\" xlink:href=\"#MalgunGothicRegular-101\"/>\r\n      <use x=\"381.111328\" xlink:href=\"#MalgunGothicRegular-110\"/>\r\n      <use x=\"438.923828\" xlink:href=\"#MalgunGothicRegular-116\"/>\r\n     </g>\r\n    </g>\r\n    <g id=\"text_20\">\r\n     <!-- 1e10 -->\r\n     <g transform=\"translate(46.867188 14.792187)scale(0.1 -0.1)\">\r\n      <use xlink:href=\"#MalgunGothicRegular-49\"/>\r\n      <use x=\"55.078125\" xlink:href=\"#MalgunGothicRegular-101\"/>\r\n      <use x=\"108.59375\" xlink:href=\"#MalgunGothicRegular-49\"/>\r\n      <use x=\"163.671875\" xlink:href=\"#MalgunGothicRegular-48\"/>\r\n     </g>\r\n    </g>\r\n   </g>\r\n   <g id=\"line2d_18\">\r\n    <path clip-path=\"url(#p5d7981abf0)\" style=\"fill:none;stroke:#424242;stroke-linecap:square;stroke-width:2.7;\"/>\r\n   </g>\r\n   <g id=\"line2d_19\">\r\n    <path clip-path=\"url(#p5d7981abf0)\" style=\"fill:none;stroke:#424242;stroke-linecap:square;stroke-width:2.7;\"/>\r\n   </g>\r\n   <g id=\"line2d_20\">\r\n    <path clip-path=\"url(#p5d7981abf0)\" style=\"fill:none;stroke:#424242;stroke-linecap:square;stroke-width:2.7;\"/>\r\n   </g>\r\n   <g id=\"line2d_21\">\r\n    <path clip-path=\"url(#p5d7981abf0)\" style=\"fill:none;stroke:#424242;stroke-linecap:square;stroke-width:2.7;\"/>\r\n   </g>\r\n   <g id=\"line2d_22\">\r\n    <path clip-path=\"url(#p5d7981abf0)\" style=\"fill:none;stroke:#424242;stroke-linecap:square;stroke-width:2.7;\"/>\r\n   </g>\r\n   <g id=\"line2d_23\">\r\n    <path clip-path=\"url(#p5d7981abf0)\" style=\"fill:none;stroke:#424242;stroke-linecap:square;stroke-width:2.7;\"/>\r\n   </g>\r\n   <g id=\"line2d_24\">\r\n    <path clip-path=\"url(#p5d7981abf0)\" style=\"fill:none;stroke:#424242;stroke-linecap:square;stroke-width:2.7;\"/>\r\n   </g>\r\n   <g id=\"line2d_25\">\r\n    <path clip-path=\"url(#p5d7981abf0)\" style=\"fill:none;stroke:#424242;stroke-linecap:square;stroke-width:2.7;\"/>\r\n   </g>\r\n   <g id=\"line2d_26\">\r\n    <path clip-path=\"url(#p5d7981abf0)\" style=\"fill:none;stroke:#424242;stroke-linecap:square;stroke-width:2.7;\"/>\r\n   </g>\r\n   <g id=\"line2d_27\">\r\n    <path clip-path=\"url(#p5d7981abf0)\" style=\"fill:none;stroke:#424242;stroke-linecap:square;stroke-width:2.7;\"/>\r\n   </g>\r\n   <g id=\"patch_13\">\r\n    <path d=\"M 46.867188 180.872187 \r\nL 46.867188 17.792187 \r\n\" style=\"fill:none;stroke:#000000;stroke-linecap:square;stroke-linejoin:miter;stroke-width:0.8;\"/>\r\n   </g>\r\n   <g id=\"patch_14\">\r\n    <path d=\"M 604.867188 180.872187 \r\nL 604.867188 17.792187 \r\n\" style=\"fill:none;stroke:#000000;stroke-linecap:square;stroke-linejoin:miter;stroke-width:0.8;\"/>\r\n   </g>\r\n   <g id=\"patch_15\">\r\n    <path d=\"M 46.867188 180.872187 \r\nL 604.867188 180.872187 \r\n\" style=\"fill:none;stroke:#000000;stroke-linecap:square;stroke-linejoin:miter;stroke-width:0.8;\"/>\r\n   </g>\r\n   <g id=\"patch_16\">\r\n    <path d=\"M 46.867188 17.792187 \r\nL 604.867188 17.792187 \r\n\" style=\"fill:none;stroke:#000000;stroke-linecap:square;stroke-linejoin:miter;stroke-width:0.8;\"/>\r\n   </g>\r\n  </g>\r\n </g>\r\n <defs>\r\n  <clipPath id=\"p5d7981abf0\">\r\n   <rect height=\"163.08\" width=\"558\" x=\"46.867188\" y=\"17.792187\"/>\r\n  </clipPath>\r\n </defs>\r\n</svg>\r\n",
      "image/png": "[encoded data removed]"
     },
     "metadata": {
      "needs_background": "light"
     }
    }
   ],
   "source": [
    "# 상위 10개에 대해 확인 \n",
    "from matplotlib import font_manager, rc\n",
    "import matplotlib.pyplot as plt\n",
    "plt.rcParams['axes.unicode_minus'] = False\n",
    "f_path= \"C:/Windows/Fonts/malgun.ttf\"\n",
    "font_name= font_manager.FontProperties(fname=f_path).get_name()\n",
    "rc('font', family =font_name)\n",
    "plt.rc('font', family='Malgun Gothic')\n",
    "import seaborn as sns\n",
    "\n",
    "\n",
    "\n",
    "plt.figure(figsize=(10,3))\n",
    "sns.barplot(x='Type', y ='TotalSpent', data=test[:10],palette = 'Blues_d')"
   ]
  },
  {
   "cell_type": "code",
   "execution_count": 87,
   "metadata": {},
   "outputs": [
    {
     "output_type": "execute_result",
     "data": {
      "text/plain": [
       "     OBJECTID  Field1      YM     SIDO SIGUNGU FranClass Type Time  \\\n",
       "299        10      10  202005  제주특별자치도    서귀포시        중소  편의점  00시   \n",
       "300     14704   14704  202005  제주특별자치도    서귀포시        중소  편의점  05시   \n",
       "301     16405   16405  202005  제주특별자치도    서귀포시        중소  편의점  06시   \n",
       "302     19143   19143  202005  제주특별자치도    서귀포시        중소  편의점  07시   \n",
       "303     23388   23388  202005  제주특별자치도    서귀포시        중소  편의점  08시   \n",
       "\n",
       "     TotalSpent  DisSpent  NumofSpent  NumofDisSpent      POINT_X  \\\n",
       "299       21420         0           1              0  878883.7242   \n",
       "300        8000      4690           1              1  878883.7242   \n",
       "301      114690      6000          11              1  878883.7242   \n",
       "302      169460      9500          15              1  878883.7242   \n",
       "303      311360     57400          34              6  878883.7242   \n",
       "\n",
       "          POINT_Y                 lon                lat  \\\n",
       "299  1.473778e+06  126.19985908167523  33.24852786319628   \n",
       "300  1.473778e+06  126.19985908167523  33.24852786319628   \n",
       "301  1.473778e+06  126.19985908167523  33.24852786319628   \n",
       "302  1.473778e+06  126.19985908167523  33.24852786319628   \n",
       "303  1.473778e+06  126.19985908167523  33.24852786319628   \n",
       "\n",
       "                                  lon_lat dong  \n",
       "299  126.19985908167523_33.24852786319628  대정읍  \n",
       "300  126.19985908167523_33.24852786319628  대정읍  \n",
       "301  126.19985908167523_33.24852786319628  대정읍  \n",
       "302  126.19985908167523_33.24852786319628  대정읍  \n",
       "303  126.19985908167523_33.24852786319628  대정읍  "
      ],
      "text/html": "<div>\n<style scoped>\n    .dataframe tbody tr th:only-of-type {\n        vertical-align: middle;\n    }\n\n    .dataframe tbody tr th {\n        vertical-align: top;\n    }\n\n    .dataframe thead th {\n        text-align: right;\n    }\n</style>\n<table border=\"1\" class=\"dataframe\">\n  <thead>\n    <tr style=\"text-align: right;\">\n      <th></th>\n      <th>OBJECTID</th>\n      <th>Field1</th>\n      <th>YM</th>\n      <th>SIDO</th>\n      <th>SIGUNGU</th>\n      <th>FranClass</th>\n      <th>Type</th>\n      <th>Time</th>\n      <th>TotalSpent</th>\n      <th>DisSpent</th>\n      <th>NumofSpent</th>\n      <th>NumofDisSpent</th>\n      <th>POINT_X</th>\n      <th>POINT_Y</th>\n      <th>lon</th>\n      <th>lat</th>\n      <th>lon_lat</th>\n      <th>dong</th>\n    </tr>\n  </thead>\n  <tbody>\n    <tr>\n      <th>299</th>\n      <td>10</td>\n      <td>10</td>\n      <td>202005</td>\n      <td>제주특별자치도</td>\n      <td>서귀포시</td>\n      <td>중소</td>\n      <td>편의점</td>\n      <td>00시</td>\n      <td>21420</td>\n      <td>0</td>\n      <td>1</td>\n      <td>0</td>\n      <td>878883.7242</td>\n      <td>1.473778e+06</td>\n      <td>126.19985908167523</td>\n      <td>33.24852786319628</td>\n      <td>126.19985908167523_33.24852786319628</td>\n      <td>대정읍</td>\n    </tr>\n    <tr>\n      <th>300</th>\n      <td>14704</td>\n      <td>14704</td>\n      <td>202005</td>\n      <td>제주특별자치도</td>\n      <td>서귀포시</td>\n      <td>중소</td>\n      <td>편의점</td>\n      <td>05시</td>\n      <td>8000</td>\n      <td>4690</td>\n      <td>1</td>\n      <td>1</td>\n      <td>878883.7242</td>\n      <td>1.473778e+06</td>\n      <td>126.19985908167523</td>\n      <td>33.24852786319628</td>\n      <td>126.19985908167523_33.24852786319628</td>\n      <td>대정읍</td>\n    </tr>\n    <tr>\n      <th>301</th>\n      <td>16405</td>\n      <td>16405</td>\n      <td>202005</td>\n      <td>제주특별자치도</td>\n      <td>서귀포시</td>\n      <td>중소</td>\n      <td>편의점</td>\n      <td>06시</td>\n      <td>114690</td>\n      <td>6000</td>\n      <td>11</td>\n      <td>1</td>\n      <td>878883.7242</td>\n      <td>1.473778e+06</td>\n      <td>126.19985908167523</td>\n      <td>33.24852786319628</td>\n      <td>126.19985908167523_33.24852786319628</td>\n      <td>대정읍</td>\n    </tr>\n    <tr>\n      <th>302</th>\n      <td>19143</td>\n      <td>19143</td>\n      <td>202005</td>\n      <td>제주특별자치도</td>\n      <td>서귀포시</td>\n      <td>중소</td>\n      <td>편의점</td>\n      <td>07시</td>\n      <td>169460</td>\n      <td>9500</td>\n      <td>15</td>\n      <td>1</td>\n      <td>878883.7242</td>\n      <td>1.473778e+06</td>\n      <td>126.19985908167523</td>\n      <td>33.24852786319628</td>\n      <td>126.19985908167523_33.24852786319628</td>\n      <td>대정읍</td>\n    </tr>\n    <tr>\n      <th>303</th>\n      <td>23388</td>\n      <td>23388</td>\n      <td>202005</td>\n      <td>제주특별자치도</td>\n      <td>서귀포시</td>\n      <td>중소</td>\n      <td>편의점</td>\n      <td>08시</td>\n      <td>311360</td>\n      <td>57400</td>\n      <td>34</td>\n      <td>6</td>\n      <td>878883.7242</td>\n      <td>1.473778e+06</td>\n      <td>126.19985908167523</td>\n      <td>33.24852786319628</td>\n      <td>126.19985908167523_33.24852786319628</td>\n      <td>대정읍</td>\n    </tr>\n  </tbody>\n</table>\n</div>"
     },
     "metadata": {},
     "execution_count": 87
    }
   ],
   "source": [
    "# 서귀포시 대정읍 데이터 확인하기 \n",
    "\n",
    "cond1 = df_final['SIGUNGU'] == '서귀포시'\n",
    "cond2 = df_final['dong'].str.contains('대정읍')\n",
    "df_reg_dje = df_final[cond1&cond2]\n",
    "df_reg_dje.head(5)\n"
   ]
  },
  {
   "cell_type": "code",
   "execution_count": 88,
   "metadata": {},
   "outputs": [
    {
     "output_type": "execute_result",
     "data": {
      "text/plain": [
       "<matplotlib.axes._subplots.AxesSubplot at 0x181aab0e6a0>"
      ]
     },
     "metadata": {},
     "execution_count": 88
    },
    {
     "output_type": "display_data",
     "data": {
      "text/plain": "<Figure size 720x216 with 1 Axes>",
      "image/svg+xml": "<?xml version=\"1.0\" encoding=\"utf-8\" standalone=\"no\"?>\r\n<!DOCTYPE svg PUBLIC \"-//W3C//DTD SVG 1.1//EN\"\r\n  \"http://www.w3.org/Graphics/SVG/1.1/DTD/svg11.dtd\">\r\n<!-- Created with matplotlib (https://matplotlib.org/) -->\r\n<svg height=\"218.984688pt\" version=\"1.1\" viewBox=\"0 0 600.964062 218.984688\" width=\"600.964062pt\" xmlns=\"http://www.w3.org/2000/svg\" xmlns:xlink=\"http://www.w3.org/1999/xlink\">\r\n <defs>\r\n  <style type=\"text/css\">\r\n*{stroke-linecap:butt;stroke-linejoin:round;}\r\n  </style>\r\n </defs>\r\n <g id=\"figure_1\">\r\n  <g id=\"patch_1\">\r\n   <path d=\"M 0 218.984688 \r\nL 600.964062 218.984688 \r\nL 600.964062 -0 \r\nL 0 -0 \r\nz\r\n\" style=\"fill:none;\"/>\r\n  </g>\r\n  <g id=\"axes_1\">\r\n   <g id=\"patch_2\">\r\n    <path d=\"M 33.664062 180.872187 \r\nL 591.664062 180.872187 \r\nL 591.664062 17.792187 \r\nL 33.664062 17.792187 \r\nz\r\n\" style=\"fill:#ffffff;\"/>\r\n   </g>\r\n   <g id=\"patch_3\">\r\n    <path clip-path=\"url(#pa32183359f)\" d=\"M 39.244062 180.872187 \r\nL 83.884062 180.872187 \r\nL 83.884062 25.557902 \r\nL 39.244062 25.557902 \r\nz\r\n\" style=\"fill:#374249;\"/>\r\n   </g>\r\n   <g id=\"patch_4\">\r\n    <path clip-path=\"url(#pa32183359f)\" d=\"M 95.044063 180.872187 \r\nL 139.684063 180.872187 \r\nL 139.684063 60.654767 \r\nL 95.044063 60.654767 \r\nz\r\n\" style=\"fill:#3b5060;\"/>\r\n   </g>\r\n   <g id=\"patch_5\">\r\n    <path clip-path=\"url(#pa32183359f)\" d=\"M 150.844063 180.872187 \r\nL 195.484063 180.872187 \r\nL 195.484063 122.167127 \r\nL 150.844063 122.167127 \r\nz\r\n\" style=\"fill:#3e5f76;\"/>\r\n   </g>\r\n   <g id=\"patch_6\">\r\n    <path clip-path=\"url(#pa32183359f)\" d=\"M 206.644063 180.872187 \r\nL 251.284063 180.872187 \r\nL 251.284063 123.898006 \r\nL 206.644063 123.898006 \r\nz\r\n\" style=\"fill:#426e8e;\"/>\r\n   </g>\r\n   <g id=\"patch_7\">\r\n    <path clip-path=\"url(#pa32183359f)\" d=\"M 262.444063 180.872187 \r\nL 307.084063 180.872187 \r\nL 307.084063 139.538557 \r\nL 262.444063 139.538557 \r\nz\r\n\" style=\"fill:#467da4;\"/>\r\n   </g>\r\n   <g id=\"patch_8\">\r\n    <path clip-path=\"url(#pa32183359f)\" d=\"M 318.244063 180.872187 \r\nL 362.884063 180.872187 \r\nL 362.884063 152.261881 \r\nL 318.244063 152.261881 \r\nz\r\n\" style=\"fill:#528bb3;\"/>\r\n   </g>\r\n   <g id=\"patch_9\">\r\n    <path clip-path=\"url(#pa32183359f)\" d=\"M 374.044062 180.872187 \r\nL 418.684062 180.872187 \r\nL 418.684062 157.722169 \r\nL 374.044062 157.722169 \r\nz\r\n\" style=\"fill:#6598bc;\"/>\r\n   </g>\r\n   <g id=\"patch_10\">\r\n    <path clip-path=\"url(#pa32183359f)\" d=\"M 429.844063 180.872187 \r\nL 474.484063 180.872187 \r\nL 474.484063 160.839873 \r\nL 429.844063 160.839873 \r\nz\r\n\" style=\"fill:#79a6c5;\"/>\r\n   </g>\r\n   <g id=\"patch_11\">\r\n    <path clip-path=\"url(#pa32183359f)\" d=\"M 485.644063 180.872187 \r\nL 530.284063 180.872187 \r\nL 530.284063 164.221623 \r\nL 485.644063 164.221623 \r\nz\r\n\" style=\"fill:#8cb3cd;\"/>\r\n   </g>\r\n   <g id=\"patch_12\">\r\n    <path clip-path=\"url(#pa32183359f)\" d=\"M 541.444062 180.872187 \r\nL 586.084063 180.872187 \r\nL 586.084063 165.676458 \r\nL 541.444062 165.676458 \r\nz\r\n\" style=\"fill:#9fc1d6;\"/>\r\n   </g>\r\n   <g id=\"matplotlib.axis_1\">\r\n    <g id=\"xtick_1\">\r\n     <g id=\"line2d_1\">\r\n      <defs>\r\n       <path d=\"M 0 0 \r\nL 0 3.5 \r\n\" id=\"m6692977550\" style=\"stroke:#000000;stroke-width:0.8;\"/>\r\n      </defs>\r\n      <g>\r\n       <use style=\"stroke:#000000;stroke-width:0.8;\" x=\"61.564063\" xlink:href=\"#m6692977550\" y=\"180.872187\"/>\r\n      </g>\r\n     </g>\r\n     <g id=\"text_1\">\r\n      <!-- 일반한식 -->\r\n      <defs>\r\n       <path d=\"M 77.296875 28.609375 \r\nL 77.296875 77.09375 \r\nL 84.71875 77.09375 \r\nL 84.71875 28.609375 \r\nz\r\nM 37.796875 31.984375 \r\nQ 27.15625 31.984375 20.53125 38.109375 \r\nQ 13.921875 44.234375 13.921875 53.71875 \r\nQ 13.921875 63.140625 20.53125 69.21875 \r\nQ 27.15625 75.296875 37.796875 75.296875 \r\nQ 48.390625 75.296875 55.046875 69.1875 \r\nQ 61.71875 63.09375 61.71875 53.71875 \r\nQ 61.71875 44.28125 55.03125 38.125 \r\nQ 48.34375 31.984375 37.796875 31.984375 \r\nz\r\nM 37.796875 69 \r\nQ 30.171875 69 25.671875 64.8125 \r\nQ 21.1875 60.640625 21.1875 53.71875 \r\nQ 21.1875 46.734375 25.671875 42.453125 \r\nQ 30.171875 38.1875 37.796875 38.1875 \r\nQ 45.40625 38.1875 49.890625 42.453125 \r\nQ 54.390625 46.734375 54.390625 53.71875 \r\nQ 54.390625 60.640625 49.890625 64.8125 \r\nQ 45.40625 69 37.796875 69 \r\nz\r\nM 26.609375 -14.890625 \r\nL 26.609375 7.90625 \r\nL 77.484375 7.90625 \r\nL 77.484375 16.890625 \r\nL 26.609375 16.890625 \r\nL 26.609375 23.390625 \r\nL 84.71875 23.390625 \r\nL 84.71875 1.609375 \r\nL 33.796875 1.609375 \r\nL 33.796875 -8.40625 \r\nL 87.3125 -8.40625 \r\nL 87.3125 -14.890625 \r\nz\r\n\" id=\"MalgunGothicRegular-51068\"/>\r\n       <path d=\"M 80.078125 41.21875 \r\nL 80.078125 8.296875 \r\nL 72.796875 8.296875 \r\nL 72.796875 77.09375 \r\nL 80.078125 77.09375 \r\nL 80.078125 47.796875 \r\nL 94.28125 47.796875 \r\nL 94.28125 41.21875 \r\nz\r\nM 11.8125 24.8125 \r\nL 11.8125 72.609375 \r\nL 19 72.609375 \r\nL 19 54.5 \r\nL 47.796875 54.5 \r\nL 47.796875 72.609375 \r\nL 54.984375 72.609375 \r\nL 54.984375 24.8125 \r\nz\r\nM 47.796875 48 \r\nL 19 48 \r\nL 19 31.296875 \r\nL 47.796875 31.296875 \r\nz\r\nM 22.703125 -14.109375 \r\nL 22.703125 14.796875 \r\nL 29.984375 14.796875 \r\nL 29.984375 -7.625 \r\nL 82.71875 -7.625 \r\nL 82.71875 -14.109375 \r\nz\r\n\" id=\"MalgunGothicRegular-48152\"/>\r\n       <path d=\"M 80.078125 34.078125 \r\nL 80.078125 6.984375 \r\nL 72.796875 6.984375 \r\nL 72.796875 77.09375 \r\nL 80.078125 77.09375 \r\nL 80.078125 40.71875 \r\nL 94.28125 40.71875 \r\nL 94.28125 34.078125 \r\nz\r\nM 6.984375 58.015625 \r\nL 6.984375 64.5 \r\nL 31.296875 64.5 \r\nL 31.296875 76.703125 \r\nL 38.71875 76.703125 \r\nL 38.71875 64.5 \r\nL 62.984375 64.5 \r\nL 62.984375 58.015625 \r\nz\r\nM 35.015625 17.484375 \r\nQ 24.359375 17.484375 18.140625 22.625 \r\nQ 11.921875 27.78125 11.921875 35.296875 \r\nQ 11.921875 42.71875 18.140625 47.84375 \r\nQ 24.359375 52.984375 35.109375 52.984375 \r\nQ 45.796875 52.984375 52.046875 47.875 \r\nQ 58.296875 42.78125 58.296875 35.296875 \r\nQ 58.296875 27.875 52.015625 22.671875 \r\nQ 45.75 17.484375 35.015625 17.484375 \r\nz\r\nM 35.109375 46.78125 \r\nQ 27.6875 46.78125 23.390625 43.546875 \r\nQ 19.09375 40.328125 19.09375 35.296875 \r\nQ 19.09375 30.21875 23.40625 26.953125 \r\nQ 27.734375 23.6875 35.109375 23.6875 \r\nQ 42.484375 23.6875 46.796875 26.953125 \r\nQ 51.125 30.21875 51.125 35.296875 \r\nQ 51.125 40.328125 46.828125 43.546875 \r\nQ 42.53125 46.78125 35.109375 46.78125 \r\nz\r\nM 22.796875 -15.375 \r\nL 22.796875 10.6875 \r\nL 29.984375 10.6875 \r\nL 29.984375 -8.890625 \r\nL 83.015625 -8.890625 \r\nL 83.015625 -15.375 \r\nz\r\n\" id=\"MalgunGothicRegular-54620\"/>\r\n       <path d=\"M 76.3125 22.796875 \r\nL 76.3125 77.09375 \r\nL 83.59375 77.09375 \r\nL 83.59375 22.796875 \r\nz\r\nM 57.078125 28.078125 \r\nQ 50.6875 31.546875 44.234375 37.796875 \r\nQ 37.796875 44.046875 35.203125 49.515625 \r\nQ 32.421875 43.3125 25.921875 36.34375 \r\nQ 19.4375 29.390625 12.796875 25.6875 \r\nL 7.625 30.71875 \r\nQ 17.71875 35.546875 24.546875 44.71875 \r\nQ 31.390625 53.90625 31.390625 64.015625 \r\nL 31.390625 74.03125 \r\nL 38.484375 74.03125 \r\nL 38.484375 64.015625 \r\nQ 38.484375 54.59375 45.5625 45.953125 \r\nQ 52.640625 37.3125 62.015625 33.40625 \r\nz\r\nM 76.3125 -17.09375 \r\nL 76.3125 10.984375 \r\nL 22.3125 10.984375 \r\nL 22.3125 17.484375 \r\nL 83.59375 17.484375 \r\nL 83.59375 -17.09375 \r\nz\r\n\" id=\"MalgunGothicRegular-49885\"/>\r\n      </defs>\r\n      <g transform=\"translate(41.564063 195.464375)scale(0.1 -0.1)\">\r\n       <use xlink:href=\"#MalgunGothicRegular-51068\"/>\r\n       <use x=\"100\" xlink:href=\"#MalgunGothicRegular-48152\"/>\r\n       <use x=\"200\" xlink:href=\"#MalgunGothicRegular-54620\"/>\r\n       <use x=\"300\" xlink:href=\"#MalgunGothicRegular-49885\"/>\r\n      </g>\r\n     </g>\r\n    </g>\r\n    <g id=\"xtick_2\">\r\n     <g id=\"line2d_2\">\r\n      <g>\r\n       <use style=\"stroke:#000000;stroke-width:0.8;\" x=\"117.364063\" xlink:href=\"#m6692977550\" y=\"180.872187\"/>\r\n      </g>\r\n     </g>\r\n     <g id=\"text_2\">\r\n      <!-- 슈퍼마켓 -->\r\n      <defs>\r\n       <path d=\"M 85.296875 39.890625 \r\nQ 74.21875 41.703125 63.859375 47.796875 \r\nQ 53.515625 53.90625 50 60.296875 \r\nQ 46.390625 54 36.234375 47.65625 \r\nQ 26.078125 41.3125 14.796875 39.40625 \r\nL 10.40625 45.515625 \r\nQ 24.90625 47.125 35.59375 54.953125 \r\nQ 46.296875 62.796875 46.296875 71.6875 \r\nL 46.296875 75.59375 \r\nL 53.609375 75.59375 \r\nL 53.609375 71.6875 \r\nQ 53.609375 62.703125 64.03125 55.078125 \r\nQ 74.46875 47.46875 89.59375 45.90625 \r\nz\r\nM 29.390625 -17.09375 \r\nL 29.390625 20.796875 \r\nL 6.296875 20.796875 \r\nL 6.296875 27.296875 \r\nL 93.703125 27.296875 \r\nL 93.703125 20.796875 \r\nL 70.609375 20.796875 \r\nL 70.609375 -17.09375 \r\nL 63.28125 -17.09375 \r\nL 63.28125 20.796875 \r\nL 36.71875 20.796875 \r\nL 36.71875 -17.09375 \r\nz\r\n\" id=\"MalgunGothicRegular-49800\"/>\r\n       <path d=\"M 77.59375 -17.09375 \r\nL 77.59375 35.59375 \r\nL 59.078125 35.59375 \r\nL 59.078125 42.09375 \r\nL 77.59375 42.09375 \r\nL 77.59375 77.09375 \r\nL 85.015625 77.09375 \r\nL 85.015625 -17.09375 \r\nz\r\nM 9.28125 62.5 \r\nL 9.28125 68.890625 \r\nL 62.890625 68.890625 \r\nL 62.890625 62.5 \r\nz\r\nM 67.390625 9.515625 \r\nQ 60.40625 8.109375 52.203125 8.109375 \r\nL 5.90625 8.109375 \r\nL 5.90625 14.59375 \r\nL 20.125 14.59375 \r\nL 19.09375 55.609375 \r\nL 26.3125 55.609375 \r\nL 27.296875 14.59375 \r\nL 44 14.59375 \r\nL 44.921875 55.609375 \r\nL 52.09375 55.609375 \r\nL 51.125 14.59375 \r\nQ 62.3125 14.59375 66.703125 15.71875 \r\nz\r\n\" id=\"MalgunGothicRegular-54140\"/>\r\n       <path d=\"M 79.59375 32.8125 \r\nL 79.59375 -17.09375 \r\nL 72.3125 -17.09375 \r\nL 72.3125 77.09375 \r\nL 79.59375 77.09375 \r\nL 79.59375 39.3125 \r\nL 95.90625 39.3125 \r\nL 95.90625 32.8125 \r\nz\r\nM 12.5 10.59375 \r\nL 12.5 68.796875 \r\nL 56.984375 68.796875 \r\nL 56.984375 10.59375 \r\nz\r\nM 49.8125 62.40625 \r\nL 19.828125 62.40625 \r\nL 19.828125 17 \r\nL 49.8125 17 \r\nz\r\n\" id=\"MalgunGothicRegular-47560\"/>\r\n       <path d=\"M 79 16.015625 \r\nL 79 77.09375 \r\nL 86.28125 77.09375 \r\nL 86.28125 16.015625 \r\nz\r\nM 62.203125 22.015625 \r\nL 62.203125 43.015625 \r\nL 46.78125 43.015625 \r\nL 46.78125 49.515625 \r\nL 62.203125 49.515625 \r\nL 62.203125 75.203125 \r\nL 69.390625 75.203125 \r\nL 69.390625 22.015625 \r\nz\r\nM 11.28125 43.890625 \r\nL 8.796875 50.484375 \r\nL 39.890625 52.875 \r\nQ 42.390625 58.40625 43.015625 64.109375 \r\nL 13.71875 64.109375 \r\nL 13.71875 70.515625 \r\nL 50.875 70.515625 \r\nQ 49.515625 35.359375 14.015625 18.21875 \r\nL 8.5 23.78125 \r\nQ 26.421875 30.90625 36.71875 46.78125 \r\nz\r\nM 87.796875 -14.984375 \r\nQ 78.03125 -12.796875 68.609375 -6.15625 \r\nQ 59.1875 0.484375 54.78125 8.109375 \r\nQ 51.375 0.921875 41.765625 -5.90625 \r\nQ 32.171875 -12.75 22.3125 -14.984375 \r\nL 17.671875 -8.6875 \r\nQ 30.515625 -6.890625 40.796875 1.953125 \r\nQ 51.078125 10.796875 51.21875 19.390625 \r\nL 51.21875 21.578125 \r\nL 58.5 21.578125 \r\nL 58.5 19.484375 \r\nQ 58.5 11.078125 68.671875 2.140625 \r\nQ 78.859375 -6.78125 92 -8.6875 \r\nz\r\n\" id=\"MalgunGothicRegular-53011\"/>\r\n      </defs>\r\n      <g transform=\"translate(97.364063 195.464375)scale(0.1 -0.1)\">\r\n       <use xlink:href=\"#MalgunGothicRegular-49800\"/>\r\n       <use x=\"100\" xlink:href=\"#MalgunGothicRegular-54140\"/>\r\n       <use x=\"200\" xlink:href=\"#MalgunGothicRegular-47560\"/>\r\n       <use x=\"300\" xlink:href=\"#MalgunGothicRegular-53011\"/>\r\n      </g>\r\n     </g>\r\n    </g>\r\n    <g id=\"xtick_3\">\r\n     <g id=\"line2d_3\">\r\n      <g>\r\n       <use style=\"stroke:#000000;stroke-width:0.8;\" x=\"173.164062\" xlink:href=\"#m6692977550\" y=\"180.872187\"/>\r\n      </g>\r\n     </g>\r\n     <g id=\"text_3\">\r\n      <!-- 주유소 -->\r\n      <defs>\r\n       <path d=\"M 85.796875 38.09375 \r\nQ 74.609375 39.65625 64.125 45.828125 \r\nQ 53.65625 52 50 58.203125 \r\nQ 46.578125 52.15625 36.203125 45.75 \r\nQ 25.828125 39.359375 14.40625 37.5 \r\nL 9.90625 43.609375 \r\nQ 22.859375 44.921875 33.625 51.75 \r\nQ 44.390625 58.59375 46.09375 67.09375 \r\nL 16.015625 67.09375 \r\nL 16.015625 73.578125 \r\nL 83.984375 73.578125 \r\nL 83.984375 67.09375 \r\nL 53.8125 67.09375 \r\nQ 55.46875 58.453125 66.015625 51.859375 \r\nQ 76.5625 45.265625 90.09375 44 \r\nz\r\nM 53.71875 20.796875 \r\nL 53.71875 -17.09375 \r\nL 46.296875 -17.09375 \r\nL 46.296875 20.796875 \r\nL 6.296875 20.796875 \r\nL 6.296875 27.296875 \r\nL 93.703125 27.296875 \r\nL 93.703125 20.796875 \r\nz\r\n\" id=\"MalgunGothicRegular-51452\"/>\r\n       <path d=\"M 50 35.203125 \r\nQ 35.59375 35.203125 27.625 40.625 \r\nQ 19.671875 46.046875 19.671875 55.421875 \r\nQ 19.671875 64.65625 27.734375 70.21875 \r\nQ 35.796875 75.78125 50 75.78125 \r\nQ 64.5 75.78125 72.5 70.21875 \r\nQ 80.515625 64.65625 80.515625 55.421875 \r\nQ 80.515625 46.140625 72.5 40.671875 \r\nQ 64.5 35.203125 50 35.203125 \r\nz\r\nM 50 69.484375 \r\nQ 39.265625 69.484375 33.28125 65.703125 \r\nQ 27.296875 61.921875 27.296875 55.421875 \r\nQ 27.296875 49.03125 33.28125 45.21875 \r\nQ 39.265625 41.40625 50 41.40625 \r\nQ 60.75 41.40625 66.71875 45.21875 \r\nQ 72.703125 49.03125 72.703125 55.421875 \r\nQ 72.703125 61.921875 66.71875 65.703125 \r\nQ 60.75 69.484375 50 69.484375 \r\nz\r\nM 29.890625 -17 \r\nL 29.890625 17.828125 \r\nL 6.296875 17.828125 \r\nL 6.296875 24.421875 \r\nL 93.703125 24.421875 \r\nL 93.703125 17.828125 \r\nL 70.125 17.828125 \r\nL 70.125 -17 \r\nL 62.796875 -17 \r\nL 62.796875 17.828125 \r\nL 37.203125 17.828125 \r\nL 37.203125 -17 \r\nz\r\n\" id=\"MalgunGothicRegular-50976\"/>\r\n       <path d=\"M 49.90625 52.78125 \r\nQ 46.296875 45.0625 36.40625 37.640625 \r\nQ 26.515625 30.21875 14.984375 27 \r\nL 10.015625 32.8125 \r\nQ 26.5625 36.578125 36.375 46.34375 \r\nQ 46.1875 56.109375 46.1875 64.59375 \r\nL 46.1875 69.578125 \r\nL 53.71875 69.578125 \r\nL 53.71875 64.59375 \r\nQ 53.71875 56.25 63.578125 46.484375 \r\nQ 73.4375 36.71875 89.984375 32.8125 \r\nL 84.8125 27.09375 \r\nQ 73.734375 30.46875 63.625 37.90625 \r\nQ 53.515625 45.359375 49.90625 52.78125 \r\nz\r\nM 6.296875 -2.296875 \r\nL 6.296875 4.203125 \r\nL 46.296875 4.203125 \r\nL 46.296875 27.09375 \r\nL 53.71875 27.09375 \r\nL 53.71875 4.203125 \r\nL 93.703125 4.203125 \r\nL 93.703125 -2.296875 \r\nz\r\n\" id=\"MalgunGothicRegular-49548\"/>\r\n      </defs>\r\n      <g transform=\"translate(158.164062 195.464375)scale(0.1 -0.1)\">\r\n       <use xlink:href=\"#MalgunGothicRegular-51452\"/>\r\n       <use x=\"100\" xlink:href=\"#MalgunGothicRegular-50976\"/>\r\n       <use x=\"200\" xlink:href=\"#MalgunGothicRegular-49548\"/>\r\n      </g>\r\n     </g>\r\n    </g>\r\n    <g id=\"xtick_4\">\r\n     <g id=\"line2d_4\">\r\n      <g>\r\n       <use style=\"stroke:#000000;stroke-width:0.8;\" x=\"228.964063\" xlink:href=\"#m6692977550\" y=\"180.872187\"/>\r\n      </g>\r\n     </g>\r\n     <g id=\"text_4\">\r\n      <!-- 농축협직영매장 -->\r\n      <defs>\r\n       <path d=\"M 6.296875 26.8125 \r\nL 6.296875 33.296875 \r\nL 46.296875 33.296875 \r\nL 46.296875 46 \r\nL 21.484375 46 \r\nL 21.484375 75.09375 \r\nL 28.8125 75.09375 \r\nL 28.8125 52.59375 \r\nL 80.90625 52.59375 \r\nL 80.90625 46 \r\nL 53.71875 46 \r\nL 53.71875 33.296875 \r\nL 93.703125 33.296875 \r\nL 93.703125 26.8125 \r\nz\r\nM 50 -15.921875 \r\nQ 35.25 -15.921875 27.265625 -11.203125 \r\nQ 19.28125 -6.5 19.28125 1.609375 \r\nQ 19.28125 9.671875 27.265625 14.375 \r\nQ 35.25 19.09375 50 19.09375 \r\nQ 64.75 19.09375 72.734375 14.375 \r\nQ 80.71875 9.671875 80.71875 1.609375 \r\nQ 80.71875 -6.5 72.734375 -11.203125 \r\nQ 64.75 -15.921875 50 -15.921875 \r\nz\r\nM 50 12.890625 \r\nQ 38.71875 12.890625 32.859375 9.828125 \r\nQ 27 6.78125 27 1.609375 \r\nQ 27 -3.5625 32.8125 -6.640625 \r\nQ 38.625 -9.71875 50 -9.71875 \r\nQ 61.328125 -9.71875 67.15625 -6.640625 \r\nQ 73 -3.5625 73 1.609375 \r\nQ 73 6.84375 67.140625 9.859375 \r\nQ 61.28125 12.890625 50 12.890625 \r\nz\r\n\" id=\"MalgunGothicRegular-45453\"/>\r\n       <path d=\"M 85.40625 40.375 \r\nQ 74.90625 41.453125 64.109375 46.578125 \r\nQ 53.328125 51.703125 50.09375 56.390625 \r\nQ 46.4375 51.3125 36.0625 46.453125 \r\nQ 25.6875 41.609375 15.09375 40.484375 \r\nL 10.890625 47.125 \r\nQ 21.234375 47.125 31.96875 51.640625 \r\nQ 42.71875 56.15625 45.609375 62.59375 \r\nL 16.5 62.59375 \r\nL 16.5 69.09375 \r\nL 46.390625 69.09375 \r\nL 46.390625 77.875 \r\nL 53.8125 77.875 \r\nL 53.8125 69.09375 \r\nL 83.5 69.09375 \r\nL 83.5 62.59375 \r\nL 54.390625 62.59375 \r\nQ 57.328125 56.0625 68.015625 51.640625 \r\nQ 78.71875 47.21875 89.109375 47.21875 \r\nz\r\nM 72.015625 -17.09375 \r\nL 72.015625 8.5 \r\nL 18.703125 8.5 \r\nL 18.703125 14.984375 \r\nL 46.296875 14.984375 \r\nL 46.296875 26.421875 \r\nL 6.296875 26.421875 \r\nL 6.296875 33.015625 \r\nL 93.703125 33.015625 \r\nL 93.703125 26.421875 \r\nL 53.71875 26.421875 \r\nL 53.71875 14.984375 \r\nL 79.296875 14.984375 \r\nL 79.296875 -17.09375 \r\nz\r\n\" id=\"MalgunGothicRegular-52629\"/>\r\n       <path d=\"M 7.71875 59.515625 \r\nL 7.71875 65.921875 \r\nL 31.6875 65.921875 \r\nL 31.6875 77.6875 \r\nL 38.921875 77.6875 \r\nL 38.921875 65.921875 \r\nL 62.890625 65.921875 \r\nL 62.890625 59.515625 \r\nz\r\nM 61.71875 31.890625 \r\nL 61.71875 38.1875 \r\nL 77.296875 38.1875 \r\nL 77.296875 48.296875 \r\nL 61.71875 48.296875 \r\nL 61.71875 54.5 \r\nL 77.296875 54.5 \r\nL 77.296875 77.09375 \r\nL 84.625 77.09375 \r\nL 84.625 23.484375 \r\nL 77.296875 23.484375 \r\nL 77.296875 31.890625 \r\nz\r\nM 35.203125 22.796875 \r\nQ 24.75 22.796875 18.625 27.453125 \r\nQ 12.5 32.125 12.5 39.203125 \r\nQ 12.5 46.1875 18.546875 50.84375 \r\nQ 24.609375 55.515625 35.296875 55.515625 \r\nQ 45.90625 55.515625 51.953125 50.84375 \r\nQ 58.015625 46.1875 58.015625 39.203125 \r\nQ 58.015625 32.125 51.875 27.453125 \r\nQ 45.75 22.796875 35.203125 22.796875 \r\nz\r\nM 35.296875 49.3125 \r\nQ 28.03125 49.3125 23.921875 46.484375 \r\nQ 19.828125 43.65625 19.828125 39.203125 \r\nQ 19.828125 34.671875 23.921875 31.828125 \r\nQ 28.03125 29 35.296875 29 \r\nQ 42.578125 29 46.625 31.859375 \r\nQ 50.6875 34.71875 50.6875 39.203125 \r\nQ 50.6875 43.609375 46.625 46.453125 \r\nQ 42.578125 49.3125 35.296875 49.3125 \r\nz\r\nM 25.984375 -15.28125 \r\nL 25.984375 18.40625 \r\nL 33.296875 18.40625 \r\nL 33.296875 7.421875 \r\nL 77.390625 7.421875 \r\nL 77.390625 18.40625 \r\nL 84.625 18.40625 \r\nL 84.625 -15.28125 \r\nz\r\nM 77.390625 0.984375 \r\nL 33.296875 0.984375 \r\nL 33.296875 -8.796875 \r\nL 77.390625 -8.796875 \r\nz\r\n\" id=\"MalgunGothicRegular-54801\"/>\r\n       <path d=\"M 77.09375 22.796875 \r\nL 77.09375 77.09375 \r\nL 84.515625 77.09375 \r\nL 84.515625 22.796875 \r\nz\r\nM 60.5 27.59375 \r\nQ 54.59375 30.328125 47.671875 36.859375 \r\nQ 40.765625 43.40625 38.09375 48.78125 \r\nQ 35.453125 42.71875 28.734375 35.765625 \r\nQ 22.015625 28.8125 15.1875 25.203125 \r\nL 10.015625 30.171875 \r\nQ 20.609375 35.296875 27.515625 44.359375 \r\nQ 34.421875 53.421875 34.421875 63.1875 \r\nL 34.421875 66.40625 \r\nL 13.09375 66.40625 \r\nL 13.09375 72.90625 \r\nL 62.59375 72.90625 \r\nL 62.59375 66.40625 \r\nL 41.5 66.40625 \r\nL 41.5 63.1875 \r\nQ 41.5 53.90625 48.53125 45.609375 \r\nQ 55.5625 37.3125 65.375 33.109375 \r\nz\r\nM 77.09375 -17.09375 \r\nL 77.09375 10.984375 \r\nL 23.09375 10.984375 \r\nL 23.09375 17.484375 \r\nL 84.515625 17.484375 \r\nL 84.515625 -17.09375 \r\nz\r\n\" id=\"MalgunGothicRegular-51649\"/>\r\n       <path d=\"M 57.328125 35.6875 \r\nQ 50.140625 26.8125 37.59375 26.8125 \r\nQ 27.046875 26.8125 20.0625 33.515625 \r\nQ 13.09375 40.234375 13.09375 50.78125 \r\nQ 13.09375 61.375 20.0625 68.1875 \r\nQ 27.046875 75 37.59375 75 \r\nQ 50.484375 75 57.71875 65.484375 \r\nL 77.484375 65.484375 \r\nL 77.484375 77.09375 \r\nL 84.8125 77.09375 \r\nL 84.8125 21.578125 \r\nL 77.484375 21.578125 \r\nL 77.484375 35.6875 \r\nz\r\nM 37.59375 68.609375 \r\nQ 29.984375 68.609375 25.140625 63.671875 \r\nQ 20.3125 58.734375 20.3125 50.78125 \r\nQ 20.3125 42.875 25.140625 38.03125 \r\nQ 29.984375 33.203125 37.59375 33.203125 \r\nQ 45.21875 33.203125 50.09375 37.953125 \r\nQ 54.984375 42.71875 54.984375 50.78125 \r\nQ 54.984375 58.890625 50.09375 63.75 \r\nQ 45.21875 68.609375 37.59375 68.609375 \r\nz\r\nM 60.796875 42.09375 \r\nL 77.484375 42.09375 \r\nL 77.484375 59.078125 \r\nL 60.984375 59.078125 \r\nQ 62.3125 55.21875 62.3125 50.78125 \r\nQ 62.3125 46.625 60.796875 42.09375 \r\nz\r\nM 56.5 -16.21875 \r\nQ 41.703125 -16.21875 33.6875 -11.15625 \r\nQ 25.6875 -6.109375 25.6875 2 \r\nQ 25.6875 10.109375 33.6875 15.15625 \r\nQ 41.703125 20.21875 56.5 20.21875 \r\nQ 71.296875 20.21875 79.296875 15.140625 \r\nQ 87.3125 10.0625 87.3125 2 \r\nQ 87.3125 -6.0625 79.296875 -11.140625 \r\nQ 71.296875 -16.21875 56.5 -16.21875 \r\nz\r\nM 56.5 14.015625 \r\nQ 45.453125 14.015625 39.421875 10.671875 \r\nQ 33.40625 7.328125 33.40625 2 \r\nQ 33.40625 -3.328125 39.421875 -6.671875 \r\nQ 45.453125 -10.015625 56.5 -10.015625 \r\nQ 67.578125 -10.015625 73.53125 -6.671875 \r\nQ 79.5 -3.328125 79.5 2 \r\nQ 79.5 7.328125 73.53125 10.671875 \r\nQ 67.578125 14.015625 56.5 14.015625 \r\nz\r\n\" id=\"MalgunGothicRegular-50689\"/>\r\n       <path d=\"M 79.203125 -17.09375 \r\nL 79.203125 32.078125 \r\nL 67.390625 32.078125 \r\nL 67.390625 -14.203125 \r\nL 60.203125 -14.203125 \r\nL 60.203125 75.203125 \r\nL 67.390625 75.203125 \r\nL 67.390625 38.625 \r\nL 79.203125 38.625 \r\nL 79.203125 77.09375 \r\nL 86.53125 77.09375 \r\nL 86.53125 -17.09375 \r\nz\r\nM 11.921875 10.40625 \r\nL 11.921875 68.703125 \r\nL 49.609375 68.703125 \r\nL 49.609375 10.40625 \r\nz\r\nM 42.390625 62.3125 \r\nL 19.09375 62.3125 \r\nL 19.09375 16.796875 \r\nL 42.390625 16.796875 \r\nz\r\n\" id=\"MalgunGothicRegular-47588\"/>\r\n       <path d=\"M 80.078125 44.671875 \r\nL 80.078125 22.796875 \r\nL 72.796875 22.796875 \r\nL 72.796875 77.09375 \r\nL 80.078125 77.09375 \r\nL 80.078125 51.3125 \r\nL 94.28125 51.3125 \r\nL 94.28125 44.671875 \r\nz\r\nM 56.296875 27.875 \r\nQ 50.09375 31.203125 43.40625 37.640625 \r\nQ 36.71875 44.09375 34.1875 49.421875 \r\nQ 31.5 43.265625 25 36.28125 \r\nQ 18.5 29.296875 11.71875 25.484375 \r\nL 6.390625 30.515625 \r\nQ 16.75 35.546875 23.625 44.765625 \r\nQ 30.515625 54 30.515625 64.015625 \r\nL 30.515625 66.40625 \r\nL 9.71875 66.40625 \r\nL 9.71875 72.90625 \r\nL 58.296875 72.90625 \r\nL 58.296875 66.40625 \r\nL 37.5 66.40625 \r\nL 37.5 64.015625 \r\nQ 37.5 54.59375 44.453125 45.953125 \r\nQ 51.421875 37.3125 61.078125 33.203125 \r\nz\r\nM 50.984375 -16.3125 \r\nQ 36.28125 -16.3125 28.296875 -11.203125 \r\nQ 20.3125 -6.109375 20.3125 2 \r\nQ 20.3125 10.0625 28.3125 15.140625 \r\nQ 36.328125 20.21875 50.984375 20.21875 \r\nQ 65.671875 20.21875 73.671875 15.15625 \r\nQ 81.6875 10.109375 81.6875 2 \r\nQ 81.6875 -6.15625 73.703125 -11.234375 \r\nQ 65.71875 -16.3125 50.984375 -16.3125 \r\nz\r\nM 50.984375 14.015625 \r\nQ 40.046875 14.015625 34.0625 10.6875 \r\nQ 28.078125 7.375 28.078125 2 \r\nQ 28.078125 -3.46875 34.078125 -6.78125 \r\nQ 40.09375 -10.109375 50.984375 -10.109375 \r\nQ 62.015625 -10.109375 68.015625 -6.765625 \r\nQ 74.03125 -3.421875 74.03125 2 \r\nQ 74.03125 7.328125 68.015625 10.671875 \r\nQ 62.015625 14.015625 50.984375 14.015625 \r\nz\r\n\" id=\"MalgunGothicRegular-51109\"/>\r\n      </defs>\r\n      <g transform=\"translate(193.964063 195.464375)scale(0.1 -0.1)\">\r\n       <use xlink:href=\"#MalgunGothicRegular-45453\"/>\r\n       <use x=\"100\" xlink:href=\"#MalgunGothicRegular-52629\"/>\r\n       <use x=\"200\" xlink:href=\"#MalgunGothicRegular-54801\"/>\r\n       <use x=\"300\" xlink:href=\"#MalgunGothicRegular-51649\"/>\r\n       <use x=\"400\" xlink:href=\"#MalgunGothicRegular-50689\"/>\r\n       <use x=\"500\" xlink:href=\"#MalgunGothicRegular-47588\"/>\r\n       <use x=\"600\" xlink:href=\"#MalgunGothicRegular-51109\"/>\r\n      </g>\r\n     </g>\r\n    </g>\r\n    <g id=\"xtick_5\">\r\n     <g id=\"line2d_5\">\r\n      <g>\r\n       <use style=\"stroke:#000000;stroke-width:0.8;\" x=\"284.764063\" xlink:href=\"#m6692977550\" y=\"180.872187\"/>\r\n      </g>\r\n     </g>\r\n     <g id=\"text_5\">\r\n      <!-- 편의점 -->\r\n      <defs>\r\n       <path d=\"M 60.6875 36.078125 \r\nL 60.6875 42.390625 \r\nL 77.6875 42.390625 \r\nL 77.6875 51.515625 \r\nL 60.6875 51.515625 \r\nL 60.6875 57.8125 \r\nL 77.6875 57.8125 \r\nL 77.6875 77.09375 \r\nL 85.015625 77.09375 \r\nL 85.015625 8.40625 \r\nL 77.6875 8.40625 \r\nL 77.6875 36.078125 \r\nz\r\nM 12.40625 64.796875 \r\nL 12.40625 71.1875 \r\nL 63.375 71.1875 \r\nL 63.375 64.796875 \r\nz\r\nM 67.28125 24.125 \r\nQ 61.140625 22.90625 50.6875 22.90625 \r\nL 10.109375 22.90625 \r\nL 10.109375 29.296875 \r\nL 22.90625 29.296875 \r\nL 21.78125 59.421875 \r\nL 28.90625 59.421875 \r\nL 29.78125 29.296875 \r\nL 45.3125 29.296875 \r\nL 46.1875 59.421875 \r\nL 53.328125 59.421875 \r\nL 52.09375 29.390625 \r\nQ 61.328125 29.390625 66.796875 30.421875 \r\nz\r\nM 26.125 -14.015625 \r\nL 26.125 14.40625 \r\nL 33.40625 14.40625 \r\nL 33.40625 -7.625 \r\nL 87.109375 -7.625 \r\nL 87.109375 -14.015625 \r\nz\r\n\" id=\"MalgunGothicRegular-54200\"/>\r\n       <path d=\"M 78.328125 -17.09375 \r\nL 78.328125 77.09375 \r\nL 85.59375 77.09375 \r\nL 85.59375 -17.09375 \r\nz\r\nM 38.28125 25 \r\nQ 27.734375 25 20.546875 31.390625 \r\nQ 13.375 37.796875 13.375 47.515625 \r\nQ 13.375 57.03125 20.5 63.46875 \r\nQ 27.640625 69.921875 38.28125 69.921875 \r\nQ 48.875 69.921875 56.03125 63.421875 \r\nQ 63.1875 56.9375 63.1875 47.515625 \r\nQ 63.1875 37.75 56.046875 31.375 \r\nQ 48.921875 25 38.28125 25 \r\nz\r\nM 38.28125 63.484375 \r\nQ 30.859375 63.484375 25.875 58.984375 \r\nQ 20.90625 54.5 20.90625 47.515625 \r\nQ 20.90625 40.4375 26 35.96875 \r\nQ 31.109375 31.5 38.28125 31.5 \r\nQ 45.65625 31.5 50.6875 35.96875 \r\nQ 55.71875 40.4375 55.71875 47.515625 \r\nQ 55.71875 54.59375 50.734375 59.03125 \r\nQ 45.75 63.484375 38.28125 63.484375 \r\nz\r\nM 7.171875 0 \r\nL 6.5 6.296875 \r\nQ 19.09375 6.296875 41.671875 6.78125 \r\nQ 64.265625 7.28125 71.6875 7.90625 \r\nL 72.125 1.609375 \r\nQ 64.453125 0.984375 41.859375 0.484375 \r\nQ 19.28125 0 7.171875 0 \r\nz\r\n\" id=\"MalgunGothicRegular-51032\"/>\r\n       <path d=\"M 76.3125 24.703125 \r\nL 76.3125 49.125 \r\nL 53.8125 49.125 \r\nL 53.8125 55.71875 \r\nL 76.3125 55.71875 \r\nL 76.3125 77.09375 \r\nL 83.59375 77.09375 \r\nL 83.59375 24.703125 \r\nz\r\nM 57.078125 28.078125 \r\nQ 50.6875 31.546875 44.234375 37.796875 \r\nQ 37.796875 44.046875 35.203125 49.515625 \r\nQ 32.421875 43.3125 25.921875 36.34375 \r\nQ 19.4375 29.390625 12.796875 25.6875 \r\nL 7.625 30.71875 \r\nQ 17.71875 35.546875 24.546875 44.71875 \r\nQ 31.390625 53.90625 31.390625 64.015625 \r\nL 31.390625 66.40625 \r\nL 10.6875 66.40625 \r\nL 10.6875 72.90625 \r\nL 59.1875 72.90625 \r\nL 59.1875 66.40625 \r\nL 38.484375 66.40625 \r\nL 38.484375 64.015625 \r\nQ 38.484375 54.59375 45.5625 45.953125 \r\nQ 52.640625 37.3125 62.015625 33.40625 \r\nz\r\nM 25.390625 -14.5 \r\nL 25.390625 19.28125 \r\nL 83.59375 19.28125 \r\nL 83.59375 -14.5 \r\nz\r\nM 76.421875 12.890625 \r\nL 32.625 12.890625 \r\nL 32.625 -8.109375 \r\nL 76.421875 -8.109375 \r\nz\r\n\" id=\"MalgunGothicRegular-51216\"/>\r\n      </defs>\r\n      <g transform=\"translate(269.764063 195.464375)scale(0.1 -0.1)\">\r\n       <use xlink:href=\"#MalgunGothicRegular-54200\"/>\r\n       <use x=\"100\" xlink:href=\"#MalgunGothicRegular-51032\"/>\r\n       <use x=\"200\" xlink:href=\"#MalgunGothicRegular-51216\"/>\r\n      </g>\r\n     </g>\r\n    </g>\r\n    <g id=\"xtick_6\">\r\n     <g id=\"line2d_6\">\r\n      <g>\r\n       <use style=\"stroke:#000000;stroke-width:0.8;\" x=\"340.564062\" xlink:href=\"#m6692977550\" y=\"180.872187\"/>\r\n      </g>\r\n     </g>\r\n     <g id=\"text_6\">\r\n      <!-- 서양음식 -->\r\n      <defs>\r\n       <path d=\"M 77.296875 -17.09375 \r\nL 77.296875 39.703125 \r\nL 55.328125 39.703125 \r\nL 55.328125 46.1875 \r\nL 77.296875 46.1875 \r\nL 77.296875 77.09375 \r\nL 84.625 77.09375 \r\nL 84.625 -17.09375 \r\nz\r\nM 58.984375 6.78125 \r\nQ 51.078125 12.84375 44.15625 22 \r\nQ 37.25 31.15625 35.40625 37.796875 \r\nQ 33.15625 30.171875 26.46875 20.9375 \r\nQ 19.78125 11.71875 11.921875 5.609375 \r\nL 6.296875 10.5 \r\nQ 17.921875 18.3125 24.796875 30.4375 \r\nQ 31.6875 42.578125 31.6875 55.171875 \r\nL 31.6875 70.609375 \r\nL 38.921875 70.609375 \r\nL 38.921875 55.515625 \r\nQ 38.921875 43.3125 45.734375 31.640625 \r\nQ 52.546875 19.96875 64.109375 12.5 \r\nz\r\n\" id=\"MalgunGothicRegular-49436\"/>\r\n       <path d=\"M 80.078125 35.59375 \r\nL 80.078125 22.703125 \r\nL 72.796875 22.703125 \r\nL 72.796875 77.09375 \r\nL 80.078125 77.09375 \r\nL 80.078125 63.09375 \r\nL 94.28125 63.09375 \r\nL 94.28125 56.6875 \r\nL 80.078125 56.6875 \r\nL 80.078125 42 \r\nL 94.28125 42 \r\nL 94.28125 35.59375 \r\nz\r\nM 33.59375 29.203125 \r\nQ 23.046875 29.203125 16.375 35.625 \r\nQ 9.71875 42.046875 9.71875 51.8125 \r\nQ 9.71875 61.53125 16.328125 67.921875 \r\nQ 22.953125 74.3125 33.59375 74.3125 \r\nQ 44.234375 74.3125 50.921875 67.9375 \r\nQ 57.625 61.578125 57.625 51.8125 \r\nQ 57.625 41.9375 50.90625 35.5625 \r\nQ 44.1875 29.203125 33.59375 29.203125 \r\nz\r\nM 33.59375 68.109375 \r\nQ 26.171875 68.109375 21.578125 63.546875 \r\nQ 17 58.984375 17 51.8125 \r\nQ 17 44.53125 21.578125 39.96875 \r\nQ 26.171875 35.40625 33.59375 35.40625 \r\nQ 41.0625 35.40625 45.671875 39.984375 \r\nQ 50.296875 44.578125 50.296875 51.8125 \r\nQ 50.296875 58.890625 45.671875 63.5 \r\nQ 41.0625 68.109375 33.59375 68.109375 \r\nz\r\nM 51.125 -16.015625 \r\nQ 36.46875 -16.015625 28.625 -10.953125 \r\nQ 20.796875 -5.90625 20.796875 2.6875 \r\nQ 20.796875 11.234375 28.609375 16.265625 \r\nQ 36.421875 21.296875 51.125 21.296875 \r\nQ 65.96875 21.296875 73.734375 16.265625 \r\nQ 81.5 11.234375 81.5 2.6875 \r\nQ 81.5 -5.859375 73.703125 -10.9375 \r\nQ 65.921875 -16.015625 51.125 -16.015625 \r\nz\r\nM 51.125 15.09375 \r\nQ 40.140625 15.09375 34.375 11.75 \r\nQ 28.609375 8.40625 28.609375 2.6875 \r\nQ 28.609375 -3.078125 34.34375 -6.4375 \r\nQ 40.09375 -9.8125 51.125 -9.8125 \r\nQ 62.203125 -9.8125 67.984375 -6.421875 \r\nQ 73.78125 -3.03125 73.78125 2.6875 \r\nQ 73.78125 8.34375 67.96875 11.71875 \r\nQ 62.15625 15.09375 51.125 15.09375 \r\nz\r\n\" id=\"MalgunGothicRegular-50577\"/>\r\n       <path d=\"M 50 40.1875 \r\nQ 35.796875 40.1875 28.09375 45.234375 \r\nQ 20.40625 50.296875 20.40625 58.40625 \r\nQ 20.40625 66.5 28.09375 71.546875 \r\nQ 35.796875 76.609375 50 76.609375 \r\nQ 64.203125 76.609375 71.890625 71.546875 \r\nQ 79.59375 66.5 79.59375 58.40625 \r\nQ 79.59375 50.296875 71.890625 45.234375 \r\nQ 64.203125 40.1875 50 40.1875 \r\nz\r\nM 50 70.40625 \r\nQ 39.453125 70.40625 33.765625 67.1875 \r\nQ 28.078125 63.96875 28.078125 58.40625 \r\nQ 28.078125 52.828125 33.765625 49.609375 \r\nQ 39.453125 46.390625 50 46.390625 \r\nQ 60.546875 46.390625 66.234375 49.609375 \r\nQ 71.921875 52.828125 71.921875 58.40625 \r\nQ 71.921875 63.96875 66.234375 67.1875 \r\nQ 60.546875 70.40625 50 70.40625 \r\nz\r\nM 6.296875 25.6875 \r\nL 6.296875 32.171875 \r\nL 93.703125 32.171875 \r\nL 93.703125 25.6875 \r\nz\r\nM 20.703125 -14.3125 \r\nL 20.703125 17.09375 \r\nL 79.296875 17.09375 \r\nL 79.296875 -14.3125 \r\nz\r\nM 72.015625 10.59375 \r\nL 27.984375 10.59375 \r\nL 27.984375 -7.8125 \r\nL 72.015625 -7.8125 \r\nz\r\n\" id=\"MalgunGothicRegular-51020\"/>\r\n      </defs>\r\n      <g transform=\"translate(320.564062 195.464375)scale(0.1 -0.1)\">\r\n       <use xlink:href=\"#MalgunGothicRegular-49436\"/>\r\n       <use x=\"100\" xlink:href=\"#MalgunGothicRegular-50577\"/>\r\n       <use x=\"200\" xlink:href=\"#MalgunGothicRegular-51020\"/>\r\n       <use x=\"300\" xlink:href=\"#MalgunGothicRegular-49885\"/>\r\n      </g>\r\n     </g>\r\n    </g>\r\n    <g id=\"xtick_7\">\r\n     <g id=\"line2d_7\">\r\n      <g>\r\n       <use style=\"stroke:#000000;stroke-width:0.8;\" x=\"396.364063\" xlink:href=\"#m6692977550\" y=\"180.872187\"/>\r\n      </g>\r\n     </g>\r\n     <g id=\"text_7\">\r\n      <!-- 유아원 -->\r\n      <defs>\r\n       <path d=\"M 79.59375 32.328125 \r\nL 79.59375 -17.09375 \r\nL 72.3125 -17.09375 \r\nL 72.3125 77.09375 \r\nL 79.59375 77.09375 \r\nL 79.59375 38.921875 \r\nL 95.515625 38.921875 \r\nL 95.515625 32.328125 \r\nz\r\nM 34.28125 6.78125 \r\nQ 23.578125 6.78125 16.984375 15.328125 \r\nQ 10.40625 23.875 10.40625 38.8125 \r\nQ 10.40625 53.90625 16.921875 62.34375 \r\nQ 23.4375 70.796875 34.28125 70.796875 \r\nQ 45.171875 70.796875 51.6875 62.21875 \r\nQ 58.203125 53.65625 58.203125 38.8125 \r\nQ 58.203125 23.921875 51.65625 15.34375 \r\nQ 45.125 6.78125 34.28125 6.78125 \r\nz\r\nM 34.28125 64.3125 \r\nQ 26.8125 64.3125 22.1875 57.453125 \r\nQ 17.578125 50.59375 17.578125 38.8125 \r\nQ 17.578125 27.25 22.234375 20.265625 \r\nQ 26.90625 13.28125 34.28125 13.28125 \r\nQ 41.609375 13.28125 46.296875 20.3125 \r\nQ 50.984375 27.34375 50.984375 38.8125 \r\nQ 50.984375 50.53125 46.390625 57.421875 \r\nQ 41.796875 64.3125 34.28125 64.3125 \r\nz\r\n\" id=\"MalgunGothicRegular-50500\"/>\r\n       <path d=\"M 77.78125 2.59375 \r\nL 77.78125 12.703125 \r\nL 57.171875 12.703125 \r\nL 57.171875 19.1875 \r\nL 77.78125 19.1875 \r\nL 77.78125 77.09375 \r\nL 85.203125 77.09375 \r\nL 85.203125 2.59375 \r\nz\r\nM 41.015625 39.5 \r\nQ 30.71875 39.5 24.1875 44.671875 \r\nQ 17.671875 49.859375 17.671875 57.515625 \r\nQ 17.671875 65.09375 24.140625 70.234375 \r\nQ 30.609375 75.390625 41.015625 75.390625 \r\nQ 51.375 75.390625 57.84375 70.28125 \r\nQ 64.3125 65.1875 64.3125 57.515625 \r\nQ 64.3125 49.8125 57.8125 44.65625 \r\nQ 51.3125 39.5 41.015625 39.5 \r\nz\r\nM 41.015625 69.1875 \r\nQ 33.796875 69.1875 29.390625 65.671875 \r\nQ 25 62.15625 25 57.515625 \r\nQ 25 52.78125 29.390625 49.234375 \r\nQ 33.796875 45.703125 41.015625 45.703125 \r\nQ 48.25 45.703125 52.65625 49.234375 \r\nQ 57.078125 52.78125 57.078125 57.515625 \r\nQ 57.078125 62.15625 52.65625 65.671875 \r\nQ 48.25 69.1875 41.015625 69.1875 \r\nz\r\nM 71.1875 27.484375 \r\nQ 64.0625 27 45.015625 26.21875 \r\nL 45.015625 5.90625 \r\nL 37.796875 5.90625 \r\nL 37.796875 25.875 \r\nQ 18.890625 25.203125 10.015625 25.203125 \r\nL 8.984375 31.984375 \r\nQ 44.578125 31.984375 70.703125 33.796875 \r\nz\r\nM 23.578125 -14.59375 \r\nL 23.578125 13.625 \r\nL 30.90625 13.625 \r\nL 30.90625 -8.109375 \r\nL 87.5 -8.109375 \r\nL 87.5 -14.59375 \r\nz\r\n\" id=\"MalgunGothicRegular-50896\"/>\r\n      </defs>\r\n      <g transform=\"translate(381.364063 195.464375)scale(0.1 -0.1)\">\r\n       <use xlink:href=\"#MalgunGothicRegular-50976\"/>\r\n       <use x=\"100\" xlink:href=\"#MalgunGothicRegular-50500\"/>\r\n       <use x=\"200\" xlink:href=\"#MalgunGothicRegular-50896\"/>\r\n      </g>\r\n     </g>\r\n    </g>\r\n    <g id=\"xtick_8\">\r\n     <g id=\"line2d_8\">\r\n      <g>\r\n       <use style=\"stroke:#000000;stroke-width:0.8;\" x=\"452.164062\" xlink:href=\"#m6692977550\" y=\"180.872187\"/>\r\n      </g>\r\n     </g>\r\n     <g id=\"text_8\">\r\n      <!-- 제과점 -->\r\n      <defs>\r\n       <path d=\"M 78.71875 -17.09375 \r\nL 78.71875 77.09375 \r\nL 85.984375 77.09375 \r\nL 85.984375 -17.09375 \r\nz\r\nM 61.625 -14.203125 \r\nL 61.625 38.1875 \r\nL 45.21875 38.1875 \r\nL 45.21875 44.671875 \r\nL 61.625 44.671875 \r\nL 61.625 75.203125 \r\nL 68.796875 75.203125 \r\nL 68.796875 -14.203125 \r\nz\r\nM 48.6875 4.984375 \r\nQ 36.03125 17.4375 31 34.421875 \r\nQ 29.390625 27.484375 23.890625 18.59375 \r\nQ 18.40625 9.71875 12.109375 3.71875 \r\nL 6.390625 8.296875 \r\nQ 14.703125 14.15625 21.09375 26.828125 \r\nQ 27.484375 39.5 27.484375 51.609375 \r\nL 27.484375 62.40625 \r\nL 9.90625 62.40625 \r\nL 9.90625 68.890625 \r\nL 52.484375 68.890625 \r\nL 52.484375 62.40625 \r\nL 34.71875 62.40625 \r\nL 34.71875 51.515625 \r\nQ 34.71875 39.75 40.453125 28.078125 \r\nQ 46.1875 16.40625 54.203125 9.71875 \r\nz\r\n\" id=\"MalgunGothicRegular-51228\"/>\r\n       <path d=\"M 96.6875 33.296875 \r\nL 81.296875 33.296875 \r\nL 81.296875 -17.09375 \r\nL 73.875 -17.09375 \r\nL 73.875 77.09375 \r\nL 81.203125 77.09375 \r\nL 81.203125 39.796875 \r\nL 96.6875 39.796875 \r\nz\r\nM 59.8125 68.21875 \r\nQ 59.8125 40.828125 58.015625 19.828125 \r\nL 50.875 20.3125 \r\nQ 51.46875 25.484375 51.96875 39.765625 \r\nQ 52.484375 54.046875 52.484375 61.71875 \r\nL 12.5 61.71875 \r\nL 12.5 68.21875 \r\nz\r\nM 67.484375 2.09375 \r\nQ 42 0.6875 4.390625 0.6875 \r\nL 3.71875 7.078125 \r\nQ 8.734375 7.078125 27.296875 7.328125 \r\nL 27.296875 39.890625 \r\nL 34.625 39.890625 \r\nL 34.625 7.421875 \r\nL 67 8.40625 \r\nz\r\n\" id=\"MalgunGothicRegular-44284\"/>\r\n      </defs>\r\n      <g transform=\"translate(437.164062 195.464375)scale(0.1 -0.1)\">\r\n       <use xlink:href=\"#MalgunGothicRegular-51228\"/>\r\n       <use x=\"100\" xlink:href=\"#MalgunGothicRegular-44284\"/>\r\n       <use x=\"200\" xlink:href=\"#MalgunGothicRegular-51216\"/>\r\n      </g>\r\n     </g>\r\n    </g>\r\n    <g id=\"xtick_9\">\r\n     <g id=\"line2d_9\">\r\n      <g>\r\n       <use style=\"stroke:#000000;stroke-width:0.8;\" x=\"507.964063\" xlink:href=\"#m6692977550\" y=\"180.872187\"/>\r\n      </g>\r\n     </g>\r\n     <g id=\"text_9\">\r\n      <!-- 유흥주점 -->\r\n      <defs>\r\n       <path d=\"M 14.59375 62.890625 \r\nL 14.59375 69.28125 \r\nL 46.390625 69.28125 \r\nL 46.390625 78.078125 \r\nL 53.609375 78.078125 \r\nL 53.609375 69.28125 \r\nL 85.40625 69.28125 \r\nL 85.40625 62.890625 \r\nz\r\nM 50 30.90625 \r\nQ 35.015625 30.90625 27.296875 34.71875 \r\nQ 19.578125 38.53125 19.578125 45.21875 \r\nQ 19.578125 51.8125 27.3125 55.65625 \r\nQ 35.0625 59.515625 50 59.515625 \r\nQ 64.890625 59.515625 72.609375 55.65625 \r\nQ 80.328125 51.8125 80.328125 45.21875 \r\nQ 80.328125 38.421875 72.609375 34.65625 \r\nQ 64.890625 30.90625 50 30.90625 \r\nz\r\nM 50 53.328125 \r\nQ 39.015625 53.328125 33.15625 51.046875 \r\nQ 27.296875 48.78125 27.296875 45.21875 \r\nQ 27.296875 41.609375 33.078125 39.359375 \r\nQ 38.875 37.109375 50 37.109375 \r\nQ 61.140625 37.109375 66.921875 39.375 \r\nQ 72.703125 41.65625 72.703125 45.21875 \r\nQ 72.703125 48.78125 66.859375 51.046875 \r\nQ 61.03125 53.328125 50 53.328125 \r\nz\r\nM 6.296875 18.890625 \r\nL 6.296875 25.203125 \r\nL 93.703125 25.203125 \r\nL 93.703125 18.890625 \r\nz\r\nM 50 -17.484375 \r\nQ 34.765625 -17.484375 26.734375 -13.546875 \r\nQ 18.703125 -9.625 18.703125 -2.09375 \r\nQ 18.703125 5.46875 26.703125 9.421875 \r\nQ 34.71875 13.375 50 13.375 \r\nQ 65.28125 13.375 73.28125 9.421875 \r\nQ 81.296875 5.46875 81.296875 -2.09375 \r\nQ 81.296875 -9.625 73.265625 -13.546875 \r\nQ 65.234375 -17.484375 50 -17.484375 \r\nz\r\nM 50 7.171875 \r\nQ 26.421875 7.171875 26.421875 -2.09375 \r\nQ 26.421875 -11.28125 50 -11.28125 \r\nQ 73.578125 -11.28125 73.578125 -2.09375 \r\nQ 73.578125 7.171875 50 7.171875 \r\nz\r\n\" id=\"MalgunGothicRegular-55141\"/>\r\n      </defs>\r\n      <g transform=\"translate(487.964063 195.464375)scale(0.1 -0.1)\">\r\n       <use xlink:href=\"#MalgunGothicRegular-50976\"/>\r\n       <use x=\"100\" xlink:href=\"#MalgunGothicRegular-55141\"/>\r\n       <use x=\"200\" xlink:href=\"#MalgunGothicRegular-51452\"/>\r\n       <use x=\"300\" xlink:href=\"#MalgunGothicRegular-51216\"/>\r\n      </g>\r\n     </g>\r\n    </g>\r\n    <g id=\"xtick_10\">\r\n     <g id=\"line2d_10\">\r\n      <g>\r\n       <use style=\"stroke:#000000;stroke-width:0.8;\" x=\"563.764063\" xlink:href=\"#m6692977550\" y=\"180.872187\"/>\r\n      </g>\r\n     </g>\r\n     <g id=\"text_10\">\r\n      <!-- 기타농업관련 -->\r\n      <defs>\r\n       <path d=\"M 76.3125 -17.09375 \r\nL 76.3125 77.09375 \r\nL 83.59375 77.09375 \r\nL 83.59375 -17.09375 \r\nz\r\nM 57.421875 68.40625 \r\nQ 57.078125 48.828125 46.1875 32.484375 \r\nQ 35.296875 16.15625 14.984375 4.890625 \r\nL 9.421875 10.796875 \r\nQ 24.359375 17 35.828125 30.421875 \r\nQ 47.3125 43.84375 49.609375 61.921875 \r\nL 13.28125 61.921875 \r\nL 13.28125 68.40625 \r\nz\r\n\" id=\"MalgunGothicRegular-44592\"/>\r\n       <path d=\"M 79.59375 33.6875 \r\nL 79.59375 -17.09375 \r\nL 72.3125 -17.09375 \r\nL 72.3125 77.09375 \r\nL 79.59375 77.09375 \r\nL 79.59375 40.28125 \r\nL 95.515625 40.28125 \r\nL 95.515625 33.6875 \r\nz\r\nM 20.40625 35.890625 \r\nL 20.40625 14.59375 \r\nL 24.859375 14.59375 \r\nQ 53.953125 14.59375 62.703125 15.921875 \r\nL 63.28125 9.625 \r\nQ 55.375 8.6875 46.140625 8.4375 \r\nQ 36.921875 8.203125 13.09375 8.203125 \r\nL 13.09375 68.796875 \r\nL 57.078125 68.796875 \r\nL 57.078125 62.3125 \r\nL 20.40625 62.3125 \r\nL 20.40625 42.28125 \r\nL 54.59375 42.28125 \r\nL 54.59375 35.890625 \r\nz\r\n\" id=\"MalgunGothicRegular-53440\"/>\r\n       <path d=\"M 61.375 50.203125 \r\nQ 60.109375 41.40625 53.46875 36.109375 \r\nQ 46.828125 30.8125 37.5 30.8125 \r\nQ 27.09375 30.8125 20.40625 37.296875 \r\nQ 13.71875 43.796875 13.71875 53.421875 \r\nQ 13.71875 62.9375 20.359375 69.453125 \r\nQ 27 75.984375 37.5 75.984375 \r\nQ 46.78125 75.984375 53.421875 70.671875 \r\nQ 60.0625 65.375 61.28125 56.6875 \r\nL 77.484375 56.6875 \r\nL 77.484375 77 \r\nL 84.8125 77 \r\nL 84.8125 29.6875 \r\nL 77.484375 29.6875 \r\nL 77.484375 50.203125 \r\nz\r\nM 37.5 69.671875 \r\nQ 30.125 69.671875 25.515625 65.078125 \r\nQ 20.90625 60.5 20.90625 53.421875 \r\nQ 20.90625 46.1875 25.46875 41.59375 \r\nQ 30.03125 37.015625 37.5 37.015625 \r\nQ 45.0625 37.015625 49.625 41.59375 \r\nQ 54.203125 46.1875 54.203125 53.421875 \r\nQ 54.203125 60.5 49.578125 65.078125 \r\nQ 44.96875 69.671875 37.5 69.671875 \r\nz\r\nM 26.703125 -14.890625 \r\nL 26.703125 24.515625 \r\nL 33.890625 24.515625 \r\nL 33.890625 10.203125 \r\nL 77.59375 10.203125 \r\nL 77.59375 24.515625 \r\nL 84.8125 24.515625 \r\nL 84.8125 -14.890625 \r\nz\r\nM 77.59375 3.8125 \r\nL 33.890625 3.8125 \r\nL 33.890625 -8.40625 \r\nL 77.59375 -8.40625 \r\nz\r\n\" id=\"MalgunGothicRegular-50629\"/>\r\n       <path d=\"M 81.109375 35.6875 \r\nL 81.109375 6.890625 \r\nL 73.78125 6.890625 \r\nL 73.78125 77.09375 \r\nL 81.109375 77.09375 \r\nL 81.109375 42.28125 \r\nL 95.21875 42.28125 \r\nL 95.21875 35.6875 \r\nz\r\nM 60.5 70.703125 \r\nQ 60.5 51.515625 58.984375 37.796875 \r\nL 51.90625 38.28125 \r\nQ 53.21875 51.421875 53.21875 64.203125 \r\nL 13.625 64.203125 \r\nL 13.625 70.703125 \r\nz\r\nM 66.890625 24.03125 \r\nQ 60.296875 23.484375 39.078125 22.9375 \r\nQ 17.875 22.40625 6.390625 22.40625 \r\nL 5.71875 28.90625 \r\nQ 18.21875 28.90625 28.90625 29.203125 \r\nL 28.90625 50.09375 \r\nL 36.1875 50.09375 \r\nL 36.1875 29.296875 \r\nQ 54.390625 29.546875 66.5 30.328125 \r\nz\r\nM 22.3125 -13.921875 \r\nL 22.3125 13.28125 \r\nL 29.59375 13.28125 \r\nL 29.59375 -7.421875 \r\nL 83.59375 -7.421875 \r\nL 83.59375 -13.921875 \r\nz\r\n\" id=\"MalgunGothicRegular-44288\"/>\r\n       <path d=\"M 59.90625 35.6875 \r\nL 59.90625 42.09375 \r\nL 77.296875 42.09375 \r\nL 77.296875 55.421875 \r\nL 60.109375 55.421875 \r\nL 60.109375 61.71875 \r\nL 77.296875 61.71875 \r\nL 77.296875 77.09375 \r\nL 84.625 77.09375 \r\nL 84.625 8.296875 \r\nL 77.296875 8.296875 \r\nL 77.296875 35.6875 \r\nz\r\nM 59.8125 23.875 \r\nQ 52.6875 22.703125 45.3125 22.40625 \r\nQ 37.9375 22.125 15.484375 22.125 \r\nL 15.484375 51.125 \r\nL 47.015625 51.125 \r\nL 47.015625 65.578125 \r\nL 15.484375 65.578125 \r\nL 15.484375 72.015625 \r\nL 54.296875 72.015625 \r\nL 54.296875 44.828125 \r\nL 22.796875 44.828125 \r\nL 22.796875 28.515625 \r\nL 34.078125 28.515625 \r\nQ 50.390625 28.515625 58.796875 30.078125 \r\nz\r\nM 26.609375 -14.015625 \r\nL 26.609375 14.40625 \r\nL 33.984375 14.40625 \r\nL 33.984375 -7.421875 \r\nL 87.109375 -7.421875 \r\nL 87.109375 -14.015625 \r\nz\r\n\" id=\"MalgunGothicRegular-47144\"/>\r\n      </defs>\r\n      <g transform=\"translate(533.764063 195.464375)scale(0.1 -0.1)\">\r\n       <use xlink:href=\"#MalgunGothicRegular-44592\"/>\r\n       <use x=\"100\" xlink:href=\"#MalgunGothicRegular-53440\"/>\r\n       <use x=\"200\" xlink:href=\"#MalgunGothicRegular-45453\"/>\r\n       <use x=\"300\" xlink:href=\"#MalgunGothicRegular-50629\"/>\r\n       <use x=\"400\" xlink:href=\"#MalgunGothicRegular-44288\"/>\r\n       <use x=\"500\" xlink:href=\"#MalgunGothicRegular-47144\"/>\r\n      </g>\r\n     </g>\r\n    </g>\r\n    <g id=\"text_11\">\r\n     <!-- Type -->\r\n     <defs>\r\n      <path d=\"M 51.46875 64.59375 \r\nL 30.71875 64.59375 \r\nL 30.71875 0 \r\nL 22.75 0 \r\nL 22.75 64.59375 \r\nL 2.09375 64.59375 \r\nL 2.09375 71.875 \r\nL 51.46875 71.875 \r\nz\r\n\" id=\"MalgunGothicRegular-84\"/>\r\n      <path d=\"M 48.734375 51.3125 \r\nL 24.953125 -8.5 \r\nQ 18.703125 -24.171875 7.515625 -24.171875 \r\nQ 4.890625 -24.171875 2.4375 -23.578125 \r\nL 2.4375 -16.5 \r\nQ 4.9375 -17.328125 7.171875 -17.328125 \r\nQ 13.421875 -17.328125 16.546875 -9.8125 \r\nL 20.75 0.09375 \r\nL 0.734375 51.3125 \r\nL 9.328125 51.3125 \r\nL 23.484375 11.28125 \r\nQ 23.640625 10.890625 24.5625 7.625 \r\nL 24.8125 7.625 \r\nL 25.78125 11.1875 \r\nL 40.671875 51.3125 \r\nz\r\n\" id=\"MalgunGothicRegular-121\"/>\r\n      <path d=\"M 16.15625 7.515625 \r\nL 16.15625 -23.640625 \r\nL 8.40625 -23.640625 \r\nL 8.40625 51.3125 \r\nL 16.15625 51.3125 \r\nL 16.15625 42.234375 \r\nL 16.359375 42.234375 \r\nQ 22.46875 52.484375 34.125 52.484375 \r\nQ 43.890625 52.484375 49.546875 45.625 \r\nQ 55.21875 38.765625 55.21875 27.15625 \r\nQ 55.21875 14.15625 48.84375 6.46875 \r\nQ 42.484375 -1.21875 31.78125 -1.21875 \r\nQ 21.78125 -1.21875 16.359375 7.515625 \r\nz\r\nM 16.15625 20.796875 \r\nQ 16.15625 14.40625 20.421875 9.890625 \r\nQ 24.703125 5.375 31.109375 5.375 \r\nQ 38.671875 5.375 42.984375 11.1875 \r\nQ 47.3125 17 47.3125 27.390625 \r\nQ 47.3125 35.9375 43.234375 40.9375 \r\nQ 39.15625 45.953125 32.375 45.953125 \r\nQ 25.296875 45.953125 20.71875 40.921875 \r\nQ 16.15625 35.890625 16.15625 28.21875 \r\nz\r\n\" id=\"MalgunGothicRegular-112\"/>\r\n      <path d=\"M 49.3125 23.734375 \r\nL 12.9375 23.734375 \r\nQ 13.1875 14.84375 17.703125 10.125 \r\nQ 22.21875 5.421875 29.828125 5.421875 \r\nQ 38.625 5.421875 45.84375 11.234375 \r\nL 45.84375 3.8125 \r\nQ 38.96875 -1.21875 28.03125 -1.21875 \r\nQ 17.1875 -1.21875 11.0625 5.875 \r\nQ 4.9375 12.984375 4.9375 25.53125 \r\nQ 4.9375 37.203125 11.671875 44.84375 \r\nQ 18.40625 52.484375 28.375 52.484375 \r\nQ 38.328125 52.484375 43.8125 45.96875 \r\nQ 49.3125 39.453125 49.3125 27.9375 \r\nz\r\nM 41.3125 30.5625 \r\nQ 41.3125 37.75 37.859375 41.796875 \r\nQ 34.421875 45.84375 28.265625 45.84375 \r\nQ 22.46875 45.84375 18.265625 41.671875 \r\nQ 14.0625 37.5 13.03125 30.5625 \r\nz\r\n\" id=\"MalgunGothicRegular-101\"/>\r\n     </defs>\r\n     <g transform=\"translate(302.153125 209.3675)scale(0.1 -0.1)\">\r\n      <use xlink:href=\"#MalgunGothicRegular-84\"/>\r\n      <use x=\"47.369141\" xlink:href=\"#MalgunGothicRegular-121\"/>\r\n      <use x=\"96.636719\" xlink:href=\"#MalgunGothicRegular-112\"/>\r\n      <use x=\"156.695312\" xlink:href=\"#MalgunGothicRegular-101\"/>\r\n     </g>\r\n    </g>\r\n   </g>\r\n   <g id=\"matplotlib.axis_2\">\r\n    <g id=\"ytick_1\">\r\n     <g id=\"line2d_11\">\r\n      <defs>\r\n       <path d=\"M 0 0 \r\nL -3.5 0 \r\n\" id=\"mcebcca8e63\" style=\"stroke:#000000;stroke-width:0.8;\"/>\r\n      </defs>\r\n      <g>\r\n       <use style=\"stroke:#000000;stroke-width:0.8;\" x=\"33.664062\" xlink:href=\"#mcebcca8e63\" y=\"180.872187\"/>\r\n      </g>\r\n     </g>\r\n     <g id=\"text_12\">\r\n      <!-- 0 -->\r\n      <defs>\r\n       <path d=\"M 4.34375 34.46875 \r\nQ 4.34375 53.515625 10.546875 63.28125 \r\nQ 16.75 73.046875 28.421875 73.046875 \r\nQ 50.828125 73.046875 50.828125 36.234375 \r\nQ 50.828125 18.0625 44.59375 8.421875 \r\nQ 38.375 -1.21875 26.8125 -1.21875 \r\nQ 15.875 -1.21875 10.109375 8.125 \r\nQ 4.34375 17.484375 4.34375 34.46875 \r\nz\r\nM 12.25 34.859375 \r\nQ 12.25 5.375 27.640625 5.375 \r\nQ 42.921875 5.375 42.921875 35.296875 \r\nQ 42.921875 66.40625 28.03125 66.40625 \r\nQ 12.25 66.40625 12.25 34.859375 \r\nz\r\n\" id=\"MalgunGothicRegular-48\"/>\r\n      </defs>\r\n      <g transform=\"translate(21.15625 184.668281)scale(0.1 -0.1)\">\r\n       <use xlink:href=\"#MalgunGothicRegular-48\"/>\r\n      </g>\r\n     </g>\r\n    </g>\r\n    <g id=\"ytick_2\">\r\n     <g id=\"line2d_12\">\r\n      <g>\r\n       <use style=\"stroke:#000000;stroke-width:0.8;\" x=\"33.664062\" xlink:href=\"#mcebcca8e63\" y=\"141.650553\"/>\r\n      </g>\r\n     </g>\r\n     <g id=\"text_13\">\r\n      <!-- 2 -->\r\n      <defs>\r\n       <path d=\"M 47.796875 0 \r\nL 4.78125 0 \r\nL 4.78125 6.984375 \r\nL 25.6875 28.078125 \r\nQ 35.984375 38.484375 38.421875 43.234375 \r\nQ 40.875 48 40.875 53.265625 \r\nQ 40.875 59.625 37.25 63.03125 \r\nQ 33.640625 66.453125 26.953125 66.453125 \r\nQ 17.28125 66.453125 8.5 58.15625 \r\nL 8.5 66.40625 \r\nQ 16.75 73.046875 27.984375 73.046875 \r\nQ 37.3125 73.046875 42.875 67.890625 \r\nQ 48.4375 62.75 48.4375 53.953125 \r\nQ 48.4375 47.359375 45.015625 41.015625 \r\nQ 41.609375 34.671875 30.8125 23.78125 \r\nL 14.0625 7.234375 \r\nL 14.0625 7.03125 \r\nL 47.796875 7.03125 \r\nz\r\n\" id=\"MalgunGothicRegular-50\"/>\r\n      </defs>\r\n      <g transform=\"translate(21.15625 145.446647)scale(0.1 -0.1)\">\r\n       <use xlink:href=\"#MalgunGothicRegular-50\"/>\r\n      </g>\r\n     </g>\r\n    </g>\r\n    <g id=\"ytick_3\">\r\n     <g id=\"line2d_13\">\r\n      <g>\r\n       <use style=\"stroke:#000000;stroke-width:0.8;\" x=\"33.664062\" xlink:href=\"#mcebcca8e63\" y=\"102.428919\"/>\r\n      </g>\r\n     </g>\r\n     <g id=\"text_14\">\r\n      <!-- 4 -->\r\n      <defs>\r\n       <path d=\"M 51.515625 19.28125 \r\nL 42.234375 19.28125 \r\nL 42.234375 0 \r\nL 34.578125 0 \r\nL 34.578125 19.28125 \r\nL 0.59375 19.28125 \r\nL 0.59375 24.421875 \r\nL 32.71875 71.875 \r\nL 42.234375 71.875 \r\nL 42.234375 25.6875 \r\nL 51.515625 25.6875 \r\nz\r\nM 34.578125 25.6875 \r\nL 34.578125 57.328125 \r\nQ 34.578125 60.59375 34.765625 64.796875 \r\nL 34.578125 64.796875 \r\nQ 33.9375 63.28125 31.84375 59.28125 \r\nL 9.234375 25.6875 \r\nz\r\n\" id=\"MalgunGothicRegular-52\"/>\r\n      </defs>\r\n      <g transform=\"translate(21.15625 106.225013)scale(0.1 -0.1)\">\r\n       <use xlink:href=\"#MalgunGothicRegular-52\"/>\r\n      </g>\r\n     </g>\r\n    </g>\r\n    <g id=\"ytick_4\">\r\n     <g id=\"line2d_14\">\r\n      <g>\r\n       <use style=\"stroke:#000000;stroke-width:0.8;\" x=\"33.664062\" xlink:href=\"#mcebcca8e63\" y=\"63.207285\"/>\r\n      </g>\r\n     </g>\r\n     <g id=\"text_15\">\r\n      <!-- 6 -->\r\n      <defs>\r\n       <path d=\"M 46.578125 63.578125 \r\nQ 40.921875 66.40625 34.8125 66.40625 \r\nQ 24.859375 66.40625 19.1875 57.640625 \r\nQ 13.53125 48.875 13.578125 34.578125 \r\nL 13.8125 34.578125 \r\nQ 18.796875 44.875 30.28125 44.875 \r\nQ 39.796875 44.875 45.359375 38.71875 \r\nQ 50.921875 32.5625 50.921875 22.65625 \r\nQ 50.921875 12.453125 44.640625 5.609375 \r\nQ 38.375 -1.21875 28.515625 -1.21875 \r\nQ 17.4375 -1.21875 11.5 7.46875 \r\nQ 5.5625 16.15625 5.5625 31.546875 \r\nQ 5.5625 49.703125 13.234375 61.375 \r\nQ 20.90625 73.046875 34.71875 73.046875 \r\nQ 42.1875 73.046875 46.578125 71 \r\nz\r\nM 14.15625 23.53125 \r\nQ 14.15625 15.96875 18.203125 10.671875 \r\nQ 22.265625 5.375 28.8125 5.375 \r\nQ 35.109375 5.375 39.03125 10.078125 \r\nQ 42.96875 14.796875 42.96875 21.6875 \r\nQ 42.96875 29.5 39.203125 33.859375 \r\nQ 35.453125 38.234375 28.71875 38.234375 \r\nQ 22.5625 38.234375 18.359375 33.953125 \r\nQ 14.15625 29.6875 14.15625 23.53125 \r\nz\r\n\" id=\"MalgunGothicRegular-54\"/>\r\n      </defs>\r\n      <g transform=\"translate(21.15625 67.003379)scale(0.1 -0.1)\">\r\n       <use xlink:href=\"#MalgunGothicRegular-54\"/>\r\n      </g>\r\n     </g>\r\n    </g>\r\n    <g id=\"ytick_5\">\r\n     <g id=\"line2d_15\">\r\n      <g>\r\n       <use style=\"stroke:#000000;stroke-width:0.8;\" x=\"33.664062\" xlink:href=\"#mcebcca8e63\" y=\"23.985651\"/>\r\n      </g>\r\n     </g>\r\n     <g id=\"text_16\">\r\n      <!-- 8 -->\r\n      <defs>\r\n       <path d=\"M 20.703125 37.84375 \r\nQ 7.71875 44 7.71875 55.375 \r\nQ 7.71875 63.328125 13.71875 68.1875 \r\nQ 19.734375 73.046875 28.65625 73.046875 \r\nQ 36.671875 73.046875 42.1875 68.453125 \r\nQ 47.703125 63.875 47.703125 56.5 \r\nQ 47.703125 44.53125 34.328125 37.84375 \r\nL 34.328125 37.640625 \r\nQ 50.046875 31.734375 50.046875 18.171875 \r\nQ 50.046875 8.984375 43.546875 3.875 \r\nQ 37.0625 -1.21875 26.03125 -1.21875 \r\nQ 17 -1.21875 11.03125 4 \r\nQ 5.078125 9.234375 5.078125 17.484375 \r\nQ 5.078125 31.34375 20.703125 37.640625 \r\nz\r\nM 39.65625 55.46875 \r\nQ 39.65625 60.546875 36.46875 63.453125 \r\nQ 33.296875 66.359375 27.875 66.359375 \r\nQ 22.90625 66.359375 19.3125 63.296875 \r\nQ 15.71875 60.25 15.71875 55.671875 \r\nQ 15.71875 46.09375 27.546875 41.265625 \r\nQ 39.65625 46.296875 39.65625 55.46875 \r\nz\r\nM 27 33.890625 \r\nQ 13.03125 28.328125 13.03125 17.875 \r\nQ 13.03125 12.203125 17.1875 8.8125 \r\nQ 21.34375 5.421875 27.828125 5.421875 \r\nQ 34.1875 5.421875 38.15625 8.734375 \r\nQ 42.140625 12.0625 42.140625 17.53125 \r\nQ 42.140625 28.46875 27 33.890625 \r\nz\r\n\" id=\"MalgunGothicRegular-56\"/>\r\n      </defs>\r\n      <g transform=\"translate(21.15625 27.781745)scale(0.1 -0.1)\">\r\n       <use xlink:href=\"#MalgunGothicRegular-56\"/>\r\n      </g>\r\n     </g>\r\n    </g>\r\n    <g id=\"text_17\">\r\n     <!-- TotalSpent -->\r\n     <defs>\r\n      <path d=\"M 4.9375 25 \r\nQ 4.9375 37.796875 11.890625 45.140625 \r\nQ 18.84375 52.484375 30.90625 52.484375 \r\nQ 42.140625 52.484375 48.609375 45.421875 \r\nQ 55.078125 38.375 55.078125 25.78125 \r\nQ 55.078125 13.578125 48.09375 6.171875 \r\nQ 41.109375 -1.21875 29.6875 -1.21875 \r\nQ 18.5 -1.21875 11.71875 6 \r\nQ 4.9375 13.234375 4.9375 25 \r\nz\r\nM 12.796875 25.34375 \r\nQ 12.796875 16.265625 17.546875 10.8125 \r\nQ 22.3125 5.375 30.21875 5.375 \r\nQ 38.421875 5.375 42.796875 10.625 \r\nQ 47.171875 15.875 47.171875 25.53125 \r\nQ 47.171875 35.25 42.765625 40.59375 \r\nQ 38.375 45.953125 30.21875 45.953125 \r\nQ 22.265625 45.953125 17.53125 40.421875 \r\nQ 12.796875 34.90625 12.796875 25.34375 \r\nz\r\n\" id=\"MalgunGothicRegular-111\"/>\r\n      <path d=\"M 31.734375 0.484375 \r\nQ 28.8125 -1.125 24.265625 -1.125 \r\nQ 11.03125 -1.125 11.03125 13.765625 \r\nL 11.03125 44.625 \r\nL 2.15625 44.625 \r\nL 2.15625 51.3125 \r\nL 11.03125 51.3125 \r\nL 11.03125 63.921875 \r\nL 18.75 66.40625 \r\nL 18.75 51.3125 \r\nL 31.734375 51.3125 \r\nL 31.734375 44.625 \r\nL 18.75 44.625 \r\nL 18.75 15.1875 \r\nQ 18.75 9.765625 20.546875 7.609375 \r\nQ 22.359375 5.46875 26.421875 5.46875 \r\nQ 29.5 5.46875 31.734375 7.171875 \r\nz\r\n\" id=\"MalgunGothicRegular-116\"/>\r\n      <path d=\"M 9.625 47.65625 \r\nQ 17.140625 52.484375 26.90625 52.484375 \r\nQ 44.78125 52.484375 44.78125 33.546875 \r\nL 44.78125 0 \r\nL 37.015625 0 \r\nL 37.015625 8.0625 \r\nL 36.71875 8.0625 \r\nQ 31.390625 -1.21875 20.953125 -1.21875 \r\nQ 13.421875 -1.21875 9 2.8125 \r\nQ 4.59375 6.84375 4.59375 13.578125 \r\nQ 4.59375 27.875 21.484375 30.21875 \r\nL 36.96875 32.46875 \r\nQ 36.96875 45.84375 26.3125 45.84375 \r\nQ 16.9375 45.84375 9.625 39.453125 \r\nz\r\nM 24.421875 24.359375 \r\nQ 18.40625 23.578125 15.515625 21.421875 \r\nQ 12.640625 19.28125 12.640625 14.109375 \r\nQ 12.640625 10.203125 15.40625 7.8125 \r\nQ 18.171875 5.421875 22.65625 5.421875 \r\nQ 28.859375 5.421875 32.90625 9.8125 \r\nQ 36.96875 14.203125 36.96875 20.84375 \r\nL 36.96875 26.03125 \r\nz\r\n\" id=\"MalgunGothicRegular-97\"/>\r\n      <path d=\"M 8.453125 0 \r\nL 8.453125 75.921875 \r\nL 16.15625 75.921875 \r\nL 16.15625 0 \r\nz\r\n\" id=\"MalgunGothicRegular-108\"/>\r\n      <path d=\"M 6.15625 12.453125 \r\nQ 9.46875 9.578125 15.0625 7.8125 \r\nQ 20.65625 6.0625 25.390625 6.0625 \r\nQ 41.0625 6.0625 41.0625 17.4375 \r\nQ 41.0625 20.703125 39.421875 23.1875 \r\nQ 37.796875 25.6875 35.15625 27.4375 \r\nQ 32.515625 29.203125 24.171875 33.5 \r\nQ 14.109375 38.671875 10.171875 43.03125 \r\nQ 6.25 47.40625 6.25 54 \r\nQ 6.25 62.796875 13.40625 67.921875 \r\nQ 20.5625 73.046875 31.0625 73.046875 \r\nQ 41.703125 73.046875 46.296875 70.515625 \r\nL 46.296875 61.375 \r\nQ 40.046875 65.71875 30.03125 65.71875 \r\nQ 23.1875 65.71875 18.859375 62.78125 \r\nQ 14.546875 59.859375 14.546875 54.6875 \r\nQ 14.546875 50 17.59375 47.046875 \r\nQ 20.65625 44.09375 30.28125 39.40625 \r\nQ 41.5 33.796875 45.40625 28.8125 \r\nQ 49.3125 23.828125 49.3125 18.015625 \r\nQ 49.3125 8.6875 42.578125 3.734375 \r\nQ 35.84375 -1.21875 23.921875 -1.21875 \r\nQ 20.171875 -1.21875 14.484375 -0.015625 \r\nQ 8.796875 1.171875 6.15625 2.9375 \r\nz\r\n\" id=\"MalgunGothicRegular-83\"/>\r\n      <path d=\"M 50.59375 0 \r\nL 42.828125 0 \r\nL 42.828125 29.296875 \r\nQ 42.828125 45.953125 30.671875 45.953125 \r\nQ 24.421875 45.953125 20.28125 41.234375 \r\nQ 16.15625 36.53125 16.15625 29.25 \r\nL 16.15625 0 \r\nL 8.40625 0 \r\nL 8.40625 51.3125 \r\nL 16.15625 51.3125 \r\nL 16.15625 42.71875 \r\nL 16.359375 42.71875 \r\nQ 22.125 52.484375 33.203125 52.484375 \r\nQ 41.65625 52.484375 46.125 47.0625 \r\nQ 50.59375 41.65625 50.59375 31.34375 \r\nz\r\n\" id=\"MalgunGothicRegular-110\"/>\r\n     </defs>\r\n     <g transform=\"translate(14.792187 123.001719)rotate(-90)scale(0.1 -0.1)\">\r\n      <use xlink:href=\"#MalgunGothicRegular-84\"/>\r\n      <use x=\"42.244141\" xlink:href=\"#MalgunGothicRegular-111\"/>\r\n      <use x=\"102.15625\" xlink:href=\"#MalgunGothicRegular-116\"/>\r\n      <use x=\"136.628906\" xlink:href=\"#MalgunGothicRegular-97\"/>\r\n      <use x=\"188.630859\" xlink:href=\"#MalgunGothicRegular-108\"/>\r\n      <use x=\"213.240234\" xlink:href=\"#MalgunGothicRegular-83\"/>\r\n      <use x=\"267.537109\" xlink:href=\"#MalgunGothicRegular-112\"/>\r\n      <use x=\"327.595703\" xlink:href=\"#MalgunGothicRegular-101\"/>\r\n      <use x=\"381.111328\" xlink:href=\"#MalgunGothicRegular-110\"/>\r\n      <use x=\"438.923828\" xlink:href=\"#MalgunGothicRegular-116\"/>\r\n     </g>\r\n    </g>\r\n    <g id=\"text_18\">\r\n     <!-- 1e8 -->\r\n     <defs>\r\n      <path d=\"M 49.171875 0 \r\nL 8.84375 0 \r\nL 8.84375 6.9375 \r\nL 25.140625 6.9375 \r\nL 25.140625 63.421875 \r\nL 8.40625 58.34375 \r\nL 8.40625 65.828125 \r\nL 32.90625 73.484375 \r\nL 32.90625 6.9375 \r\nL 49.171875 6.9375 \r\nz\r\n\" id=\"MalgunGothicRegular-49\"/>\r\n     </defs>\r\n     <g transform=\"translate(33.664062 14.792187)scale(0.1 -0.1)\">\r\n      <use xlink:href=\"#MalgunGothicRegular-49\"/>\r\n      <use x=\"55.078125\" xlink:href=\"#MalgunGothicRegular-101\"/>\r\n      <use x=\"108.59375\" xlink:href=\"#MalgunGothicRegular-56\"/>\r\n     </g>\r\n    </g>\r\n   </g>\r\n   <g id=\"line2d_16\">\r\n    <path clip-path=\"url(#pa32183359f)\" style=\"fill:none;stroke:#424242;stroke-linecap:square;stroke-width:2.7;\"/>\r\n   </g>\r\n   <g id=\"line2d_17\">\r\n    <path clip-path=\"url(#pa32183359f)\" style=\"fill:none;stroke:#424242;stroke-linecap:square;stroke-width:2.7;\"/>\r\n   </g>\r\n   <g id=\"line2d_18\">\r\n    <path clip-path=\"url(#pa32183359f)\" style=\"fill:none;stroke:#424242;stroke-linecap:square;stroke-width:2.7;\"/>\r\n   </g>\r\n   <g id=\"line2d_19\">\r\n    <path clip-path=\"url(#pa32183359f)\" style=\"fill:none;stroke:#424242;stroke-linecap:square;stroke-width:2.7;\"/>\r\n   </g>\r\n   <g id=\"line2d_20\">\r\n    <path clip-path=\"url(#pa32183359f)\" style=\"fill:none;stroke:#424242;stroke-linecap:square;stroke-width:2.7;\"/>\r\n   </g>\r\n   <g id=\"line2d_21\">\r\n    <path clip-path=\"url(#pa32183359f)\" style=\"fill:none;stroke:#424242;stroke-linecap:square;stroke-width:2.7;\"/>\r\n   </g>\r\n   <g id=\"line2d_22\">\r\n    <path clip-path=\"url(#pa32183359f)\" style=\"fill:none;stroke:#424242;stroke-linecap:square;stroke-width:2.7;\"/>\r\n   </g>\r\n   <g id=\"line2d_23\">\r\n    <path clip-path=\"url(#pa32183359f)\" style=\"fill:none;stroke:#424242;stroke-linecap:square;stroke-width:2.7;\"/>\r\n   </g>\r\n   <g id=\"line2d_24\">\r\n    <path clip-path=\"url(#pa32183359f)\" style=\"fill:none;stroke:#424242;stroke-linecap:square;stroke-width:2.7;\"/>\r\n   </g>\r\n   <g id=\"line2d_25\">\r\n    <path clip-path=\"url(#pa32183359f)\" style=\"fill:none;stroke:#424242;stroke-linecap:square;stroke-width:2.7;\"/>\r\n   </g>\r\n   <g id=\"patch_13\">\r\n    <path d=\"M 33.664062 180.872187 \r\nL 33.664062 17.792187 \r\n\" style=\"fill:none;stroke:#000000;stroke-linecap:square;stroke-linejoin:miter;stroke-width:0.8;\"/>\r\n   </g>\r\n   <g id=\"patch_14\">\r\n    <path d=\"M 591.664062 180.872187 \r\nL 591.664062 17.792187 \r\n\" style=\"fill:none;stroke:#000000;stroke-linecap:square;stroke-linejoin:miter;stroke-width:0.8;\"/>\r\n   </g>\r\n   <g id=\"patch_15\">\r\n    <path d=\"M 33.664062 180.872187 \r\nL 591.664062 180.872187 \r\n\" style=\"fill:none;stroke:#000000;stroke-linecap:square;stroke-linejoin:miter;stroke-width:0.8;\"/>\r\n   </g>\r\n   <g id=\"patch_16\">\r\n    <path d=\"M 33.664062 17.792187 \r\nL 591.664062 17.792187 \r\n\" style=\"fill:none;stroke:#000000;stroke-linecap:square;stroke-linejoin:miter;stroke-width:0.8;\"/>\r\n   </g>\r\n  </g>\r\n </g>\r\n <defs>\r\n  <clipPath id=\"pa32183359f\">\r\n   <rect height=\"163.08\" width=\"558\" x=\"33.664062\" y=\"17.792187\"/>\r\n  </clipPath>\r\n </defs>\r\n</svg>\r\n",
      "image/png": "[encoded data removed]"
     },
     "metadata": {
      "needs_background": "light"
     }
    }
   ],
   "source": [
    "test2 = df_reg_dje.groupby(['Type']).sum()\n",
    "test2 = test2.sort_values('TotalSpent', ascending=False)\n",
    "test2 = test2.reset_index()\n",
    "\n",
    "\n",
    "plt.figure(figsize=(10,3))\n",
    "sns.barplot(x='Type', y ='TotalSpent', data=test2[:10],palette = 'Blues_d')"
   ]
  },
  {
   "cell_type": "code",
   "execution_count": null,
   "metadata": {},
   "outputs": [],
   "source": [
    "# "
   ]
  }
 ],
 "metadata": {
  "kernelspec": {
   "display_name": "Python 3",
   "language": "python",
   "name": "python3"
  },
  "language_info": {
   "codemirror_mode": {
    "name": "ipython",
    "version": 3
   },
   "file_extension": ".py",
   "mimetype": "text/x-python",
   "name": "python",
   "nbconvert_exporter": "python",
   "pygments_lexer": "ipython3",
   "version": "3.8.3-final"
  }
 },
 "nbformat": 4,
 "nbformat_minor": 2
}