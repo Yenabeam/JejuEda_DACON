{
 "metadata": {
  "language_info": {
   "codemirror_mode": {
    "name": "ipython",
    "version": 3
   },
   "file_extension": ".py",
   "mimetype": "text/x-python",
   "name": "python",
   "nbconvert_exporter": "python",
   "pygments_lexer": "ipython3",
   "version": "3.8.3-final"
  },
  "orig_nbformat": 2,
  "kernelspec": {
   "name": "python3",
   "display_name": "Python 3",
   "language": "python"
  }
 },
 "nbformat": 4,
 "nbformat_minor": 2,
 "cells": [
  {
   "cell_type": "code",
   "execution_count": 16,
   "metadata": {},
   "outputs": [
    {
     "output_type": "execute_result",
     "data": {
      "text/plain": [
       "        OBJECTID  Field1      YM     SIDO SIGUNGU FranClass   Type Time  \\\n",
       "273178    273179  273179  202005  제주특별자치도     제주시        중소  침구수예점   x시   \n",
       "273179    273180  273180  202005  제주특별자치도     제주시       중소1   서양음식   x시   \n",
       "273180    273181  273181  202005  제주특별자치도     제주시        영세    편의점   x시   \n",
       "273181    273182  273182  202005  제주특별자치도     제주시        중소    제과점   x시   \n",
       "273182    273183  273183  202005  제주특별자치도     제주시        영세   서양음식   x시   \n",
       "\n",
       "        TotalSpent  DisSpent  NumofSpent  NumofDisSpent      POINT_X  \\\n",
       "273178       17000         0           1              0  949616.6171   \n",
       "273179       12000         0           1              0  949665.1566   \n",
       "273180        4800         0           1              0  950266.5976   \n",
       "273181       25000         0           2              0  950524.6587   \n",
       "273182        6000         0           1              0  950674.5989   \n",
       "\n",
       "             POINT_Y  \n",
       "273178  1.502505e+06  \n",
       "273179  1.502805e+06  \n",
       "273180  1.502458e+06  \n",
       "273181  1.500760e+06  \n",
       "273182  1.500760e+06  "
      ],
      "text/html": "<div>\n<style scoped>\n    .dataframe tbody tr th:only-of-type {\n        vertical-align: middle;\n    }\n\n    .dataframe tbody tr th {\n        vertical-align: top;\n    }\n\n    .dataframe thead th {\n        text-align: right;\n    }\n</style>\n<table border=\"1\" class=\"dataframe\">\n  <thead>\n    <tr style=\"text-align: right;\">\n      <th></th>\n      <th>OBJECTID</th>\n      <th>Field1</th>\n      <th>YM</th>\n      <th>SIDO</th>\n      <th>SIGUNGU</th>\n      <th>FranClass</th>\n      <th>Type</th>\n      <th>Time</th>\n      <th>TotalSpent</th>\n      <th>DisSpent</th>\n      <th>NumofSpent</th>\n      <th>NumofDisSpent</th>\n      <th>POINT_X</th>\n      <th>POINT_Y</th>\n    </tr>\n  </thead>\n  <tbody>\n    <tr>\n      <th>273178</th>\n      <td>273179</td>\n      <td>273179</td>\n      <td>202005</td>\n      <td>제주특별자치도</td>\n      <td>제주시</td>\n      <td>중소</td>\n      <td>침구수예점</td>\n      <td>x시</td>\n      <td>17000</td>\n      <td>0</td>\n      <td>1</td>\n      <td>0</td>\n      <td>949616.6171</td>\n      <td>1.502505e+06</td>\n    </tr>\n    <tr>\n      <th>273179</th>\n      <td>273180</td>\n      <td>273180</td>\n      <td>202005</td>\n      <td>제주특별자치도</td>\n      <td>제주시</td>\n      <td>중소1</td>\n      <td>서양음식</td>\n      <td>x시</td>\n      <td>12000</td>\n      <td>0</td>\n      <td>1</td>\n      <td>0</td>\n      <td>949665.1566</td>\n      <td>1.502805e+06</td>\n    </tr>\n    <tr>\n      <th>273180</th>\n      <td>273181</td>\n      <td>273181</td>\n      <td>202005</td>\n      <td>제주특별자치도</td>\n      <td>제주시</td>\n      <td>영세</td>\n      <td>편의점</td>\n      <td>x시</td>\n      <td>4800</td>\n      <td>0</td>\n      <td>1</td>\n      <td>0</td>\n      <td>950266.5976</td>\n      <td>1.502458e+06</td>\n    </tr>\n    <tr>\n      <th>273181</th>\n      <td>273182</td>\n      <td>273182</td>\n      <td>202005</td>\n      <td>제주특별자치도</td>\n      <td>제주시</td>\n      <td>중소</td>\n      <td>제과점</td>\n      <td>x시</td>\n      <td>25000</td>\n      <td>0</td>\n      <td>2</td>\n      <td>0</td>\n      <td>950524.6587</td>\n      <td>1.500760e+06</td>\n    </tr>\n    <tr>\n      <th>273182</th>\n      <td>273183</td>\n      <td>273183</td>\n      <td>202005</td>\n      <td>제주특별자치도</td>\n      <td>제주시</td>\n      <td>영세</td>\n      <td>서양음식</td>\n      <td>x시</td>\n      <td>6000</td>\n      <td>0</td>\n      <td>1</td>\n      <td>0</td>\n      <td>950674.5989</td>\n      <td>1.500760e+06</td>\n    </tr>\n  </tbody>\n</table>\n</div>"
     },
     "metadata": {},
     "execution_count": 16
    }
   ],
   "source": [
    "# 데이터 가져오기\n",
    "\n",
    "raw_data = pd.read_csv('../../1. raw_data/KRI-DAC_Jeju_data5.txt', sep=',')\n",
    "raw_data.tail()"
   ]
  },
  {
   "cell_type": "code",
   "execution_count": 17,
   "metadata": {},
   "outputs": [],
   "source": [
    "df = raw_data.copy()"
   ]
  },
  {
   "cell_type": "code",
   "execution_count": 18,
   "metadata": {},
   "outputs": [],
   "source": [
    "from pyproj import Proj, transform\n",
    "\n",
    "# ITRF좌표계\n",
    "proj_ITRF = Proj(init='epsg:5179')\n",
    "# WGS 좌표계 \n",
    "proj_WGS84 = Proj(init='epsg:4326')\n"
   ]
  },
  {
   "cell_type": "code",
   "execution_count": 19,
   "metadata": {},
   "outputs": [
    {
     "output_type": "execute_result",
     "data": {
      "text/plain": [
       "(127.07103374451121, 35.53921546645965)"
      ]
     },
     "metadata": {},
     "execution_count": 19
    }
   ],
   "source": [
    "# 변환 예시 \n",
    "x1, y1 = 961114.519726,1727112.269174\n",
    "x2, y2 = transform(proj_ITRF, proj_WGS84, x1, y1)\n",
    "x2, y2"
   ]
  },
  {
   "cell_type": "code",
   "execution_count": 20,
   "metadata": {},
   "outputs": [
    {
     "output_type": "execute_result",
     "data": {
      "text/plain": [
       "        OBJECTID  Field1      YM     SIDO SIGUNGU FranClass   Type Time  \\\n",
       "273178    273179  273179  202005  제주특별자치도     제주시        중소  침구수예점   x시   \n",
       "273179    273180  273180  202005  제주특별자치도     제주시       중소1   서양음식   x시   \n",
       "273180    273181  273181  202005  제주특별자치도     제주시        영세    편의점   x시   \n",
       "273181    273182  273182  202005  제주특별자치도     제주시        중소    제과점   x시   \n",
       "273182    273183  273183  202005  제주특별자치도     제주시        영세   서양음식   x시   \n",
       "\n",
       "        TotalSpent  DisSpent  NumofSpent  NumofDisSpent      POINT_X  \\\n",
       "273178       17000         0           1              0  949616.6171   \n",
       "273179       12000         0           1              0  949665.1566   \n",
       "273180        4800         0           1              0  950266.5976   \n",
       "273181       25000         0           2              0  950524.6587   \n",
       "273182        6000         0           1              0  950674.5989   \n",
       "\n",
       "             POINT_Y         lon        lat  \n",
       "273178  1.502505e+06  126.957495  33.513247  \n",
       "273179  1.502805e+06  126.958001  33.515956  \n",
       "273180  1.502458e+06  126.964496  33.512854  \n",
       "273181  1.500760e+06  126.967369  33.497551  \n",
       "273182  1.500760e+06  126.968983  33.497564  "
      ],
      "text/html": "<div>\n<style scoped>\n    .dataframe tbody tr th:only-of-type {\n        vertical-align: middle;\n    }\n\n    .dataframe tbody tr th {\n        vertical-align: top;\n    }\n\n    .dataframe thead th {\n        text-align: right;\n    }\n</style>\n<table border=\"1\" class=\"dataframe\">\n  <thead>\n    <tr style=\"text-align: right;\">\n      <th></th>\n      <th>OBJECTID</th>\n      <th>Field1</th>\n      <th>YM</th>\n      <th>SIDO</th>\n      <th>SIGUNGU</th>\n      <th>FranClass</th>\n      <th>Type</th>\n      <th>Time</th>\n      <th>TotalSpent</th>\n      <th>DisSpent</th>\n      <th>NumofSpent</th>\n      <th>NumofDisSpent</th>\n      <th>POINT_X</th>\n      <th>POINT_Y</th>\n      <th>lon</th>\n      <th>lat</th>\n    </tr>\n  </thead>\n  <tbody>\n    <tr>\n      <th>273178</th>\n      <td>273179</td>\n      <td>273179</td>\n      <td>202005</td>\n      <td>제주특별자치도</td>\n      <td>제주시</td>\n      <td>중소</td>\n      <td>침구수예점</td>\n      <td>x시</td>\n      <td>17000</td>\n      <td>0</td>\n      <td>1</td>\n      <td>0</td>\n      <td>949616.6171</td>\n      <td>1.502505e+06</td>\n      <td>126.957495</td>\n      <td>33.513247</td>\n    </tr>\n    <tr>\n      <th>273179</th>\n      <td>273180</td>\n      <td>273180</td>\n      <td>202005</td>\n      <td>제주특별자치도</td>\n      <td>제주시</td>\n      <td>중소1</td>\n      <td>서양음식</td>\n      <td>x시</td>\n      <td>12000</td>\n      <td>0</td>\n      <td>1</td>\n      <td>0</td>\n      <td>949665.1566</td>\n      <td>1.502805e+06</td>\n      <td>126.958001</td>\n      <td>33.515956</td>\n    </tr>\n    <tr>\n      <th>273180</th>\n      <td>273181</td>\n      <td>273181</td>\n      <td>202005</td>\n      <td>제주특별자치도</td>\n      <td>제주시</td>\n      <td>영세</td>\n      <td>편의점</td>\n      <td>x시</td>\n      <td>4800</td>\n      <td>0</td>\n      <td>1</td>\n      <td>0</td>\n      <td>950266.5976</td>\n      <td>1.502458e+06</td>\n      <td>126.964496</td>\n      <td>33.512854</td>\n    </tr>\n    <tr>\n      <th>273181</th>\n      <td>273182</td>\n      <td>273182</td>\n      <td>202005</td>\n      <td>제주특별자치도</td>\n      <td>제주시</td>\n      <td>중소</td>\n      <td>제과점</td>\n      <td>x시</td>\n      <td>25000</td>\n      <td>0</td>\n      <td>2</td>\n      <td>0</td>\n      <td>950524.6587</td>\n      <td>1.500760e+06</td>\n      <td>126.967369</td>\n      <td>33.497551</td>\n    </tr>\n    <tr>\n      <th>273182</th>\n      <td>273183</td>\n      <td>273183</td>\n      <td>202005</td>\n      <td>제주특별자치도</td>\n      <td>제주시</td>\n      <td>영세</td>\n      <td>서양음식</td>\n      <td>x시</td>\n      <td>6000</td>\n      <td>0</td>\n      <td>1</td>\n      <td>0</td>\n      <td>950674.5989</td>\n      <td>1.500760e+06</td>\n      <td>126.968983</td>\n      <td>33.497564</td>\n    </tr>\n  </tbody>\n</table>\n</div>"
     },
     "metadata": {},
     "execution_count": 20
    }
   ],
   "source": [
    "df['lon'], df['lat'] = transform(proj_ITRF, proj_WGS84, df['POINT_X'], df['POINT_Y'])\n",
    "df.tail()"
   ]
  },
  {
   "cell_type": "code",
   "execution_count": 21,
   "metadata": {},
   "outputs": [],
   "source": [
    "################# 좌표 정보 주소 변환 ####################\n",
    "import requests\n",
    "import json"
   ]
  },
  {
   "cell_type": "code",
   "execution_count": 22,
   "metadata": {},
   "outputs": [],
   "source": [
    "url = \"https://dapi.kakao.com/v2/local/geo/coord2regioncode.json?x=126.968983&y=33.497564\"\n",
    "headers = {\"Authorization\": \"KakaoAK 1fecb2a27219321b92e1464ad08365fb\"}"
   ]
  },
  {
   "cell_type": "code",
   "execution_count": 23,
   "metadata": {},
   "outputs": [
    {
     "output_type": "execute_result",
     "data": {
      "text/plain": [
       "{'meta': {'total_count': 2},\n",
       " 'documents': [{'region_type': 'B',\n",
       "   'code': '5011033021',\n",
       "   'address_name': '제주특별자치도 제주시 우도면 연평리',\n",
       "   'region_1depth_name': '제주특별자치도',\n",
       "   'region_2depth_name': '제주시',\n",
       "   'region_3depth_name': '우도면',\n",
       "   'region_4depth_name': '연평리',\n",
       "   'x': 126.9588510304104,\n",
       "   'y': 33.50152515199191},\n",
       "  {'region_type': 'H',\n",
       "   'code': '5011033000',\n",
       "   'address_name': '제주특별자치도 제주시 우도면',\n",
       "   'region_1depth_name': '제주특별자치도',\n",
       "   'region_2depth_name': '제주시',\n",
       "   'region_3depth_name': '우도면',\n",
       "   'region_4depth_name': '',\n",
       "   'x': 126.95338133967611,\n",
       "   'y': 33.5065180993215}]}"
      ]
     },
     "metadata": {},
     "execution_count": 23
    }
   ],
   "source": [
    "api_test = requests.get(url, headers=headers)\n",
    "url_text = json.loads(api_test.text)\n",
    "url_text"
   ]
  },
  {
   "cell_type": "code",
   "execution_count": 29,
   "metadata": {},
   "outputs": [
    {
     "output_type": "execute_result",
     "data": {
      "text/plain": [
       "('우도면', '연평리')"
      ]
     },
     "metadata": {},
     "execution_count": 29
    }
   ],
   "source": [
    "dongmyeon = url_text['documents'][0]['region_3depth_name']\n",
    "ri = url_text['documents'][0]['region_4depth_name']\n",
    "\n",
    "dongmyeon, ri "
   ]
  },
  {
   "cell_type": "code",
   "execution_count": 35,
   "metadata": {},
   "outputs": [],
   "source": [
    "df['lon'] = df['lon'].astype(str)\n",
    "df['lat'] = df['lat'].astype(str)"
   ]
  },
  {
   "cell_type": "code",
   "execution_count": 38,
   "metadata": {},
   "outputs": [],
   "source": [
    "df['url1'] = 'https://dapi.kakao.com/v2/local/geo/coord2regioncode.json?x=' + df['lon']\n",
    "df['url2'] = '&y=' + df['lat']\n",
    "df['url'] = df['url1'] + df['url2']"
   ]
  },
  {
   "cell_type": "code",
   "execution_count": 42,
   "metadata": {},
   "outputs": [
    {
     "output_type": "execute_result",
     "data": {
      "text/plain": [
       "        OBJECTID  Field1      YM     SIDO SIGUNGU FranClass   Type Time  \\\n",
       "0              1       1  202005  제주특별자치도     제주시        영세   일반한식  00시   \n",
       "1              2       2  202005  제주특별자치도     제주시        영세   단란주점  00시   \n",
       "2              3       3  202005  제주특별자치도     제주시       중소1    편의점  00시   \n",
       "3              4       4  202005  제주특별자치도     제주시        영세    편의점  00시   \n",
       "4              5       5  202005  제주특별자치도     제주시        영세     주점  00시   \n",
       "...          ...     ...     ...      ...     ...       ...    ...  ...   \n",
       "273178    273179  273179  202005  제주특별자치도     제주시        중소  침구수예점   x시   \n",
       "273179    273180  273180  202005  제주특별자치도     제주시       중소1   서양음식   x시   \n",
       "273180    273181  273181  202005  제주특별자치도     제주시        영세    편의점   x시   \n",
       "273181    273182  273182  202005  제주특별자치도     제주시        중소    제과점   x시   \n",
       "273182    273183  273183  202005  제주특별자치도     제주시        영세   서양음식   x시   \n",
       "\n",
       "        TotalSpent  DisSpent  NumofSpent  NumofDisSpent      POINT_X  \\\n",
       "0           363000     66500          10              2  877005.9834   \n",
       "1          1180000         0           3              0  877005.7447   \n",
       "2           157670      6850          20              2  877056.6756   \n",
       "3            46600         0           2              0  877055.9593   \n",
       "4            66000         0           2              0  877055.4817   \n",
       "...            ...       ...         ...            ...          ...   \n",
       "273178       17000         0           1              0  949616.6171   \n",
       "273179       12000         0           1              0  949665.1566   \n",
       "273180        4800         0           1              0  950266.5976   \n",
       "273181       25000         0           2              0  950524.6587   \n",
       "273182        6000         0           1              0  950674.5989   \n",
       "\n",
       "             POINT_Y                 lon                 lat  \\\n",
       "0       1.479766e+06  126.17889362710162   33.30231529076243   \n",
       "1       1.479816e+06  126.17888426813494  33.302765922881875   \n",
       "2       1.479616e+06  126.17945834265305   33.30097125427593   \n",
       "3       1.479766e+06  126.17943027296923   33.30232314934195   \n",
       "4       1.479866e+06  126.17941155823847   33.30322441283756   \n",
       "...              ...                 ...                 ...   \n",
       "273178  1.502505e+06  126.95749518388968   33.51324665784147   \n",
       "273179  1.502805e+06  126.95800093548306   33.51595579736336   \n",
       "273180  1.502458e+06     126.96449620673   33.51285447500652   \n",
       "273181  1.500760e+06  126.96736859949111  33.497550664200574   \n",
       "273182  1.500760e+06  126.96898269451708   33.49756408518746   \n",
       "\n",
       "                                                      url  \n",
       "0       https://dapi.kakao.com/v2/local/geo/coord2regi...  \n",
       "1       https://dapi.kakao.com/v2/local/geo/coord2regi...  \n",
       "2       https://dapi.kakao.com/v2/local/geo/coord2regi...  \n",
       "3       https://dapi.kakao.com/v2/local/geo/coord2regi...  \n",
       "4       https://dapi.kakao.com/v2/local/geo/coord2regi...  \n",
       "...                                                   ...  \n",
       "273178  https://dapi.kakao.com/v2/local/geo/coord2regi...  \n",
       "273179  https://dapi.kakao.com/v2/local/geo/coord2regi...  \n",
       "273180  https://dapi.kakao.com/v2/local/geo/coord2regi...  \n",
       "273181  https://dapi.kakao.com/v2/local/geo/coord2regi...  \n",
       "273182  https://dapi.kakao.com/v2/local/geo/coord2regi...  \n",
       "\n",
       "[273183 rows x 17 columns]"
      ],
      "text/html": "<div>\n<style scoped>\n    .dataframe tbody tr th:only-of-type {\n        vertical-align: middle;\n    }\n\n    .dataframe tbody tr th {\n        vertical-align: top;\n    }\n\n    .dataframe thead th {\n        text-align: right;\n    }\n</style>\n<table border=\"1\" class=\"dataframe\">\n  <thead>\n    <tr style=\"text-align: right;\">\n      <th></th>\n      <th>OBJECTID</th>\n      <th>Field1</th>\n      <th>YM</th>\n      <th>SIDO</th>\n      <th>SIGUNGU</th>\n      <th>FranClass</th>\n      <th>Type</th>\n      <th>Time</th>\n      <th>TotalSpent</th>\n      <th>DisSpent</th>\n      <th>NumofSpent</th>\n      <th>NumofDisSpent</th>\n      <th>POINT_X</th>\n      <th>POINT_Y</th>\n      <th>lon</th>\n      <th>lat</th>\n      <th>url</th>\n    </tr>\n  </thead>\n  <tbody>\n    <tr>\n      <th>0</th>\n      <td>1</td>\n      <td>1</td>\n      <td>202005</td>\n      <td>제주특별자치도</td>\n      <td>제주시</td>\n      <td>영세</td>\n      <td>일반한식</td>\n      <td>00시</td>\n      <td>363000</td>\n      <td>66500</td>\n      <td>10</td>\n      <td>2</td>\n      <td>877005.9834</td>\n      <td>1.479766e+06</td>\n      <td>126.17889362710162</td>\n      <td>33.30231529076243</td>\n      <td>https://dapi.kakao.com/v2/local/geo/coord2regi...</td>\n    </tr>\n    <tr>\n      <th>1</th>\n      <td>2</td>\n      <td>2</td>\n      <td>202005</td>\n      <td>제주특별자치도</td>\n      <td>제주시</td>\n      <td>영세</td>\n      <td>단란주점</td>\n      <td>00시</td>\n      <td>1180000</td>\n      <td>0</td>\n      <td>3</td>\n      <td>0</td>\n      <td>877005.7447</td>\n      <td>1.479816e+06</td>\n      <td>126.17888426813494</td>\n      <td>33.302765922881875</td>\n      <td>https://dapi.kakao.com/v2/local/geo/coord2regi...</td>\n    </tr>\n    <tr>\n      <th>2</th>\n      <td>3</td>\n      <td>3</td>\n      <td>202005</td>\n      <td>제주특별자치도</td>\n      <td>제주시</td>\n      <td>중소1</td>\n      <td>편의점</td>\n      <td>00시</td>\n      <td>157670</td>\n      <td>6850</td>\n      <td>20</td>\n      <td>2</td>\n      <td>877056.6756</td>\n      <td>1.479616e+06</td>\n      <td>126.17945834265305</td>\n      <td>33.30097125427593</td>\n      <td>https://dapi.kakao.com/v2/local/geo/coord2regi...</td>\n    </tr>\n    <tr>\n      <th>3</th>\n      <td>4</td>\n      <td>4</td>\n      <td>202005</td>\n      <td>제주특별자치도</td>\n      <td>제주시</td>\n      <td>영세</td>\n      <td>편의점</td>\n      <td>00시</td>\n      <td>46600</td>\n      <td>0</td>\n      <td>2</td>\n      <td>0</td>\n      <td>877055.9593</td>\n      <td>1.479766e+06</td>\n      <td>126.17943027296923</td>\n      <td>33.30232314934195</td>\n      <td>https://dapi.kakao.com/v2/local/geo/coord2regi...</td>\n    </tr>\n    <tr>\n      <th>4</th>\n      <td>5</td>\n      <td>5</td>\n      <td>202005</td>\n      <td>제주특별자치도</td>\n      <td>제주시</td>\n      <td>영세</td>\n      <td>주점</td>\n      <td>00시</td>\n      <td>66000</td>\n      <td>0</td>\n      <td>2</td>\n      <td>0</td>\n      <td>877055.4817</td>\n      <td>1.479866e+06</td>\n      <td>126.17941155823847</td>\n      <td>33.30322441283756</td>\n      <td>https://dapi.kakao.com/v2/local/geo/coord2regi...</td>\n    </tr>\n    <tr>\n      <th>...</th>\n      <td>...</td>\n      <td>...</td>\n      <td>...</td>\n      <td>...</td>\n      <td>...</td>\n      <td>...</td>\n      <td>...</td>\n      <td>...</td>\n      <td>...</td>\n      <td>...</td>\n      <td>...</td>\n      <td>...</td>\n      <td>...</td>\n      <td>...</td>\n      <td>...</td>\n      <td>...</td>\n      <td>...</td>\n    </tr>\n    <tr>\n      <th>273178</th>\n      <td>273179</td>\n      <td>273179</td>\n      <td>202005</td>\n      <td>제주특별자치도</td>\n      <td>제주시</td>\n      <td>중소</td>\n      <td>침구수예점</td>\n      <td>x시</td>\n      <td>17000</td>\n      <td>0</td>\n      <td>1</td>\n      <td>0</td>\n      <td>949616.6171</td>\n      <td>1.502505e+06</td>\n      <td>126.95749518388968</td>\n      <td>33.51324665784147</td>\n      <td>https://dapi.kakao.com/v2/local/geo/coord2regi...</td>\n    </tr>\n    <tr>\n      <th>273179</th>\n      <td>273180</td>\n      <td>273180</td>\n      <td>202005</td>\n      <td>제주특별자치도</td>\n      <td>제주시</td>\n      <td>중소1</td>\n      <td>서양음식</td>\n      <td>x시</td>\n      <td>12000</td>\n      <td>0</td>\n      <td>1</td>\n      <td>0</td>\n      <td>949665.1566</td>\n      <td>1.502805e+06</td>\n      <td>126.95800093548306</td>\n      <td>33.51595579736336</td>\n      <td>https://dapi.kakao.com/v2/local/geo/coord2regi...</td>\n    </tr>\n    <tr>\n      <th>273180</th>\n      <td>273181</td>\n      <td>273181</td>\n      <td>202005</td>\n      <td>제주특별자치도</td>\n      <td>제주시</td>\n      <td>영세</td>\n      <td>편의점</td>\n      <td>x시</td>\n      <td>4800</td>\n      <td>0</td>\n      <td>1</td>\n      <td>0</td>\n      <td>950266.5976</td>\n      <td>1.502458e+06</td>\n      <td>126.96449620673</td>\n      <td>33.51285447500652</td>\n      <td>https://dapi.kakao.com/v2/local/geo/coord2regi...</td>\n    </tr>\n    <tr>\n      <th>273181</th>\n      <td>273182</td>\n      <td>273182</td>\n      <td>202005</td>\n      <td>제주특별자치도</td>\n      <td>제주시</td>\n      <td>중소</td>\n      <td>제과점</td>\n      <td>x시</td>\n      <td>25000</td>\n      <td>0</td>\n      <td>2</td>\n      <td>0</td>\n      <td>950524.6587</td>\n      <td>1.500760e+06</td>\n      <td>126.96736859949111</td>\n      <td>33.497550664200574</td>\n      <td>https://dapi.kakao.com/v2/local/geo/coord2regi...</td>\n    </tr>\n    <tr>\n      <th>273182</th>\n      <td>273183</td>\n      <td>273183</td>\n      <td>202005</td>\n      <td>제주특별자치도</td>\n      <td>제주시</td>\n      <td>영세</td>\n      <td>서양음식</td>\n      <td>x시</td>\n      <td>6000</td>\n      <td>0</td>\n      <td>1</td>\n      <td>0</td>\n      <td>950674.5989</td>\n      <td>1.500760e+06</td>\n      <td>126.96898269451708</td>\n      <td>33.49756408518746</td>\n      <td>https://dapi.kakao.com/v2/local/geo/coord2regi...</td>\n    </tr>\n  </tbody>\n</table>\n<p>273183 rows × 17 columns</p>\n</div>"
     },
     "metadata": {},
     "execution_count": 42
    }
   ],
   "source": [
    "df.drop(columns=['url1','url2'],axis=1)"
   ]
  },
  {
   "cell_type": "code",
   "execution_count": null,
   "metadata": {},
   "outputs": [],
   "source": []
  },
  {
   "cell_type": "code",
   "execution_count": null,
   "metadata": {},
   "outputs": [],
   "source": []
  },
  {
   "cell_type": "code",
   "execution_count": null,
   "metadata": {},
   "outputs": [],
   "source": []
  },
  {
   "cell_type": "code",
   "execution_count": null,
   "metadata": {},
   "outputs": [],
   "source": []
  }
 ]
}