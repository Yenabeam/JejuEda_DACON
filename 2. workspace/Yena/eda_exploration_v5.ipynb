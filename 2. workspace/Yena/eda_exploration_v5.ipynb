{
 "cells": [
  {
   "cell_type": "code",
   "execution_count": 4,
   "metadata": {},
   "outputs": [
    {
     "output_type": "execute_result",
     "data": {
      "text/plain": [
       "        OBJECTID  Field1      YM     SIDO SIGUNGU FranClass   Type Time  \\\n",
       "273178    273179  273179  202005  제주특별자치도     제주시        중소  침구수예점   x시   \n",
       "273179    273180  273180  202005  제주특별자치도     제주시       중소1   서양음식   x시   \n",
       "273180    273181  273181  202005  제주특별자치도     제주시        영세    편의점   x시   \n",
       "273181    273182  273182  202005  제주특별자치도     제주시        중소    제과점   x시   \n",
       "273182    273183  273183  202005  제주특별자치도     제주시        영세   서양음식   x시   \n",
       "\n",
       "        TotalSpent  DisSpent  NumofSpent  NumofDisSpent      POINT_X  \\\n",
       "273178       17000         0           1              0  949616.6171   \n",
       "273179       12000         0           1              0  949665.1566   \n",
       "273180        4800         0           1              0  950266.5976   \n",
       "273181       25000         0           2              0  950524.6587   \n",
       "273182        6000         0           1              0  950674.5989   \n",
       "\n",
       "             POINT_Y  \n",
       "273178  1.502505e+06  \n",
       "273179  1.502805e+06  \n",
       "273180  1.502458e+06  \n",
       "273181  1.500760e+06  \n",
       "273182  1.500760e+06  "
      ],
      "text/html": "<div>\n<style scoped>\n    .dataframe tbody tr th:only-of-type {\n        vertical-align: middle;\n    }\n\n    .dataframe tbody tr th {\n        vertical-align: top;\n    }\n\n    .dataframe thead th {\n        text-align: right;\n    }\n</style>\n<table border=\"1\" class=\"dataframe\">\n  <thead>\n    <tr style=\"text-align: right;\">\n      <th></th>\n      <th>OBJECTID</th>\n      <th>Field1</th>\n      <th>YM</th>\n      <th>SIDO</th>\n      <th>SIGUNGU</th>\n      <th>FranClass</th>\n      <th>Type</th>\n      <th>Time</th>\n      <th>TotalSpent</th>\n      <th>DisSpent</th>\n      <th>NumofSpent</th>\n      <th>NumofDisSpent</th>\n      <th>POINT_X</th>\n      <th>POINT_Y</th>\n    </tr>\n  </thead>\n  <tbody>\n    <tr>\n      <th>273178</th>\n      <td>273179</td>\n      <td>273179</td>\n      <td>202005</td>\n      <td>제주특별자치도</td>\n      <td>제주시</td>\n      <td>중소</td>\n      <td>침구수예점</td>\n      <td>x시</td>\n      <td>17000</td>\n      <td>0</td>\n      <td>1</td>\n      <td>0</td>\n      <td>949616.6171</td>\n      <td>1.502505e+06</td>\n    </tr>\n    <tr>\n      <th>273179</th>\n      <td>273180</td>\n      <td>273180</td>\n      <td>202005</td>\n      <td>제주특별자치도</td>\n      <td>제주시</td>\n      <td>중소1</td>\n      <td>서양음식</td>\n      <td>x시</td>\n      <td>12000</td>\n      <td>0</td>\n      <td>1</td>\n      <td>0</td>\n      <td>949665.1566</td>\n      <td>1.502805e+06</td>\n    </tr>\n    <tr>\n      <th>273180</th>\n      <td>273181</td>\n      <td>273181</td>\n      <td>202005</td>\n      <td>제주특별자치도</td>\n      <td>제주시</td>\n      <td>영세</td>\n      <td>편의점</td>\n      <td>x시</td>\n      <td>4800</td>\n      <td>0</td>\n      <td>1</td>\n      <td>0</td>\n      <td>950266.5976</td>\n      <td>1.502458e+06</td>\n    </tr>\n    <tr>\n      <th>273181</th>\n      <td>273182</td>\n      <td>273182</td>\n      <td>202005</td>\n      <td>제주특별자치도</td>\n      <td>제주시</td>\n      <td>중소</td>\n      <td>제과점</td>\n      <td>x시</td>\n      <td>25000</td>\n      <td>0</td>\n      <td>2</td>\n      <td>0</td>\n      <td>950524.6587</td>\n      <td>1.500760e+06</td>\n    </tr>\n    <tr>\n      <th>273182</th>\n      <td>273183</td>\n      <td>273183</td>\n      <td>202005</td>\n      <td>제주특별자치도</td>\n      <td>제주시</td>\n      <td>영세</td>\n      <td>서양음식</td>\n      <td>x시</td>\n      <td>6000</td>\n      <td>0</td>\n      <td>1</td>\n      <td>0</td>\n      <td>950674.5989</td>\n      <td>1.500760e+06</td>\n    </tr>\n  </tbody>\n</table>\n</div>"
     },
     "metadata": {},
     "execution_count": 4
    }
   ],
   "source": [
    "# 데이터 가져오기\n",
    "\n",
    "raw_data = pd.read_csv('../../1. raw_data/KRI-DAC_Jeju_data5.txt', sep=',')\n",
    "raw_data.tail()"
   ]
  },
  {
   "cell_type": "code",
   "execution_count": 5,
   "metadata": {},
   "outputs": [],
   "source": [
    "df = raw_data.copy()"
   ]
  },
  {
   "cell_type": "code",
   "execution_count": 6,
   "metadata": {},
   "outputs": [],
   "source": [
    "from pyproj import Proj, transform\n",
    "\n",
    "# ITRF좌표계\n",
    "proj_ITRF = Proj(init='epsg:5179')\n",
    "# WGS 좌표계 \n",
    "proj_WGS84 = Proj(init='epsg:4326')\n"
   ]
  },
  {
   "cell_type": "code",
   "execution_count": 7,
   "metadata": {},
   "outputs": [
    {
     "output_type": "execute_result",
     "data": {
      "text/plain": [
       "(127.07103374451121, 35.53921546645965)"
      ]
     },
     "metadata": {},
     "execution_count": 7
    }
   ],
   "source": [
    "# 변환 예시 \n",
    "x1, y1 = 961114.519726,1727112.269174\n",
    "x2, y2 = transform(proj_ITRF, proj_WGS84, x1, y1)\n",
    "x2, y2"
   ]
  },
  {
   "cell_type": "code",
   "execution_count": 8,
   "metadata": {},
   "outputs": [
    {
     "output_type": "execute_result",
     "data": {
      "text/plain": [
       "        OBJECTID  Field1      YM     SIDO SIGUNGU FranClass   Type Time  \\\n",
       "273178    273179  273179  202005  제주특별자치도     제주시        중소  침구수예점   x시   \n",
       "273179    273180  273180  202005  제주특별자치도     제주시       중소1   서양음식   x시   \n",
       "273180    273181  273181  202005  제주특별자치도     제주시        영세    편의점   x시   \n",
       "273181    273182  273182  202005  제주특별자치도     제주시        중소    제과점   x시   \n",
       "273182    273183  273183  202005  제주특별자치도     제주시        영세   서양음식   x시   \n",
       "\n",
       "        TotalSpent  DisSpent  NumofSpent  NumofDisSpent      POINT_X  \\\n",
       "273178       17000         0           1              0  949616.6171   \n",
       "273179       12000         0           1              0  949665.1566   \n",
       "273180        4800         0           1              0  950266.5976   \n",
       "273181       25000         0           2              0  950524.6587   \n",
       "273182        6000         0           1              0  950674.5989   \n",
       "\n",
       "             POINT_Y         lon        lat  \n",
       "273178  1.502505e+06  126.957495  33.513247  \n",
       "273179  1.502805e+06  126.958001  33.515956  \n",
       "273180  1.502458e+06  126.964496  33.512854  \n",
       "273181  1.500760e+06  126.967369  33.497551  \n",
       "273182  1.500760e+06  126.968983  33.497564  "
      ],
      "text/html": "<div>\n<style scoped>\n    .dataframe tbody tr th:only-of-type {\n        vertical-align: middle;\n    }\n\n    .dataframe tbody tr th {\n        vertical-align: top;\n    }\n\n    .dataframe thead th {\n        text-align: right;\n    }\n</style>\n<table border=\"1\" class=\"dataframe\">\n  <thead>\n    <tr style=\"text-align: right;\">\n      <th></th>\n      <th>OBJECTID</th>\n      <th>Field1</th>\n      <th>YM</th>\n      <th>SIDO</th>\n      <th>SIGUNGU</th>\n      <th>FranClass</th>\n      <th>Type</th>\n      <th>Time</th>\n      <th>TotalSpent</th>\n      <th>DisSpent</th>\n      <th>NumofSpent</th>\n      <th>NumofDisSpent</th>\n      <th>POINT_X</th>\n      <th>POINT_Y</th>\n      <th>lon</th>\n      <th>lat</th>\n    </tr>\n  </thead>\n  <tbody>\n    <tr>\n      <th>273178</th>\n      <td>273179</td>\n      <td>273179</td>\n      <td>202005</td>\n      <td>제주특별자치도</td>\n      <td>제주시</td>\n      <td>중소</td>\n      <td>침구수예점</td>\n      <td>x시</td>\n      <td>17000</td>\n      <td>0</td>\n      <td>1</td>\n      <td>0</td>\n      <td>949616.6171</td>\n      <td>1.502505e+06</td>\n      <td>126.957495</td>\n      <td>33.513247</td>\n    </tr>\n    <tr>\n      <th>273179</th>\n      <td>273180</td>\n      <td>273180</td>\n      <td>202005</td>\n      <td>제주특별자치도</td>\n      <td>제주시</td>\n      <td>중소1</td>\n      <td>서양음식</td>\n      <td>x시</td>\n      <td>12000</td>\n      <td>0</td>\n      <td>1</td>\n      <td>0</td>\n      <td>949665.1566</td>\n      <td>1.502805e+06</td>\n      <td>126.958001</td>\n      <td>33.515956</td>\n    </tr>\n    <tr>\n      <th>273180</th>\n      <td>273181</td>\n      <td>273181</td>\n      <td>202005</td>\n      <td>제주특별자치도</td>\n      <td>제주시</td>\n      <td>영세</td>\n      <td>편의점</td>\n      <td>x시</td>\n      <td>4800</td>\n      <td>0</td>\n      <td>1</td>\n      <td>0</td>\n      <td>950266.5976</td>\n      <td>1.502458e+06</td>\n      <td>126.964496</td>\n      <td>33.512854</td>\n    </tr>\n    <tr>\n      <th>273181</th>\n      <td>273182</td>\n      <td>273182</td>\n      <td>202005</td>\n      <td>제주특별자치도</td>\n      <td>제주시</td>\n      <td>중소</td>\n      <td>제과점</td>\n      <td>x시</td>\n      <td>25000</td>\n      <td>0</td>\n      <td>2</td>\n      <td>0</td>\n      <td>950524.6587</td>\n      <td>1.500760e+06</td>\n      <td>126.967369</td>\n      <td>33.497551</td>\n    </tr>\n    <tr>\n      <th>273182</th>\n      <td>273183</td>\n      <td>273183</td>\n      <td>202005</td>\n      <td>제주특별자치도</td>\n      <td>제주시</td>\n      <td>영세</td>\n      <td>서양음식</td>\n      <td>x시</td>\n      <td>6000</td>\n      <td>0</td>\n      <td>1</td>\n      <td>0</td>\n      <td>950674.5989</td>\n      <td>1.500760e+06</td>\n      <td>126.968983</td>\n      <td>33.497564</td>\n    </tr>\n  </tbody>\n</table>\n</div>"
     },
     "metadata": {},
     "execution_count": 8
    }
   ],
   "source": [
    "df['lon'], df['lat'] = transform(proj_ITRF, proj_WGS84, df['POINT_X'], df['POINT_Y'])\n",
    "df.tail()"
   ]
  },
  {
   "cell_type": "code",
   "execution_count": 9,
   "metadata": {},
   "outputs": [
    {
     "output_type": "execute_result",
     "data": {
      "text/plain": [
       "126.52427851055405_33.51290574138535     400\n",
       "126.52935695016222_33.49899169591379     314\n",
       "126.52880376641139_33.499886709171996    309\n",
       "126.47793511858133_33.48574932701181     275\n",
       "126.56362561835856_33.24739705179205     258\n",
       "                                        ... \n",
       "126.84357497353783_33.33777174798881       1\n",
       "126.30714761262938_33.44341732888434       1\n",
       "126.21923412209131_33.29839182323447       1\n",
       "126.88896305566189_33.44322651347633       1\n",
       "126.86104855929736_33.52186564472142       1\n",
       "Name: lon_lat, Length: 13820, dtype: int64"
      ]
     },
     "metadata": {},
     "execution_count": 9
    }
   ],
   "source": [
    "df['lon'] = df['lon'].astype(str)\n",
    "df['lat'] = df['lat'].astype(str)\n",
    "df['lon_lat'] = df['lon']+'_'+df['lat']\n",
    "df['lon_lat'].value_counts()"
   ]
  },
  {
   "cell_type": "code",
   "execution_count": 10,
   "metadata": {},
   "outputs": [],
   "source": [
    "# ################# 좌표 정보 주소 변환 ####################\n",
    "# import requests\n",
    "# import json"
   ]
  },
  {
   "cell_type": "code",
   "execution_count": 11,
   "metadata": {},
   "outputs": [],
   "source": [
    "# url = \"https://dapi.kakao.com/v2/local/geo/coord2regioncode.json?x=126.968983&y=33.497564\"\n",
    "# headers = {\"Authorization\": \"KakaoAK 1fecb2a27219321b92e1464ad08365fb\"}"
   ]
  },
  {
   "cell_type": "code",
   "execution_count": 12,
   "metadata": {},
   "outputs": [],
   "source": [
    "# api_test = requests.get(url, headers=headers)\n",
    "# url_text = json.loads(api_test.text)\n",
    "# url_text"
   ]
  },
  {
   "cell_type": "code",
   "execution_count": 13,
   "metadata": {},
   "outputs": [],
   "source": [
    "# dongmyeon = url_text['documents'][0]['region_3depth_name']\n",
    "# ri = url_text['documents'][0]['region_4depth_name']\n",
    "\n",
    "# dongmyeon, ri "
   ]
  },
  {
   "cell_type": "code",
   "execution_count": 14,
   "metadata": {},
   "outputs": [],
   "source": [
    "# df['lon'] = df['lon'].astype(str)\n",
    "# df['lat'] = df['lat'].astype(str)"
   ]
  },
  {
   "cell_type": "code",
   "execution_count": 15,
   "metadata": {},
   "outputs": [],
   "source": [
    "# df['url1'] = 'https://dapi.kakao.com/v2/local/geo/coord2regioncode.json?x=' + df['lon']\n",
    "# df['url2'] = '&y=' + df['lat']\n",
    "# df['url'] = df['url1'] + df['url2']"
   ]
  },
  {
   "cell_type": "code",
   "execution_count": 16,
   "metadata": {},
   "outputs": [],
   "source": [
    "# df.drop(columns=['url1','url2'],axis=1,inplace=True)"
   ]
  },
  {
   "cell_type": "code",
   "execution_count": 17,
   "metadata": {},
   "outputs": [],
   "source": [
    "# dong_ls = []\n",
    "# ri_ls = []\n",
    "# for i in df.index[:100]:\n",
    "#     url = df['url'][i]\n",
    "#     headers = {\"Authorization\": \"KakaoAK 1fecb2a27219321b92e1464ad08365fb\"}\n",
    "#     api_test = requests.get(url, headers=headers)\n",
    "#     url_text = json.loads(api_test.text)\n",
    "#     dong = url_text['documents'][0]['region_3depth_name']\n",
    "#     dong_ls.append(dong)"
   ]
  },
  {
   "cell_type": "code",
   "execution_count": 18,
   "metadata": {},
   "outputs": [],
   "source": [
    "##############################시각화#########################"
   ]
  },
  {
   "cell_type": "code",
   "execution_count": 19,
   "metadata": {},
   "outputs": [
    {
     "output_type": "execute_result",
     "data": {
      "text/plain": [
       "       OBJECTID  Field1      YM     SIDO SIGUNGU FranClass  Type Time  \\\n",
       "0             1       1  202005  제주특별자치도     제주시        영세  일반한식  00시   \n",
       "4903       4904    4904  202005  제주특별자치도     제주시        영세  일반한식  01시   \n",
       "8568       8569    8569  202005  제주특별자치도     제주시        영세  일반한식  02시   \n",
       "11269     11270   11270  202005  제주특별자치도     제주시        영세  일반한식  03시   \n",
       "19121     19122   19122  202005  제주특별자치도     제주시        중소   한의원  07시   \n",
       "\n",
       "       TotalSpent  DisSpent  NumofSpent  NumofDisSpent      POINT_X  \\\n",
       "0          363000     66500          10              2  877005.9834   \n",
       "4903        86500         0           3              0  877005.9834   \n",
       "8568       208000         0           5              0  877005.9834   \n",
       "11269       18000         0           1              0  877005.9834   \n",
       "19121        4800         0           2              0  877005.9834   \n",
       "\n",
       "           POINT_Y                 lon                lat  \\\n",
       "0      1479766.073  126.17889362710162  33.30231529076243   \n",
       "4903   1479766.073  126.17889362710162  33.30231529076243   \n",
       "8568   1479766.073  126.17889362710162  33.30231529076243   \n",
       "11269  1479766.073  126.17889362710162  33.30231529076243   \n",
       "19121  1479766.073  126.17889362710162  33.30231529076243   \n",
       "\n",
       "                                    lon_lat  \n",
       "0      126.17889362710162_33.30231529076243  \n",
       "4903   126.17889362710162_33.30231529076243  \n",
       "8568   126.17889362710162_33.30231529076243  \n",
       "11269  126.17889362710162_33.30231529076243  \n",
       "19121  126.17889362710162_33.30231529076243  "
      ],
      "text/html": "<div>\n<style scoped>\n    .dataframe tbody tr th:only-of-type {\n        vertical-align: middle;\n    }\n\n    .dataframe tbody tr th {\n        vertical-align: top;\n    }\n\n    .dataframe thead th {\n        text-align: right;\n    }\n</style>\n<table border=\"1\" class=\"dataframe\">\n  <thead>\n    <tr style=\"text-align: right;\">\n      <th></th>\n      <th>OBJECTID</th>\n      <th>Field1</th>\n      <th>YM</th>\n      <th>SIDO</th>\n      <th>SIGUNGU</th>\n      <th>FranClass</th>\n      <th>Type</th>\n      <th>Time</th>\n      <th>TotalSpent</th>\n      <th>DisSpent</th>\n      <th>NumofSpent</th>\n      <th>NumofDisSpent</th>\n      <th>POINT_X</th>\n      <th>POINT_Y</th>\n      <th>lon</th>\n      <th>lat</th>\n      <th>lon_lat</th>\n    </tr>\n  </thead>\n  <tbody>\n    <tr>\n      <th>0</th>\n      <td>1</td>\n      <td>1</td>\n      <td>202005</td>\n      <td>제주특별자치도</td>\n      <td>제주시</td>\n      <td>영세</td>\n      <td>일반한식</td>\n      <td>00시</td>\n      <td>363000</td>\n      <td>66500</td>\n      <td>10</td>\n      <td>2</td>\n      <td>877005.9834</td>\n      <td>1479766.073</td>\n      <td>126.17889362710162</td>\n      <td>33.30231529076243</td>\n      <td>126.17889362710162_33.30231529076243</td>\n    </tr>\n    <tr>\n      <th>4903</th>\n      <td>4904</td>\n      <td>4904</td>\n      <td>202005</td>\n      <td>제주특별자치도</td>\n      <td>제주시</td>\n      <td>영세</td>\n      <td>일반한식</td>\n      <td>01시</td>\n      <td>86500</td>\n      <td>0</td>\n      <td>3</td>\n      <td>0</td>\n      <td>877005.9834</td>\n      <td>1479766.073</td>\n      <td>126.17889362710162</td>\n      <td>33.30231529076243</td>\n      <td>126.17889362710162_33.30231529076243</td>\n    </tr>\n    <tr>\n      <th>8568</th>\n      <td>8569</td>\n      <td>8569</td>\n      <td>202005</td>\n      <td>제주특별자치도</td>\n      <td>제주시</td>\n      <td>영세</td>\n      <td>일반한식</td>\n      <td>02시</td>\n      <td>208000</td>\n      <td>0</td>\n      <td>5</td>\n      <td>0</td>\n      <td>877005.9834</td>\n      <td>1479766.073</td>\n      <td>126.17889362710162</td>\n      <td>33.30231529076243</td>\n      <td>126.17889362710162_33.30231529076243</td>\n    </tr>\n    <tr>\n      <th>11269</th>\n      <td>11270</td>\n      <td>11270</td>\n      <td>202005</td>\n      <td>제주특별자치도</td>\n      <td>제주시</td>\n      <td>영세</td>\n      <td>일반한식</td>\n      <td>03시</td>\n      <td>18000</td>\n      <td>0</td>\n      <td>1</td>\n      <td>0</td>\n      <td>877005.9834</td>\n      <td>1479766.073</td>\n      <td>126.17889362710162</td>\n      <td>33.30231529076243</td>\n      <td>126.17889362710162_33.30231529076243</td>\n    </tr>\n    <tr>\n      <th>19121</th>\n      <td>19122</td>\n      <td>19122</td>\n      <td>202005</td>\n      <td>제주특별자치도</td>\n      <td>제주시</td>\n      <td>중소</td>\n      <td>한의원</td>\n      <td>07시</td>\n      <td>4800</td>\n      <td>0</td>\n      <td>2</td>\n      <td>0</td>\n      <td>877005.9834</td>\n      <td>1479766.073</td>\n      <td>126.17889362710162</td>\n      <td>33.30231529076243</td>\n      <td>126.17889362710162_33.30231529076243</td>\n    </tr>\n  </tbody>\n</table>\n</div>"
     },
     "metadata": {},
     "execution_count": 19
    }
   ],
   "source": [
    "df[df['lon_lat']=='126.17889362710162_33.30231529076243'].head()\n",
    "# 같은 좌표인 경우에도 다른 업종인 경우가 많음 "
   ]
  },
  {
   "cell_type": "code",
   "execution_count": 20,
   "metadata": {},
   "outputs": [],
   "source": [
    "# 업종에 따른 folium 분포 나타내기 "
   ]
  },
  {
   "cell_type": "code",
   "execution_count": 21,
   "metadata": {},
   "outputs": [
    {
     "output_type": "execute_result",
     "data": {
      "text/plain": [
       "영세     152294\n",
       "일반      35889\n",
       "중소      33211\n",
       "중소1     32814\n",
       "중소2     18975\n",
       "Name: FranClass, dtype: int64"
      ]
     },
     "metadata": {},
     "execution_count": 21
    }
   ],
   "source": [
    "df['FranClass'].value_counts()"
   ]
  },
  {
   "cell_type": "code",
   "execution_count": 22,
   "metadata": {},
   "outputs": [
    {
     "output_type": "execute_result",
     "data": {
      "text/plain": [
       "       SIGUNGU FranClass   Type                 lon                 lat  \\\n",
       "0          제주시        영세   일반한식  126.17889362710162   33.30231529076243   \n",
       "1          제주시        영세   단란주점  126.17888426813494  33.302765922881875   \n",
       "3          제주시        영세    편의점  126.17943027296923   33.30232314934195   \n",
       "4          제주시        영세     주점  126.17941155823847   33.30322441283756   \n",
       "5          제주시        영세     스넥  126.18102151237558    33.3032479753176   \n",
       "...        ...       ...    ...                 ...                 ...   \n",
       "268814    서귀포시        영세  기타숙박업  126.30957647197593   33.23428902334641   \n",
       "269294     제주시        영세  피부미용실  126.43102865310969   33.49147577780778   \n",
       "269435    서귀포시        영세  기타숙박업  126.46571021256327    33.2629083000071   \n",
       "269698     제주시        영세     정장   126.4780768663447   33.47763695457516   \n",
       "272142    서귀포시        영세    미용원  126.56569771250837   33.25192901182615   \n",
       "\n",
       "                                      lon_lat  \n",
       "0        126.17889362710162_33.30231529076243  \n",
       "1       126.17888426813494_33.302765922881875  \n",
       "3        126.17943027296923_33.30232314934195  \n",
       "4        126.17941155823847_33.30322441283756  \n",
       "5         126.18102151237558_33.3032479753176  \n",
       "...                                       ...  \n",
       "268814   126.30957647197593_33.23428902334641  \n",
       "269294   126.43102865310969_33.49147577780778  \n",
       "269435    126.46571021256327_33.2629083000071  \n",
       "269698    126.4780768663447_33.47763695457516  \n",
       "272142   126.56569771250837_33.25192901182615  \n",
       "\n",
       "[20215 rows x 6 columns]"
      ],
      "text/html": "<div>\n<style scoped>\n    .dataframe tbody tr th:only-of-type {\n        vertical-align: middle;\n    }\n\n    .dataframe tbody tr th {\n        vertical-align: top;\n    }\n\n    .dataframe thead th {\n        text-align: right;\n    }\n</style>\n<table border=\"1\" class=\"dataframe\">\n  <thead>\n    <tr style=\"text-align: right;\">\n      <th></th>\n      <th>SIGUNGU</th>\n      <th>FranClass</th>\n      <th>Type</th>\n      <th>lon</th>\n      <th>lat</th>\n      <th>lon_lat</th>\n    </tr>\n  </thead>\n  <tbody>\n    <tr>\n      <th>0</th>\n      <td>제주시</td>\n      <td>영세</td>\n      <td>일반한식</td>\n      <td>126.17889362710162</td>\n      <td>33.30231529076243</td>\n      <td>126.17889362710162_33.30231529076243</td>\n    </tr>\n    <tr>\n      <th>1</th>\n      <td>제주시</td>\n      <td>영세</td>\n      <td>단란주점</td>\n      <td>126.17888426813494</td>\n      <td>33.302765922881875</td>\n      <td>126.17888426813494_33.302765922881875</td>\n    </tr>\n    <tr>\n      <th>3</th>\n      <td>제주시</td>\n      <td>영세</td>\n      <td>편의점</td>\n      <td>126.17943027296923</td>\n      <td>33.30232314934195</td>\n      <td>126.17943027296923_33.30232314934195</td>\n    </tr>\n    <tr>\n      <th>4</th>\n      <td>제주시</td>\n      <td>영세</td>\n      <td>주점</td>\n      <td>126.17941155823847</td>\n      <td>33.30322441283756</td>\n      <td>126.17941155823847_33.30322441283756</td>\n    </tr>\n    <tr>\n      <th>5</th>\n      <td>제주시</td>\n      <td>영세</td>\n      <td>스넥</td>\n      <td>126.18102151237558</td>\n      <td>33.3032479753176</td>\n      <td>126.18102151237558_33.3032479753176</td>\n    </tr>\n    <tr>\n      <th>...</th>\n      <td>...</td>\n      <td>...</td>\n      <td>...</td>\n      <td>...</td>\n      <td>...</td>\n      <td>...</td>\n    </tr>\n    <tr>\n      <th>268814</th>\n      <td>서귀포시</td>\n      <td>영세</td>\n      <td>기타숙박업</td>\n      <td>126.30957647197593</td>\n      <td>33.23428902334641</td>\n      <td>126.30957647197593_33.23428902334641</td>\n    </tr>\n    <tr>\n      <th>269294</th>\n      <td>제주시</td>\n      <td>영세</td>\n      <td>피부미용실</td>\n      <td>126.43102865310969</td>\n      <td>33.49147577780778</td>\n      <td>126.43102865310969_33.49147577780778</td>\n    </tr>\n    <tr>\n      <th>269435</th>\n      <td>서귀포시</td>\n      <td>영세</td>\n      <td>기타숙박업</td>\n      <td>126.46571021256327</td>\n      <td>33.2629083000071</td>\n      <td>126.46571021256327_33.2629083000071</td>\n    </tr>\n    <tr>\n      <th>269698</th>\n      <td>제주시</td>\n      <td>영세</td>\n      <td>정장</td>\n      <td>126.4780768663447</td>\n      <td>33.47763695457516</td>\n      <td>126.4780768663447_33.47763695457516</td>\n    </tr>\n    <tr>\n      <th>272142</th>\n      <td>서귀포시</td>\n      <td>영세</td>\n      <td>미용원</td>\n      <td>126.56569771250837</td>\n      <td>33.25192901182615</td>\n      <td>126.56569771250837_33.25192901182615</td>\n    </tr>\n  </tbody>\n</table>\n<p>20215 rows × 6 columns</p>\n</div>"
     },
     "metadata": {},
     "execution_count": 22
    }
   ],
   "source": [
    "df_js2 = df[df['FranClass']=='중소2'] #중소2에 대해 추출 \n",
    "df_js2 = df_js2[['SIGUNGU','FranClass','Type','lon','lat','lon_lat']] #업종별 분포 확인에 대한 정보만 추출 \n",
    "df_js2.drop_duplicates(inplace=True) #중복되는 row 삭제 \n",
    "df_js2 #중소2 업종 리스트 \n",
    "\n",
    "df_js1 = df[df['FranClass']=='중소1'] #중소1에 대해 추출 \n",
    "df_js1 = df_js1[['SIGUNGU','FranClass','Type','lon','lat','lon_lat']] #업종별 분포 확인에 대한 정보만 추출 \n",
    "df_js1.drop_duplicates(inplace=True) #중복되는 row 삭제 \n",
    "df_js1 #중소1 업종 리스트 \n",
    "\n",
    "df_js = df[df['FranClass']=='중소'] #중소에 대해 추출 \n",
    "df_js = df_js[['SIGUNGU','FranClass','Type','lon','lat','lon_lat']] #업종별 분포 확인에 대한 정보만 추출 \n",
    "df_js.drop_duplicates(inplace=True) #중복되는 row 삭제 \n",
    "df_js #중소 업종 리스트 \n",
    "\n",
    "df_gn = df[df['FranClass']=='일반'] #일반에 대해 추출 \n",
    "df_gn = df_gn[['SIGUNGU','FranClass','Type','lon','lat','lon_lat']] #업종별 분포 확인에 대한 정보만 추출 \n",
    "df_gn.drop_duplicates(inplace=True) #중복되는 row 삭제 \n",
    "df_gn #일반 업종 리스트 \n",
    "\n",
    "df_ys = df[df['FranClass']=='영세'] #중소에 대해 추출 \n",
    "df_ys = df_ys[['SIGUNGU','FranClass','Type','lon','lat','lon_lat']] #업종별 분포 확인에 대한 정보만 추출 \n",
    "df_ys.drop_duplicates(inplace=True) #중복되는 row 삭제 \n",
    "df_ys #중소 업종 리스트 "
   ]
  },
  {
   "cell_type": "code",
   "execution_count": 23,
   "metadata": {},
   "outputs": [],
   "source": [
    "#############folium을 통한 표현############ \n",
    "import pandas as pd \n",
    "import folium\n",
    "from folium.plugins import MarkerCluster, MiniMap"
   ]
  },
  {
   "cell_type": "code",
   "execution_count": 24,
   "metadata": {},
   "outputs": [
    {
     "output_type": "execute_result",
     "data": {
      "text/plain": [
       "<folium.plugins.marker_cluster.MarkerCluster at 0x2ab1e632a60>"
      ]
     },
     "metadata": {},
     "execution_count": 24
    }
   ],
   "source": [
    "map_jeju = folium.Map((33.38773221915759, 126.54124720118492), zoom_start= 13)\n",
    "mc = MarkerCluster()\n",
    "\n",
    "mc.add_child(folium.Marker(location=[33.48908804243811,126.49294055515932], popup='중소2', icon=folium.Icon(color='red')))\n",
    "\n",
    "# minimap = MiniMap()\n",
    "# map_jeju.add_child(minimap)\n",
    "\n",
    "# map_jeju.add_child(mc)"
   ]
  },
  {
   "cell_type": "code",
   "execution_count": 25,
   "metadata": {},
   "outputs": [],
   "source": [
    "map = folium.Map((33.38773221915759, 126.54124720118492), zoom_start= 13)\n",
    "\n",
    "# 중소2 서클 추가 \n",
    "for i in range(len(df_js2['FranClass'])):\n",
    "    folium.Circle(list(df_js2.iloc[i][['lat','lon']]), radius=5, color = '#e41a1c',fill_color = '#e41a1c').add_to(map)\n",
    "\n",
    "# 중소1 서클 추가 \n",
    "for i in range(len(df_js1['FranClass'])):\n",
    "    folium.Circle(list(df_js1.iloc[i][['lat','lon']]), radius=5, color = '#377eb8',fill_color = '#377eb8').add_to(map)\n",
    "\n",
    "# 중소 서클 추가 \n",
    "for i in range(len(df_js['FranClass'])):\n",
    "    folium.Circle(list(df_js.iloc[i][['lat','lon']]), radius=5, color = '#4daf4a',fill_color = '#4daf4a').add_to(map)\n",
    "\n",
    "# 일반 서클 추가 \n",
    "for i in range(len(df_gn['FranClass'])):\n",
    "    folium.Circle(list(df_gn.iloc[i][['lat','lon']]), radius=5, color = '#984ea3',fill_color = '#984ea3').add_to(map)\n",
    "\n",
    "# 일반 서클 추가 \n",
    "for i in range(len(df_ys['FranClass'])):\n",
    "    folium.Circle(list(df_ys.iloc[i][['lat','lon']]), radius=5, color = '#ff7f00',fill_color = '#ff7f00').add_to(map)    \n",
    "\n",
    "\n",
    "map\n",
    "map.save('map_all.html')"
   ]
  },
  {
   "cell_type": "code",
   "execution_count": 26,
   "metadata": {},
   "outputs": [],
   "source": [
    "map = folium.Map((33.38773221915759, 126.54124720118492), zoom_start= 10)\n",
    "\n",
    "# 중소2 서클 추가 \n",
    "for i in range(len(df_js2['FranClass'])):\n",
    "    folium.Circle(list(df_js2.iloc[i][['lat','lon']]), radius=5, color = '#e41a1c',fill_color = '#e41a1c').add_to(map)\n",
    "\n",
    "# # 중소1 서클 추가 \n",
    "# for i in range(len(df_js1['FranClass'])):\n",
    "#     folium.Circle(list(df_js1.iloc[i][['lat','lon']]), radius=5, color = '#d7b5d8',fill_color = '#d7b5d8').add_to(map)\n",
    "\n",
    "# # 중소 서클 추가 \n",
    "# for i in range(len(df_js['FranClass'])):\n",
    "#     folium.Circle(list(df_js.iloc[i][['lat','lon']]), radius=5, color = '#df65b0',fill_color = '#df65b0').add_to(map)\n",
    "\n",
    "# # 일반 서클 추가 \n",
    "# for i in range(len(df_gn['FranClass'])):\n",
    "#     folium.Circle(list(df_gn.iloc[i][['lat','lon']]), radius=5, color = '#dd1c77',fill_color = '#dd1c77').add_to(map)\n",
    "\n",
    "# # 영세 서클 추가 \n",
    "# for i in range(len(df_ys['FranClass'])):\n",
    "#     folium.Circle(list(df_ys.iloc[i][['lat','lon']]), radius=5, color = '#980043',fill_color = '#980043').add_to(map)    \n",
    "\n",
    "\n",
    "# map\n",
    "# map.save('map_all.html')"
   ]
  },
  {
   "cell_type": "code",
   "execution_count": 27,
   "metadata": {},
   "outputs": [
    {
     "output_type": "execute_result",
     "data": {
      "text/plain": [
       "   OBJECTID  Field1      YM     SIDO SIGUNGU FranClass  Type Time  TotalSpent  \\\n",
       "0         1       1  202005  제주특별자치도     제주시        영세  일반한식  00시      363000   \n",
       "1         2       2  202005  제주특별자치도     제주시        영세  단란주점  00시     1180000   \n",
       "2         3       3  202005  제주특별자치도     제주시       중소1   편의점  00시      157670   \n",
       "3         4       4  202005  제주특별자치도     제주시        영세   편의점  00시       46600   \n",
       "4         5       5  202005  제주특별자치도     제주시        영세    주점  00시       66000   \n",
       "\n",
       "   DisSpent  NumofSpent  NumofDisSpent      POINT_X       POINT_Y  \\\n",
       "0     66500          10              2  877005.9834  1.479766e+06   \n",
       "1         0           3              0  877005.7447  1.479816e+06   \n",
       "2      6850          20              2  877056.6756  1.479616e+06   \n",
       "3         0           2              0  877055.9593  1.479766e+06   \n",
       "4         0           2              0  877055.4817  1.479866e+06   \n",
       "\n",
       "                  lon                 lat  \\\n",
       "0  126.17889362710162   33.30231529076243   \n",
       "1  126.17888426813494  33.302765922881875   \n",
       "2  126.17945834265305   33.30097125427593   \n",
       "3  126.17943027296923   33.30232314934195   \n",
       "4  126.17941155823847   33.30322441283756   \n",
       "\n",
       "                                 lon_lat  \n",
       "0   126.17889362710162_33.30231529076243  \n",
       "1  126.17888426813494_33.302765922881875  \n",
       "2   126.17945834265305_33.30097125427593  \n",
       "3   126.17943027296923_33.30232314934195  \n",
       "4   126.17941155823847_33.30322441283756  "
      ],
      "text/html": "<div>\n<style scoped>\n    .dataframe tbody tr th:only-of-type {\n        vertical-align: middle;\n    }\n\n    .dataframe tbody tr th {\n        vertical-align: top;\n    }\n\n    .dataframe thead th {\n        text-align: right;\n    }\n</style>\n<table border=\"1\" class=\"dataframe\">\n  <thead>\n    <tr style=\"text-align: right;\">\n      <th></th>\n      <th>OBJECTID</th>\n      <th>Field1</th>\n      <th>YM</th>\n      <th>SIDO</th>\n      <th>SIGUNGU</th>\n      <th>FranClass</th>\n      <th>Type</th>\n      <th>Time</th>\n      <th>TotalSpent</th>\n      <th>DisSpent</th>\n      <th>NumofSpent</th>\n      <th>NumofDisSpent</th>\n      <th>POINT_X</th>\n      <th>POINT_Y</th>\n      <th>lon</th>\n      <th>lat</th>\n      <th>lon_lat</th>\n    </tr>\n  </thead>\n  <tbody>\n    <tr>\n      <th>0</th>\n      <td>1</td>\n      <td>1</td>\n      <td>202005</td>\n      <td>제주특별자치도</td>\n      <td>제주시</td>\n      <td>영세</td>\n      <td>일반한식</td>\n      <td>00시</td>\n      <td>363000</td>\n      <td>66500</td>\n      <td>10</td>\n      <td>2</td>\n      <td>877005.9834</td>\n      <td>1.479766e+06</td>\n      <td>126.17889362710162</td>\n      <td>33.30231529076243</td>\n      <td>126.17889362710162_33.30231529076243</td>\n    </tr>\n    <tr>\n      <th>1</th>\n      <td>2</td>\n      <td>2</td>\n      <td>202005</td>\n      <td>제주특별자치도</td>\n      <td>제주시</td>\n      <td>영세</td>\n      <td>단란주점</td>\n      <td>00시</td>\n      <td>1180000</td>\n      <td>0</td>\n      <td>3</td>\n      <td>0</td>\n      <td>877005.7447</td>\n      <td>1.479816e+06</td>\n      <td>126.17888426813494</td>\n      <td>33.302765922881875</td>\n      <td>126.17888426813494_33.302765922881875</td>\n    </tr>\n    <tr>\n      <th>2</th>\n      <td>3</td>\n      <td>3</td>\n      <td>202005</td>\n      <td>제주특별자치도</td>\n      <td>제주시</td>\n      <td>중소1</td>\n      <td>편의점</td>\n      <td>00시</td>\n      <td>157670</td>\n      <td>6850</td>\n      <td>20</td>\n      <td>2</td>\n      <td>877056.6756</td>\n      <td>1.479616e+06</td>\n      <td>126.17945834265305</td>\n      <td>33.30097125427593</td>\n      <td>126.17945834265305_33.30097125427593</td>\n    </tr>\n    <tr>\n      <th>3</th>\n      <td>4</td>\n      <td>4</td>\n      <td>202005</td>\n      <td>제주특별자치도</td>\n      <td>제주시</td>\n      <td>영세</td>\n      <td>편의점</td>\n      <td>00시</td>\n      <td>46600</td>\n      <td>0</td>\n      <td>2</td>\n      <td>0</td>\n      <td>877055.9593</td>\n      <td>1.479766e+06</td>\n      <td>126.17943027296923</td>\n      <td>33.30232314934195</td>\n      <td>126.17943027296923_33.30232314934195</td>\n    </tr>\n    <tr>\n      <th>4</th>\n      <td>5</td>\n      <td>5</td>\n      <td>202005</td>\n      <td>제주특별자치도</td>\n      <td>제주시</td>\n      <td>영세</td>\n      <td>주점</td>\n      <td>00시</td>\n      <td>66000</td>\n      <td>0</td>\n      <td>2</td>\n      <td>0</td>\n      <td>877055.4817</td>\n      <td>1.479866e+06</td>\n      <td>126.17941155823847</td>\n      <td>33.30322441283756</td>\n      <td>126.17941155823847_33.30322441283756</td>\n    </tr>\n  </tbody>\n</table>\n</div>"
     },
     "metadata": {},
     "execution_count": 27
    }
   ],
   "source": [
    "########### 주소 가져오기 ############ \n",
    "# 1. 중복 위도 경도 삭제 \n",
    "# 2. 유니크 값만 주소 API 로 데이터 가져오기 \n",
    "# 3. DF 와 merge 시키기 \n",
    "\n",
    "df.head()"
   ]
  },
  {
   "cell_type": "code",
   "execution_count": 28,
   "metadata": {},
   "outputs": [
    {
     "output_type": "execute_result",
     "data": {
      "text/plain": [
       "lon_lat\n",
       "126.96951006044938_33.49847009919258     1\n",
       "126.48544160292364_33.487193564199174    1\n",
       "126.48541302178809_33.45789217335456     1\n",
       "126.48541024967045_33.488996318122375    1\n",
       "126.48539457164357_33.48989769487357     1\n",
       "                                        ..\n",
       "126.55718128617019_33.247773337040584    1\n",
       "126.5571738871868_33.24822405800287      1\n",
       "126.5571664880694_33.2486747789311       1\n",
       "126.55715908882763_33.24912549892337     1\n",
       "126.16370558240443_33.33544861735468     1\n",
       "Length: 13820, dtype: int64"
      ]
     },
     "metadata": {},
     "execution_count": 28
    }
   ],
   "source": [
    "# 1. 중복 위도 경도 삭제 \n",
    "df_uniq = df.drop_duplicates('lon_lat')\n",
    "df_uniq.value_counts('lon_lat')"
   ]
  },
  {
   "cell_type": "code",
   "execution_count": 32,
   "metadata": {},
   "outputs": [
    {
     "output_type": "stream",
     "name": "stdout",
     "text": [
      "<class 'pandas.core.frame.DataFrame'>\nInt64Index: 13820 entries, 0 to 271852\nData columns (total 17 columns):\n #   Column         Non-Null Count  Dtype  \n---  ------         --------------  -----  \n 0   OBJECTID       13820 non-null  int64  \n 1   Field1         13820 non-null  int64  \n 2   YM             13820 non-null  int64  \n 3   SIDO           13820 non-null  object \n 4   SIGUNGU        13820 non-null  object \n 5   FranClass      13820 non-null  object \n 6   Type           13820 non-null  object \n 7   Time           13820 non-null  object \n 8   TotalSpent     13820 non-null  int64  \n 9   DisSpent       13820 non-null  int64  \n 10  NumofSpent     13820 non-null  int64  \n 11  NumofDisSpent  13820 non-null  int64  \n 12  POINT_X        13820 non-null  float64\n 13  POINT_Y        13820 non-null  float64\n 14  lon            13820 non-null  object \n 15  lat            13820 non-null  object \n 16  lon_lat        13820 non-null  object \ndtypes: float64(2), int64(7), object(8)\nmemory usage: 1.9+ MB\n"
     ]
    }
   ],
   "source": [
    "# 2. 유니크 좌표 값 주소 가져오기 \n",
    "df_uniq.info()"
   ]
  },
  {
   "cell_type": "code",
   "execution_count": 72,
   "metadata": {},
   "outputs": [
    {
     "output_type": "execute_result",
     "data": {
      "text/plain": [
       "   level_0  index  OBJECTID  Field1      YM     SIDO SIGUNGU FranClass  Type  \\\n",
       "0        0      0         1       1  202005  제주특별자치도     제주시        영세  일반한식   \n",
       "1        1      1         2       2  202005  제주특별자치도     제주시        영세  단란주점   \n",
       "2        2      2         3       3  202005  제주특별자치도     제주시       중소1   편의점   \n",
       "3        3      3         4       4  202005  제주특별자치도     제주시        영세   편의점   \n",
       "4        4      4         5       5  202005  제주특별자치도     제주시        영세    주점   \n",
       "\n",
       "  Time  TotalSpent  DisSpent  NumofSpent  NumofDisSpent      POINT_X  \\\n",
       "0  00시      363000     66500          10              2  877005.9834   \n",
       "1  00시     1180000         0           3              0  877005.7447   \n",
       "2  00시      157670      6850          20              2  877056.6756   \n",
       "3  00시       46600         0           2              0  877055.9593   \n",
       "4  00시       66000         0           2              0  877055.4817   \n",
       "\n",
       "        POINT_Y                 lon                 lat  \\\n",
       "0  1.479766e+06  126.17889362710162   33.30231529076243   \n",
       "1  1.479816e+06  126.17888426813494  33.302765922881875   \n",
       "2  1.479616e+06  126.17945834265305   33.30097125427593   \n",
       "3  1.479766e+06  126.17943027296923   33.30232314934195   \n",
       "4  1.479866e+06  126.17941155823847   33.30322441283756   \n",
       "\n",
       "                                 lon_lat  \\\n",
       "0   126.17889362710162_33.30231529076243   \n",
       "1  126.17888426813494_33.302765922881875   \n",
       "2   126.17945834265305_33.30097125427593   \n",
       "3   126.17943027296923_33.30232314934195   \n",
       "4   126.17941155823847_33.30322441283756   \n",
       "\n",
       "                                                 url  \n",
       "0  https://dapi.kakao.com/v2/local/geo/coord2regi...  \n",
       "1  https://dapi.kakao.com/v2/local/geo/coord2regi...  \n",
       "2  https://dapi.kakao.com/v2/local/geo/coord2regi...  \n",
       "3  https://dapi.kakao.com/v2/local/geo/coord2regi...  \n",
       "4  https://dapi.kakao.com/v2/local/geo/coord2regi...  "
      ],
      "text/html": "<div>\n<style scoped>\n    .dataframe tbody tr th:only-of-type {\n        vertical-align: middle;\n    }\n\n    .dataframe tbody tr th {\n        vertical-align: top;\n    }\n\n    .dataframe thead th {\n        text-align: right;\n    }\n</style>\n<table border=\"1\" class=\"dataframe\">\n  <thead>\n    <tr style=\"text-align: right;\">\n      <th></th>\n      <th>level_0</th>\n      <th>index</th>\n      <th>OBJECTID</th>\n      <th>Field1</th>\n      <th>YM</th>\n      <th>SIDO</th>\n      <th>SIGUNGU</th>\n      <th>FranClass</th>\n      <th>Type</th>\n      <th>Time</th>\n      <th>TotalSpent</th>\n      <th>DisSpent</th>\n      <th>NumofSpent</th>\n      <th>NumofDisSpent</th>\n      <th>POINT_X</th>\n      <th>POINT_Y</th>\n      <th>lon</th>\n      <th>lat</th>\n      <th>lon_lat</th>\n      <th>url</th>\n    </tr>\n  </thead>\n  <tbody>\n    <tr>\n      <th>0</th>\n      <td>0</td>\n      <td>0</td>\n      <td>1</td>\n      <td>1</td>\n      <td>202005</td>\n      <td>제주특별자치도</td>\n      <td>제주시</td>\n      <td>영세</td>\n      <td>일반한식</td>\n      <td>00시</td>\n      <td>363000</td>\n      <td>66500</td>\n      <td>10</td>\n      <td>2</td>\n      <td>877005.9834</td>\n      <td>1.479766e+06</td>\n      <td>126.17889362710162</td>\n      <td>33.30231529076243</td>\n      <td>126.17889362710162_33.30231529076243</td>\n      <td>https://dapi.kakao.com/v2/local/geo/coord2regi...</td>\n    </tr>\n    <tr>\n      <th>1</th>\n      <td>1</td>\n      <td>1</td>\n      <td>2</td>\n      <td>2</td>\n      <td>202005</td>\n      <td>제주특별자치도</td>\n      <td>제주시</td>\n      <td>영세</td>\n      <td>단란주점</td>\n      <td>00시</td>\n      <td>1180000</td>\n      <td>0</td>\n      <td>3</td>\n      <td>0</td>\n      <td>877005.7447</td>\n      <td>1.479816e+06</td>\n      <td>126.17888426813494</td>\n      <td>33.302765922881875</td>\n      <td>126.17888426813494_33.302765922881875</td>\n      <td>https://dapi.kakao.com/v2/local/geo/coord2regi...</td>\n    </tr>\n    <tr>\n      <th>2</th>\n      <td>2</td>\n      <td>2</td>\n      <td>3</td>\n      <td>3</td>\n      <td>202005</td>\n      <td>제주특별자치도</td>\n      <td>제주시</td>\n      <td>중소1</td>\n      <td>편의점</td>\n      <td>00시</td>\n      <td>157670</td>\n      <td>6850</td>\n      <td>20</td>\n      <td>2</td>\n      <td>877056.6756</td>\n      <td>1.479616e+06</td>\n      <td>126.17945834265305</td>\n      <td>33.30097125427593</td>\n      <td>126.17945834265305_33.30097125427593</td>\n      <td>https://dapi.kakao.com/v2/local/geo/coord2regi...</td>\n    </tr>\n    <tr>\n      <th>3</th>\n      <td>3</td>\n      <td>3</td>\n      <td>4</td>\n      <td>4</td>\n      <td>202005</td>\n      <td>제주특별자치도</td>\n      <td>제주시</td>\n      <td>영세</td>\n      <td>편의점</td>\n      <td>00시</td>\n      <td>46600</td>\n      <td>0</td>\n      <td>2</td>\n      <td>0</td>\n      <td>877055.9593</td>\n      <td>1.479766e+06</td>\n      <td>126.17943027296923</td>\n      <td>33.30232314934195</td>\n      <td>126.17943027296923_33.30232314934195</td>\n      <td>https://dapi.kakao.com/v2/local/geo/coord2regi...</td>\n    </tr>\n    <tr>\n      <th>4</th>\n      <td>4</td>\n      <td>4</td>\n      <td>5</td>\n      <td>5</td>\n      <td>202005</td>\n      <td>제주특별자치도</td>\n      <td>제주시</td>\n      <td>영세</td>\n      <td>주점</td>\n      <td>00시</td>\n      <td>66000</td>\n      <td>0</td>\n      <td>2</td>\n      <td>0</td>\n      <td>877055.4817</td>\n      <td>1.479866e+06</td>\n      <td>126.17941155823847</td>\n      <td>33.30322441283756</td>\n      <td>126.17941155823847_33.30322441283756</td>\n      <td>https://dapi.kakao.com/v2/local/geo/coord2regi...</td>\n    </tr>\n  </tbody>\n</table>\n</div>"
     },
     "metadata": {},
     "execution_count": 72
    }
   ],
   "source": [
    "# url 컬럼 작업 \n",
    "\n",
    "df_uniq['url1'] = 'https://dapi.kakao.com/v2/local/geo/coord2regioncode.json?x=' + df_uniq['lon']\n",
    "df_uniq['url2'] = '&y=' + df_uniq['lat']\n",
    "df_uniq['url'] = df_uniq['url1'] + df_uniq['url2']\n",
    "\n",
    "\n",
    "df_uniq.drop(columns=['url1','url2'],axis=1,inplace=True)\n",
    "df_uniq = df_uniq.reset_index()\n",
    "df_uniq.head(5)"
   ]
  },
  {
   "cell_type": "code",
   "execution_count": 66,
   "metadata": {},
   "outputs": [
    {
     "output_type": "stream",
     "name": "stdout",
     "text": [
      "converted point to addr\n"
     ]
    }
   ],
   "source": [
    "dong_ls = []\n",
    "\n",
    "for i in range(len(df_uniq.index)):\n",
    "    url = df_uniq['url'][i]\n",
    "    headers = {\"Authorization\": \"KakaoAK 9c01f59434bc3920843d9dd0279e6e6c\"}\n",
    "    api_test = requests.get(url, headers=headers)\n",
    "    url_text = json.loads(api_test.text)\n",
    "    dong = url_text['documents'][0]['region_3depth_name']\n",
    "    dong_ls.append(dong)\n",
    "print('converted point to addr')"
   ]
  },
  {
   "cell_type": "code",
   "execution_count": 68,
   "metadata": {},
   "outputs": [],
   "source": [
    "# 가져온 주소값 df 변환 \n",
    "dic = {'dong':dong_ls}"
   ]
  },
  {
   "cell_type": "code",
   "execution_count": 79,
   "metadata": {},
   "outputs": [
    {
     "output_type": "execute_result",
     "data": {
      "text/plain": [
       "       dong\n",
       "13815   안덕면\n",
       "13816  이호일동\n",
       "13817   하원동\n",
       "13818  용담이동\n",
       "13819   서홍동"
      ],
      "text/html": "<div>\n<style scoped>\n    .dataframe tbody tr th:only-of-type {\n        vertical-align: middle;\n    }\n\n    .dataframe tbody tr th {\n        vertical-align: top;\n    }\n\n    .dataframe thead th {\n        text-align: right;\n    }\n</style>\n<table border=\"1\" class=\"dataframe\">\n  <thead>\n    <tr style=\"text-align: right;\">\n      <th></th>\n      <th>dong</th>\n    </tr>\n  </thead>\n  <tbody>\n    <tr>\n      <th>13815</th>\n      <td>안덕면</td>\n    </tr>\n    <tr>\n      <th>13816</th>\n      <td>이호일동</td>\n    </tr>\n    <tr>\n      <th>13817</th>\n      <td>하원동</td>\n    </tr>\n    <tr>\n      <th>13818</th>\n      <td>용담이동</td>\n    </tr>\n    <tr>\n      <th>13819</th>\n      <td>서홍동</td>\n    </tr>\n  </tbody>\n</table>\n</div>"
     },
     "metadata": {},
     "execution_count": 79
    }
   ],
   "source": [
    "df_dong  = pd.DataFrame(dic)\n",
    "df_dong.tail()"
   ]
  },
  {
   "cell_type": "code",
   "execution_count": 80,
   "metadata": {},
   "outputs": [],
   "source": [
    "# 3. DF 와 merge 시키기 \n",
    "\n",
    "df_join = df_uniq.join(df_dong)"
   ]
  },
  {
   "cell_type": "code",
   "execution_count": 81,
   "metadata": {},
   "outputs": [
    {
     "output_type": "execute_result",
     "data": {
      "text/plain": [
       "       level_0   index  OBJECTID  Field1      YM     SIDO SIGUNGU FranClass  \\\n",
       "0            0       0         1       1  202005  제주특별자치도     제주시        영세   \n",
       "1            1       1         2       2  202005  제주특별자치도     제주시        영세   \n",
       "2            2       2         3       3  202005  제주특별자치도     제주시       중소1   \n",
       "3            3       3         4       4  202005  제주특별자치도     제주시        영세   \n",
       "4            4       4         5       5  202005  제주특별자치도     제주시        영세   \n",
       "...        ...     ...       ...     ...     ...      ...     ...       ...   \n",
       "13815    13815  268814    268815  268815  202005  제주특별자치도    서귀포시        영세   \n",
       "13816    13816  269415    269416  269416  202005  제주특별자치도     제주시        일반   \n",
       "13817    13817  269435    269436  269436  202005  제주특별자치도    서귀포시        영세   \n",
       "13818    13818  270507    270508  270508  202005  제주특별자치도     제주시        일반   \n",
       "13819    13819  271852    271853  271853  202005  제주특별자치도    서귀포시        일반   \n",
       "\n",
       "              Type Time  ...  DisSpent  NumofSpent  NumofDisSpent  \\\n",
       "0             일반한식  00시  ...     66500          10              2   \n",
       "1             단란주점  00시  ...         0           3              0   \n",
       "2              편의점  00시  ...      6850          20              2   \n",
       "3              편의점  00시  ...         0           2              0   \n",
       "4               주점  00시  ...         0           2              0   \n",
       "...            ...  ...  ...       ...         ...            ...   \n",
       "13815        기타숙박업   x시  ...         0           1              0   \n",
       "13816  건강식품(회원제형태)   x시  ...         0          12              0   \n",
       "13817        기타숙박업   x시  ...         0           1              0   \n",
       "13818       기타음료식품   x시  ...         0           1              0   \n",
       "13819       기타음료식품   x시  ...         0           1              0   \n",
       "\n",
       "           POINT_X       POINT_Y                 lon                 lat  \\\n",
       "0      877005.9834  1.479766e+06  126.17889362710162   33.30231529076243   \n",
       "1      877005.7447  1.479816e+06  126.17888426813494  33.302765922881875   \n",
       "2      877056.6756  1.479616e+06  126.17945834265305   33.30097125427593   \n",
       "3      877055.9593  1.479766e+06  126.17943027296923   33.30232314934195   \n",
       "4      877055.4817  1.479866e+06  126.17941155823847   33.30322441283756   \n",
       "...            ...           ...                 ...                 ...   \n",
       "13815  889087.2224  1.472077e+06  126.30957647197593   33.23428902334641   \n",
       "13816  903092.2237  1.501082e+06  126.45675120309421   33.49720789225105   \n",
       "13817  903666.4287  1.475096e+06  126.46571021256327    33.2629083000071   \n",
       "13818  907738.4497  1.501454e+06  126.50672452857444   33.50097517749024   \n",
       "13819  912018.4146  1.473936e+06  126.55548315030599   33.25316331771586   \n",
       "\n",
       "                                     lon_lat  \\\n",
       "0       126.17889362710162_33.30231529076243   \n",
       "1      126.17888426813494_33.302765922881875   \n",
       "2       126.17945834265305_33.30097125427593   \n",
       "3       126.17943027296923_33.30232314934195   \n",
       "4       126.17941155823847_33.30322441283756   \n",
       "...                                      ...   \n",
       "13815   126.30957647197593_33.23428902334641   \n",
       "13816   126.45675120309421_33.49720789225105   \n",
       "13817    126.46571021256327_33.2629083000071   \n",
       "13818   126.50672452857444_33.50097517749024   \n",
       "13819   126.55548315030599_33.25316331771586   \n",
       "\n",
       "                                                     url  dong  \n",
       "0      https://dapi.kakao.com/v2/local/geo/coord2regi...   한경면  \n",
       "1      https://dapi.kakao.com/v2/local/geo/coord2regi...   한경면  \n",
       "2      https://dapi.kakao.com/v2/local/geo/coord2regi...   한경면  \n",
       "3      https://dapi.kakao.com/v2/local/geo/coord2regi...   한경면  \n",
       "4      https://dapi.kakao.com/v2/local/geo/coord2regi...   한경면  \n",
       "...                                                  ...   ...  \n",
       "13815  https://dapi.kakao.com/v2/local/geo/coord2regi...   안덕면  \n",
       "13816  https://dapi.kakao.com/v2/local/geo/coord2regi...  이호일동  \n",
       "13817  https://dapi.kakao.com/v2/local/geo/coord2regi...   하원동  \n",
       "13818  https://dapi.kakao.com/v2/local/geo/coord2regi...  용담이동  \n",
       "13819  https://dapi.kakao.com/v2/local/geo/coord2regi...   서홍동  \n",
       "\n",
       "[13820 rows x 21 columns]"
      ],
      "text/html": "<div>\n<style scoped>\n    .dataframe tbody tr th:only-of-type {\n        vertical-align: middle;\n    }\n\n    .dataframe tbody tr th {\n        vertical-align: top;\n    }\n\n    .dataframe thead th {\n        text-align: right;\n    }\n</style>\n<table border=\"1\" class=\"dataframe\">\n  <thead>\n    <tr style=\"text-align: right;\">\n      <th></th>\n      <th>level_0</th>\n      <th>index</th>\n      <th>OBJECTID</th>\n      <th>Field1</th>\n      <th>YM</th>\n      <th>SIDO</th>\n      <th>SIGUNGU</th>\n      <th>FranClass</th>\n      <th>Type</th>\n      <th>Time</th>\n      <th>...</th>\n      <th>DisSpent</th>\n      <th>NumofSpent</th>\n      <th>NumofDisSpent</th>\n      <th>POINT_X</th>\n      <th>POINT_Y</th>\n      <th>lon</th>\n      <th>lat</th>\n      <th>lon_lat</th>\n      <th>url</th>\n      <th>dong</th>\n    </tr>\n  </thead>\n  <tbody>\n    <tr>\n      <th>0</th>\n      <td>0</td>\n      <td>0</td>\n      <td>1</td>\n      <td>1</td>\n      <td>202005</td>\n      <td>제주특별자치도</td>\n      <td>제주시</td>\n      <td>영세</td>\n      <td>일반한식</td>\n      <td>00시</td>\n      <td>...</td>\n      <td>66500</td>\n      <td>10</td>\n      <td>2</td>\n      <td>877005.9834</td>\n      <td>1.479766e+06</td>\n      <td>126.17889362710162</td>\n      <td>33.30231529076243</td>\n      <td>126.17889362710162_33.30231529076243</td>\n      <td>https://dapi.kakao.com/v2/local/geo/coord2regi...</td>\n      <td>한경면</td>\n    </tr>\n    <tr>\n      <th>1</th>\n      <td>1</td>\n      <td>1</td>\n      <td>2</td>\n      <td>2</td>\n      <td>202005</td>\n      <td>제주특별자치도</td>\n      <td>제주시</td>\n      <td>영세</td>\n      <td>단란주점</td>\n      <td>00시</td>\n      <td>...</td>\n      <td>0</td>\n      <td>3</td>\n      <td>0</td>\n      <td>877005.7447</td>\n      <td>1.479816e+06</td>\n      <td>126.17888426813494</td>\n      <td>33.302765922881875</td>\n      <td>126.17888426813494_33.302765922881875</td>\n      <td>https://dapi.kakao.com/v2/local/geo/coord2regi...</td>\n      <td>한경면</td>\n    </tr>\n    <tr>\n      <th>2</th>\n      <td>2</td>\n      <td>2</td>\n      <td>3</td>\n      <td>3</td>\n      <td>202005</td>\n      <td>제주특별자치도</td>\n      <td>제주시</td>\n      <td>중소1</td>\n      <td>편의점</td>\n      <td>00시</td>\n      <td>...</td>\n      <td>6850</td>\n      <td>20</td>\n      <td>2</td>\n      <td>877056.6756</td>\n      <td>1.479616e+06</td>\n      <td>126.17945834265305</td>\n      <td>33.30097125427593</td>\n      <td>126.17945834265305_33.30097125427593</td>\n      <td>https://dapi.kakao.com/v2/local/geo/coord2regi...</td>\n      <td>한경면</td>\n    </tr>\n    <tr>\n      <th>3</th>\n      <td>3</td>\n      <td>3</td>\n      <td>4</td>\n      <td>4</td>\n      <td>202005</td>\n      <td>제주특별자치도</td>\n      <td>제주시</td>\n      <td>영세</td>\n      <td>편의점</td>\n      <td>00시</td>\n      <td>...</td>\n      <td>0</td>\n      <td>2</td>\n      <td>0</td>\n      <td>877055.9593</td>\n      <td>1.479766e+06</td>\n      <td>126.17943027296923</td>\n      <td>33.30232314934195</td>\n      <td>126.17943027296923_33.30232314934195</td>\n      <td>https://dapi.kakao.com/v2/local/geo/coord2regi...</td>\n      <td>한경면</td>\n    </tr>\n    <tr>\n      <th>4</th>\n      <td>4</td>\n      <td>4</td>\n      <td>5</td>\n      <td>5</td>\n      <td>202005</td>\n      <td>제주특별자치도</td>\n      <td>제주시</td>\n      <td>영세</td>\n      <td>주점</td>\n      <td>00시</td>\n      <td>...</td>\n      <td>0</td>\n      <td>2</td>\n      <td>0</td>\n      <td>877055.4817</td>\n      <td>1.479866e+06</td>\n      <td>126.17941155823847</td>\n      <td>33.30322441283756</td>\n      <td>126.17941155823847_33.30322441283756</td>\n      <td>https://dapi.kakao.com/v2/local/geo/coord2regi...</td>\n      <td>한경면</td>\n    </tr>\n    <tr>\n      <th>...</th>\n      <td>...</td>\n      <td>...</td>\n      <td>...</td>\n      <td>...</td>\n      <td>...</td>\n      <td>...</td>\n      <td>...</td>\n      <td>...</td>\n      <td>...</td>\n      <td>...</td>\n      <td>...</td>\n      <td>...</td>\n      <td>...</td>\n      <td>...</td>\n      <td>...</td>\n      <td>...</td>\n      <td>...</td>\n      <td>...</td>\n      <td>...</td>\n      <td>...</td>\n      <td>...</td>\n    </tr>\n    <tr>\n      <th>13815</th>\n      <td>13815</td>\n      <td>268814</td>\n      <td>268815</td>\n      <td>268815</td>\n      <td>202005</td>\n      <td>제주특별자치도</td>\n      <td>서귀포시</td>\n      <td>영세</td>\n      <td>기타숙박업</td>\n      <td>x시</td>\n      <td>...</td>\n      <td>0</td>\n      <td>1</td>\n      <td>0</td>\n      <td>889087.2224</td>\n      <td>1.472077e+06</td>\n      <td>126.30957647197593</td>\n      <td>33.23428902334641</td>\n      <td>126.30957647197593_33.23428902334641</td>\n      <td>https://dapi.kakao.com/v2/local/geo/coord2regi...</td>\n      <td>안덕면</td>\n    </tr>\n    <tr>\n      <th>13816</th>\n      <td>13816</td>\n      <td>269415</td>\n      <td>269416</td>\n      <td>269416</td>\n      <td>202005</td>\n      <td>제주특별자치도</td>\n      <td>제주시</td>\n      <td>일반</td>\n      <td>건강식품(회원제형태)</td>\n      <td>x시</td>\n      <td>...</td>\n      <td>0</td>\n      <td>12</td>\n      <td>0</td>\n      <td>903092.2237</td>\n      <td>1.501082e+06</td>\n      <td>126.45675120309421</td>\n      <td>33.49720789225105</td>\n      <td>126.45675120309421_33.49720789225105</td>\n      <td>https://dapi.kakao.com/v2/local/geo/coord2regi...</td>\n      <td>이호일동</td>\n    </tr>\n    <tr>\n      <th>13817</th>\n      <td>13817</td>\n      <td>269435</td>\n      <td>269436</td>\n      <td>269436</td>\n      <td>202005</td>\n      <td>제주특별자치도</td>\n      <td>서귀포시</td>\n      <td>영세</td>\n      <td>기타숙박업</td>\n      <td>x시</td>\n      <td>...</td>\n      <td>0</td>\n      <td>1</td>\n      <td>0</td>\n      <td>903666.4287</td>\n      <td>1.475096e+06</td>\n      <td>126.46571021256327</td>\n      <td>33.2629083000071</td>\n      <td>126.46571021256327_33.2629083000071</td>\n      <td>https://dapi.kakao.com/v2/local/geo/coord2regi...</td>\n      <td>하원동</td>\n    </tr>\n    <tr>\n      <th>13818</th>\n      <td>13818</td>\n      <td>270507</td>\n      <td>270508</td>\n      <td>270508</td>\n      <td>202005</td>\n      <td>제주특별자치도</td>\n      <td>제주시</td>\n      <td>일반</td>\n      <td>기타음료식품</td>\n      <td>x시</td>\n      <td>...</td>\n      <td>0</td>\n      <td>1</td>\n      <td>0</td>\n      <td>907738.4497</td>\n      <td>1.501454e+06</td>\n      <td>126.50672452857444</td>\n      <td>33.50097517749024</td>\n      <td>126.50672452857444_33.50097517749024</td>\n      <td>https://dapi.kakao.com/v2/local/geo/coord2regi...</td>\n      <td>용담이동</td>\n    </tr>\n    <tr>\n      <th>13819</th>\n      <td>13819</td>\n      <td>271852</td>\n      <td>271853</td>\n      <td>271853</td>\n      <td>202005</td>\n      <td>제주특별자치도</td>\n      <td>서귀포시</td>\n      <td>일반</td>\n      <td>기타음료식품</td>\n      <td>x시</td>\n      <td>...</td>\n      <td>0</td>\n      <td>1</td>\n      <td>0</td>\n      <td>912018.4146</td>\n      <td>1.473936e+06</td>\n      <td>126.55548315030599</td>\n      <td>33.25316331771586</td>\n      <td>126.55548315030599_33.25316331771586</td>\n      <td>https://dapi.kakao.com/v2/local/geo/coord2regi...</td>\n      <td>서홍동</td>\n    </tr>\n  </tbody>\n</table>\n<p>13820 rows × 21 columns</p>\n</div>"
     },
     "metadata": {},
     "execution_count": 81
    }
   ],
   "source": [
    "df_join # 5월 발생된 매출을 가진 업종에 대한 주소값 확인 "
   ]
  },
  {
   "cell_type": "code",
   "execution_count": 83,
   "metadata": {},
   "outputs": [],
   "source": [
    "# 피클로 저장하기 \n",
    "import pickle\n",
    "\n",
    "with open('jeju_uniq_data5.pickle', 'wb') as fw:\n",
    "    pickle.dump(df_join, fw)\n"
   ]
  },
  {
   "cell_type": "code",
   "execution_count": null,
   "metadata": {},
   "outputs": [],
   "source": [
    "# 변환된 주소값을 원본 데이터와 합치기 "
   ]
  },
  {
   "cell_type": "code",
   "execution_count": 87,
   "metadata": {},
   "outputs": [
    {
     "output_type": "execute_result",
     "data": {
      "text/plain": [
       "                                    lon_lat  dong\n",
       "13815  126.30957647197593_33.23428902334641   안덕면\n",
       "13816  126.45675120309421_33.49720789225105  이호일동\n",
       "13817   126.46571021256327_33.2629083000071   하원동\n",
       "13818  126.50672452857444_33.50097517749024  용담이동\n",
       "13819  126.55548315030599_33.25316331771586   서홍동"
      ],
      "text/html": "<div>\n<style scoped>\n    .dataframe tbody tr th:only-of-type {\n        vertical-align: middle;\n    }\n\n    .dataframe tbody tr th {\n        vertical-align: top;\n    }\n\n    .dataframe thead th {\n        text-align: right;\n    }\n</style>\n<table border=\"1\" class=\"dataframe\">\n  <thead>\n    <tr style=\"text-align: right;\">\n      <th></th>\n      <th>lon_lat</th>\n      <th>dong</th>\n    </tr>\n  </thead>\n  <tbody>\n    <tr>\n      <th>13815</th>\n      <td>126.30957647197593_33.23428902334641</td>\n      <td>안덕면</td>\n    </tr>\n    <tr>\n      <th>13816</th>\n      <td>126.45675120309421_33.49720789225105</td>\n      <td>이호일동</td>\n    </tr>\n    <tr>\n      <th>13817</th>\n      <td>126.46571021256327_33.2629083000071</td>\n      <td>하원동</td>\n    </tr>\n    <tr>\n      <th>13818</th>\n      <td>126.50672452857444_33.50097517749024</td>\n      <td>용담이동</td>\n    </tr>\n    <tr>\n      <th>13819</th>\n      <td>126.55548315030599_33.25316331771586</td>\n      <td>서홍동</td>\n    </tr>\n  </tbody>\n</table>\n</div>"
     },
     "metadata": {},
     "execution_count": 87
    }
   ],
   "source": [
    "df_addr = df_join[['lon_lat','dong']]\n",
    "df_addr.tail()"
   ]
  },
  {
   "cell_type": "code",
   "execution_count": 88,
   "metadata": {},
   "outputs": [
    {
     "output_type": "execute_result",
     "data": {
      "text/plain": [
       "        OBJECTID  Field1      YM     SIDO SIGUNGU FranClass   Type Time  \\\n",
       "273178    273179  273179  202005  제주특별자치도     제주시        중소  침구수예점   x시   \n",
       "273179    273180  273180  202005  제주특별자치도     제주시       중소1   서양음식   x시   \n",
       "273180    273181  273181  202005  제주특별자치도     제주시        영세    편의점   x시   \n",
       "273181    273182  273182  202005  제주특별자치도     제주시        중소    제과점   x시   \n",
       "273182    273183  273183  202005  제주특별자치도     제주시        영세   서양음식   x시   \n",
       "\n",
       "        TotalSpent  DisSpent  NumofSpent  NumofDisSpent      POINT_X  \\\n",
       "273178       17000         0           1              0  949616.6171   \n",
       "273179       12000         0           1              0  949665.1566   \n",
       "273180        4800         0           1              0  950266.5976   \n",
       "273181       25000         0           2              0  950524.6587   \n",
       "273182        6000         0           1              0  950674.5989   \n",
       "\n",
       "             POINT_Y                 lon                 lat  \\\n",
       "273178  1.502505e+06  126.95749518388968   33.51324665784147   \n",
       "273179  1.502805e+06  126.95800093548306   33.51595579736336   \n",
       "273180  1.502458e+06     126.96449620673   33.51285447500652   \n",
       "273181  1.500760e+06  126.96736859949111  33.497550664200574   \n",
       "273182  1.500760e+06  126.96898269451708   33.49756408518746   \n",
       "\n",
       "                                      lon_lat  \\\n",
       "273178   126.95749518388968_33.51324665784147   \n",
       "273179   126.95800093548306_33.51595579736336   \n",
       "273180      126.96449620673_33.51285447500652   \n",
       "273181  126.96736859949111_33.497550664200574   \n",
       "273182   126.96898269451708_33.49756408518746   \n",
       "\n",
       "                                                     url1  \\\n",
       "273178  https://dapi.kakao.com/v2/local/geo/coord2regi...   \n",
       "273179  https://dapi.kakao.com/v2/local/geo/coord2regi...   \n",
       "273180  https://dapi.kakao.com/v2/local/geo/coord2regi...   \n",
       "273181  https://dapi.kakao.com/v2/local/geo/coord2regi...   \n",
       "273182  https://dapi.kakao.com/v2/local/geo/coord2regi...   \n",
       "\n",
       "                         url2  \\\n",
       "273178   &y=33.51324665784147   \n",
       "273179   &y=33.51595579736336   \n",
       "273180   &y=33.51285447500652   \n",
       "273181  &y=33.497550664200574   \n",
       "273182   &y=33.49756408518746   \n",
       "\n",
       "                                                      url  \n",
       "273178  https://dapi.kakao.com/v2/local/geo/coord2regi...  \n",
       "273179  https://dapi.kakao.com/v2/local/geo/coord2regi...  \n",
       "273180  https://dapi.kakao.com/v2/local/geo/coord2regi...  \n",
       "273181  https://dapi.kakao.com/v2/local/geo/coord2regi...  \n",
       "273182  https://dapi.kakao.com/v2/local/geo/coord2regi...  "
      ],
      "text/html": "<div>\n<style scoped>\n    .dataframe tbody tr th:only-of-type {\n        vertical-align: middle;\n    }\n\n    .dataframe tbody tr th {\n        vertical-align: top;\n    }\n\n    .dataframe thead th {\n        text-align: right;\n    }\n</style>\n<table border=\"1\" class=\"dataframe\">\n  <thead>\n    <tr style=\"text-align: right;\">\n      <th></th>\n      <th>OBJECTID</th>\n      <th>Field1</th>\n      <th>YM</th>\n      <th>SIDO</th>\n      <th>SIGUNGU</th>\n      <th>FranClass</th>\n      <th>Type</th>\n      <th>Time</th>\n      <th>TotalSpent</th>\n      <th>DisSpent</th>\n      <th>NumofSpent</th>\n      <th>NumofDisSpent</th>\n      <th>POINT_X</th>\n      <th>POINT_Y</th>\n      <th>lon</th>\n      <th>lat</th>\n      <th>lon_lat</th>\n      <th>url1</th>\n      <th>url2</th>\n      <th>url</th>\n    </tr>\n  </thead>\n  <tbody>\n    <tr>\n      <th>273178</th>\n      <td>273179</td>\n      <td>273179</td>\n      <td>202005</td>\n      <td>제주특별자치도</td>\n      <td>제주시</td>\n      <td>중소</td>\n      <td>침구수예점</td>\n      <td>x시</td>\n      <td>17000</td>\n      <td>0</td>\n      <td>1</td>\n      <td>0</td>\n      <td>949616.6171</td>\n      <td>1.502505e+06</td>\n      <td>126.95749518388968</td>\n      <td>33.51324665784147</td>\n      <td>126.95749518388968_33.51324665784147</td>\n      <td>https://dapi.kakao.com/v2/local/geo/coord2regi...</td>\n      <td>&amp;y=33.51324665784147</td>\n      <td>https://dapi.kakao.com/v2/local/geo/coord2regi...</td>\n    </tr>\n    <tr>\n      <th>273179</th>\n      <td>273180</td>\n      <td>273180</td>\n      <td>202005</td>\n      <td>제주특별자치도</td>\n      <td>제주시</td>\n      <td>중소1</td>\n      <td>서양음식</td>\n      <td>x시</td>\n      <td>12000</td>\n      <td>0</td>\n      <td>1</td>\n      <td>0</td>\n      <td>949665.1566</td>\n      <td>1.502805e+06</td>\n      <td>126.95800093548306</td>\n      <td>33.51595579736336</td>\n      <td>126.95800093548306_33.51595579736336</td>\n      <td>https://dapi.kakao.com/v2/local/geo/coord2regi...</td>\n      <td>&amp;y=33.51595579736336</td>\n      <td>https://dapi.kakao.com/v2/local/geo/coord2regi...</td>\n    </tr>\n    <tr>\n      <th>273180</th>\n      <td>273181</td>\n      <td>273181</td>\n      <td>202005</td>\n      <td>제주특별자치도</td>\n      <td>제주시</td>\n      <td>영세</td>\n      <td>편의점</td>\n      <td>x시</td>\n      <td>4800</td>\n      <td>0</td>\n      <td>1</td>\n      <td>0</td>\n      <td>950266.5976</td>\n      <td>1.502458e+06</td>\n      <td>126.96449620673</td>\n      <td>33.51285447500652</td>\n      <td>126.96449620673_33.51285447500652</td>\n      <td>https://dapi.kakao.com/v2/local/geo/coord2regi...</td>\n      <td>&amp;y=33.51285447500652</td>\n      <td>https://dapi.kakao.com/v2/local/geo/coord2regi...</td>\n    </tr>\n    <tr>\n      <th>273181</th>\n      <td>273182</td>\n      <td>273182</td>\n      <td>202005</td>\n      <td>제주특별자치도</td>\n      <td>제주시</td>\n      <td>중소</td>\n      <td>제과점</td>\n      <td>x시</td>\n      <td>25000</td>\n      <td>0</td>\n      <td>2</td>\n      <td>0</td>\n      <td>950524.6587</td>\n      <td>1.500760e+06</td>\n      <td>126.96736859949111</td>\n      <td>33.497550664200574</td>\n      <td>126.96736859949111_33.497550664200574</td>\n      <td>https://dapi.kakao.com/v2/local/geo/coord2regi...</td>\n      <td>&amp;y=33.497550664200574</td>\n      <td>https://dapi.kakao.com/v2/local/geo/coord2regi...</td>\n    </tr>\n    <tr>\n      <th>273182</th>\n      <td>273183</td>\n      <td>273183</td>\n      <td>202005</td>\n      <td>제주특별자치도</td>\n      <td>제주시</td>\n      <td>영세</td>\n      <td>서양음식</td>\n      <td>x시</td>\n      <td>6000</td>\n      <td>0</td>\n      <td>1</td>\n      <td>0</td>\n      <td>950674.5989</td>\n      <td>1.500760e+06</td>\n      <td>126.96898269451708</td>\n      <td>33.49756408518746</td>\n      <td>126.96898269451708_33.49756408518746</td>\n      <td>https://dapi.kakao.com/v2/local/geo/coord2regi...</td>\n      <td>&amp;y=33.49756408518746</td>\n      <td>https://dapi.kakao.com/v2/local/geo/coord2regi...</td>\n    </tr>\n  </tbody>\n</table>\n</div>"
     },
     "metadata": {},
     "execution_count": 88
    }
   ],
   "source": [
    "df.tail()"
   ]
  },
  {
   "cell_type": "code",
   "execution_count": 91,
   "metadata": {},
   "outputs": [
    {
     "output_type": "execute_result",
     "data": {
      "text/plain": [
       "        OBJECTID  Field1      YM     SIDO SIGUNGU FranClass         Type Time  \\\n",
       "0              1       1  202005  제주특별자치도     제주시        영세         일반한식  00시   \n",
       "1           4904    4904  202005  제주특별자치도     제주시        영세         일반한식  01시   \n",
       "2           8569    8569  202005  제주특별자치도     제주시        영세         일반한식  02시   \n",
       "3          11270   11270  202005  제주특별자치도     제주시        영세         일반한식  03시   \n",
       "4          19122   19122  202005  제주특별자치도     제주시        중소          한의원  07시   \n",
       "...          ...     ...     ...      ...     ...       ...          ...  ...   \n",
       "273178    268815  268815  202005  제주특별자치도    서귀포시        영세        기타숙박업   x시   \n",
       "273179    269416  269416  202005  제주특별자치도     제주시        일반  건강식품(회원제형태)   x시   \n",
       "273180    269436  269436  202005  제주특별자치도    서귀포시        영세        기타숙박업   x시   \n",
       "273181    270508  270508  202005  제주특별자치도     제주시        일반       기타음료식품   x시   \n",
       "273182    271853  271853  202005  제주특별자치도    서귀포시        일반       기타음료식품   x시   \n",
       "\n",
       "        TotalSpent  DisSpent  ...  NumofDisSpent      POINT_X       POINT_Y  \\\n",
       "0           363000     66500  ...              2  877005.9834  1.479766e+06   \n",
       "1            86500         0  ...              0  877005.9834  1.479766e+06   \n",
       "2           208000         0  ...              0  877005.9834  1.479766e+06   \n",
       "3            18000         0  ...              0  877005.9834  1.479766e+06   \n",
       "4             4800         0  ...              0  877005.9834  1.479766e+06   \n",
       "...            ...       ...  ...            ...          ...           ...   \n",
       "273178       50000         0  ...              0  889087.2224  1.472077e+06   \n",
       "273179     7662600         0  ...              0  903092.2237  1.501082e+06   \n",
       "273180      240000         0  ...              0  903666.4287  1.475096e+06   \n",
       "273181       90750         0  ...              0  907738.4497  1.501454e+06   \n",
       "273182      200000         0  ...              0  912018.4146  1.473936e+06   \n",
       "\n",
       "                       lon                lat  \\\n",
       "0       126.17889362710162  33.30231529076243   \n",
       "1       126.17889362710162  33.30231529076243   \n",
       "2       126.17889362710162  33.30231529076243   \n",
       "3       126.17889362710162  33.30231529076243   \n",
       "4       126.17889362710162  33.30231529076243   \n",
       "...                    ...                ...   \n",
       "273178  126.30957647197593  33.23428902334641   \n",
       "273179  126.45675120309421  33.49720789225105   \n",
       "273180  126.46571021256327   33.2629083000071   \n",
       "273181  126.50672452857444  33.50097517749024   \n",
       "273182  126.55548315030599  33.25316331771586   \n",
       "\n",
       "                                     lon_lat  \\\n",
       "0       126.17889362710162_33.30231529076243   \n",
       "1       126.17889362710162_33.30231529076243   \n",
       "2       126.17889362710162_33.30231529076243   \n",
       "3       126.17889362710162_33.30231529076243   \n",
       "4       126.17889362710162_33.30231529076243   \n",
       "...                                      ...   \n",
       "273178  126.30957647197593_33.23428902334641   \n",
       "273179  126.45675120309421_33.49720789225105   \n",
       "273180   126.46571021256327_33.2629083000071   \n",
       "273181  126.50672452857444_33.50097517749024   \n",
       "273182  126.55548315030599_33.25316331771586   \n",
       "\n",
       "                                                     url1  \\\n",
       "0       https://dapi.kakao.com/v2/local/geo/coord2regi...   \n",
       "1       https://dapi.kakao.com/v2/local/geo/coord2regi...   \n",
       "2       https://dapi.kakao.com/v2/local/geo/coord2regi...   \n",
       "3       https://dapi.kakao.com/v2/local/geo/coord2regi...   \n",
       "4       https://dapi.kakao.com/v2/local/geo/coord2regi...   \n",
       "...                                                   ...   \n",
       "273178  https://dapi.kakao.com/v2/local/geo/coord2regi...   \n",
       "273179  https://dapi.kakao.com/v2/local/geo/coord2regi...   \n",
       "273180  https://dapi.kakao.com/v2/local/geo/coord2regi...   \n",
       "273181  https://dapi.kakao.com/v2/local/geo/coord2regi...   \n",
       "273182  https://dapi.kakao.com/v2/local/geo/coord2regi...   \n",
       "\n",
       "                        url2  \\\n",
       "0       &y=33.30231529076243   \n",
       "1       &y=33.30231529076243   \n",
       "2       &y=33.30231529076243   \n",
       "3       &y=33.30231529076243   \n",
       "4       &y=33.30231529076243   \n",
       "...                      ...   \n",
       "273178  &y=33.23428902334641   \n",
       "273179  &y=33.49720789225105   \n",
       "273180   &y=33.2629083000071   \n",
       "273181  &y=33.50097517749024   \n",
       "273182  &y=33.25316331771586   \n",
       "\n",
       "                                                      url  dong  \n",
       "0       https://dapi.kakao.com/v2/local/geo/coord2regi...   한경면  \n",
       "1       https://dapi.kakao.com/v2/local/geo/coord2regi...   한경면  \n",
       "2       https://dapi.kakao.com/v2/local/geo/coord2regi...   한경면  \n",
       "3       https://dapi.kakao.com/v2/local/geo/coord2regi...   한경면  \n",
       "4       https://dapi.kakao.com/v2/local/geo/coord2regi...   한경면  \n",
       "...                                                   ...   ...  \n",
       "273178  https://dapi.kakao.com/v2/local/geo/coord2regi...   안덕면  \n",
       "273179  https://dapi.kakao.com/v2/local/geo/coord2regi...  이호일동  \n",
       "273180  https://dapi.kakao.com/v2/local/geo/coord2regi...   하원동  \n",
       "273181  https://dapi.kakao.com/v2/local/geo/coord2regi...  용담이동  \n",
       "273182  https://dapi.kakao.com/v2/local/geo/coord2regi...   서홍동  \n",
       "\n",
       "[273183 rows x 21 columns]"
      ],
      "text/html": "<div>\n<style scoped>\n    .dataframe tbody tr th:only-of-type {\n        vertical-align: middle;\n    }\n\n    .dataframe tbody tr th {\n        vertical-align: top;\n    }\n\n    .dataframe thead th {\n        text-align: right;\n    }\n</style>\n<table border=\"1\" class=\"dataframe\">\n  <thead>\n    <tr style=\"text-align: right;\">\n      <th></th>\n      <th>OBJECTID</th>\n      <th>Field1</th>\n      <th>YM</th>\n      <th>SIDO</th>\n      <th>SIGUNGU</th>\n      <th>FranClass</th>\n      <th>Type</th>\n      <th>Time</th>\n      <th>TotalSpent</th>\n      <th>DisSpent</th>\n      <th>...</th>\n      <th>NumofDisSpent</th>\n      <th>POINT_X</th>\n      <th>POINT_Y</th>\n      <th>lon</th>\n      <th>lat</th>\n      <th>lon_lat</th>\n      <th>url1</th>\n      <th>url2</th>\n      <th>url</th>\n      <th>dong</th>\n    </tr>\n  </thead>\n  <tbody>\n    <tr>\n      <th>0</th>\n      <td>1</td>\n      <td>1</td>\n      <td>202005</td>\n      <td>제주특별자치도</td>\n      <td>제주시</td>\n      <td>영세</td>\n      <td>일반한식</td>\n      <td>00시</td>\n      <td>363000</td>\n      <td>66500</td>\n      <td>...</td>\n      <td>2</td>\n      <td>877005.9834</td>\n      <td>1.479766e+06</td>\n      <td>126.17889362710162</td>\n      <td>33.30231529076243</td>\n      <td>126.17889362710162_33.30231529076243</td>\n      <td>https://dapi.kakao.com/v2/local/geo/coord2regi...</td>\n      <td>&amp;y=33.30231529076243</td>\n      <td>https://dapi.kakao.com/v2/local/geo/coord2regi...</td>\n      <td>한경면</td>\n    </tr>\n    <tr>\n      <th>1</th>\n      <td>4904</td>\n      <td>4904</td>\n      <td>202005</td>\n      <td>제주특별자치도</td>\n      <td>제주시</td>\n      <td>영세</td>\n      <td>일반한식</td>\n      <td>01시</td>\n      <td>86500</td>\n      <td>0</td>\n      <td>...</td>\n      <td>0</td>\n      <td>877005.9834</td>\n      <td>1.479766e+06</td>\n      <td>126.17889362710162</td>\n      <td>33.30231529076243</td>\n      <td>126.17889362710162_33.30231529076243</td>\n      <td>https://dapi.kakao.com/v2/local/geo/coord2regi...</td>\n      <td>&amp;y=33.30231529076243</td>\n      <td>https://dapi.kakao.com/v2/local/geo/coord2regi...</td>\n      <td>한경면</td>\n    </tr>\n    <tr>\n      <th>2</th>\n      <td>8569</td>\n      <td>8569</td>\n      <td>202005</td>\n      <td>제주특별자치도</td>\n      <td>제주시</td>\n      <td>영세</td>\n      <td>일반한식</td>\n      <td>02시</td>\n      <td>208000</td>\n      <td>0</td>\n      <td>...</td>\n      <td>0</td>\n      <td>877005.9834</td>\n      <td>1.479766e+06</td>\n      <td>126.17889362710162</td>\n      <td>33.30231529076243</td>\n      <td>126.17889362710162_33.30231529076243</td>\n      <td>https://dapi.kakao.com/v2/local/geo/coord2regi...</td>\n      <td>&amp;y=33.30231529076243</td>\n      <td>https://dapi.kakao.com/v2/local/geo/coord2regi...</td>\n      <td>한경면</td>\n    </tr>\n    <tr>\n      <th>3</th>\n      <td>11270</td>\n      <td>11270</td>\n      <td>202005</td>\n      <td>제주특별자치도</td>\n      <td>제주시</td>\n      <td>영세</td>\n      <td>일반한식</td>\n      <td>03시</td>\n      <td>18000</td>\n      <td>0</td>\n      <td>...</td>\n      <td>0</td>\n      <td>877005.9834</td>\n      <td>1.479766e+06</td>\n      <td>126.17889362710162</td>\n      <td>33.30231529076243</td>\n      <td>126.17889362710162_33.30231529076243</td>\n      <td>https://dapi.kakao.com/v2/local/geo/coord2regi...</td>\n      <td>&amp;y=33.30231529076243</td>\n      <td>https://dapi.kakao.com/v2/local/geo/coord2regi...</td>\n      <td>한경면</td>\n    </tr>\n    <tr>\n      <th>4</th>\n      <td>19122</td>\n      <td>19122</td>\n      <td>202005</td>\n      <td>제주특별자치도</td>\n      <td>제주시</td>\n      <td>중소</td>\n      <td>한의원</td>\n      <td>07시</td>\n      <td>4800</td>\n      <td>0</td>\n      <td>...</td>\n      <td>0</td>\n      <td>877005.9834</td>\n      <td>1.479766e+06</td>\n      <td>126.17889362710162</td>\n      <td>33.30231529076243</td>\n      <td>126.17889362710162_33.30231529076243</td>\n      <td>https://dapi.kakao.com/v2/local/geo/coord2regi...</td>\n      <td>&amp;y=33.30231529076243</td>\n      <td>https://dapi.kakao.com/v2/local/geo/coord2regi...</td>\n      <td>한경면</td>\n    </tr>\n    <tr>\n      <th>...</th>\n      <td>...</td>\n      <td>...</td>\n      <td>...</td>\n      <td>...</td>\n      <td>...</td>\n      <td>...</td>\n      <td>...</td>\n      <td>...</td>\n      <td>...</td>\n      <td>...</td>\n      <td>...</td>\n      <td>...</td>\n      <td>...</td>\n      <td>...</td>\n      <td>...</td>\n      <td>...</td>\n      <td>...</td>\n      <td>...</td>\n      <td>...</td>\n      <td>...</td>\n      <td>...</td>\n    </tr>\n    <tr>\n      <th>273178</th>\n      <td>268815</td>\n      <td>268815</td>\n      <td>202005</td>\n      <td>제주특별자치도</td>\n      <td>서귀포시</td>\n      <td>영세</td>\n      <td>기타숙박업</td>\n      <td>x시</td>\n      <td>50000</td>\n      <td>0</td>\n      <td>...</td>\n      <td>0</td>\n      <td>889087.2224</td>\n      <td>1.472077e+06</td>\n      <td>126.30957647197593</td>\n      <td>33.23428902334641</td>\n      <td>126.30957647197593_33.23428902334641</td>\n      <td>https://dapi.kakao.com/v2/local/geo/coord2regi...</td>\n      <td>&amp;y=33.23428902334641</td>\n      <td>https://dapi.kakao.com/v2/local/geo/coord2regi...</td>\n      <td>안덕면</td>\n    </tr>\n    <tr>\n      <th>273179</th>\n      <td>269416</td>\n      <td>269416</td>\n      <td>202005</td>\n      <td>제주특별자치도</td>\n      <td>제주시</td>\n      <td>일반</td>\n      <td>건강식품(회원제형태)</td>\n      <td>x시</td>\n      <td>7662600</td>\n      <td>0</td>\n      <td>...</td>\n      <td>0</td>\n      <td>903092.2237</td>\n      <td>1.501082e+06</td>\n      <td>126.45675120309421</td>\n      <td>33.49720789225105</td>\n      <td>126.45675120309421_33.49720789225105</td>\n      <td>https://dapi.kakao.com/v2/local/geo/coord2regi...</td>\n      <td>&amp;y=33.49720789225105</td>\n      <td>https://dapi.kakao.com/v2/local/geo/coord2regi...</td>\n      <td>이호일동</td>\n    </tr>\n    <tr>\n      <th>273180</th>\n      <td>269436</td>\n      <td>269436</td>\n      <td>202005</td>\n      <td>제주특별자치도</td>\n      <td>서귀포시</td>\n      <td>영세</td>\n      <td>기타숙박업</td>\n      <td>x시</td>\n      <td>240000</td>\n      <td>0</td>\n      <td>...</td>\n      <td>0</td>\n      <td>903666.4287</td>\n      <td>1.475096e+06</td>\n      <td>126.46571021256327</td>\n      <td>33.2629083000071</td>\n      <td>126.46571021256327_33.2629083000071</td>\n      <td>https://dapi.kakao.com/v2/local/geo/coord2regi...</td>\n      <td>&amp;y=33.2629083000071</td>\n      <td>https://dapi.kakao.com/v2/local/geo/coord2regi...</td>\n      <td>하원동</td>\n    </tr>\n    <tr>\n      <th>273181</th>\n      <td>270508</td>\n      <td>270508</td>\n      <td>202005</td>\n      <td>제주특별자치도</td>\n      <td>제주시</td>\n      <td>일반</td>\n      <td>기타음료식품</td>\n      <td>x시</td>\n      <td>90750</td>\n      <td>0</td>\n      <td>...</td>\n      <td>0</td>\n      <td>907738.4497</td>\n      <td>1.501454e+06</td>\n      <td>126.50672452857444</td>\n      <td>33.50097517749024</td>\n      <td>126.50672452857444_33.50097517749024</td>\n      <td>https://dapi.kakao.com/v2/local/geo/coord2regi...</td>\n      <td>&amp;y=33.50097517749024</td>\n      <td>https://dapi.kakao.com/v2/local/geo/coord2regi...</td>\n      <td>용담이동</td>\n    </tr>\n    <tr>\n      <th>273182</th>\n      <td>271853</td>\n      <td>271853</td>\n      <td>202005</td>\n      <td>제주특별자치도</td>\n      <td>서귀포시</td>\n      <td>일반</td>\n      <td>기타음료식품</td>\n      <td>x시</td>\n      <td>200000</td>\n      <td>0</td>\n      <td>...</td>\n      <td>0</td>\n      <td>912018.4146</td>\n      <td>1.473936e+06</td>\n      <td>126.55548315030599</td>\n      <td>33.25316331771586</td>\n      <td>126.55548315030599_33.25316331771586</td>\n      <td>https://dapi.kakao.com/v2/local/geo/coord2regi...</td>\n      <td>&amp;y=33.25316331771586</td>\n      <td>https://dapi.kakao.com/v2/local/geo/coord2regi...</td>\n      <td>서홍동</td>\n    </tr>\n  </tbody>\n</table>\n<p>273183 rows × 21 columns</p>\n</div>"
     },
     "metadata": {},
     "execution_count": 91
    }
   ],
   "source": [
    "df_final = pd.merge(df, df_addr, on='lon_lat')\n",
    "df_final"
   ]
  },
  {
   "cell_type": "code",
   "execution_count": null,
   "metadata": {},
   "outputs": [],
   "source": []
  },
  {
   "cell_type": "code",
   "execution_count": null,
   "metadata": {},
   "outputs": [],
   "source": []
  }
 ],
 "metadata": {
  "kernelspec": {
   "display_name": "Python 3",
   "language": "python",
   "name": "python3"
  },
  "language_info": {
   "codemirror_mode": {
    "name": "ipython",
    "version": 3
   },
   "file_extension": ".py",
   "mimetype": "text/x-python",
   "name": "python",
   "nbconvert_exporter": "python",
   "pygments_lexer": "ipython3",
   "version": "3.8.3-final"
  }
 },
 "nbformat": 4,
 "nbformat_minor": 2
}