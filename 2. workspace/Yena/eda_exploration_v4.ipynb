{
 "cells": [
  {
   "cell_type": "code",
   "execution_count": 1,
   "metadata": {},
   "outputs": [
    {
     "output_type": "execute_result",
     "data": {
      "text/plain": [
       "        OBJECTID  Field1      YM     SIDO SIGUNGU FranClass   Type Time  \\\n",
       "273178    273179  273179  202005  제주특별자치도     제주시        중소  침구수예점   x시   \n",
       "273179    273180  273180  202005  제주특별자치도     제주시       중소1   서양음식   x시   \n",
       "273180    273181  273181  202005  제주특별자치도     제주시        영세    편의점   x시   \n",
       "273181    273182  273182  202005  제주특별자치도     제주시        중소    제과점   x시   \n",
       "273182    273183  273183  202005  제주특별자치도     제주시        영세   서양음식   x시   \n",
       "\n",
       "        TotalSpent  DisSpent  NumofSpent  NumofDisSpent      POINT_X  \\\n",
       "273178       17000         0           1              0  949616.6171   \n",
       "273179       12000         0           1              0  949665.1566   \n",
       "273180        4800         0           1              0  950266.5976   \n",
       "273181       25000         0           2              0  950524.6587   \n",
       "273182        6000         0           1              0  950674.5989   \n",
       "\n",
       "             POINT_Y  \n",
       "273178  1.502505e+06  \n",
       "273179  1.502805e+06  \n",
       "273180  1.502458e+06  \n",
       "273181  1.500760e+06  \n",
       "273182  1.500760e+06  "
      ],
      "text/html": "<div>\n<style scoped>\n    .dataframe tbody tr th:only-of-type {\n        vertical-align: middle;\n    }\n\n    .dataframe tbody tr th {\n        vertical-align: top;\n    }\n\n    .dataframe thead th {\n        text-align: right;\n    }\n</style>\n<table border=\"1\" class=\"dataframe\">\n  <thead>\n    <tr style=\"text-align: right;\">\n      <th></th>\n      <th>OBJECTID</th>\n      <th>Field1</th>\n      <th>YM</th>\n      <th>SIDO</th>\n      <th>SIGUNGU</th>\n      <th>FranClass</th>\n      <th>Type</th>\n      <th>Time</th>\n      <th>TotalSpent</th>\n      <th>DisSpent</th>\n      <th>NumofSpent</th>\n      <th>NumofDisSpent</th>\n      <th>POINT_X</th>\n      <th>POINT_Y</th>\n    </tr>\n  </thead>\n  <tbody>\n    <tr>\n      <th>273178</th>\n      <td>273179</td>\n      <td>273179</td>\n      <td>202005</td>\n      <td>제주특별자치도</td>\n      <td>제주시</td>\n      <td>중소</td>\n      <td>침구수예점</td>\n      <td>x시</td>\n      <td>17000</td>\n      <td>0</td>\n      <td>1</td>\n      <td>0</td>\n      <td>949616.6171</td>\n      <td>1.502505e+06</td>\n    </tr>\n    <tr>\n      <th>273179</th>\n      <td>273180</td>\n      <td>273180</td>\n      <td>202005</td>\n      <td>제주특별자치도</td>\n      <td>제주시</td>\n      <td>중소1</td>\n      <td>서양음식</td>\n      <td>x시</td>\n      <td>12000</td>\n      <td>0</td>\n      <td>1</td>\n      <td>0</td>\n      <td>949665.1566</td>\n      <td>1.502805e+06</td>\n    </tr>\n    <tr>\n      <th>273180</th>\n      <td>273181</td>\n      <td>273181</td>\n      <td>202005</td>\n      <td>제주특별자치도</td>\n      <td>제주시</td>\n      <td>영세</td>\n      <td>편의점</td>\n      <td>x시</td>\n      <td>4800</td>\n      <td>0</td>\n      <td>1</td>\n      <td>0</td>\n      <td>950266.5976</td>\n      <td>1.502458e+06</td>\n    </tr>\n    <tr>\n      <th>273181</th>\n      <td>273182</td>\n      <td>273182</td>\n      <td>202005</td>\n      <td>제주특별자치도</td>\n      <td>제주시</td>\n      <td>중소</td>\n      <td>제과점</td>\n      <td>x시</td>\n      <td>25000</td>\n      <td>0</td>\n      <td>2</td>\n      <td>0</td>\n      <td>950524.6587</td>\n      <td>1.500760e+06</td>\n    </tr>\n    <tr>\n      <th>273182</th>\n      <td>273183</td>\n      <td>273183</td>\n      <td>202005</td>\n      <td>제주특별자치도</td>\n      <td>제주시</td>\n      <td>영세</td>\n      <td>서양음식</td>\n      <td>x시</td>\n      <td>6000</td>\n      <td>0</td>\n      <td>1</td>\n      <td>0</td>\n      <td>950674.5989</td>\n      <td>1.500760e+06</td>\n    </tr>\n  </tbody>\n</table>\n</div>"
     },
     "metadata": {},
     "execution_count": 1
    }
   ],
   "source": [
    "# 데이터 가져오기\n",
    "\n",
    "raw_data = pd.read_csv('../../1. raw_data/KRI-DAC_Jeju_data5.txt', sep=',')\n",
    "raw_data.tail()"
   ]
  },
  {
   "cell_type": "code",
   "execution_count": 2,
   "metadata": {},
   "outputs": [],
   "source": [
    "df = raw_data.copy()"
   ]
  },
  {
   "cell_type": "code",
   "execution_count": 3,
   "metadata": {},
   "outputs": [],
   "source": [
    "from pyproj import Proj, transform\n",
    "\n",
    "# ITRF좌표계\n",
    "proj_ITRF = Proj(init='epsg:5179')\n",
    "# WGS 좌표계 \n",
    "proj_WGS84 = Proj(init='epsg:4326')\n"
   ]
  },
  {
   "cell_type": "code",
   "execution_count": 4,
   "metadata": {},
   "outputs": [
    {
     "output_type": "execute_result",
     "data": {
      "text/plain": [
       "(127.07103374451121, 35.53921546645965)"
      ]
     },
     "metadata": {},
     "execution_count": 4
    }
   ],
   "source": [
    "# 변환 예시 \n",
    "x1, y1 = 961114.519726,1727112.269174\n",
    "x2, y2 = transform(proj_ITRF, proj_WGS84, x1, y1)\n",
    "x2, y2"
   ]
  },
  {
   "cell_type": "code",
   "execution_count": 5,
   "metadata": {},
   "outputs": [
    {
     "output_type": "execute_result",
     "data": {
      "text/plain": [
       "        OBJECTID  Field1      YM     SIDO SIGUNGU FranClass   Type Time  \\\n",
       "273178    273179  273179  202005  제주특별자치도     제주시        중소  침구수예점   x시   \n",
       "273179    273180  273180  202005  제주특별자치도     제주시       중소1   서양음식   x시   \n",
       "273180    273181  273181  202005  제주특별자치도     제주시        영세    편의점   x시   \n",
       "273181    273182  273182  202005  제주특별자치도     제주시        중소    제과점   x시   \n",
       "273182    273183  273183  202005  제주특별자치도     제주시        영세   서양음식   x시   \n",
       "\n",
       "        TotalSpent  DisSpent  NumofSpent  NumofDisSpent      POINT_X  \\\n",
       "273178       17000         0           1              0  949616.6171   \n",
       "273179       12000         0           1              0  949665.1566   \n",
       "273180        4800         0           1              0  950266.5976   \n",
       "273181       25000         0           2              0  950524.6587   \n",
       "273182        6000         0           1              0  950674.5989   \n",
       "\n",
       "             POINT_Y         lon        lat  \n",
       "273178  1.502505e+06  126.957495  33.513247  \n",
       "273179  1.502805e+06  126.958001  33.515956  \n",
       "273180  1.502458e+06  126.964496  33.512854  \n",
       "273181  1.500760e+06  126.967369  33.497551  \n",
       "273182  1.500760e+06  126.968983  33.497564  "
      ],
      "text/html": "<div>\n<style scoped>\n    .dataframe tbody tr th:only-of-type {\n        vertical-align: middle;\n    }\n\n    .dataframe tbody tr th {\n        vertical-align: top;\n    }\n\n    .dataframe thead th {\n        text-align: right;\n    }\n</style>\n<table border=\"1\" class=\"dataframe\">\n  <thead>\n    <tr style=\"text-align: right;\">\n      <th></th>\n      <th>OBJECTID</th>\n      <th>Field1</th>\n      <th>YM</th>\n      <th>SIDO</th>\n      <th>SIGUNGU</th>\n      <th>FranClass</th>\n      <th>Type</th>\n      <th>Time</th>\n      <th>TotalSpent</th>\n      <th>DisSpent</th>\n      <th>NumofSpent</th>\n      <th>NumofDisSpent</th>\n      <th>POINT_X</th>\n      <th>POINT_Y</th>\n      <th>lon</th>\n      <th>lat</th>\n    </tr>\n  </thead>\n  <tbody>\n    <tr>\n      <th>273178</th>\n      <td>273179</td>\n      <td>273179</td>\n      <td>202005</td>\n      <td>제주특별자치도</td>\n      <td>제주시</td>\n      <td>중소</td>\n      <td>침구수예점</td>\n      <td>x시</td>\n      <td>17000</td>\n      <td>0</td>\n      <td>1</td>\n      <td>0</td>\n      <td>949616.6171</td>\n      <td>1.502505e+06</td>\n      <td>126.957495</td>\n      <td>33.513247</td>\n    </tr>\n    <tr>\n      <th>273179</th>\n      <td>273180</td>\n      <td>273180</td>\n      <td>202005</td>\n      <td>제주특별자치도</td>\n      <td>제주시</td>\n      <td>중소1</td>\n      <td>서양음식</td>\n      <td>x시</td>\n      <td>12000</td>\n      <td>0</td>\n      <td>1</td>\n      <td>0</td>\n      <td>949665.1566</td>\n      <td>1.502805e+06</td>\n      <td>126.958001</td>\n      <td>33.515956</td>\n    </tr>\n    <tr>\n      <th>273180</th>\n      <td>273181</td>\n      <td>273181</td>\n      <td>202005</td>\n      <td>제주특별자치도</td>\n      <td>제주시</td>\n      <td>영세</td>\n      <td>편의점</td>\n      <td>x시</td>\n      <td>4800</td>\n      <td>0</td>\n      <td>1</td>\n      <td>0</td>\n      <td>950266.5976</td>\n      <td>1.502458e+06</td>\n      <td>126.964496</td>\n      <td>33.512854</td>\n    </tr>\n    <tr>\n      <th>273181</th>\n      <td>273182</td>\n      <td>273182</td>\n      <td>202005</td>\n      <td>제주특별자치도</td>\n      <td>제주시</td>\n      <td>중소</td>\n      <td>제과점</td>\n      <td>x시</td>\n      <td>25000</td>\n      <td>0</td>\n      <td>2</td>\n      <td>0</td>\n      <td>950524.6587</td>\n      <td>1.500760e+06</td>\n      <td>126.967369</td>\n      <td>33.497551</td>\n    </tr>\n    <tr>\n      <th>273182</th>\n      <td>273183</td>\n      <td>273183</td>\n      <td>202005</td>\n      <td>제주특별자치도</td>\n      <td>제주시</td>\n      <td>영세</td>\n      <td>서양음식</td>\n      <td>x시</td>\n      <td>6000</td>\n      <td>0</td>\n      <td>1</td>\n      <td>0</td>\n      <td>950674.5989</td>\n      <td>1.500760e+06</td>\n      <td>126.968983</td>\n      <td>33.497564</td>\n    </tr>\n  </tbody>\n</table>\n</div>"
     },
     "metadata": {},
     "execution_count": 5
    }
   ],
   "source": [
    "df['lon'], df['lat'] = transform(proj_ITRF, proj_WGS84, df['POINT_X'], df['POINT_Y'])\n",
    "df.tail()"
   ]
  },
  {
   "cell_type": "code",
   "execution_count": 6,
   "metadata": {},
   "outputs": [
    {
     "output_type": "execute_result",
     "data": {
      "text/plain": [
       "126.52427851055405_33.51290574138535     400\n",
       "126.52935695016222_33.49899169591379     314\n",
       "126.52880376641139_33.499886709171996    309\n",
       "126.47793511858133_33.48574932701181     275\n",
       "126.56362561835856_33.24739705179205     258\n",
       "                                        ... \n",
       "126.82859256139503_33.333574147082494      1\n",
       "126.33357199238228_33.241825154004715      1\n",
       "126.5488735126737_33.49020581068737        1\n",
       "126.5311000735163_33.491348968224116       1\n",
       "126.95324437124411_33.508702714111564      1\n",
       "Name: lon_lat, Length: 13820, dtype: int64"
      ]
     },
     "metadata": {},
     "execution_count": 6
    }
   ],
   "source": [
    "df['lon'] = df['lon'].astype(str)\n",
    "df['lat'] = df['lat'].astype(str)\n",
    "df['lon_lat'] = df['lon']+'_'+df['lat']\n",
    "df['lon_lat'].value_counts()"
   ]
  },
  {
   "cell_type": "code",
   "execution_count": 7,
   "metadata": {},
   "outputs": [],
   "source": [
    "################# 좌표 정보 주소 변환 ####################\n",
    "import requests\n",
    "import json"
   ]
  },
  {
   "cell_type": "code",
   "execution_count": 8,
   "metadata": {},
   "outputs": [],
   "source": [
    "url = \"https://dapi.kakao.com/v2/local/geo/coord2regioncode.json?x=126.968983&y=33.497564\"\n",
    "headers = {\"Authorization\": \"KakaoAK 1fecb2a27219321b92e1464ad08365fb\"}"
   ]
  },
  {
   "cell_type": "code",
   "execution_count": 9,
   "metadata": {},
   "outputs": [
    {
     "output_type": "execute_result",
     "data": {
      "text/plain": [
       "{'meta': {'total_count': 2},\n",
       " 'documents': [{'region_type': 'B',\n",
       "   'code': '5011033021',\n",
       "   'address_name': '제주특별자치도 제주시 우도면 연평리',\n",
       "   'region_1depth_name': '제주특별자치도',\n",
       "   'region_2depth_name': '제주시',\n",
       "   'region_3depth_name': '우도면',\n",
       "   'region_4depth_name': '연평리',\n",
       "   'x': 126.9588510304104,\n",
       "   'y': 33.50152515199191},\n",
       "  {'region_type': 'H',\n",
       "   'code': '5011033000',\n",
       "   'address_name': '제주특별자치도 제주시 우도면',\n",
       "   'region_1depth_name': '제주특별자치도',\n",
       "   'region_2depth_name': '제주시',\n",
       "   'region_3depth_name': '우도면',\n",
       "   'region_4depth_name': '',\n",
       "   'x': 126.95338133967611,\n",
       "   'y': 33.5065180993215}]}"
      ]
     },
     "metadata": {},
     "execution_count": 9
    }
   ],
   "source": [
    "api_test = requests.get(url, headers=headers)\n",
    "url_text = json.loads(api_test.text)\n",
    "url_text"
   ]
  },
  {
   "cell_type": "code",
   "execution_count": 10,
   "metadata": {},
   "outputs": [
    {
     "output_type": "execute_result",
     "data": {
      "text/plain": [
       "('우도면', '연평리')"
      ]
     },
     "metadata": {},
     "execution_count": 10
    }
   ],
   "source": [
    "dongmyeon = url_text['documents'][0]['region_3depth_name']\n",
    "ri = url_text['documents'][0]['region_4depth_name']\n",
    "\n",
    "dongmyeon, ri "
   ]
  },
  {
   "cell_type": "code",
   "execution_count": 11,
   "metadata": {},
   "outputs": [],
   "source": [
    "df['lon'] = df['lon'].astype(str)\n",
    "df['lat'] = df['lat'].astype(str)"
   ]
  },
  {
   "cell_type": "code",
   "execution_count": 12,
   "metadata": {},
   "outputs": [],
   "source": [
    "df['url1'] = 'https://dapi.kakao.com/v2/local/geo/coord2regioncode.json?x=' + df['lon']\n",
    "df['url2'] = '&y=' + df['lat']\n",
    "df['url'] = df['url1'] + df['url2']"
   ]
  },
  {
   "cell_type": "code",
   "execution_count": 13,
   "metadata": {},
   "outputs": [],
   "source": [
    "df.drop(columns=['url1','url2'],axis=1,inplace=True)"
   ]
  },
  {
   "cell_type": "code",
   "execution_count": 14,
   "metadata": {},
   "outputs": [],
   "source": [
    "# dong_ls = []\n",
    "# ri_ls = []\n",
    "# for i in df.index[:100]:\n",
    "#     url = df['url'][i]\n",
    "#     headers = {\"Authorization\": \"KakaoAK 1fecb2a27219321b92e1464ad08365fb\"}\n",
    "#     api_test = requests.get(url, headers=headers)\n",
    "#     url_text = json.loads(api_test.text)\n",
    "#     dong = url_text['documents'][0]['region_3depth_name']\n",
    "#     dong_ls.append(dong)"
   ]
  },
  {
   "cell_type": "code",
   "execution_count": 15,
   "metadata": {},
   "outputs": [],
   "source": [
    "##############################시각화#########################"
   ]
  },
  {
   "cell_type": "code",
   "execution_count": 16,
   "metadata": {},
   "outputs": [
    {
     "output_type": "execute_result",
     "data": {
      "text/plain": [
       "       OBJECTID  Field1      YM     SIDO SIGUNGU FranClass  Type Time  \\\n",
       "0             1       1  202005  제주특별자치도     제주시        영세  일반한식  00시   \n",
       "4903       4904    4904  202005  제주특별자치도     제주시        영세  일반한식  01시   \n",
       "8568       8569    8569  202005  제주특별자치도     제주시        영세  일반한식  02시   \n",
       "11269     11270   11270  202005  제주특별자치도     제주시        영세  일반한식  03시   \n",
       "19121     19122   19122  202005  제주특별자치도     제주시        중소   한의원  07시   \n",
       "\n",
       "       TotalSpent  DisSpent  NumofSpent  NumofDisSpent      POINT_X  \\\n",
       "0          363000     66500          10              2  877005.9834   \n",
       "4903        86500         0           3              0  877005.9834   \n",
       "8568       208000         0           5              0  877005.9834   \n",
       "11269       18000         0           1              0  877005.9834   \n",
       "19121        4800         0           2              0  877005.9834   \n",
       "\n",
       "           POINT_Y                 lon                lat  \\\n",
       "0      1479766.073  126.17889362710162  33.30231529076243   \n",
       "4903   1479766.073  126.17889362710162  33.30231529076243   \n",
       "8568   1479766.073  126.17889362710162  33.30231529076243   \n",
       "11269  1479766.073  126.17889362710162  33.30231529076243   \n",
       "19121  1479766.073  126.17889362710162  33.30231529076243   \n",
       "\n",
       "                                    lon_lat  \\\n",
       "0      126.17889362710162_33.30231529076243   \n",
       "4903   126.17889362710162_33.30231529076243   \n",
       "8568   126.17889362710162_33.30231529076243   \n",
       "11269  126.17889362710162_33.30231529076243   \n",
       "19121  126.17889362710162_33.30231529076243   \n",
       "\n",
       "                                                     url  \n",
       "0      https://dapi.kakao.com/v2/local/geo/coord2regi...  \n",
       "4903   https://dapi.kakao.com/v2/local/geo/coord2regi...  \n",
       "8568   https://dapi.kakao.com/v2/local/geo/coord2regi...  \n",
       "11269  https://dapi.kakao.com/v2/local/geo/coord2regi...  \n",
       "19121  https://dapi.kakao.com/v2/local/geo/coord2regi...  "
      ],
      "text/html": "<div>\n<style scoped>\n    .dataframe tbody tr th:only-of-type {\n        vertical-align: middle;\n    }\n\n    .dataframe tbody tr th {\n        vertical-align: top;\n    }\n\n    .dataframe thead th {\n        text-align: right;\n    }\n</style>\n<table border=\"1\" class=\"dataframe\">\n  <thead>\n    <tr style=\"text-align: right;\">\n      <th></th>\n      <th>OBJECTID</th>\n      <th>Field1</th>\n      <th>YM</th>\n      <th>SIDO</th>\n      <th>SIGUNGU</th>\n      <th>FranClass</th>\n      <th>Type</th>\n      <th>Time</th>\n      <th>TotalSpent</th>\n      <th>DisSpent</th>\n      <th>NumofSpent</th>\n      <th>NumofDisSpent</th>\n      <th>POINT_X</th>\n      <th>POINT_Y</th>\n      <th>lon</th>\n      <th>lat</th>\n      <th>lon_lat</th>\n      <th>url</th>\n    </tr>\n  </thead>\n  <tbody>\n    <tr>\n      <th>0</th>\n      <td>1</td>\n      <td>1</td>\n      <td>202005</td>\n      <td>제주특별자치도</td>\n      <td>제주시</td>\n      <td>영세</td>\n      <td>일반한식</td>\n      <td>00시</td>\n      <td>363000</td>\n      <td>66500</td>\n      <td>10</td>\n      <td>2</td>\n      <td>877005.9834</td>\n      <td>1479766.073</td>\n      <td>126.17889362710162</td>\n      <td>33.30231529076243</td>\n      <td>126.17889362710162_33.30231529076243</td>\n      <td>https://dapi.kakao.com/v2/local/geo/coord2regi...</td>\n    </tr>\n    <tr>\n      <th>4903</th>\n      <td>4904</td>\n      <td>4904</td>\n      <td>202005</td>\n      <td>제주특별자치도</td>\n      <td>제주시</td>\n      <td>영세</td>\n      <td>일반한식</td>\n      <td>01시</td>\n      <td>86500</td>\n      <td>0</td>\n      <td>3</td>\n      <td>0</td>\n      <td>877005.9834</td>\n      <td>1479766.073</td>\n      <td>126.17889362710162</td>\n      <td>33.30231529076243</td>\n      <td>126.17889362710162_33.30231529076243</td>\n      <td>https://dapi.kakao.com/v2/local/geo/coord2regi...</td>\n    </tr>\n    <tr>\n      <th>8568</th>\n      <td>8569</td>\n      <td>8569</td>\n      <td>202005</td>\n      <td>제주특별자치도</td>\n      <td>제주시</td>\n      <td>영세</td>\n      <td>일반한식</td>\n      <td>02시</td>\n      <td>208000</td>\n      <td>0</td>\n      <td>5</td>\n      <td>0</td>\n      <td>877005.9834</td>\n      <td>1479766.073</td>\n      <td>126.17889362710162</td>\n      <td>33.30231529076243</td>\n      <td>126.17889362710162_33.30231529076243</td>\n      <td>https://dapi.kakao.com/v2/local/geo/coord2regi...</td>\n    </tr>\n    <tr>\n      <th>11269</th>\n      <td>11270</td>\n      <td>11270</td>\n      <td>202005</td>\n      <td>제주특별자치도</td>\n      <td>제주시</td>\n      <td>영세</td>\n      <td>일반한식</td>\n      <td>03시</td>\n      <td>18000</td>\n      <td>0</td>\n      <td>1</td>\n      <td>0</td>\n      <td>877005.9834</td>\n      <td>1479766.073</td>\n      <td>126.17889362710162</td>\n      <td>33.30231529076243</td>\n      <td>126.17889362710162_33.30231529076243</td>\n      <td>https://dapi.kakao.com/v2/local/geo/coord2regi...</td>\n    </tr>\n    <tr>\n      <th>19121</th>\n      <td>19122</td>\n      <td>19122</td>\n      <td>202005</td>\n      <td>제주특별자치도</td>\n      <td>제주시</td>\n      <td>중소</td>\n      <td>한의원</td>\n      <td>07시</td>\n      <td>4800</td>\n      <td>0</td>\n      <td>2</td>\n      <td>0</td>\n      <td>877005.9834</td>\n      <td>1479766.073</td>\n      <td>126.17889362710162</td>\n      <td>33.30231529076243</td>\n      <td>126.17889362710162_33.30231529076243</td>\n      <td>https://dapi.kakao.com/v2/local/geo/coord2regi...</td>\n    </tr>\n  </tbody>\n</table>\n</div>"
     },
     "metadata": {},
     "execution_count": 16
    }
   ],
   "source": [
    "df[df['lon_lat']=='126.17889362710162_33.30231529076243'].head()\n",
    "# 같은 좌표인 경우에도 다른 업종인 경우가 많음 "
   ]
  },
  {
   "cell_type": "code",
   "execution_count": 17,
   "metadata": {},
   "outputs": [],
   "source": [
    "# 업종에 따른 folium 분포 나타내기 "
   ]
  },
  {
   "cell_type": "code",
   "execution_count": 18,
   "metadata": {},
   "outputs": [
    {
     "output_type": "execute_result",
     "data": {
      "text/plain": [
       "영세     152294\n",
       "일반      35889\n",
       "중소      33211\n",
       "중소1     32814\n",
       "중소2     18975\n",
       "Name: FranClass, dtype: int64"
      ]
     },
     "metadata": {},
     "execution_count": 18
    }
   ],
   "source": [
    "df['FranClass'].value_counts()"
   ]
  },
  {
   "cell_type": "code",
   "execution_count": 19,
   "metadata": {},
   "outputs": [
    {
     "output_type": "execute_result",
     "data": {
      "text/plain": [
       "       SIGUNGU FranClass   Type                 lon                 lat  \\\n",
       "19         제주시       중소2    편의점  126.23936109660238   33.39198817926645   \n",
       "33         제주시       중소2    편의점  126.24355916544066   33.39700608601108   \n",
       "64        서귀포시       중소2    편의점  126.25136650558173   33.22131387143015   \n",
       "138        제주시       중소2    편의점  126.26146684798863  33.415288889899365   \n",
       "175        제주시       중소2   슈퍼마켓  126.26422533722761  33.411721332976384   \n",
       "...        ...       ...    ...                 ...                 ...   \n",
       "211041    서귀포시       중소2    편의점  126.30552722476865  33.249560662589616   \n",
       "218169     제주시       중소2   홍삼제품  126.52427851055405   33.51290574138535   \n",
       "227687    서귀포시       중소2  기타숙박업  126.30555329730933   33.24820866355325   \n",
       "233602     제주시       중소2    상품권  126.52043562152693  33.517367797742295   \n",
       "245650     제주시       중소2   유흥주점  126.49294055515932   33.48908804243811   \n",
       "\n",
       "                                      lon_lat  \n",
       "19       126.23936109660238_33.39198817926645  \n",
       "33       126.24355916544066_33.39700608601108  \n",
       "64       126.25136650558173_33.22131387143015  \n",
       "138     126.26146684798863_33.415288889899365  \n",
       "175     126.26422533722761_33.411721332976384  \n",
       "...                                       ...  \n",
       "211041  126.30552722476865_33.249560662589616  \n",
       "218169   126.52427851055405_33.51290574138535  \n",
       "227687   126.30555329730933_33.24820866355325  \n",
       "233602  126.52043562152693_33.517367797742295  \n",
       "245650   126.49294055515932_33.48908804243811  \n",
       "\n",
       "[1695 rows x 6 columns]"
      ],
      "text/html": "<div>\n<style scoped>\n    .dataframe tbody tr th:only-of-type {\n        vertical-align: middle;\n    }\n\n    .dataframe tbody tr th {\n        vertical-align: top;\n    }\n\n    .dataframe thead th {\n        text-align: right;\n    }\n</style>\n<table border=\"1\" class=\"dataframe\">\n  <thead>\n    <tr style=\"text-align: right;\">\n      <th></th>\n      <th>SIGUNGU</th>\n      <th>FranClass</th>\n      <th>Type</th>\n      <th>lon</th>\n      <th>lat</th>\n      <th>lon_lat</th>\n    </tr>\n  </thead>\n  <tbody>\n    <tr>\n      <th>19</th>\n      <td>제주시</td>\n      <td>중소2</td>\n      <td>편의점</td>\n      <td>126.23936109660238</td>\n      <td>33.39198817926645</td>\n      <td>126.23936109660238_33.39198817926645</td>\n    </tr>\n    <tr>\n      <th>33</th>\n      <td>제주시</td>\n      <td>중소2</td>\n      <td>편의점</td>\n      <td>126.24355916544066</td>\n      <td>33.39700608601108</td>\n      <td>126.24355916544066_33.39700608601108</td>\n    </tr>\n    <tr>\n      <th>64</th>\n      <td>서귀포시</td>\n      <td>중소2</td>\n      <td>편의점</td>\n      <td>126.25136650558173</td>\n      <td>33.22131387143015</td>\n      <td>126.25136650558173_33.22131387143015</td>\n    </tr>\n    <tr>\n      <th>138</th>\n      <td>제주시</td>\n      <td>중소2</td>\n      <td>편의점</td>\n      <td>126.26146684798863</td>\n      <td>33.415288889899365</td>\n      <td>126.26146684798863_33.415288889899365</td>\n    </tr>\n    <tr>\n      <th>175</th>\n      <td>제주시</td>\n      <td>중소2</td>\n      <td>슈퍼마켓</td>\n      <td>126.26422533722761</td>\n      <td>33.411721332976384</td>\n      <td>126.26422533722761_33.411721332976384</td>\n    </tr>\n    <tr>\n      <th>...</th>\n      <td>...</td>\n      <td>...</td>\n      <td>...</td>\n      <td>...</td>\n      <td>...</td>\n      <td>...</td>\n    </tr>\n    <tr>\n      <th>211041</th>\n      <td>서귀포시</td>\n      <td>중소2</td>\n      <td>편의점</td>\n      <td>126.30552722476865</td>\n      <td>33.249560662589616</td>\n      <td>126.30552722476865_33.249560662589616</td>\n    </tr>\n    <tr>\n      <th>218169</th>\n      <td>제주시</td>\n      <td>중소2</td>\n      <td>홍삼제품</td>\n      <td>126.52427851055405</td>\n      <td>33.51290574138535</td>\n      <td>126.52427851055405_33.51290574138535</td>\n    </tr>\n    <tr>\n      <th>227687</th>\n      <td>서귀포시</td>\n      <td>중소2</td>\n      <td>기타숙박업</td>\n      <td>126.30555329730933</td>\n      <td>33.24820866355325</td>\n      <td>126.30555329730933_33.24820866355325</td>\n    </tr>\n    <tr>\n      <th>233602</th>\n      <td>제주시</td>\n      <td>중소2</td>\n      <td>상품권</td>\n      <td>126.52043562152693</td>\n      <td>33.517367797742295</td>\n      <td>126.52043562152693_33.517367797742295</td>\n    </tr>\n    <tr>\n      <th>245650</th>\n      <td>제주시</td>\n      <td>중소2</td>\n      <td>유흥주점</td>\n      <td>126.49294055515932</td>\n      <td>33.48908804243811</td>\n      <td>126.49294055515932_33.48908804243811</td>\n    </tr>\n  </tbody>\n</table>\n<p>1695 rows × 6 columns</p>\n</div>"
     },
     "metadata": {},
     "execution_count": 19
    }
   ],
   "source": [
    "df_js2 = df[df['FranClass']=='중소2'] #중소2에 대해 추출 \n",
    "df_js2 = df_js2[['SIGUNGU','FranClass','Type','lon','lat','lon_lat']] #업종별 분포 확인에 대한 정보만 추출 \n",
    "df_js2.drop_duplicates(inplace=True) #중복되는 row 삭제 \n",
    "df_js2 #중소2 업종 리스트 "
   ]
  },
  {
   "cell_type": "code",
   "execution_count": 20,
   "metadata": {},
   "outputs": [],
   "source": [
    "#############folium을 통한 표현############ \n",
    "import pandas as pd \n",
    "import folium\n",
    "from folium.plugins import MarkerCluster, MiniMap"
   ]
  },
  {
   "cell_type": "code",
   "execution_count": 21,
   "metadata": {},
   "outputs": [
    {
     "output_type": "execute_result",
     "data": {
      "text/plain": [
       "<folium.folium.Map at 0x1acc8f2ff40>"
      ],
      "text/html": "<div style=\"width:100%;\"><div style=\"position:relative;width:100%;height:0;padding-bottom:60%;\"><span style=\"color:#565656\">Make this Notebook Trusted to load map: File -> Trust Notebook</span><iframe src=\"about:blank\" style=\"position:absolute;width:100%;height:100%;left:0;top:0;border:none !important;\" data-html=%3C%21DOCTYPE%20html%3E%0A%3Chead%3E%20%20%20%20%0A%20%20%20%20%3Cmeta%20http-equiv%3D%22content-type%22%20content%3D%22text/html%3B%20charset%3DUTF-8%22%20/%3E%0A%20%20%20%20%0A%20%20%20%20%20%20%20%20%3Cscript%3E%0A%20%20%20%20%20%20%20%20%20%20%20%20L_NO_TOUCH%20%3D%20false%3B%0A%20%20%20%20%20%20%20%20%20%20%20%20L_DISABLE_3D%20%3D%20false%3B%0A%20%20%20%20%20%20%20%20%3C/script%3E%0A%20%20%20%20%0A%20%20%20%20%3Cscript%20src%3D%22https%3A//cdn.jsdelivr.net/npm/leaflet%401.6.0/dist/leaflet.js%22%3E%3C/script%3E%0A%20%20%20%20%3Cscript%20src%3D%22https%3A//code.jquery.com/jquery-1.12.4.min.js%22%3E%3C/script%3E%0A%20%20%20%20%3Cscript%20src%3D%22https%3A//maxcdn.bootstrapcdn.com/bootstrap/3.2.0/js/bootstrap.min.js%22%3E%3C/script%3E%0A%20%20%20%20%3Cscript%20src%3D%22https%3A//cdnjs.cloudflare.com/ajax/libs/Leaflet.awesome-markers/2.0.2/leaflet.awesome-markers.js%22%3E%3C/script%3E%0A%20%20%20%20%3Clink%20rel%3D%22stylesheet%22%20href%3D%22https%3A//cdn.jsdelivr.net/npm/leaflet%401.6.0/dist/leaflet.css%22/%3E%0A%20%20%20%20%3Clink%20rel%3D%22stylesheet%22%20href%3D%22https%3A//maxcdn.bootstrapcdn.com/bootstrap/3.2.0/css/bootstrap.min.css%22/%3E%0A%20%20%20%20%3Clink%20rel%3D%22stylesheet%22%20href%3D%22https%3A//maxcdn.bootstrapcdn.com/bootstrap/3.2.0/css/bootstrap-theme.min.css%22/%3E%0A%20%20%20%20%3Clink%20rel%3D%22stylesheet%22%20href%3D%22https%3A//maxcdn.bootstrapcdn.com/font-awesome/4.6.3/css/font-awesome.min.css%22/%3E%0A%20%20%20%20%3Clink%20rel%3D%22stylesheet%22%20href%3D%22https%3A//cdnjs.cloudflare.com/ajax/libs/Leaflet.awesome-markers/2.0.2/leaflet.awesome-markers.css%22/%3E%0A%20%20%20%20%3Clink%20rel%3D%22stylesheet%22%20href%3D%22https%3A//rawcdn.githack.com/python-visualization/folium/master/folium/templates/leaflet.awesome.rotate.css%22/%3E%0A%20%20%20%20%3Cstyle%3Ehtml%2C%20body%20%7Bwidth%3A%20100%25%3Bheight%3A%20100%25%3Bmargin%3A%200%3Bpadding%3A%200%3B%7D%3C/style%3E%0A%20%20%20%20%3Cstyle%3E%23map%20%7Bposition%3Aabsolute%3Btop%3A0%3Bbottom%3A0%3Bright%3A0%3Bleft%3A0%3B%7D%3C/style%3E%0A%20%20%20%20%0A%20%20%20%20%20%20%20%20%20%20%20%20%3Cmeta%20name%3D%22viewport%22%20content%3D%22width%3Ddevice-width%2C%0A%20%20%20%20%20%20%20%20%20%20%20%20%20%20%20%20initial-scale%3D1.0%2C%20maximum-scale%3D1.0%2C%20user-scalable%3Dno%22%20/%3E%0A%20%20%20%20%20%20%20%20%20%20%20%20%3Cstyle%3E%0A%20%20%20%20%20%20%20%20%20%20%20%20%20%20%20%20%23map_030748792e1a4f76b771aca4f7e06dff%20%7B%0A%20%20%20%20%20%20%20%20%20%20%20%20%20%20%20%20%20%20%20%20position%3A%20relative%3B%0A%20%20%20%20%20%20%20%20%20%20%20%20%20%20%20%20%20%20%20%20width%3A%20100.0%25%3B%0A%20%20%20%20%20%20%20%20%20%20%20%20%20%20%20%20%20%20%20%20height%3A%20100.0%25%3B%0A%20%20%20%20%20%20%20%20%20%20%20%20%20%20%20%20%20%20%20%20left%3A%200.0%25%3B%0A%20%20%20%20%20%20%20%20%20%20%20%20%20%20%20%20%20%20%20%20top%3A%200.0%25%3B%0A%20%20%20%20%20%20%20%20%20%20%20%20%20%20%20%20%7D%0A%20%20%20%20%20%20%20%20%20%20%20%20%3C/style%3E%0A%20%20%20%20%20%20%20%20%0A%20%20%20%20%3Cscript%20src%3D%22https%3A//cdnjs.cloudflare.com/ajax/libs/leaflet-minimap/3.6.1/Control.MiniMap.js%22%3E%3C/script%3E%0A%20%20%20%20%3Clink%20rel%3D%22stylesheet%22%20href%3D%22https%3A//cdnjs.cloudflare.com/ajax/libs/leaflet-minimap/3.6.1/Control.MiniMap.css%22/%3E%0A%20%20%20%20%3Cscript%20src%3D%22https%3A//cdnjs.cloudflare.com/ajax/libs/leaflet.markercluster/1.1.0/leaflet.markercluster.js%22%3E%3C/script%3E%0A%20%20%20%20%3Clink%20rel%3D%22stylesheet%22%20href%3D%22https%3A//cdnjs.cloudflare.com/ajax/libs/leaflet.markercluster/1.1.0/MarkerCluster.css%22/%3E%0A%20%20%20%20%3Clink%20rel%3D%22stylesheet%22%20href%3D%22https%3A//cdnjs.cloudflare.com/ajax/libs/leaflet.markercluster/1.1.0/MarkerCluster.Default.css%22/%3E%0A%3C/head%3E%0A%3Cbody%3E%20%20%20%20%0A%20%20%20%20%0A%20%20%20%20%20%20%20%20%20%20%20%20%3Cdiv%20class%3D%22folium-map%22%20id%3D%22map_030748792e1a4f76b771aca4f7e06dff%22%20%3E%3C/div%3E%0A%20%20%20%20%20%20%20%20%0A%3C/body%3E%0A%3Cscript%3E%20%20%20%20%0A%20%20%20%20%0A%20%20%20%20%20%20%20%20%20%20%20%20var%20map_030748792e1a4f76b771aca4f7e06dff%20%3D%20L.map%28%0A%20%20%20%20%20%20%20%20%20%20%20%20%20%20%20%20%22map_030748792e1a4f76b771aca4f7e06dff%22%2C%0A%20%20%20%20%20%20%20%20%20%20%20%20%20%20%20%20%7B%0A%20%20%20%20%20%20%20%20%20%20%20%20%20%20%20%20%20%20%20%20center%3A%20%5B33.38773221915759%2C%20126.54124720118492%5D%2C%0A%20%20%20%20%20%20%20%20%20%20%20%20%20%20%20%20%20%20%20%20crs%3A%20L.CRS.EPSG3857%2C%0A%20%20%20%20%20%20%20%20%20%20%20%20%20%20%20%20%20%20%20%20zoom%3A%2010%2C%0A%20%20%20%20%20%20%20%20%20%20%20%20%20%20%20%20%20%20%20%20zoomControl%3A%20true%2C%0A%20%20%20%20%20%20%20%20%20%20%20%20%20%20%20%20%20%20%20%20preferCanvas%3A%20false%2C%0A%20%20%20%20%20%20%20%20%20%20%20%20%20%20%20%20%7D%0A%20%20%20%20%20%20%20%20%20%20%20%20%29%3B%0A%0A%20%20%20%20%20%20%20%20%20%20%20%20%0A%0A%20%20%20%20%20%20%20%20%0A%20%20%20%20%0A%20%20%20%20%20%20%20%20%20%20%20%20var%20tile_layer_f028f78ac15c4a52be2d2cca6de214af%20%3D%20L.tileLayer%28%0A%20%20%20%20%20%20%20%20%20%20%20%20%20%20%20%20%22https%3A//%7Bs%7D.tile.openstreetmap.org/%7Bz%7D/%7Bx%7D/%7By%7D.png%22%2C%0A%20%20%20%20%20%20%20%20%20%20%20%20%20%20%20%20%7B%22attribution%22%3A%20%22Data%20by%20%5Cu0026copy%3B%20%5Cu003ca%20href%3D%5C%22http%3A//openstreetmap.org%5C%22%5Cu003eOpenStreetMap%5Cu003c/a%5Cu003e%2C%20under%20%5Cu003ca%20href%3D%5C%22http%3A//www.openstreetmap.org/copyright%5C%22%5Cu003eODbL%5Cu003c/a%5Cu003e.%22%2C%20%22detectRetina%22%3A%20false%2C%20%22maxNativeZoom%22%3A%2018%2C%20%22maxZoom%22%3A%2018%2C%20%22minZoom%22%3A%200%2C%20%22noWrap%22%3A%20false%2C%20%22opacity%22%3A%201%2C%20%22subdomains%22%3A%20%22abc%22%2C%20%22tms%22%3A%20false%7D%0A%20%20%20%20%20%20%20%20%20%20%20%20%29.addTo%28map_030748792e1a4f76b771aca4f7e06dff%29%3B%0A%20%20%20%20%20%20%20%20%0A%20%20%20%20%0A%20%20%20%20%20%20%20%20%20%20%20%20var%20tile_layer_f54f9df8f6524af98dc94ab9f45e08d8%20%3D%20L.tileLayer%28%0A%20%20%20%20%20%20%20%20%20%20%20%20%20%20%20%20%22https%3A//%7Bs%7D.tile.openstreetmap.org/%7Bz%7D/%7Bx%7D/%7By%7D.png%22%2C%0A%20%20%20%20%20%20%20%20%20%20%20%20%20%20%20%20%7B%22attribution%22%3A%20%22Data%20by%20%5Cu0026copy%3B%20%5Cu003ca%20href%3D%5C%22http%3A//openstreetmap.org%5C%22%5Cu003eOpenStreetMap%5Cu003c/a%5Cu003e%2C%20under%20%5Cu003ca%20href%3D%5C%22http%3A//www.openstreetmap.org/copyright%5C%22%5Cu003eODbL%5Cu003c/a%5Cu003e.%22%2C%20%22detectRetina%22%3A%20false%2C%20%22maxNativeZoom%22%3A%2018%2C%20%22maxZoom%22%3A%2018%2C%20%22minZoom%22%3A%200%2C%20%22noWrap%22%3A%20false%2C%20%22opacity%22%3A%201%2C%20%22subdomains%22%3A%20%22abc%22%2C%20%22tms%22%3A%20false%7D%0A%20%20%20%20%20%20%20%20%20%20%20%20%29%3B%0A%20%20%20%20%20%20%20%20%20%20%20%20var%20mini_map_9f1b0c692c2d406fac0e51de4a6b5282%20%3D%20new%20L.Control.MiniMap%28%0A%20%20%20%20%20%20%20%20%20%20%20%20%20%20%20%20tile_layer_f54f9df8f6524af98dc94ab9f45e08d8%2C%0A%20%20%20%20%20%20%20%20%20%20%20%20%20%20%20%20%7B%22autoToggleDisplay%22%3A%20false%2C%20%22centerFixed%22%3A%20false%2C%20%22collapsedHeight%22%3A%2025%2C%20%22collapsedWidth%22%3A%2025%2C%20%22height%22%3A%20150%2C%20%22minimized%22%3A%20false%2C%20%22position%22%3A%20%22bottomright%22%2C%20%22toggleDisplay%22%3A%20false%2C%20%22width%22%3A%20150%2C%20%22zoomAnimation%22%3A%20false%2C%20%22zoomLevelOffset%22%3A%20-5%7D%0A%20%20%20%20%20%20%20%20%20%20%20%20%29%3B%0A%20%20%20%20%20%20%20%20%20%20%20%20map_030748792e1a4f76b771aca4f7e06dff.addControl%28mini_map_9f1b0c692c2d406fac0e51de4a6b5282%29%3B%0A%20%20%20%20%20%20%20%20%0A%20%20%20%20%0A%20%20%20%20%20%20%20%20%20%20%20%20var%20marker_cluster_08184109f9ca42f698bc92fb7a7fb352%20%3D%20L.markerClusterGroup%28%0A%20%20%20%20%20%20%20%20%20%20%20%20%20%20%20%20%7B%7D%0A%20%20%20%20%20%20%20%20%20%20%20%20%29%3B%0A%20%20%20%20%20%20%20%20%20%20%20%20map_030748792e1a4f76b771aca4f7e06dff.addLayer%28marker_cluster_08184109f9ca42f698bc92fb7a7fb352%29%3B%0A%20%20%20%20%20%20%20%20%0A%20%20%20%20%0A%20%20%20%20%20%20%20%20%20%20%20%20var%20marker_3af1bba3fc9a4943a29cc9ac01fc8566%20%3D%20L.marker%28%0A%20%20%20%20%20%20%20%20%20%20%20%20%20%20%20%20%5B33.48908804243811%2C%20126.49294055515932%5D%2C%0A%20%20%20%20%20%20%20%20%20%20%20%20%20%20%20%20%7B%7D%0A%20%20%20%20%20%20%20%20%20%20%20%20%29.addTo%28marker_cluster_08184109f9ca42f698bc92fb7a7fb352%29%3B%0A%20%20%20%20%20%20%20%20%0A%20%20%20%20%0A%20%20%20%20%20%20%20%20%20%20%20%20var%20icon_e50da6b7336d4c8e9d5460e9e0ccd2c3%20%3D%20L.AwesomeMarkers.icon%28%0A%20%20%20%20%20%20%20%20%20%20%20%20%20%20%20%20%7B%22extraClasses%22%3A%20%22fa-rotate-0%22%2C%20%22icon%22%3A%20%22info-sign%22%2C%20%22iconColor%22%3A%20%22white%22%2C%20%22markerColor%22%3A%20%22red%22%2C%20%22prefix%22%3A%20%22glyphicon%22%7D%0A%20%20%20%20%20%20%20%20%20%20%20%20%29%3B%0A%20%20%20%20%20%20%20%20%20%20%20%20marker_3af1bba3fc9a4943a29cc9ac01fc8566.setIcon%28icon_e50da6b7336d4c8e9d5460e9e0ccd2c3%29%3B%0A%20%20%20%20%20%20%20%20%0A%20%20%20%20%0A%20%20%20%20%20%20%20%20var%20popup_ab5c2fa7682547a0b3c9e8ee6e7b7efb%20%3D%20L.popup%28%7B%22maxWidth%22%3A%20%22100%25%22%7D%29%3B%0A%0A%20%20%20%20%20%20%20%20%0A%20%20%20%20%20%20%20%20%20%20%20%20var%20html_3d07922644a44d71983e944627f904af%20%3D%20%24%28%60%3Cdiv%20id%3D%22html_3d07922644a44d71983e944627f904af%22%20style%3D%22width%3A%20100.0%25%3B%20height%3A%20100.0%25%3B%22%3E%EC%A4%91%EC%86%8C2%3C/div%3E%60%29%5B0%5D%3B%0A%20%20%20%20%20%20%20%20%20%20%20%20popup_ab5c2fa7682547a0b3c9e8ee6e7b7efb.setContent%28html_3d07922644a44d71983e944627f904af%29%3B%0A%20%20%20%20%20%20%20%20%0A%0A%20%20%20%20%20%20%20%20marker_3af1bba3fc9a4943a29cc9ac01fc8566.bindPopup%28popup_ab5c2fa7682547a0b3c9e8ee6e7b7efb%29%0A%20%20%20%20%20%20%20%20%3B%0A%0A%20%20%20%20%20%20%20%20%0A%20%20%20%20%0A%3C/script%3E onload=\"this.contentDocument.open();this.contentDocument.write(    decodeURIComponent(this.getAttribute('data-html')));this.contentDocument.close();\" allowfullscreen webkitallowfullscreen mozallowfullscreen></iframe></div></div>"
     },
     "metadata": {},
     "execution_count": 21
    }
   ],
   "source": [
    "map_jeju = folium.Map((33.38773221915759, 126.54124720118492), zoom_start= 10)\n",
    "mc = MarkerCluster()\n",
    "\n",
    "mc.add_child(folium.Marker(location=[33.48908804243811,126.49294055515932], popup='중소2', icon=folium.Icon(color='red')))\n",
    "\n",
    "minimap = MiniMap()\n",
    "map_jeju.add_child(minimap)\n",
    "\n",
    "map_jeju.add_child(mc)"
   ]
  }
 ],
 "metadata": {
  "kernelspec": {
   "display_name": "Python 3",
   "language": "python",
   "name": "python3"
  },
  "language_info": {
   "codemirror_mode": {
    "name": "ipython",
    "version": 3
   },
   "file_extension": ".py",
   "mimetype": "text/x-python",
   "name": "python",
   "nbconvert_exporter": "python",
   "pygments_lexer": "ipython3",
   "version": "3.8.3-final"
  }
 },
 "nbformat": 4,
 "nbformat_minor": 2
}