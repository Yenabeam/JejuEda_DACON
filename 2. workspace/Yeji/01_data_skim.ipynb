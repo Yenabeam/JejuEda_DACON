{
 "cells": [
  {
   "cell_type": "markdown",
   "metadata": {},
   "source": [
    "```\n",
    "YM: 기준년월\n",
    "SIDO: 지역대분류명 (제주)\n",
    "SIGUNGU: 지역중분류명 (시)\n",
    "FranClass: 소상공인구분\n",
    "Type: 업종명\n",
    "Time: 시간대\n",
    "TotalSpent: 총 사용금액\n",
    "DisSpent: 재난지원금 사용금액\n",
    "NumofSpent: 총 이용건수\n",
    "NumofDisSpent: 총 재난지원금 이용건수\n",
    "POINT_X, POINTY: X,Y 좌표\n",
    "```"
   ]
  },
  {
   "cell_type": "code",
   "execution_count": 2,
   "metadata": {},
   "outputs": [
    {
     "output_type": "execute_result",
     "data": {
      "text/plain": [
       "        OBJECTID  Field1      YM     SIDO SIGUNGU FranClass   Type Time  \\\n",
       "0              1       1  202005  제주특별자치도     제주시        영세   일반한식  00시   \n",
       "1              2       2  202005  제주특별자치도     제주시        영세   단란주점  00시   \n",
       "2              3       3  202005  제주특별자치도     제주시       중소1    편의점  00시   \n",
       "3              4       4  202005  제주특별자치도     제주시        영세    편의점  00시   \n",
       "4              5       5  202005  제주특별자치도     제주시        영세     주점  00시   \n",
       "...          ...     ...     ...      ...     ...       ...    ...  ...   \n",
       "273178    273179  273179  202005  제주특별자치도     제주시        중소  침구수예점   x시   \n",
       "273179    273180  273180  202005  제주특별자치도     제주시       중소1   서양음식   x시   \n",
       "273180    273181  273181  202005  제주특별자치도     제주시        영세    편의점   x시   \n",
       "273181    273182  273182  202005  제주특별자치도     제주시        중소    제과점   x시   \n",
       "273182    273183  273183  202005  제주특별자치도     제주시        영세   서양음식   x시   \n",
       "\n",
       "        TotalSpent  DisSpent  NumofSpent  NumofDisSpent      POINT_X  \\\n",
       "0           363000     66500          10              2  877005.9834   \n",
       "1          1180000         0           3              0  877005.7447   \n",
       "2           157670      6850          20              2  877056.6756   \n",
       "3            46600         0           2              0  877055.9593   \n",
       "4            66000         0           2              0  877055.4817   \n",
       "...            ...       ...         ...            ...          ...   \n",
       "273178       17000         0           1              0  949616.6171   \n",
       "273179       12000         0           1              0  949665.1566   \n",
       "273180        4800         0           1              0  950266.5976   \n",
       "273181       25000         0           2              0  950524.6587   \n",
       "273182        6000         0           1              0  950674.5989   \n",
       "\n",
       "             POINT_Y  \n",
       "0       1.479766e+06  \n",
       "1       1.479816e+06  \n",
       "2       1.479616e+06  \n",
       "3       1.479766e+06  \n",
       "4       1.479866e+06  \n",
       "...              ...  \n",
       "273178  1.502505e+06  \n",
       "273179  1.502805e+06  \n",
       "273180  1.502458e+06  \n",
       "273181  1.500760e+06  \n",
       "273182  1.500760e+06  \n",
       "\n",
       "[273183 rows x 14 columns]"
      ],
      "text/html": "<div>\n<style scoped>\n    .dataframe tbody tr th:only-of-type {\n        vertical-align: middle;\n    }\n\n    .dataframe tbody tr th {\n        vertical-align: top;\n    }\n\n    .dataframe thead th {\n        text-align: right;\n    }\n</style>\n<table border=\"1\" class=\"dataframe\">\n  <thead>\n    <tr style=\"text-align: right;\">\n      <th></th>\n      <th>OBJECTID</th>\n      <th>Field1</th>\n      <th>YM</th>\n      <th>SIDO</th>\n      <th>SIGUNGU</th>\n      <th>FranClass</th>\n      <th>Type</th>\n      <th>Time</th>\n      <th>TotalSpent</th>\n      <th>DisSpent</th>\n      <th>NumofSpent</th>\n      <th>NumofDisSpent</th>\n      <th>POINT_X</th>\n      <th>POINT_Y</th>\n    </tr>\n  </thead>\n  <tbody>\n    <tr>\n      <th>0</th>\n      <td>1</td>\n      <td>1</td>\n      <td>202005</td>\n      <td>제주특별자치도</td>\n      <td>제주시</td>\n      <td>영세</td>\n      <td>일반한식</td>\n      <td>00시</td>\n      <td>363000</td>\n      <td>66500</td>\n      <td>10</td>\n      <td>2</td>\n      <td>877005.9834</td>\n      <td>1.479766e+06</td>\n    </tr>\n    <tr>\n      <th>1</th>\n      <td>2</td>\n      <td>2</td>\n      <td>202005</td>\n      <td>제주특별자치도</td>\n      <td>제주시</td>\n      <td>영세</td>\n      <td>단란주점</td>\n      <td>00시</td>\n      <td>1180000</td>\n      <td>0</td>\n      <td>3</td>\n      <td>0</td>\n      <td>877005.7447</td>\n      <td>1.479816e+06</td>\n    </tr>\n    <tr>\n      <th>2</th>\n      <td>3</td>\n      <td>3</td>\n      <td>202005</td>\n      <td>제주특별자치도</td>\n      <td>제주시</td>\n      <td>중소1</td>\n      <td>편의점</td>\n      <td>00시</td>\n      <td>157670</td>\n      <td>6850</td>\n      <td>20</td>\n      <td>2</td>\n      <td>877056.6756</td>\n      <td>1.479616e+06</td>\n    </tr>\n    <tr>\n      <th>3</th>\n      <td>4</td>\n      <td>4</td>\n      <td>202005</td>\n      <td>제주특별자치도</td>\n      <td>제주시</td>\n      <td>영세</td>\n      <td>편의점</td>\n      <td>00시</td>\n      <td>46600</td>\n      <td>0</td>\n      <td>2</td>\n      <td>0</td>\n      <td>877055.9593</td>\n      <td>1.479766e+06</td>\n    </tr>\n    <tr>\n      <th>4</th>\n      <td>5</td>\n      <td>5</td>\n      <td>202005</td>\n      <td>제주특별자치도</td>\n      <td>제주시</td>\n      <td>영세</td>\n      <td>주점</td>\n      <td>00시</td>\n      <td>66000</td>\n      <td>0</td>\n      <td>2</td>\n      <td>0</td>\n      <td>877055.4817</td>\n      <td>1.479866e+06</td>\n    </tr>\n    <tr>\n      <th>...</th>\n      <td>...</td>\n      <td>...</td>\n      <td>...</td>\n      <td>...</td>\n      <td>...</td>\n      <td>...</td>\n      <td>...</td>\n      <td>...</td>\n      <td>...</td>\n      <td>...</td>\n      <td>...</td>\n      <td>...</td>\n      <td>...</td>\n      <td>...</td>\n    </tr>\n    <tr>\n      <th>273178</th>\n      <td>273179</td>\n      <td>273179</td>\n      <td>202005</td>\n      <td>제주특별자치도</td>\n      <td>제주시</td>\n      <td>중소</td>\n      <td>침구수예점</td>\n      <td>x시</td>\n      <td>17000</td>\n      <td>0</td>\n      <td>1</td>\n      <td>0</td>\n      <td>949616.6171</td>\n      <td>1.502505e+06</td>\n    </tr>\n    <tr>\n      <th>273179</th>\n      <td>273180</td>\n      <td>273180</td>\n      <td>202005</td>\n      <td>제주특별자치도</td>\n      <td>제주시</td>\n      <td>중소1</td>\n      <td>서양음식</td>\n      <td>x시</td>\n      <td>12000</td>\n      <td>0</td>\n      <td>1</td>\n      <td>0</td>\n      <td>949665.1566</td>\n      <td>1.502805e+06</td>\n    </tr>\n    <tr>\n      <th>273180</th>\n      <td>273181</td>\n      <td>273181</td>\n      <td>202005</td>\n      <td>제주특별자치도</td>\n      <td>제주시</td>\n      <td>영세</td>\n      <td>편의점</td>\n      <td>x시</td>\n      <td>4800</td>\n      <td>0</td>\n      <td>1</td>\n      <td>0</td>\n      <td>950266.5976</td>\n      <td>1.502458e+06</td>\n    </tr>\n    <tr>\n      <th>273181</th>\n      <td>273182</td>\n      <td>273182</td>\n      <td>202005</td>\n      <td>제주특별자치도</td>\n      <td>제주시</td>\n      <td>중소</td>\n      <td>제과점</td>\n      <td>x시</td>\n      <td>25000</td>\n      <td>0</td>\n      <td>2</td>\n      <td>0</td>\n      <td>950524.6587</td>\n      <td>1.500760e+06</td>\n    </tr>\n    <tr>\n      <th>273182</th>\n      <td>273183</td>\n      <td>273183</td>\n      <td>202005</td>\n      <td>제주특별자치도</td>\n      <td>제주시</td>\n      <td>영세</td>\n      <td>서양음식</td>\n      <td>x시</td>\n      <td>6000</td>\n      <td>0</td>\n      <td>1</td>\n      <td>0</td>\n      <td>950674.5989</td>\n      <td>1.500760e+06</td>\n    </tr>\n  </tbody>\n</table>\n<p>273183 rows × 14 columns</p>\n</div>"
     },
     "metadata": {},
     "execution_count": 2
    }
   ],
   "source": [
    "may = pd.read_csv('./datas/KRI-DAC_Jeju_data5.txt', sep=',')\n",
    "may"
   ]
  },
  {
   "cell_type": "code",
   "execution_count": 10,
   "metadata": {},
   "outputs": [
    {
     "output_type": "execute_result",
     "data": {
      "text/plain": [
       "                        0\n",
       "SIGUNGU FranClass        \n",
       "서귀포시    영세          45379\n",
       "        일반          10335\n",
       "        중소           9402\n",
       "        중소1          8418\n",
       "        중소2          4774\n",
       "제주시     영세         106915\n",
       "        일반          25554\n",
       "        중소          23809\n",
       "        중소1         24396\n",
       "        중소2         14201"
      ],
      "text/html": "<div>\n<style scoped>\n    .dataframe tbody tr th:only-of-type {\n        vertical-align: middle;\n    }\n\n    .dataframe tbody tr th {\n        vertical-align: top;\n    }\n\n    .dataframe thead th {\n        text-align: right;\n    }\n</style>\n<table border=\"1\" class=\"dataframe\">\n  <thead>\n    <tr style=\"text-align: right;\">\n      <th></th>\n      <th></th>\n      <th>0</th>\n    </tr>\n    <tr>\n      <th>SIGUNGU</th>\n      <th>FranClass</th>\n      <th></th>\n    </tr>\n  </thead>\n  <tbody>\n    <tr>\n      <th rowspan=\"5\" valign=\"top\">서귀포시</th>\n      <th>영세</th>\n      <td>45379</td>\n    </tr>\n    <tr>\n      <th>일반</th>\n      <td>10335</td>\n    </tr>\n    <tr>\n      <th>중소</th>\n      <td>9402</td>\n    </tr>\n    <tr>\n      <th>중소1</th>\n      <td>8418</td>\n    </tr>\n    <tr>\n      <th>중소2</th>\n      <td>4774</td>\n    </tr>\n    <tr>\n      <th rowspan=\"5\" valign=\"top\">제주시</th>\n      <th>영세</th>\n      <td>106915</td>\n    </tr>\n    <tr>\n      <th>일반</th>\n      <td>25554</td>\n    </tr>\n    <tr>\n      <th>중소</th>\n      <td>23809</td>\n    </tr>\n    <tr>\n      <th>중소1</th>\n      <td>24396</td>\n    </tr>\n    <tr>\n      <th>중소2</th>\n      <td>14201</td>\n    </tr>\n  </tbody>\n</table>\n</div>"
     },
     "metadata": {},
     "execution_count": 10
    }
   ],
   "source": [
    "may.groupby(['SIGUNGU', 'FranClass']).size().to_frame()"
   ]
  },
  {
   "cell_type": "code",
   "execution_count": 18,
   "metadata": {},
   "outputs": [
    {
     "output_type": "execute_result",
     "data": {
      "text/plain": [
       "array(['일반한식', '단란주점', '편의점', '주점', '스넥', '서양음식', '일식회집', '기타음료식품', '노래방',\n",
       "       '중국음식', '슈퍼마켓', '유흥주점', '기타숙박업', '기타레져업', '당구장', '농축수산품', '유아원',\n",
       "       '골프경기장', '세탁소', '가방', '콘도', '주차장', '문화취미기타', '주유소', '사무서비스',\n",
       "       '자동차정비', '특급호텔', '볼링장', '화장품', '기타회원제형태업소', '주류판매점', '제과점',\n",
       "       '피부미용실', '약국', '칵테일바', '정육점', '독서실', '스포츠레져용품', '골프용품', 'LPG',\n",
       "       '종합병원', '사우나', '화원', '의원', '안마스포츠마사지', '골프연습장', '2급호텔', '기타대인서비스',\n",
       "       '보습학원', '부동산분양', '화물운송', '애완동물', '동물병원', '대형할인점', '인터넷Mall', '항공사',\n",
       "       '헬스크럽', '기타유통업', '레져용품수리', '정장', '레져업소(회원제형태)', '관광여행', '1급호텔',\n",
       "       '침구수예점', '사진관', '악세사리', '보관창고업', '기념품점', '미용원', '영화관', '의료용품',\n",
       "       '세차장', '인터넷종합Mall', '기타잡화', '성인용품점', '상품권', '종합용역', '기계공구',\n",
       "       '조세서비스', '택시', '기타의료기관및기기', '가례서비스', '구내매점', '수영장', '목재석재철물',\n",
       "       '건축요업품', '기타업종', '렌트카', '종합레져타운', '유류판매', '농축협직영매장', '기타건축자재',\n",
       "       '비료농약사료종자', '농기계', '보일러펌프', '가전제품', '스포츠의류', '페인트', '미곡상',\n",
       "       '기타농업관련', '기타가구', '공공요금', '기능학원', '면세점', '기타교육', '위탁급식업', '이용원',\n",
       "       '조명기구', '문구용품', '인테리어', '민예공예품', '기타연료', '자동차부품', '기타용역서비스',\n",
       "       '기타운송', '연쇄점', '옷감직물', '한의원', '주방용식기', '카인테리어', '기타수리서비스',\n",
       "       '농협하나로클럽', '기타건강식', '티켓', '기타전기제품', '일반서적', '외국어학원', '건강진단',\n",
       "       '냉열기기', '소프트웨어', '내의판매점', '주방용구', '완구점', '유리', '자동차시트타이어',\n",
       "       '카페트커텐천막', '기타교통수단', '테니스장', '치과의원', '신발', '기타의류', '컴퓨터', '병원',\n",
       "       '가정용품수리', '단체복', '아동의류', '일반가구', '출판인쇄물', '치과병원', '서적출판(회원제형태)',\n",
       "       '카메라', '정수기', 'CATV', '기타사무용', '학원(회원제형태)', '이륜차판매', '철제가구',\n",
       "       '산후조리원', '견인서비스', '수족관', '양품점', '시계', '안경', '인삼제품', '홍삼제품', '한약방',\n",
       "       '중장비수리', '캐쥬얼의류', '과학기자재', '윤활유전문판매', '부동산중개임대', '여객선', '통신기기',\n",
       "       '귀금속', '건강식품(회원제형태)', '사무기기', '신변잡화수리', '미용재료', '예체능학원', '기타보험',\n",
       "       '사무통신기기수리', '법률회계서비스', '맞춤복점', '전문서적', '화방표구점', '손해보험', '악기점',\n",
       "       '기타자동차서비스', '정기간행물', '기타비영리유통', '화랑', '컴퓨터학원', '중고자동차', '제화점',\n",
       "       '대학등록금', '기타서적문구', '학습지교육', '수입자동차', '기타직물', 'DVD음반테이프판매', '기타광학품',\n",
       "       '제약회사', '초중고교육기관', '사무서비스(회원제형태)', '골동품점'], dtype=object)"
      ]
     },
     "metadata": {},
     "execution_count": 18
    }
   ],
   "source": [
    "may['Type'].unique()"
   ]
  },
  {
   "cell_type": "code",
   "execution_count": 11,
   "metadata": {},
   "outputs": [
    {
     "output_type": "execute_result",
     "data": {
      "text/plain": [
       "        OBJECTID  Field1      YM     SIDO SIGUNGU FranClass  Type Time  \\\n",
       "0              1       1  202006  제주특별자치도     제주시        영세  일반한식  00시   \n",
       "1              2       2  202006  제주특별자치도     제주시        영세  단란주점  00시   \n",
       "2              3       3  202006  제주특별자치도     제주시       중소1   편의점  00시   \n",
       "3              4       4  202006  제주특별자치도     제주시        영세   편의점  00시   \n",
       "4              5       5  202006  제주특별자치도     제주시        영세  일반한식  00시   \n",
       "...          ...     ...     ...      ...     ...       ...   ...  ...   \n",
       "281891    281892  281892  202006  제주특별자치도     제주시        영세  일반한식   x시   \n",
       "281892    281893  281893  202006  제주특별자치도     제주시        영세  일반한식   x시   \n",
       "281893    281894  281894  202006  제주특별자치도     제주시        영세   편의점   x시   \n",
       "281894    281895  281895  202006  제주특별자치도     제주시        중소   제과점   x시   \n",
       "281895    281896  281896  202006  제주특별자치도     제주시       중소1  중국음식   x시   \n",
       "\n",
       "        TotalSpent  DisSpent  NumofSpent  NumofDisSpent      POINT_X  \\\n",
       "0           502000         0          10              0  877005.9834   \n",
       "1          1520000         0           8              0  877005.7447   \n",
       "2           482310         0          35              0  877056.6756   \n",
       "3            38050      5450           3              1  877055.9593   \n",
       "4            32000     32000           1              1  877055.4817   \n",
       "...            ...       ...         ...            ...          ...   \n",
       "281891      175000         0           2              0  950274.0385   \n",
       "281892      600000         0           2              0  950266.5976   \n",
       "281893        6300         0           1              0  950266.5976   \n",
       "281894       15000         0           2              0  950524.6587   \n",
       "281895       15000         0           1              0  950574.6388   \n",
       "\n",
       "             POINT_Y  \n",
       "0       1.479766e+06  \n",
       "1       1.479816e+06  \n",
       "2       1.479616e+06  \n",
       "3       1.479766e+06  \n",
       "4       1.479866e+06  \n",
       "...              ...  \n",
       "281891  1.500908e+06  \n",
       "281892  1.502458e+06  \n",
       "281893  1.502458e+06  \n",
       "281894  1.500760e+06  \n",
       "281895  1.500760e+06  \n",
       "\n",
       "[281896 rows x 14 columns]"
      ],
      "text/html": "<div>\n<style scoped>\n    .dataframe tbody tr th:only-of-type {\n        vertical-align: middle;\n    }\n\n    .dataframe tbody tr th {\n        vertical-align: top;\n    }\n\n    .dataframe thead th {\n        text-align: right;\n    }\n</style>\n<table border=\"1\" class=\"dataframe\">\n  <thead>\n    <tr style=\"text-align: right;\">\n      <th></th>\n      <th>OBJECTID</th>\n      <th>Field1</th>\n      <th>YM</th>\n      <th>SIDO</th>\n      <th>SIGUNGU</th>\n      <th>FranClass</th>\n      <th>Type</th>\n      <th>Time</th>\n      <th>TotalSpent</th>\n      <th>DisSpent</th>\n      <th>NumofSpent</th>\n      <th>NumofDisSpent</th>\n      <th>POINT_X</th>\n      <th>POINT_Y</th>\n    </tr>\n  </thead>\n  <tbody>\n    <tr>\n      <th>0</th>\n      <td>1</td>\n      <td>1</td>\n      <td>202006</td>\n      <td>제주특별자치도</td>\n      <td>제주시</td>\n      <td>영세</td>\n      <td>일반한식</td>\n      <td>00시</td>\n      <td>502000</td>\n      <td>0</td>\n      <td>10</td>\n      <td>0</td>\n      <td>877005.9834</td>\n      <td>1.479766e+06</td>\n    </tr>\n    <tr>\n      <th>1</th>\n      <td>2</td>\n      <td>2</td>\n      <td>202006</td>\n      <td>제주특별자치도</td>\n      <td>제주시</td>\n      <td>영세</td>\n      <td>단란주점</td>\n      <td>00시</td>\n      <td>1520000</td>\n      <td>0</td>\n      <td>8</td>\n      <td>0</td>\n      <td>877005.7447</td>\n      <td>1.479816e+06</td>\n    </tr>\n    <tr>\n      <th>2</th>\n      <td>3</td>\n      <td>3</td>\n      <td>202006</td>\n      <td>제주특별자치도</td>\n      <td>제주시</td>\n      <td>중소1</td>\n      <td>편의점</td>\n      <td>00시</td>\n      <td>482310</td>\n      <td>0</td>\n      <td>35</td>\n      <td>0</td>\n      <td>877056.6756</td>\n      <td>1.479616e+06</td>\n    </tr>\n    <tr>\n      <th>3</th>\n      <td>4</td>\n      <td>4</td>\n      <td>202006</td>\n      <td>제주특별자치도</td>\n      <td>제주시</td>\n      <td>영세</td>\n      <td>편의점</td>\n      <td>00시</td>\n      <td>38050</td>\n      <td>5450</td>\n      <td>3</td>\n      <td>1</td>\n      <td>877055.9593</td>\n      <td>1.479766e+06</td>\n    </tr>\n    <tr>\n      <th>4</th>\n      <td>5</td>\n      <td>5</td>\n      <td>202006</td>\n      <td>제주특별자치도</td>\n      <td>제주시</td>\n      <td>영세</td>\n      <td>일반한식</td>\n      <td>00시</td>\n      <td>32000</td>\n      <td>32000</td>\n      <td>1</td>\n      <td>1</td>\n      <td>877055.4817</td>\n      <td>1.479866e+06</td>\n    </tr>\n    <tr>\n      <th>...</th>\n      <td>...</td>\n      <td>...</td>\n      <td>...</td>\n      <td>...</td>\n      <td>...</td>\n      <td>...</td>\n      <td>...</td>\n      <td>...</td>\n      <td>...</td>\n      <td>...</td>\n      <td>...</td>\n      <td>...</td>\n      <td>...</td>\n      <td>...</td>\n    </tr>\n    <tr>\n      <th>281891</th>\n      <td>281892</td>\n      <td>281892</td>\n      <td>202006</td>\n      <td>제주특별자치도</td>\n      <td>제주시</td>\n      <td>영세</td>\n      <td>일반한식</td>\n      <td>x시</td>\n      <td>175000</td>\n      <td>0</td>\n      <td>2</td>\n      <td>0</td>\n      <td>950274.0385</td>\n      <td>1.500908e+06</td>\n    </tr>\n    <tr>\n      <th>281892</th>\n      <td>281893</td>\n      <td>281893</td>\n      <td>202006</td>\n      <td>제주특별자치도</td>\n      <td>제주시</td>\n      <td>영세</td>\n      <td>일반한식</td>\n      <td>x시</td>\n      <td>600000</td>\n      <td>0</td>\n      <td>2</td>\n      <td>0</td>\n      <td>950266.5976</td>\n      <td>1.502458e+06</td>\n    </tr>\n    <tr>\n      <th>281893</th>\n      <td>281894</td>\n      <td>281894</td>\n      <td>202006</td>\n      <td>제주특별자치도</td>\n      <td>제주시</td>\n      <td>영세</td>\n      <td>편의점</td>\n      <td>x시</td>\n      <td>6300</td>\n      <td>0</td>\n      <td>1</td>\n      <td>0</td>\n      <td>950266.5976</td>\n      <td>1.502458e+06</td>\n    </tr>\n    <tr>\n      <th>281894</th>\n      <td>281895</td>\n      <td>281895</td>\n      <td>202006</td>\n      <td>제주특별자치도</td>\n      <td>제주시</td>\n      <td>중소</td>\n      <td>제과점</td>\n      <td>x시</td>\n      <td>15000</td>\n      <td>0</td>\n      <td>2</td>\n      <td>0</td>\n      <td>950524.6587</td>\n      <td>1.500760e+06</td>\n    </tr>\n    <tr>\n      <th>281895</th>\n      <td>281896</td>\n      <td>281896</td>\n      <td>202006</td>\n      <td>제주특별자치도</td>\n      <td>제주시</td>\n      <td>중소1</td>\n      <td>중국음식</td>\n      <td>x시</td>\n      <td>15000</td>\n      <td>0</td>\n      <td>1</td>\n      <td>0</td>\n      <td>950574.6388</td>\n      <td>1.500760e+06</td>\n    </tr>\n  </tbody>\n</table>\n<p>281896 rows × 14 columns</p>\n</div>"
     },
     "metadata": {},
     "execution_count": 11
    }
   ],
   "source": [
    "june = pd.read_csv('./datas/KRI-DAC_Jeju_data6.txt', sep=',')\n",
    "june"
   ]
  },
  {
   "cell_type": "code",
   "execution_count": 12,
   "metadata": {
    "scrolled": true
   },
   "outputs": [
    {
     "output_type": "execute_result",
     "data": {
      "text/plain": [
       "                        0\n",
       "SIGUNGU FranClass        \n",
       "서귀포시    영세          45551\n",
       "        일반          11913\n",
       "        중소           9609\n",
       "        중소1          8547\n",
       "        중소2          4897\n",
       "제주시     영세         108986\n",
       "        일반          28891\n",
       "        중소          24234\n",
       "        중소1         24793\n",
       "        중소2         14475"
      ],
      "text/html": "<div>\n<style scoped>\n    .dataframe tbody tr th:only-of-type {\n        vertical-align: middle;\n    }\n\n    .dataframe tbody tr th {\n        vertical-align: top;\n    }\n\n    .dataframe thead th {\n        text-align: right;\n    }\n</style>\n<table border=\"1\" class=\"dataframe\">\n  <thead>\n    <tr style=\"text-align: right;\">\n      <th></th>\n      <th></th>\n      <th>0</th>\n    </tr>\n    <tr>\n      <th>SIGUNGU</th>\n      <th>FranClass</th>\n      <th></th>\n    </tr>\n  </thead>\n  <tbody>\n    <tr>\n      <th rowspan=\"5\" valign=\"top\">서귀포시</th>\n      <th>영세</th>\n      <td>45551</td>\n    </tr>\n    <tr>\n      <th>일반</th>\n      <td>11913</td>\n    </tr>\n    <tr>\n      <th>중소</th>\n      <td>9609</td>\n    </tr>\n    <tr>\n      <th>중소1</th>\n      <td>8547</td>\n    </tr>\n    <tr>\n      <th>중소2</th>\n      <td>4897</td>\n    </tr>\n    <tr>\n      <th rowspan=\"5\" valign=\"top\">제주시</th>\n      <th>영세</th>\n      <td>108986</td>\n    </tr>\n    <tr>\n      <th>일반</th>\n      <td>28891</td>\n    </tr>\n    <tr>\n      <th>중소</th>\n      <td>24234</td>\n    </tr>\n    <tr>\n      <th>중소1</th>\n      <td>24793</td>\n    </tr>\n    <tr>\n      <th>중소2</th>\n      <td>14475</td>\n    </tr>\n  </tbody>\n</table>\n</div>"
     },
     "metadata": {},
     "execution_count": 12
    }
   ],
   "source": [
    "june.groupby(['SIGUNGU', 'FranClass']).size().to_frame()"
   ]
  },
  {
   "cell_type": "code",
   "execution_count": 13,
   "metadata": {},
   "outputs": [
    {
     "output_type": "execute_result",
     "data": {
      "text/plain": [
       "   OBJECTID  Field1      YM     SIDO SIGUNGU       X      Y FranClass  Type  \\\n",
       "0         1       1  202007  제주특별자치도     제주시  230600  80000        영세  일반한식   \n",
       "1         2       2  202007  제주특별자치도     제주시  230600  80050        영세  단란주점   \n",
       "2         3       3  202007  제주특별자치도     제주시  230650  79850       중소1   편의점   \n",
       "3         4       4  202007  제주특별자치도     제주시  230650  80000        영세   편의점   \n",
       "4         5       5  202007  제주특별자치도     제주시  230650  80100        영세    주점   \n",
       "\n",
       "  Time  TotalSpent  DisSpent  NumofSpent  NumofDisSpent      POINT_X  \\\n",
       "0  00시       85500         0           4              0  877005.9834   \n",
       "1  00시     1960000         0           4              0  877005.7447   \n",
       "2  00시      475650         0          43              0  877056.6756   \n",
       "3  00시       15650         0           1              0  877055.9593   \n",
       "4  00시       82500         0           1              0  877055.4817   \n",
       "\n",
       "        POINT_Y  \n",
       "0  1.479766e+06  \n",
       "1  1.479816e+06  \n",
       "2  1.479616e+06  \n",
       "3  1.479766e+06  \n",
       "4  1.479866e+06  "
      ],
      "text/html": "<div>\n<style scoped>\n    .dataframe tbody tr th:only-of-type {\n        vertical-align: middle;\n    }\n\n    .dataframe tbody tr th {\n        vertical-align: top;\n    }\n\n    .dataframe thead th {\n        text-align: right;\n    }\n</style>\n<table border=\"1\" class=\"dataframe\">\n  <thead>\n    <tr style=\"text-align: right;\">\n      <th></th>\n      <th>OBJECTID</th>\n      <th>Field1</th>\n      <th>YM</th>\n      <th>SIDO</th>\n      <th>SIGUNGU</th>\n      <th>X</th>\n      <th>Y</th>\n      <th>FranClass</th>\n      <th>Type</th>\n      <th>Time</th>\n      <th>TotalSpent</th>\n      <th>DisSpent</th>\n      <th>NumofSpent</th>\n      <th>NumofDisSpent</th>\n      <th>POINT_X</th>\n      <th>POINT_Y</th>\n    </tr>\n  </thead>\n  <tbody>\n    <tr>\n      <th>0</th>\n      <td>1</td>\n      <td>1</td>\n      <td>202007</td>\n      <td>제주특별자치도</td>\n      <td>제주시</td>\n      <td>230600</td>\n      <td>80000</td>\n      <td>영세</td>\n      <td>일반한식</td>\n      <td>00시</td>\n      <td>85500</td>\n      <td>0</td>\n      <td>4</td>\n      <td>0</td>\n      <td>877005.9834</td>\n      <td>1.479766e+06</td>\n    </tr>\n    <tr>\n      <th>1</th>\n      <td>2</td>\n      <td>2</td>\n      <td>202007</td>\n      <td>제주특별자치도</td>\n      <td>제주시</td>\n      <td>230600</td>\n      <td>80050</td>\n      <td>영세</td>\n      <td>단란주점</td>\n      <td>00시</td>\n      <td>1960000</td>\n      <td>0</td>\n      <td>4</td>\n      <td>0</td>\n      <td>877005.7447</td>\n      <td>1.479816e+06</td>\n    </tr>\n    <tr>\n      <th>2</th>\n      <td>3</td>\n      <td>3</td>\n      <td>202007</td>\n      <td>제주특별자치도</td>\n      <td>제주시</td>\n      <td>230650</td>\n      <td>79850</td>\n      <td>중소1</td>\n      <td>편의점</td>\n      <td>00시</td>\n      <td>475650</td>\n      <td>0</td>\n      <td>43</td>\n      <td>0</td>\n      <td>877056.6756</td>\n      <td>1.479616e+06</td>\n    </tr>\n    <tr>\n      <th>3</th>\n      <td>4</td>\n      <td>4</td>\n      <td>202007</td>\n      <td>제주특별자치도</td>\n      <td>제주시</td>\n      <td>230650</td>\n      <td>80000</td>\n      <td>영세</td>\n      <td>편의점</td>\n      <td>00시</td>\n      <td>15650</td>\n      <td>0</td>\n      <td>1</td>\n      <td>0</td>\n      <td>877055.9593</td>\n      <td>1.479766e+06</td>\n    </tr>\n    <tr>\n      <th>4</th>\n      <td>5</td>\n      <td>5</td>\n      <td>202007</td>\n      <td>제주특별자치도</td>\n      <td>제주시</td>\n      <td>230650</td>\n      <td>80100</td>\n      <td>영세</td>\n      <td>주점</td>\n      <td>00시</td>\n      <td>82500</td>\n      <td>0</td>\n      <td>1</td>\n      <td>0</td>\n      <td>877055.4817</td>\n      <td>1.479866e+06</td>\n    </tr>\n  </tbody>\n</table>\n</div>"
     },
     "metadata": {},
     "execution_count": 13
    }
   ],
   "source": [
    "july = pd.read_csv('./datas/KRI-DAC_Jeju_data7.txt', sep=',')\n",
    "july.head()"
   ]
  },
  {
   "cell_type": "code",
   "execution_count": 14,
   "metadata": {},
   "outputs": [
    {
     "output_type": "execute_result",
     "data": {
      "text/plain": [
       "                        0\n",
       "SIGUNGU FranClass        \n",
       "서귀포시    영세          50462\n",
       "        일반           6216\n",
       "        중소          10472\n",
       "        중소1          8944\n",
       "        중소2          5249\n",
       "제주시     영세         119231\n",
       "        일반          13993\n",
       "        중소          26970\n",
       "        중소1         26633\n",
       "        중소2         16095"
      ],
      "text/html": "<div>\n<style scoped>\n    .dataframe tbody tr th:only-of-type {\n        vertical-align: middle;\n    }\n\n    .dataframe tbody tr th {\n        vertical-align: top;\n    }\n\n    .dataframe thead th {\n        text-align: right;\n    }\n</style>\n<table border=\"1\" class=\"dataframe\">\n  <thead>\n    <tr style=\"text-align: right;\">\n      <th></th>\n      <th></th>\n      <th>0</th>\n    </tr>\n    <tr>\n      <th>SIGUNGU</th>\n      <th>FranClass</th>\n      <th></th>\n    </tr>\n  </thead>\n  <tbody>\n    <tr>\n      <th rowspan=\"5\" valign=\"top\">서귀포시</th>\n      <th>영세</th>\n      <td>50462</td>\n    </tr>\n    <tr>\n      <th>일반</th>\n      <td>6216</td>\n    </tr>\n    <tr>\n      <th>중소</th>\n      <td>10472</td>\n    </tr>\n    <tr>\n      <th>중소1</th>\n      <td>8944</td>\n    </tr>\n    <tr>\n      <th>중소2</th>\n      <td>5249</td>\n    </tr>\n    <tr>\n      <th rowspan=\"5\" valign=\"top\">제주시</th>\n      <th>영세</th>\n      <td>119231</td>\n    </tr>\n    <tr>\n      <th>일반</th>\n      <td>13993</td>\n    </tr>\n    <tr>\n      <th>중소</th>\n      <td>26970</td>\n    </tr>\n    <tr>\n      <th>중소1</th>\n      <td>26633</td>\n    </tr>\n    <tr>\n      <th>중소2</th>\n      <td>16095</td>\n    </tr>\n  </tbody>\n</table>\n</div>"
     },
     "metadata": {},
     "execution_count": 14
    }
   ],
   "source": [
    "july.groupby(['SIGUNGU', 'FranClass']).size().to_frame()"
   ]
  },
  {
   "cell_type": "code",
   "execution_count": 15,
   "metadata": {},
   "outputs": [
    {
     "output_type": "execute_result",
     "data": {
      "text/plain": [
       "   OBJECTID  Field1      YM     SIDO SIGUNGU FranClass  Type Time  TotalSpent  \\\n",
       "0         1       1  202008  제주특별자치도     제주시        영세  일반한식  00시      249500   \n",
       "1         2       2  202008  제주특별자치도     제주시        영세  단란주점  00시     2010000   \n",
       "2         3       3  202008  제주특별자치도     제주시       중소1   편의점  00시      401210   \n",
       "3         4       4  202008  제주특별자치도     제주시        영세   편의점  00시       12250   \n",
       "4         5       5  202008  제주특별자치도     제주시        영세    주점  00시       33000   \n",
       "\n",
       "   DisSpent  NumofSpent  NumofDisSpent      POINT_X       POINT_Y  \n",
       "0         0           7              0  877005.9834  1.479766e+06  \n",
       "1         0           7              0  877005.7447  1.479816e+06  \n",
       "2         0          41              0  877056.6756  1.479616e+06  \n",
       "3         0           1              0  877055.9593  1.479766e+06  \n",
       "4         0           1              0  877055.4817  1.479866e+06  "
      ],
      "text/html": "<div>\n<style scoped>\n    .dataframe tbody tr th:only-of-type {\n        vertical-align: middle;\n    }\n\n    .dataframe tbody tr th {\n        vertical-align: top;\n    }\n\n    .dataframe thead th {\n        text-align: right;\n    }\n</style>\n<table border=\"1\" class=\"dataframe\">\n  <thead>\n    <tr style=\"text-align: right;\">\n      <th></th>\n      <th>OBJECTID</th>\n      <th>Field1</th>\n      <th>YM</th>\n      <th>SIDO</th>\n      <th>SIGUNGU</th>\n      <th>FranClass</th>\n      <th>Type</th>\n      <th>Time</th>\n      <th>TotalSpent</th>\n      <th>DisSpent</th>\n      <th>NumofSpent</th>\n      <th>NumofDisSpent</th>\n      <th>POINT_X</th>\n      <th>POINT_Y</th>\n    </tr>\n  </thead>\n  <tbody>\n    <tr>\n      <th>0</th>\n      <td>1</td>\n      <td>1</td>\n      <td>202008</td>\n      <td>제주특별자치도</td>\n      <td>제주시</td>\n      <td>영세</td>\n      <td>일반한식</td>\n      <td>00시</td>\n      <td>249500</td>\n      <td>0</td>\n      <td>7</td>\n      <td>0</td>\n      <td>877005.9834</td>\n      <td>1.479766e+06</td>\n    </tr>\n    <tr>\n      <th>1</th>\n      <td>2</td>\n      <td>2</td>\n      <td>202008</td>\n      <td>제주특별자치도</td>\n      <td>제주시</td>\n      <td>영세</td>\n      <td>단란주점</td>\n      <td>00시</td>\n      <td>2010000</td>\n      <td>0</td>\n      <td>7</td>\n      <td>0</td>\n      <td>877005.7447</td>\n      <td>1.479816e+06</td>\n    </tr>\n    <tr>\n      <th>2</th>\n      <td>3</td>\n      <td>3</td>\n      <td>202008</td>\n      <td>제주특별자치도</td>\n      <td>제주시</td>\n      <td>중소1</td>\n      <td>편의점</td>\n      <td>00시</td>\n      <td>401210</td>\n      <td>0</td>\n      <td>41</td>\n      <td>0</td>\n      <td>877056.6756</td>\n      <td>1.479616e+06</td>\n    </tr>\n    <tr>\n      <th>3</th>\n      <td>4</td>\n      <td>4</td>\n      <td>202008</td>\n      <td>제주특별자치도</td>\n      <td>제주시</td>\n      <td>영세</td>\n      <td>편의점</td>\n      <td>00시</td>\n      <td>12250</td>\n      <td>0</td>\n      <td>1</td>\n      <td>0</td>\n      <td>877055.9593</td>\n      <td>1.479766e+06</td>\n    </tr>\n    <tr>\n      <th>4</th>\n      <td>5</td>\n      <td>5</td>\n      <td>202008</td>\n      <td>제주특별자치도</td>\n      <td>제주시</td>\n      <td>영세</td>\n      <td>주점</td>\n      <td>00시</td>\n      <td>33000</td>\n      <td>0</td>\n      <td>1</td>\n      <td>0</td>\n      <td>877055.4817</td>\n      <td>1.479866e+06</td>\n    </tr>\n  </tbody>\n</table>\n</div>"
     },
     "metadata": {},
     "execution_count": 15
    }
   ],
   "source": [
    "august = pd.read_csv('./datas/KRI-DAC_Jeju_data8.txt', sep=',')\n",
    "august.head()"
   ]
  },
  {
   "cell_type": "code",
   "execution_count": 17,
   "metadata": {},
   "outputs": [
    {
     "output_type": "execute_result",
     "data": {
      "text/plain": [
       "                          0\n",
       "SIGUNGU FranClass Type     \n",
       "서귀포시    영세        2급호텔   27\n",
       "                  LPG    22\n",
       "                  가례서비스   1\n",
       "                  가방     19\n",
       "                  가전제품   73\n",
       "...                      ..\n",
       "제주시     중소2       한의원    45\n",
       "                  헬스크럽   48\n",
       "                  화물운송   30\n",
       "                  화원     39\n",
       "                  화장품    96\n",
       "\n",
       "[1259 rows x 1 columns]"
      ],
      "text/html": "<div>\n<style scoped>\n    .dataframe tbody tr th:only-of-type {\n        vertical-align: middle;\n    }\n\n    .dataframe tbody tr th {\n        vertical-align: top;\n    }\n\n    .dataframe thead th {\n        text-align: right;\n    }\n</style>\n<table border=\"1\" class=\"dataframe\">\n  <thead>\n    <tr style=\"text-align: right;\">\n      <th></th>\n      <th></th>\n      <th></th>\n      <th>0</th>\n    </tr>\n    <tr>\n      <th>SIGUNGU</th>\n      <th>FranClass</th>\n      <th>Type</th>\n      <th></th>\n    </tr>\n  </thead>\n  <tbody>\n    <tr>\n      <th rowspan=\"5\" valign=\"top\">서귀포시</th>\n      <th rowspan=\"5\" valign=\"top\">영세</th>\n      <th>2급호텔</th>\n      <td>27</td>\n    </tr>\n    <tr>\n      <th>LPG</th>\n      <td>22</td>\n    </tr>\n    <tr>\n      <th>가례서비스</th>\n      <td>1</td>\n    </tr>\n    <tr>\n      <th>가방</th>\n      <td>19</td>\n    </tr>\n    <tr>\n      <th>가전제품</th>\n      <td>73</td>\n    </tr>\n    <tr>\n      <th>...</th>\n      <th>...</th>\n      <th>...</th>\n      <td>...</td>\n    </tr>\n    <tr>\n      <th rowspan=\"5\" valign=\"top\">제주시</th>\n      <th rowspan=\"5\" valign=\"top\">중소2</th>\n      <th>한의원</th>\n      <td>45</td>\n    </tr>\n    <tr>\n      <th>헬스크럽</th>\n      <td>48</td>\n    </tr>\n    <tr>\n      <th>화물운송</th>\n      <td>30</td>\n    </tr>\n    <tr>\n      <th>화원</th>\n      <td>39</td>\n    </tr>\n    <tr>\n      <th>화장품</th>\n      <td>96</td>\n    </tr>\n  </tbody>\n</table>\n<p>1259 rows × 1 columns</p>\n</div>"
     },
     "metadata": {},
     "execution_count": 17
    }
   ],
   "source": [
    "august.groupby(['SIGUNGU', 'FranClass', 'Type']).size().to_frame()"
   ]
  },
  {
   "source": [
    "```\n",
    "재난지원금 어디서 어떤 시간대에 많이 사용되고 있는지?\n",
    "재난지원금 사용 비율\n",
    "좌표 이용해서 업종 위치? 분포?\n",
    "```"
   ],
   "cell_type": "markdown",
   "metadata": {}
  }
 ],
 "metadata": {
  "kernelspec": {
   "display_name": "Python 3",
   "language": "python",
   "name": "python3"
  },
  "language_info": {
   "codemirror_mode": {
    "name": "ipython",
    "version": 3
   },
   "file_extension": ".py",
   "mimetype": "text/x-python",
   "name": "python",
   "nbconvert_exporter": "python",
   "pygments_lexer": "ipython3",
   "version": "3.8.3-final"
  }
 },
 "nbformat": 4,
 "nbformat_minor": 4
}